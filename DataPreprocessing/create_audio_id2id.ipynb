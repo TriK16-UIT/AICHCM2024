{
 "cells": [
  {
   "cell_type": "code",
   "execution_count": 1,
   "metadata": {},
   "outputs": [],
   "source": [
    "import json\n",
    "import os\n",
    "import sys\n",
    "import numpy as np\n",
    "import glob\n",
    "from tqdm import tqdm\n",
    "import pandas as pd"
   ]
  },
  {
   "cell_type": "code",
   "execution_count": 2,
   "metadata": {},
   "outputs": [],
   "source": [
    "sys.path.append('..')"
   ]
  },
  {
   "cell_type": "code",
   "execution_count": 3,
   "metadata": {},
   "outputs": [],
   "source": [
    "from config import AUDIO_DETECTION_PATH, AUDIO_PATH, IMPROVED_MAP_KEYFRAMES_PATH"
   ]
  },
  {
   "cell_type": "code",
   "execution_count": 4,
   "metadata": {},
   "outputs": [],
   "source": [
    "index = 0\n",
    "track_idx = 0\n",
    "audio_id2id = {}\n",
    "audio_detection_dir = \"../\" + AUDIO_DETECTION_PATH\n",
    "map_keyframes_dir = \"../\" + IMPROVED_MAP_KEYFRAMES_PATH"
   ]
  },
  {
   "cell_type": "code",
   "execution_count": 5,
   "metadata": {},
   "outputs": [
    {
     "name": "stderr",
     "output_type": "stream",
     "text": [
      "100%|██████████| 1471/1471 [00:09<00:00, 157.86it/s]\n"
     ]
    }
   ],
   "source": [
    "for audio_filename in tqdm(sorted(os.listdir(audio_detection_dir))):\n",
    "    audio_filepath = os.path.join(audio_detection_dir, audio_filename)\n",
    "    map_keyframe_filepath = os.path.join(map_keyframes_dir, audio_filename.replace(\".json\", \".csv\"))\n",
    "\n",
    "    map_keyframe = pd.read_csv(map_keyframe_filepath)\n",
    "    with open(audio_filepath, 'r') as f:\n",
    "        audio_cuts = json.load(f)\n",
    "\n",
    "    for start, end in audio_cuts:\n",
    "        audio_id2id[index] = []\n",
    "        for idx, pts_time in enumerate(map_keyframe['pts_time']):\n",
    "            if start <= pts_time <= end:\n",
    "                audio_id2id[index].append(idx + track_idx)\n",
    "        index+=1\n",
    "    track_idx += len(map_keyframe['pts_time'])"
   ]
  },
  {
   "cell_type": "code",
   "execution_count": 6,
   "metadata": {},
   "outputs": [],
   "source": [
    "json_audio_id2id = 'audio_id2id.json'\n",
    "with open(json_audio_id2id, 'w') as json_file:\n",
    "    json.dump(audio_id2id, json_file)"
   ]
  }
 ],
 "metadata": {
  "kernelspec": {
   "display_name": ".venv",
   "language": "python",
   "name": "python3"
  },
  "language_info": {
   "codemirror_mode": {
    "name": "ipython",
    "version": 3
   },
   "file_extension": ".py",
   "mimetype": "text/x-python",
   "name": "python",
   "nbconvert_exporter": "python",
   "pygments_lexer": "ipython3",
   "version": "3.12.3"
  }
 },
 "nbformat": 4,
 "nbformat_minor": 2
}
