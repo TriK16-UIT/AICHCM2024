{
 "cells": [
  {
   "cell_type": "markdown",
   "metadata": {},
   "source": [
    "Now using CLIP H14 instead of B32"
   ]
  },
  {
   "cell_type": "code",
   "execution_count": 1,
   "metadata": {},
   "outputs": [],
   "source": [
    "import os\n",
    "import glob\n",
    "import faiss\n",
    "import numpy as np\n",
    "from tqdm import tqdm\n",
    "import sys"
   ]
  },
  {
   "cell_type": "code",
   "execution_count": 2,
   "metadata": {},
   "outputs": [],
   "source": [
    "sys.path.append('..')"
   ]
  },
  {
   "cell_type": "code",
   "execution_count": 20,
   "metadata": {},
   "outputs": [],
   "source": [
    "# from config import FEATURE_SHAPE, CLIP_FEATURES_PATH"
   ]
  },
  {
   "cell_type": "code",
   "execution_count": 5,
   "metadata": {},
   "outputs": [],
   "source": [
    "from config import IMPROVED_FEATURE_SHAPE, CLIP_FEATURES_L14_PATH, OCR_FEATURES_PATH, H14_FEATURE_SHAPE, CLIP_FEATURES_H14_PATH"
   ]
  },
  {
   "cell_type": "code",
   "execution_count": 8,
   "metadata": {},
   "outputs": [
    {
     "name": "stderr",
     "output_type": "stream",
     "text": [
      "100%|██████████| 726/726 [00:06<00:00, 104.03it/s]\n"
     ]
    }
   ],
   "source": [
    "features_dir = \"../\" + CLIP_FEATURES_H14_PATH\n",
    "\n",
    "index = faiss.IndexFlatIP(H14_FEATURE_SHAPE)\n",
    "\n",
    "for feature_path in tqdm(sorted(glob.glob(os.path.join(features_dir, '*.npy')))):\n",
    "    feats = np.load(feature_path)\n",
    "    for feat in feats:\n",
    "        feat = feat.astype(np.float32).reshape(1 , -1)\n",
    "        index.add(feat)\n",
    "\n",
    "faiss.write_index(index, f\"faiss_clip_h14.bin\")"
   ]
  },
  {
   "cell_type": "code",
   "execution_count": 7,
   "metadata": {},
   "outputs": [
    {
     "name": "stderr",
     "output_type": "stream",
     "text": [
      "  0%|          | 0/726 [00:00<?, ?it/s]"
     ]
    },
    {
     "name": "stdout",
     "output_type": "stream",
     "text": [
      "../Data/ocr-features\\L01_V001.npy\n"
     ]
    },
    {
     "name": "stderr",
     "output_type": "stream",
     "text": [
      "\n"
     ]
    }
   ],
   "source": [
    "ocr_features_dir = \"../\" + OCR_FEATURES_PATH\n",
    "\n",
    "ocr_index = faiss.IndexFlatIP(IMPROVED_FEATURE_SHAPE)\n",
    "\n",
    "for ocr_feature_path in tqdm(sorted(glob.glob(os.path.join(ocr_features_dir, '*.npy')))):\n",
    "    feats = np.load(ocr_feature_path)\n",
    "    for feat in feats:\n",
    "        feat = feat.astype(np.float32).reshape(1, -1)\n",
    "        ocr_index.add(feat)\n",
    "\n",
    "faiss.write_index(ocr_index, f\"faiss_ocr.bin\")"
   ]
  }
 ],
 "metadata": {
  "kernelspec": {
   "display_name": ".venv",
   "language": "python",
   "name": "python3"
  },
  "language_info": {
   "codemirror_mode": {
    "name": "ipython",
    "version": 3
   },
   "file_extension": ".py",
   "mimetype": "text/x-python",
   "name": "python",
   "nbconvert_exporter": "python",
   "pygments_lexer": "ipython3",
   "version": "3.12.3"
  }
 },
 "nbformat": 4,
 "nbformat_minor": 2
}
