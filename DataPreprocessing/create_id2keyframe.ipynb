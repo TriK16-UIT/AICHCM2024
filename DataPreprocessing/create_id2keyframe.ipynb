{
 "cells": [
  {
   "cell_type": "code",
   "execution_count": 1,
   "metadata": {},
   "outputs": [],
   "source": [
    "import json\n",
    "import os\n",
    "import sys\n",
    "import numpy as np\n",
    "import glob\n",
    "from tqdm import tqdm"
   ]
  },
  {
   "cell_type": "code",
   "execution_count": 2,
   "metadata": {},
   "outputs": [],
   "source": [
    "sys.path.append('..')"
   ]
  },
  {
   "cell_type": "code",
   "execution_count": 3,
   "metadata": {},
   "outputs": [],
   "source": [
    "from config import IMPROVED_KEYFRAME_PATH"
   ]
  },
  {
   "cell_type": "code",
   "execution_count": 4,
   "metadata": {},
   "outputs": [],
   "source": [
    "index_to_keyframe_path = {}\n",
    "index = 0"
   ]
  },
  {
   "cell_type": "code",
   "execution_count": 5,
   "metadata": {},
   "outputs": [],
   "source": [
    "keyframes_dir = \"../\" + IMPROVED_KEYFRAME_PATH"
   ]
  },
  {
   "cell_type": "code",
   "execution_count": 6,
   "metadata": {},
   "outputs": [
    {
     "name": "stderr",
     "output_type": "stream",
     "text": [
      "100%|██████████| 1471/1471 [00:01<00:00, 770.42it/s] \n"
     ]
    }
   ],
   "source": [
    "for keyframe_folder in tqdm((sorted(os.listdir(keyframes_dir)))):\n",
    "    keyframe_path = os.path.join(keyframes_dir, keyframe_folder)\n",
    "\n",
    "    if os.path.isdir(keyframe_path) and keyframe_folder.startswith('L'):\n",
    "        image_files = sorted(glob.glob(os.path.join(keyframe_path, '*.jpg')), key=lambda x: int(os.path.basename(x).split('.')[0]))\n",
    "\n",
    "    for image_path in image_files:\n",
    "        index_to_keyframe_path[index] = image_path.replace(\"../\", \"\")\n",
    "        index += 1 "
   ]
  },
  {
   "cell_type": "code",
   "execution_count": 7,
   "metadata": {},
   "outputs": [],
   "source": [
    "json_index_to_keyframe = 'idx2keyframe.json'\n",
    "with open(json_index_to_keyframe, 'w') as json_file:\n",
    "    json.dump(index_to_keyframe_path, json_file, indent=4)"
   ]
  }
 ],
 "metadata": {
  "kernelspec": {
   "display_name": ".venv",
   "language": "python",
   "name": "python3"
  },
  "language_info": {
   "codemirror_mode": {
    "name": "ipython",
    "version": 3
   },
   "file_extension": ".py",
   "mimetype": "text/x-python",
   "name": "python",
   "nbconvert_exporter": "python",
   "pygments_lexer": "ipython3",
   "version": "3.12.3"
  }
 },
 "nbformat": 4,
 "nbformat_minor": 2
}
