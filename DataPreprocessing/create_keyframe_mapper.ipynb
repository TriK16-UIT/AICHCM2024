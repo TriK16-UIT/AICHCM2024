{
 "cells": [
  {
   "cell_type": "code",
   "execution_count": 1,
   "metadata": {},
   "outputs": [],
   "source": [
    "import os\n",
    "import json\n",
    "import glob\n",
    "import faiss\n",
    "import numpy as np\n",
    "from tqdm import tqdm\n",
    "import pandas as pd\n",
    "import sys"
   ]
  },
  {
   "cell_type": "code",
   "execution_count": 2,
   "metadata": {},
   "outputs": [],
   "source": [
    "sys.path.append('..')"
   ]
  },
  {
   "cell_type": "code",
   "execution_count": 7,
   "metadata": {},
   "outputs": [],
   "source": [
    "from config import IMPROVED_MAP_KEYFRAMES_PATH"
   ]
  },
  {
   "cell_type": "code",
   "execution_count": 6,
   "metadata": {},
   "outputs": [],
   "source": [
    "map_keyframes_dict = dict()"
   ]
  },
  {
   "cell_type": "code",
   "execution_count": 8,
   "metadata": {},
   "outputs": [
    {
     "name": "stderr",
     "output_type": "stream",
     "text": [
      "100%|██████████| 1471/1471 [00:18<00:00, 81.39it/s] \n"
     ]
    }
   ],
   "source": [
    "map_keyframes_dir = \"../\" + IMPROVED_MAP_KEYFRAMES_PATH\n",
    "\n",
    "for video in tqdm((sorted(os.listdir(map_keyframes_dir)))):\n",
    "    video_path = os.path.join(map_keyframes_dir, video)\n",
    "\n",
    "    map_keyframe = pd.read_csv(video_path, index_col='n')\n",
    "    video_id = video.replace(\".csv\", \"\")\n",
    "    map_keyframes_dict[video_id] = dict()\n",
    "    \n",
    "    for index in map_keyframe.index.values:\n",
    "        map_keyframes_dict[video_id][int(index)] = int(map_keyframe.loc[index]['frame_idx'])\n",
    "\n"
   ]
  },
  {
   "cell_type": "code",
   "execution_count": 9,
   "metadata": {},
   "outputs": [],
   "source": [
    "json_map_keyframes = 'map_keyframes.json'\n",
    "with open(json_map_keyframes, 'w') as json_file:\n",
    "    json.dump(map_keyframes_dict, json_file)"
   ]
  }
 ],
 "metadata": {
  "kernelspec": {
   "display_name": ".venv",
   "language": "python",
   "name": "python3"
  },
  "language_info": {
   "codemirror_mode": {
    "name": "ipython",
    "version": 3
   },
   "file_extension": ".py",
   "mimetype": "text/x-python",
   "name": "python",
   "nbconvert_exporter": "python",
   "pygments_lexer": "ipython3",
   "version": "3.12.3"
  }
 },
 "nbformat": 4,
 "nbformat_minor": 2
}
