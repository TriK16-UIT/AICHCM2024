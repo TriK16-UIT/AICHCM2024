{
 "cells": [
  {
   "cell_type": "code",
   "execution_count": 1,
   "metadata": {},
   "outputs": [
    {
     "name": "stderr",
     "output_type": "stream",
     "text": [
      "e:\\AICHCM2024\\.venv\\Lib\\site-packages\\fairscale\\experimental\\nn\\offload.py:19: FutureWarning: `torch.cuda.amp.custom_fwd(args...)` is deprecated. Please use `torch.amp.custom_fwd(args..., device_type='cuda')` instead.\n",
      "  return torch.cuda.amp.custom_fwd(orig_func)  # type: ignore\n",
      "e:\\AICHCM2024\\.venv\\Lib\\site-packages\\fairscale\\experimental\\nn\\offload.py:30: FutureWarning: `torch.cuda.amp.custom_bwd(args...)` is deprecated. Please use `torch.amp.custom_bwd(args..., device_type='cuda')` instead.\n",
      "  return torch.cuda.amp.custom_bwd(orig_func)  # type: ignore\n"
     ]
    }
   ],
   "source": [
    "from lavis.models import load_model_and_preprocess\n",
    "import os\n",
    "import torch\n",
    "from PIL import Image\n",
    "import numpy as np\n",
    "from tqdm import tqdm\n",
    "import sys"
   ]
  },
  {
   "cell_type": "code",
   "execution_count": 2,
   "metadata": {},
   "outputs": [],
   "source": [
    "sys.path.append('..')"
   ]
  },
  {
   "cell_type": "code",
   "execution_count": 3,
   "metadata": {},
   "outputs": [],
   "source": [
    "from utils.utils import start_from_index\n",
    "%run ../utils/utils.py"
   ]
  },
  {
   "cell_type": "code",
   "execution_count": 4,
   "metadata": {},
   "outputs": [],
   "source": [
    "from config import IMPROVED_KEYFRAME_PATH, BLIP_FEATURES_VITG_PATH"
   ]
  },
  {
   "cell_type": "code",
   "execution_count": 5,
   "metadata": {},
   "outputs": [],
   "source": [
    "keyframes_dir = \"../\" + IMPROVED_KEYFRAME_PATH\n",
    "blip_features_dir = \"../\" + BLIP_FEATURES_VITG_PATH"
   ]
  },
  {
   "cell_type": "code",
   "execution_count": 6,
   "metadata": {},
   "outputs": [
    {
     "name": "stdout",
     "output_type": "stream",
     "text": [
      "cuda\n"
     ]
    }
   ],
   "source": [
    "device = \"cuda\" if torch.cuda.is_available() else \"cpu\"\n",
    "print(device)"
   ]
  },
  {
   "cell_type": "code",
   "execution_count": 7,
   "metadata": {},
   "outputs": [
    {
     "name": "stderr",
     "output_type": "stream",
     "text": [
      "e:\\AICHCM2024\\.venv\\Lib\\site-packages\\lavis\\models\\eva_vit.py:433: FutureWarning: You are using `torch.load` with `weights_only=False` (the current default value), which uses the default pickle module implicitly. It is possible to construct malicious pickle data which will execute arbitrary code during unpickling (See https://github.com/pytorch/pytorch/blob/main/SECURITY.md#untrusted-models for more details). In a future release, the default value for `weights_only` will be flipped to `True`. This limits the functions that could be executed during unpickling. Arbitrary objects will no longer be allowed to be loaded via this mode unless they are explicitly allowlisted by the user via `torch.serialization.add_safe_globals`. We recommend you start setting `weights_only=True` for any use case where you don't have full control of the loaded file. Please open an issue on GitHub for any issues related to this experimental feature.\n",
      "  state_dict = torch.load(cached_file, map_location=\"cpu\")\n",
      "e:\\AICHCM2024\\.venv\\Lib\\site-packages\\lavis\\models\\blip2_models\\blip2.py:85: FutureWarning: You are using `torch.load` with `weights_only=False` (the current default value), which uses the default pickle module implicitly. It is possible to construct malicious pickle data which will execute arbitrary code during unpickling (See https://github.com/pytorch/pytorch/blob/main/SECURITY.md#untrusted-models for more details). In a future release, the default value for `weights_only` will be flipped to `True`. This limits the functions that could be executed during unpickling. Arbitrary objects will no longer be allowed to be loaded via this mode unless they are explicitly allowlisted by the user via `torch.serialization.add_safe_globals`. We recommend you start setting `weights_only=True` for any use case where you don't have full control of the loaded file. Please open an issue on GitHub for any issues related to this experimental feature.\n",
      "  checkpoint = torch.load(cached_file, map_location=\"cpu\")\n"
     ]
    }
   ],
   "source": [
    "model, vis_processors, txt_processors = load_model_and_preprocess(name=\"blip2_feature_extractor\", model_type=\"pretrain\", is_eval=True, device=device)"
   ]
  },
  {
   "cell_type": "code",
   "execution_count": 8,
   "metadata": {},
   "outputs": [],
   "source": [
    "def process_keyframes_in_batch(folder_path, output_path, batch_size):\n",
    "    video_features = []\n",
    "    keyframe_paths = sorted([os.path.join(folder_path, img) for img in os.listdir(folder_path)])\n",
    "\n",
    "    for i in range(0, len(keyframe_paths), batch_size):\n",
    "        keyframes = []\n",
    "        batch_paths = keyframe_paths[i:i+batch_size]\n",
    "        for keyframe_path in batch_paths:\n",
    "            keyframe = vis_processors[\"eval\"](Image.open(keyframe_path)).unsqueeze(0)\n",
    "            keyframes.append(keyframe)\n",
    "\n",
    "        keyframes = torch.cat(keyframes).to(device)\n",
    "        sample = {\"image\": keyframes, \"text_input\": \"\"}\n",
    "\n",
    "        with torch.no_grad(), torch.amp.autocast(\"cuda\"):\n",
    "            keyframe_features = model.extract_features(sample, mode=\"image\")\n",
    "        keyframe_features = keyframe_features.image_embeds_proj[:, 0, :]\n",
    "        keyframe_features /= keyframe_features.norm(dim=-1, keepdim=True)\n",
    "        for idx in range(keyframe_features.shape[0]):\n",
    "            video_features.append(keyframe_features[idx].detach().cpu().numpy().astype(np.float32).flatten())\n",
    "    np.save(output_path, video_features)"
   ]
  },
  {
   "cell_type": "code",
   "execution_count": 9,
   "metadata": {},
   "outputs": [],
   "source": [
    "keyframe_files_to_process = start_from_index(keyframes_dir, 25, \"\")"
   ]
  },
  {
   "cell_type": "code",
   "execution_count": 10,
   "metadata": {},
   "outputs": [
    {
     "name": "stderr",
     "output_type": "stream",
     "text": [
      "  0%|          | 0/745 [00:00<?, ?it/s]e:\\AICHCM2024\\.venv\\Lib\\site-packages\\lavis\\models\\blip2_models\\blip2.py:42: FutureWarning: `torch.cuda.amp.autocast(args...)` is deprecated. Please use `torch.amp.autocast('cuda', args...)` instead.\n",
      "  return torch.cuda.amp.autocast(dtype=dtype)\n",
      "100%|██████████| 745/745 [1:23:53<00:00,  6.76s/it]\n"
     ]
    }
   ],
   "source": [
    "batch_size = 128\n",
    "for video_folder in tqdm(keyframe_files_to_process):\n",
    "    video_folder_path = os.path.join(keyframes_dir, video_folder)\n",
    "\n",
    "    output_path = os.path.join(blip_features_dir, f\"{video_folder}.npy\")\n",
    "    process_keyframes_in_batch(video_folder_path, output_path, batch_size)"
   ]
  }
 ],
 "metadata": {
  "kernelspec": {
   "display_name": ".venv",
   "language": "python",
   "name": "python3"
  },
  "language_info": {
   "codemirror_mode": {
    "name": "ipython",
    "version": 3
   },
   "file_extension": ".py",
   "mimetype": "text/x-python",
   "name": "python",
   "nbconvert_exporter": "python",
   "pygments_lexer": "ipython3",
   "version": "3.12.3"
  }
 },
 "nbformat": 4,
 "nbformat_minor": 2
}
