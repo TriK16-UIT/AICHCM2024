{
 "cells": [
  {
   "cell_type": "code",
   "execution_count": 9,
   "metadata": {},
   "outputs": [],
   "source": [
    "import os\n",
    "import cv2\n",
    "import json\n",
    "import glob\n",
    "import numpy as np\n",
    "from tqdm import tqdm\n",
    "import sys\n",
    "import pandas as pd"
   ]
  },
  {
   "cell_type": "code",
   "execution_count": 4,
   "metadata": {},
   "outputs": [],
   "source": [
    "sys.path.append('..')"
   ]
  },
  {
   "cell_type": "code",
   "execution_count": 5,
   "metadata": {},
   "outputs": [],
   "source": [
    "from config import SCENES_PATH, VIDEOS_PATH, IMPROVED_KEYFRAME_PATH, IMPROVED_MAP_KEYFRAMES_PATH"
   ]
  },
  {
   "cell_type": "code",
   "execution_count": 6,
   "metadata": {},
   "outputs": [],
   "source": [
    "scenes_dir = \"../\" + SCENES_PATH\n",
    "video_dir = \"../\" + VIDEOS_PATH\n",
    "keyframes_dir = \"../\" + IMPROVED_KEYFRAME_PATH\n",
    "map_keyframes_dir = \"../\" + IMPROVED_MAP_KEYFRAMES_PATH"
   ]
  },
  {
   "cell_type": "code",
   "execution_count": 12,
   "metadata": {},
   "outputs": [],
   "source": [
    "def get_frame_indices(scenes):\n",
    "    frame_idx_list = []\n",
    "    for start, end in scenes:\n",
    "        # mid1 = start + (end - start) // 3\n",
    "        # mid2 = start + 2 * (end - start) // 3\n",
    "        frame_idx_list.extend([start, end])\n",
    "    return sorted(set(frame_idx_list))"
   ]
  },
  {
   "cell_type": "code",
   "execution_count": 8,
   "metadata": {},
   "outputs": [],
   "source": [
    "def write_and_map_keyframes(video_path, frame_idx_list, output_folder):\n",
    "    video_capture = cv2.VideoCapture(video_path)\n",
    "    fps = int(video_capture.get(cv2.CAP_PROP_FPS))\n",
    "    frames_count = int(video_capture.get(cv2.CAP_PROP_FRAME_COUNT))\n",
    "    \n",
    "    keyframes = []\n",
    "    os.makedirs(output_folder, exist_ok=True)\n",
    "    \n",
    "    zfill_size = len(str(len(frame_idx_list)))\n",
    "\n",
    "    for idx, frame_idx in enumerate(frame_idx_list, 1):\n",
    "        if frame_idx >= frames_count:\n",
    "            continue\n",
    "        \n",
    "        video_capture.set(cv2.CAP_PROP_POS_FRAMES, frame_idx)\n",
    "        success, frame = video_capture.read()\n",
    "        if not success:\n",
    "            break\n",
    "        \n",
    "        output_filename = os.path.join(output_folder, f\"{str(idx).zfill(zfill_size)}.jpg\")\n",
    "        cv2.imwrite(output_filename, frame)\n",
    "        \n",
    "        pts_time = frame_idx / fps\n",
    "        keyframes.append([idx, round(pts_time, 2), fps, frame_idx])\n",
    "    \n",
    "    video_capture.release()\n",
    "    return keyframes "
   ]
  },
  {
   "cell_type": "code",
   "execution_count": 15,
   "metadata": {},
   "outputs": [],
   "source": [
    "for video_file in os.listdir(video_dir):\n",
    "    if video_file.endswith('.mp4'):\n",
    "        video_name = video_file.split('.')[0]\n",
    "        video_path = os.path.join(video_dir, video_file)\n",
    "        scenes_path = os.path.join(scenes_dir, f\"{video_name}.json\")\n",
    "        keyframes_output_folder = os.path.join(keyframes_dir, video_name)\n",
    "        map_keyframes_path = os.path.join(map_keyframes_dir, f\"{video_name}.csv\")\n",
    "\n",
    "        with open(scenes_path, 'r') as f:\n",
    "            scenes = json.load(f)\n",
    "\n",
    "        frame_idx_list = get_frame_indices(scenes)\n",
    "        keyframes = write_and_map_keyframes(video_path, frame_idx_list, keyframes_output_folder)\n",
    "\n",
    "        df = pd.DataFrame(keyframes, columns=['n', 'pts_time', 'fps', 'frame_idx'])\n",
    "        df.to_csv(map_keyframes_path, index=False)\n",
    "\n"
   ]
  }
 ],
 "metadata": {
  "kernelspec": {
   "display_name": ".venv",
   "language": "python",
   "name": "python3"
  },
  "language_info": {
   "codemirror_mode": {
    "name": "ipython",
    "version": 3
   },
   "file_extension": ".py",
   "mimetype": "text/x-python",
   "name": "python",
   "nbconvert_exporter": "python",
   "pygments_lexer": "ipython3",
   "version": "3.12.3"
  }
 },
 "nbformat": 4,
 "nbformat_minor": 2
}
