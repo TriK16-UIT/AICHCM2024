{
 "cells": [
  {
   "cell_type": "code",
   "execution_count": 1,
   "metadata": {},
   "outputs": [],
   "source": [
    "import os\n",
    "import glob\n",
    "from tqdm import tqdm\n",
    "import numpy as np\n",
    "import sys\n",
    "import json\n",
    "import re"
   ]
  },
  {
   "cell_type": "code",
   "execution_count": 6,
   "metadata": {},
   "outputs": [
    {
     "name": "stdout",
     "output_type": "stream",
     "text": [
      "e:\\AICHCM2024\\DataPreprocessing\\TransNetV2\\inference\n"
     ]
    },
    {
     "name": "stderr",
     "output_type": "stream",
     "text": [
      "Cloning into 'TransNetV2'...\n",
      "Filtering content:  66% (2/3)\n",
      "Filtering content: 100% (3/3), 5.66 MiB | 61.00 KiB/s\n",
      "Filtering content: 100% (3/3), 34.77 MiB | 122.00 KiB/s, done.\n",
      "e:\\AICHCM2024\\.venv\\Lib\\site-packages\\IPython\\core\\magics\\osm.py:417: UserWarning: This is now an optional IPython functionality, setting dhist requires you to install the `pickleshare` library.\n",
      "  self.shell.db['dhist'] = compress_dhist(dhist)[-100:]\n"
     ]
    }
   ],
   "source": [
    "# !git clone https://github.com/soCzech/TransNetV2.git"
   ]
  },
  {
   "cell_type": "code",
   "execution_count": 2,
   "metadata": {},
   "outputs": [],
   "source": [
    "from TransNetV2.inference.transnetv2 import TransNetV2"
   ]
  },
  {
   "cell_type": "code",
   "execution_count": 3,
   "metadata": {},
   "outputs": [],
   "source": [
    "sys.path.append('..')"
   ]
  },
  {
   "cell_type": "code",
   "execution_count": 4,
   "metadata": {},
   "outputs": [],
   "source": [
    "from config import SCENES_PATH, VIDEOS_PATH"
   ]
  },
  {
   "cell_type": "code",
   "execution_count": 5,
   "metadata": {},
   "outputs": [
    {
     "name": "stdout",
     "output_type": "stream",
     "text": [
      "[TransNetV2] Using weights from e:\\AICHCM2024\\DataPreprocessing\\TransNetV2\\inference\\transnetv2-weights/.\n"
     ]
    }
   ],
   "source": [
    "scenes_dir = \"../\" + SCENES_PATH\n",
    "video_dir = \"../\" + VIDEOS_PATH\n",
    "\n",
    "model =  TransNetV2()"
   ]
  },
  {
   "cell_type": "code",
   "execution_count": 6,
   "metadata": {},
   "outputs": [],
   "source": [
    "def get_video_number(filename):\n",
    "    match = re.search(r'L(\\d+)', filename)\n",
    "    return int(match.group(1)) if match else 0"
   ]
  },
  {
   "cell_type": "code",
   "execution_count": 7,
   "metadata": {},
   "outputs": [],
   "source": [
    "video_files = [f for f in os.listdir(video_dir) if f.endswith('.mp4')]\n",
    "video_files.sort(key=get_video_number)\n",
    "video_files_to_process = [f for f in video_files if get_video_number(f) >= 13]"
   ]
  },
  {
   "cell_type": "code",
   "execution_count": 8,
   "metadata": {},
   "outputs": [
    {
     "name": "stderr",
     "output_type": "stream",
     "text": [
      "  0%|          | 0/363 [00:00<?, ?it/s]"
     ]
    },
    {
     "name": "stdout",
     "output_type": "stream",
     "text": [
      "[TransNetV2] Extracting frames from ../Data/videos\\L13_V001.mp4\n",
      "[TransNetV2] Processing video frames 28347/28347\n"
     ]
    },
    {
     "name": "stderr",
     "output_type": "stream",
     "text": [
      "  0%|          | 1/363 [01:41<10:10:38, 101.21s/it]"
     ]
    },
    {
     "name": "stdout",
     "output_type": "stream",
     "text": [
      "[TransNetV2] Extracting frames from ../Data/videos\\L13_V002.mp4\n",
      "[TransNetV2] Processing video frames 30450/30485"
     ]
    },
    {
     "name": "stderr",
     "output_type": "stream",
     "text": [
      "  1%|          | 2/363 [03:32<10:46:07, 107.39s/it]"
     ]
    },
    {
     "name": "stdout",
     "output_type": "stream",
     "text": [
      "[TransNetV2] Processing video frames 30485/30485\n",
      "[TransNetV2] Extracting frames from ../Data/videos\\L13_V003.mp4\n",
      "[TransNetV2] Processing video frames 28900/28914"
     ]
    },
    {
     "name": "stderr",
     "output_type": "stream",
     "text": [
      "  1%|          | 3/363 [05:17<10:35:52, 105.98s/it]"
     ]
    },
    {
     "name": "stdout",
     "output_type": "stream",
     "text": [
      "[TransNetV2] Processing video frames 28914/28914\n",
      "[TransNetV2] Extracting frames from ../Data/videos\\L13_V004.mp4\n",
      "[TransNetV2] Processing video frames 30650/30665"
     ]
    },
    {
     "name": "stderr",
     "output_type": "stream",
     "text": [
      "  1%|          | 4/363 [07:05<10:38:35, 106.73s/it]"
     ]
    },
    {
     "name": "stdout",
     "output_type": "stream",
     "text": [
      "[TransNetV2] Processing video frames 30665/30665\n",
      "[TransNetV2] Extracting frames from ../Data/videos\\L13_V005.mp4\n",
      "[TransNetV2] Processing video frames 30150/30176"
     ]
    },
    {
     "name": "stderr",
     "output_type": "stream",
     "text": [
      "  1%|▏         | 5/363 [08:52<10:37:41, 106.88s/it]"
     ]
    },
    {
     "name": "stdout",
     "output_type": "stream",
     "text": [
      "[TransNetV2] Processing video frames 30176/30176\n",
      "[TransNetV2] Extracting frames from ../Data/videos\\L13_V006.mp4\n",
      "[TransNetV2] Processing video frames 32600/32622"
     ]
    },
    {
     "name": "stderr",
     "output_type": "stream",
     "text": [
      "  2%|▏         | 6/363 [10:42<10:43:17, 108.12s/it]"
     ]
    },
    {
     "name": "stdout",
     "output_type": "stream",
     "text": [
      "[TransNetV2] Processing video frames 32622/32622\n",
      "[TransNetV2] Extracting frames from ../Data/videos\\L13_V007.mp4\n",
      "[TransNetV2] Processing video frames 31500/31533"
     ]
    },
    {
     "name": "stderr",
     "output_type": "stream",
     "text": [
      "  2%|▏         | 7/363 [12:30<10:40:30, 107.95s/it]"
     ]
    },
    {
     "name": "stdout",
     "output_type": "stream",
     "text": [
      "[TransNetV2] Processing video frames 31533/31533\n",
      "[TransNetV2] Extracting frames from ../Data/videos\\L13_V008.mp4\n",
      "[TransNetV2] Processing video frames 26682/26682\n"
     ]
    },
    {
     "name": "stderr",
     "output_type": "stream",
     "text": [
      "  2%|▏         | 8/363 [14:00<10:04:48, 102.22s/it]"
     ]
    },
    {
     "name": "stdout",
     "output_type": "stream",
     "text": [
      "[TransNetV2] Extracting frames from ../Data/videos\\L13_V009.mp4\n",
      "[TransNetV2] Processing video frames 26500/26503"
     ]
    },
    {
     "name": "stderr",
     "output_type": "stream",
     "text": [
      "  2%|▏         | 9/363 [15:31<9:43:33, 98.91s/it]  "
     ]
    },
    {
     "name": "stdout",
     "output_type": "stream",
     "text": [
      "[TransNetV2] Processing video frames 26503/26503\n",
      "[TransNetV2] Extracting frames from ../Data/videos\\L13_V010.mp4\n",
      "[TransNetV2] Processing video frames 31050/31071"
     ]
    },
    {
     "name": "stderr",
     "output_type": "stream",
     "text": [
      "  3%|▎         | 10/363 [17:22<10:03:39, 102.61s/it]"
     ]
    },
    {
     "name": "stdout",
     "output_type": "stream",
     "text": [
      "[TransNetV2] Processing video frames 31071/31071\n",
      "[TransNetV2] Extracting frames from ../Data/videos\\L13_V011.mp4\n",
      "[TransNetV2] Processing video frames 30381/30381\n"
     ]
    },
    {
     "name": "stderr",
     "output_type": "stream",
     "text": [
      "  3%|▎         | 11/363 [19:13<10:15:53, 104.98s/it]"
     ]
    },
    {
     "name": "stdout",
     "output_type": "stream",
     "text": [
      "[TransNetV2] Extracting frames from ../Data/videos\\L13_V012.mp4\n",
      "[TransNetV2] Processing video frames 25900/25934"
     ]
    },
    {
     "name": "stderr",
     "output_type": "stream",
     "text": [
      "  3%|▎         | 12/363 [20:44<9:49:07, 100.71s/it] "
     ]
    },
    {
     "name": "stdout",
     "output_type": "stream",
     "text": [
      "[TransNetV2] Processing video frames 25934/25934\n",
      "[TransNetV2] Extracting frames from ../Data/videos\\L13_V013.mp4\n",
      "[TransNetV2] Processing video frames 30558/30558\n"
     ]
    },
    {
     "name": "stderr",
     "output_type": "stream",
     "text": [
      "  4%|▎         | 13/363 [22:33<10:02:16, 103.25s/it]"
     ]
    },
    {
     "name": "stdout",
     "output_type": "stream",
     "text": [
      "[TransNetV2] Extracting frames from ../Data/videos\\L13_V014.mp4\n",
      "[TransNetV2] Processing video frames 28953/28953\n"
     ]
    },
    {
     "name": "stderr",
     "output_type": "stream",
     "text": [
      "  4%|▍         | 14/363 [24:17<10:02:23, 103.56s/it]"
     ]
    },
    {
     "name": "stdout",
     "output_type": "stream",
     "text": [
      "[TransNetV2] Extracting frames from ../Data/videos\\L13_V015.mp4\n",
      "[TransNetV2] Processing video frames 24200/24219"
     ]
    },
    {
     "name": "stderr",
     "output_type": "stream",
     "text": [
      "  4%|▍         | 15/363 [25:43<9:29:57, 98.27s/it]  "
     ]
    },
    {
     "name": "stdout",
     "output_type": "stream",
     "text": [
      "[TransNetV2] Processing video frames 24219/24219\n",
      "[TransNetV2] Extracting frames from ../Data/videos\\L13_V016.mp4\n",
      "[TransNetV2] Processing video frames 26598/26598\n"
     ]
    },
    {
     "name": "stderr",
     "output_type": "stream",
     "text": [
      "  4%|▍         | 16/363 [27:18<9:22:42, 97.30s/it]"
     ]
    },
    {
     "name": "stdout",
     "output_type": "stream",
     "text": [
      "[TransNetV2] Extracting frames from ../Data/videos\\L13_V017.mp4\n",
      "[TransNetV2] Processing video frames 28055/28055\n"
     ]
    },
    {
     "name": "stderr",
     "output_type": "stream",
     "text": [
      "  5%|▍         | 17/363 [28:59<9:27:50, 98.47s/it]"
     ]
    },
    {
     "name": "stdout",
     "output_type": "stream",
     "text": [
      "[TransNetV2] Extracting frames from ../Data/videos\\L13_V018.mp4\n",
      "[TransNetV2] Processing video frames 29666/29666\n"
     ]
    },
    {
     "name": "stderr",
     "output_type": "stream",
     "text": [
      "  5%|▍         | 18/363 [30:42<9:33:13, 99.69s/it]"
     ]
    },
    {
     "name": "stdout",
     "output_type": "stream",
     "text": [
      "[TransNetV2] Extracting frames from ../Data/videos\\L13_V019.mp4\n",
      "[TransNetV2] Processing video frames 29800/29830"
     ]
    },
    {
     "name": "stderr",
     "output_type": "stream",
     "text": [
      "  5%|▌         | 19/363 [32:23<9:34:38, 100.23s/it]"
     ]
    },
    {
     "name": "stdout",
     "output_type": "stream",
     "text": [
      "[TransNetV2] Processing video frames 29830/29830\n",
      "[TransNetV2] Extracting frames from ../Data/videos\\L13_V020.mp4\n",
      "[TransNetV2] Processing video frames 30600/30624"
     ]
    },
    {
     "name": "stderr",
     "output_type": "stream",
     "text": [
      "  6%|▌         | 20/363 [34:08<9:39:58, 101.45s/it]"
     ]
    },
    {
     "name": "stdout",
     "output_type": "stream",
     "text": [
      "[TransNetV2] Processing video frames 30624/30624\n",
      "[TransNetV2] Extracting frames from ../Data/videos\\L13_V021.mp4\n",
      "[TransNetV2] Processing video frames 30098/30098\n"
     ]
    },
    {
     "name": "stderr",
     "output_type": "stream",
     "text": [
      "  6%|▌         | 21/363 [35:50<9:40:28, 101.84s/it]"
     ]
    },
    {
     "name": "stdout",
     "output_type": "stream",
     "text": [
      "[TransNetV2] Extracting frames from ../Data/videos\\L13_V022.mp4\n",
      "[TransNetV2] Processing video frames 23658/23658\n"
     ]
    },
    {
     "name": "stderr",
     "output_type": "stream",
     "text": [
      "  6%|▌         | 22/363 [37:11<9:02:44, 95.50s/it] "
     ]
    },
    {
     "name": "stdout",
     "output_type": "stream",
     "text": [
      "[TransNetV2] Extracting frames from ../Data/videos\\L13_V023.mp4\n",
      "[TransNetV2] Processing video frames 28500/28529"
     ]
    },
    {
     "name": "stderr",
     "output_type": "stream",
     "text": [
      "  6%|▋         | 23/363 [38:49<9:04:45, 96.13s/it]"
     ]
    },
    {
     "name": "stdout",
     "output_type": "stream",
     "text": [
      "[TransNetV2] Processing video frames 28529/28529\n",
      "[TransNetV2] Extracting frames from ../Data/videos\\L13_V024.mp4\n",
      "[TransNetV2] Processing video frames 25900/25931"
     ]
    },
    {
     "name": "stderr",
     "output_type": "stream",
     "text": [
      "  7%|▋         | 24/363 [40:17<8:49:42, 93.75s/it]"
     ]
    },
    {
     "name": "stdout",
     "output_type": "stream",
     "text": [
      "[TransNetV2] Processing video frames 25931/25931\n",
      "[TransNetV2] Extracting frames from ../Data/videos\\L13_V025.mp4\n",
      "[TransNetV2] Processing video frames 28399/28399\n"
     ]
    },
    {
     "name": "stderr",
     "output_type": "stream",
     "text": [
      "  7%|▋         | 25/363 [41:54<8:53:32, 94.71s/it]"
     ]
    },
    {
     "name": "stdout",
     "output_type": "stream",
     "text": [
      "[TransNetV2] Extracting frames from ../Data/videos\\L13_V026.mp4\n",
      "[TransNetV2] Processing video frames 31000/31006"
     ]
    },
    {
     "name": "stderr",
     "output_type": "stream",
     "text": [
      "  7%|▋         | 26/363 [43:40<9:10:37, 98.03s/it]"
     ]
    },
    {
     "name": "stdout",
     "output_type": "stream",
     "text": [
      "[TransNetV2] Processing video frames 31006/31006\n",
      "[TransNetV2] Extracting frames from ../Data/videos\\L13_V027.mp4\n",
      "[TransNetV2] Processing video frames 29392/29392\n"
     ]
    },
    {
     "name": "stderr",
     "output_type": "stream",
     "text": [
      "  7%|▋         | 27/363 [45:20<9:12:25, 98.65s/it]"
     ]
    },
    {
     "name": "stdout",
     "output_type": "stream",
     "text": [
      "[TransNetV2] Extracting frames from ../Data/videos\\L13_V028.mp4\n",
      "[TransNetV2] Processing video frames 29174/29174\n"
     ]
    },
    {
     "name": "stderr",
     "output_type": "stream",
     "text": [
      "  8%|▊         | 28/363 [46:59<9:12:20, 98.93s/it]"
     ]
    },
    {
     "name": "stdout",
     "output_type": "stream",
     "text": [
      "[TransNetV2] Extracting frames from ../Data/videos\\L13_V029.mp4\n",
      "[TransNetV2] Processing video frames 26600/26629"
     ]
    },
    {
     "name": "stderr",
     "output_type": "stream",
     "text": [
      "  8%|▊         | 29/363 [48:30<8:56:31, 96.38s/it]"
     ]
    },
    {
     "name": "stdout",
     "output_type": "stream",
     "text": [
      "[TransNetV2] Processing video frames 26629/26629\n",
      "[TransNetV2] Extracting frames from ../Data/videos\\L13_V030.mp4\n",
      "[TransNetV2] Processing video frames 29200/29228"
     ]
    },
    {
     "name": "stderr",
     "output_type": "stream",
     "text": [
      "  8%|▊         | 30/363 [50:10<9:00:49, 97.45s/it]"
     ]
    },
    {
     "name": "stdout",
     "output_type": "stream",
     "text": [
      "[TransNetV2] Processing video frames 29228/29228\n",
      "[TransNetV2] Extracting frames from ../Data/videos\\L14_V001.mp4\n",
      "[TransNetV2] Processing video frames 28880/28880\n"
     ]
    },
    {
     "name": "stderr",
     "output_type": "stream",
     "text": [
      "  9%|▊         | 31/363 [51:50<9:04:37, 98.43s/it]"
     ]
    },
    {
     "name": "stdout",
     "output_type": "stream",
     "text": [
      "[TransNetV2] Extracting frames from ../Data/videos\\L14_V002.mp4\n",
      "[TransNetV2] Processing video frames 29289/29289\n"
     ]
    },
    {
     "name": "stderr",
     "output_type": "stream",
     "text": [
      "  9%|▉         | 32/363 [53:30<9:05:04, 98.81s/it]"
     ]
    },
    {
     "name": "stdout",
     "output_type": "stream",
     "text": [
      "[TransNetV2] Extracting frames from ../Data/videos\\L14_V003.mp4\n",
      "[TransNetV2] Processing video frames 30500/30519"
     ]
    },
    {
     "name": "stderr",
     "output_type": "stream",
     "text": [
      "  9%|▉         | 33/363 [55:14<9:12:11, 100.40s/it]"
     ]
    },
    {
     "name": "stdout",
     "output_type": "stream",
     "text": [
      "[TransNetV2] Processing video frames 30519/30519\n",
      "[TransNetV2] Extracting frames from ../Data/videos\\L14_V004.mp4\n",
      "[TransNetV2] Processing video frames 33400/33414"
     ]
    },
    {
     "name": "stderr",
     "output_type": "stream",
     "text": [
      "  9%|▉         | 34/363 [57:08<9:32:24, 104.39s/it]"
     ]
    },
    {
     "name": "stdout",
     "output_type": "stream",
     "text": [
      "[TransNetV2] Processing video frames 33414/33414\n",
      "[TransNetV2] Extracting frames from ../Data/videos\\L14_V005.mp4\n",
      "[TransNetV2] Processing video frames 39100/39133"
     ]
    },
    {
     "name": "stderr",
     "output_type": "stream",
     "text": [
      " 10%|▉         | 35/363 [59:22<10:18:56, 113.22s/it]"
     ]
    },
    {
     "name": "stdout",
     "output_type": "stream",
     "text": [
      "[TransNetV2] Processing video frames 39133/39133\n",
      "[TransNetV2] Extracting frames from ../Data/videos\\L14_V006.mp4\n",
      "[TransNetV2] Processing video frames 34685/34685\n"
     ]
    },
    {
     "name": "stderr",
     "output_type": "stream",
     "text": [
      " 10%|▉         | 36/363 [1:01:23<10:29:59, 115.60s/it]"
     ]
    },
    {
     "name": "stdout",
     "output_type": "stream",
     "text": [
      "[TransNetV2] Extracting frames from ../Data/videos\\L14_V007.mp4\n",
      "[TransNetV2] Processing video frames 32586/32586\n"
     ]
    },
    {
     "name": "stderr",
     "output_type": "stream",
     "text": [
      " 10%|█         | 37/363 [1:03:14<10:21:31, 114.39s/it]"
     ]
    },
    {
     "name": "stdout",
     "output_type": "stream",
     "text": [
      "[TransNetV2] Extracting frames from ../Data/videos\\L14_V008.mp4\n",
      "[TransNetV2] Processing video frames 33900/33907"
     ]
    },
    {
     "name": "stderr",
     "output_type": "stream",
     "text": [
      " 10%|█         | 38/363 [1:05:10<10:21:06, 114.67s/it]"
     ]
    },
    {
     "name": "stdout",
     "output_type": "stream",
     "text": [
      "[TransNetV2] Processing video frames 33907/33907\n",
      "[TransNetV2] Extracting frames from ../Data/videos\\L14_V009.mp4\n",
      "[TransNetV2] Processing video frames 31978/31978\n"
     ]
    },
    {
     "name": "stderr",
     "output_type": "stream",
     "text": [
      " 11%|█         | 39/363 [1:06:59<10:10:53, 113.13s/it]"
     ]
    },
    {
     "name": "stdout",
     "output_type": "stream",
     "text": [
      "[TransNetV2] Extracting frames from ../Data/videos\\L14_V011.mp4\n",
      "[TransNetV2] Processing video frames 30900/30943"
     ]
    },
    {
     "name": "stderr",
     "output_type": "stream",
     "text": [
      " 11%|█         | 40/363 [1:08:48<10:01:15, 111.69s/it]"
     ]
    },
    {
     "name": "stdout",
     "output_type": "stream",
     "text": [
      "[TransNetV2] Processing video frames 30943/30943\n",
      "[TransNetV2] Extracting frames from ../Data/videos\\L14_V012.mp4\n",
      "[TransNetV2] Processing video frames 34255/34255\n"
     ]
    },
    {
     "name": "stderr",
     "output_type": "stream",
     "text": [
      " 11%|█▏        | 41/363 [1:10:45<10:08:04, 113.30s/it]"
     ]
    },
    {
     "name": "stdout",
     "output_type": "stream",
     "text": [
      "[TransNetV2] Extracting frames from ../Data/videos\\L14_V013.mp4\n",
      "[TransNetV2] Processing video frames 29400/29434"
     ]
    },
    {
     "name": "stderr",
     "output_type": "stream",
     "text": [
      " 12%|█▏        | 42/363 [1:12:25<9:45:54, 109.52s/it] "
     ]
    },
    {
     "name": "stdout",
     "output_type": "stream",
     "text": [
      "[TransNetV2] Processing video frames 29434/29434\n",
      "[TransNetV2] Extracting frames from ../Data/videos\\L14_V014.mp4\n",
      "[TransNetV2] Processing video frames 29368/29368\n"
     ]
    },
    {
     "name": "stderr",
     "output_type": "stream",
     "text": [
      " 12%|█▏        | 43/363 [1:14:06<9:29:49, 106.84s/it]"
     ]
    },
    {
     "name": "stdout",
     "output_type": "stream",
     "text": [
      "[TransNetV2] Extracting frames from ../Data/videos\\L14_V015.mp4\n",
      "[TransNetV2] Processing video frames 31500/31532"
     ]
    },
    {
     "name": "stderr",
     "output_type": "stream",
     "text": [
      " 12%|█▏        | 44/363 [1:15:54<9:29:35, 107.13s/it]"
     ]
    },
    {
     "name": "stdout",
     "output_type": "stream",
     "text": [
      "[TransNetV2] Processing video frames 31532/31532\n",
      "[TransNetV2] Extracting frames from ../Data/videos\\L14_V016.mp4\n",
      "[TransNetV2] Processing video frames 32387/32387\n"
     ]
    },
    {
     "name": "stderr",
     "output_type": "stream",
     "text": [
      " 12%|█▏        | 45/363 [1:17:47<9:37:21, 108.94s/it]"
     ]
    },
    {
     "name": "stdout",
     "output_type": "stream",
     "text": [
      "[TransNetV2] Extracting frames from ../Data/videos\\L14_V017.mp4\n",
      "[TransNetV2] Processing video frames 28581/28581\n"
     ]
    },
    {
     "name": "stderr",
     "output_type": "stream",
     "text": [
      " 13%|█▎        | 46/363 [1:19:25<9:18:02, 105.62s/it]"
     ]
    },
    {
     "name": "stdout",
     "output_type": "stream",
     "text": [
      "[TransNetV2] Extracting frames from ../Data/videos\\L14_V018.mp4\n",
      "[TransNetV2] Processing video frames 28157/28157\n"
     ]
    },
    {
     "name": "stderr",
     "output_type": "stream",
     "text": [
      " 13%|█▎        | 47/363 [1:21:03<9:04:21, 103.36s/it]"
     ]
    },
    {
     "name": "stdout",
     "output_type": "stream",
     "text": [
      "[TransNetV2] Extracting frames from ../Data/videos\\L14_V019.mp4\n",
      "[TransNetV2] Processing video frames 34700/34737"
     ]
    },
    {
     "name": "stderr",
     "output_type": "stream",
     "text": [
      " 13%|█▎        | 48/363 [1:23:02<9:26:57, 107.99s/it]"
     ]
    },
    {
     "name": "stdout",
     "output_type": "stream",
     "text": [
      "[TransNetV2] Processing video frames 34737/34737\n",
      "[TransNetV2] Extracting frames from ../Data/videos\\L14_V020.mp4\n",
      "[TransNetV2] Processing video frames 28400/28415"
     ]
    },
    {
     "name": "stderr",
     "output_type": "stream",
     "text": [
      " 13%|█▎        | 49/363 [1:24:38<9:07:33, 104.63s/it]"
     ]
    },
    {
     "name": "stdout",
     "output_type": "stream",
     "text": [
      "[TransNetV2] Processing video frames 28415/28415\n",
      "[TransNetV2] Extracting frames from ../Data/videos\\L14_V021.mp4\n",
      "[TransNetV2] Processing video frames 31863/31863\n"
     ]
    },
    {
     "name": "stderr",
     "output_type": "stream",
     "text": [
      " 14%|█▍        | 50/363 [1:26:27<9:12:07, 105.84s/it]"
     ]
    },
    {
     "name": "stdout",
     "output_type": "stream",
     "text": [
      "[TransNetV2] Extracting frames from ../Data/videos\\L14_V022.mp4\n",
      "[TransNetV2] Processing video frames 33000/33038"
     ]
    },
    {
     "name": "stderr",
     "output_type": "stream",
     "text": [
      " 14%|█▍        | 51/363 [1:28:20<9:21:00, 107.89s/it]"
     ]
    },
    {
     "name": "stdout",
     "output_type": "stream",
     "text": [
      "[TransNetV2] Processing video frames 33038/33038\n",
      "[TransNetV2] Extracting frames from ../Data/videos\\L14_V023.mp4\n",
      "[TransNetV2] Processing video frames 30450/30450\n"
     ]
    },
    {
     "name": "stderr",
     "output_type": "stream",
     "text": [
      " 14%|█▍        | 52/363 [1:30:04<9:14:17, 106.94s/it]"
     ]
    },
    {
     "name": "stdout",
     "output_type": "stream",
     "text": [
      "[TransNetV2] Extracting frames from ../Data/videos\\L14_V024.mp4\n",
      "[TransNetV2] Processing video frames 30366/30366\n"
     ]
    },
    {
     "name": "stderr",
     "output_type": "stream",
     "text": [
      " 15%|█▍        | 53/363 [1:31:48<9:07:15, 105.92s/it]"
     ]
    },
    {
     "name": "stdout",
     "output_type": "stream",
     "text": [
      "[TransNetV2] Extracting frames from ../Data/videos\\L14_V025.mp4\n",
      "[TransNetV2] Processing video frames 30500/30514"
     ]
    },
    {
     "name": "stderr",
     "output_type": "stream",
     "text": [
      " 15%|█▍        | 54/363 [1:33:34<9:05:05, 105.84s/it]"
     ]
    },
    {
     "name": "stdout",
     "output_type": "stream",
     "text": [
      "[TransNetV2] Processing video frames 30514/30514\n",
      "[TransNetV2] Extracting frames from ../Data/videos\\L14_V026.mp4\n",
      "[TransNetV2] Processing video frames 30356/30356\n"
     ]
    },
    {
     "name": "stderr",
     "output_type": "stream",
     "text": [
      " 15%|█▌        | 55/363 [1:35:24<9:10:42, 107.28s/it]"
     ]
    },
    {
     "name": "stdout",
     "output_type": "stream",
     "text": [
      "[TransNetV2] Extracting frames from ../Data/videos\\L14_V027.mp4\n",
      "[TransNetV2] Processing video frames 32848/32848\n"
     ]
    },
    {
     "name": "stderr",
     "output_type": "stream",
     "text": [
      " 15%|█▌        | 56/363 [1:37:21<9:24:06, 110.25s/it]"
     ]
    },
    {
     "name": "stdout",
     "output_type": "stream",
     "text": [
      "[TransNetV2] Extracting frames from ../Data/videos\\L14_V028.mp4\n",
      "[TransNetV2] Processing video frames 27796/27796\n"
     ]
    },
    {
     "name": "stderr",
     "output_type": "stream",
     "text": [
      " 16%|█▌        | 57/363 [1:38:58<9:01:02, 106.09s/it]"
     ]
    },
    {
     "name": "stdout",
     "output_type": "stream",
     "text": [
      "[TransNetV2] Extracting frames from ../Data/videos\\L15_V001.mp4\n",
      "[TransNetV2] Processing video frames 28173/28173\n"
     ]
    },
    {
     "name": "stderr",
     "output_type": "stream",
     "text": [
      " 16%|█▌        | 58/363 [1:40:37<8:49:11, 104.10s/it]"
     ]
    },
    {
     "name": "stdout",
     "output_type": "stream",
     "text": [
      "[TransNetV2] Extracting frames from ../Data/videos\\L15_V002.mp4\n",
      "[TransNetV2] Processing video frames 21800/21813"
     ]
    },
    {
     "name": "stderr",
     "output_type": "stream",
     "text": [
      " 16%|█▋        | 59/363 [1:41:53<8:04:31, 95.63s/it] "
     ]
    },
    {
     "name": "stdout",
     "output_type": "stream",
     "text": [
      "[TransNetV2] Processing video frames 21813/21813\n",
      "[TransNetV2] Extracting frames from ../Data/videos\\L15_V003.mp4\n",
      "[TransNetV2] Processing video frames 30100/30128"
     ]
    },
    {
     "name": "stderr",
     "output_type": "stream",
     "text": [
      " 17%|█▋        | 60/363 [1:43:42<8:23:00, 99.61s/it]"
     ]
    },
    {
     "name": "stdout",
     "output_type": "stream",
     "text": [
      "[TransNetV2] Processing video frames 30128/30128\n",
      "[TransNetV2] Extracting frames from ../Data/videos\\L15_V004.mp4\n",
      "[TransNetV2] Processing video frames 29000/29039"
     ]
    },
    {
     "name": "stderr",
     "output_type": "stream",
     "text": [
      " 17%|█▋        | 61/363 [1:45:24<8:25:27, 100.42s/it]"
     ]
    },
    {
     "name": "stdout",
     "output_type": "stream",
     "text": [
      "[TransNetV2] Processing video frames 29039/29039\n",
      "[TransNetV2] Extracting frames from ../Data/videos\\L15_V005.mp4\n",
      "[TransNetV2] Processing video frames 31280/31280\n"
     ]
    },
    {
     "name": "stderr",
     "output_type": "stream",
     "text": [
      " 17%|█▋        | 62/363 [1:47:15<8:39:22, 103.53s/it]"
     ]
    },
    {
     "name": "stdout",
     "output_type": "stream",
     "text": [
      "[TransNetV2] Extracting frames from ../Data/videos\\L15_V006.mp4\n",
      "[TransNetV2] Processing video frames 27550/27551"
     ]
    },
    {
     "name": "stderr",
     "output_type": "stream",
     "text": [
      " 17%|█▋        | 63/363 [1:48:55<8:32:04, 102.41s/it]"
     ]
    },
    {
     "name": "stdout",
     "output_type": "stream",
     "text": [
      "[TransNetV2] Processing video frames 27551/27551\n",
      "[TransNetV2] Extracting frames from ../Data/videos\\L15_V007.mp4\n",
      "[TransNetV2] Processing video frames 28258/28258\n"
     ]
    },
    {
     "name": "stderr",
     "output_type": "stream",
     "text": [
      " 18%|█▊        | 64/363 [1:50:33<8:23:33, 101.05s/it]"
     ]
    },
    {
     "name": "stdout",
     "output_type": "stream",
     "text": [
      "[TransNetV2] Extracting frames from ../Data/videos\\L15_V008.mp4\n",
      "[TransNetV2] Processing video frames 32175/32175\n"
     ]
    },
    {
     "name": "stderr",
     "output_type": "stream",
     "text": [
      " 18%|█▊        | 65/363 [1:52:23<8:36:09, 103.92s/it]"
     ]
    },
    {
     "name": "stdout",
     "output_type": "stream",
     "text": [
      "[TransNetV2] Extracting frames from ../Data/videos\\L15_V009.mp4\n",
      "[TransNetV2] Processing video frames 35700/35739"
     ]
    },
    {
     "name": "stderr",
     "output_type": "stream",
     "text": [
      " 18%|█▊        | 66/363 [1:54:28<9:05:37, 110.23s/it]"
     ]
    },
    {
     "name": "stdout",
     "output_type": "stream",
     "text": [
      "[TransNetV2] Processing video frames 35739/35739\n",
      "[TransNetV2] Extracting frames from ../Data/videos\\L15_V010.mp4\n",
      "[TransNetV2] Processing video frames 32166/32166\n"
     ]
    },
    {
     "name": "stderr",
     "output_type": "stream",
     "text": [
      " 18%|█▊        | 67/363 [1:56:20<9:05:38, 110.60s/it]"
     ]
    },
    {
     "name": "stdout",
     "output_type": "stream",
     "text": [
      "[TransNetV2] Extracting frames from ../Data/videos\\L15_V011.mp4\n",
      "[TransNetV2] Processing video frames 30382/30382\n"
     ]
    },
    {
     "name": "stderr",
     "output_type": "stream",
     "text": [
      " 19%|█▊        | 68/363 [1:58:05<8:55:19, 108.88s/it]"
     ]
    },
    {
     "name": "stdout",
     "output_type": "stream",
     "text": [
      "[TransNetV2] Extracting frames from ../Data/videos\\L15_V012.mp4\n",
      "[TransNetV2] Processing video frames 30437/30437\n"
     ]
    },
    {
     "name": "stderr",
     "output_type": "stream",
     "text": [
      " 19%|█▉        | 69/363 [1:59:55<8:55:57, 109.38s/it]"
     ]
    },
    {
     "name": "stdout",
     "output_type": "stream",
     "text": [
      "[TransNetV2] Extracting frames from ../Data/videos\\L15_V013.mp4\n",
      "[TransNetV2] Processing video frames 27443/27443\n"
     ]
    },
    {
     "name": "stderr",
     "output_type": "stream",
     "text": [
      " 19%|█▉        | 70/363 [2:01:38<8:44:52, 107.48s/it]"
     ]
    },
    {
     "name": "stdout",
     "output_type": "stream",
     "text": [
      "[TransNetV2] Extracting frames from ../Data/videos\\L15_V014.mp4\n",
      "[TransNetV2] Processing video frames 27283/27283\n"
     ]
    },
    {
     "name": "stderr",
     "output_type": "stream",
     "text": [
      " 20%|█▉        | 71/363 [2:03:13<8:25:00, 103.77s/it]"
     ]
    },
    {
     "name": "stdout",
     "output_type": "stream",
     "text": [
      "[TransNetV2] Extracting frames from ../Data/videos\\L15_V015.mp4\n",
      "[TransNetV2] Processing video frames 35650/35679"
     ]
    },
    {
     "name": "stderr",
     "output_type": "stream",
     "text": [
      " 20%|█▉        | 72/363 [2:05:18<8:54:12, 110.15s/it]"
     ]
    },
    {
     "name": "stdout",
     "output_type": "stream",
     "text": [
      "[TransNetV2] Processing video frames 35679/35679\n",
      "[TransNetV2] Extracting frames from ../Data/videos\\L15_V016.mp4\n",
      "[TransNetV2] Processing video frames 30796/30796\n"
     ]
    },
    {
     "name": "stderr",
     "output_type": "stream",
     "text": [
      " 20%|██        | 73/363 [2:07:05<8:47:01, 109.04s/it]"
     ]
    },
    {
     "name": "stdout",
     "output_type": "stream",
     "text": [
      "[TransNetV2] Extracting frames from ../Data/videos\\L15_V017.mp4\n",
      "[TransNetV2] Processing video frames 30563/30563\n"
     ]
    },
    {
     "name": "stderr",
     "output_type": "stream",
     "text": [
      " 20%|██        | 74/363 [2:08:54<8:44:53, 108.97s/it]"
     ]
    },
    {
     "name": "stdout",
     "output_type": "stream",
     "text": [
      "[TransNetV2] Extracting frames from ../Data/videos\\L15_V018.mp4\n",
      "[TransNetV2] Processing video frames 33500/33537"
     ]
    },
    {
     "name": "stderr",
     "output_type": "stream",
     "text": [
      " 21%|██        | 75/363 [2:10:51<8:55:17, 111.52s/it]"
     ]
    },
    {
     "name": "stdout",
     "output_type": "stream",
     "text": [
      "[TransNetV2] Processing video frames 33537/33537\n",
      "[TransNetV2] Extracting frames from ../Data/videos\\L15_V019.mp4\n",
      "[TransNetV2] Processing video frames 27200/27215"
     ]
    },
    {
     "name": "stderr",
     "output_type": "stream",
     "text": [
      " 21%|██        | 76/363 [2:12:27<8:31:24, 106.91s/it]"
     ]
    },
    {
     "name": "stdout",
     "output_type": "stream",
     "text": [
      "[TransNetV2] Processing video frames 27215/27215\n",
      "[TransNetV2] Extracting frames from ../Data/videos\\L15_V020.mp4\n",
      "[TransNetV2] Processing video frames 26900/26913"
     ]
    },
    {
     "name": "stderr",
     "output_type": "stream",
     "text": [
      " 21%|██        | 77/363 [2:14:01<8:10:46, 102.96s/it]"
     ]
    },
    {
     "name": "stdout",
     "output_type": "stream",
     "text": [
      "[TransNetV2] Processing video frames 26913/26913\n",
      "[TransNetV2] Extracting frames from ../Data/videos\\L15_V021.mp4\n",
      "[TransNetV2] Processing video frames 25700/25705"
     ]
    },
    {
     "name": "stderr",
     "output_type": "stream",
     "text": [
      " 21%|██▏       | 78/363 [2:15:31<7:49:59, 98.95s/it] "
     ]
    },
    {
     "name": "stdout",
     "output_type": "stream",
     "text": [
      "[TransNetV2] Processing video frames 25705/25705\n",
      "[TransNetV2] Extracting frames from ../Data/videos\\L15_V022.mp4\n",
      "[TransNetV2] Processing video frames 33701/33701\n"
     ]
    },
    {
     "name": "stderr",
     "output_type": "stream",
     "text": [
      " 22%|██▏       | 79/363 [2:17:30<8:16:39, 104.93s/it]"
     ]
    },
    {
     "name": "stdout",
     "output_type": "stream",
     "text": [
      "[TransNetV2] Extracting frames from ../Data/videos\\L15_V023.mp4\n",
      "[TransNetV2] Processing video frames 38222/38222\n"
     ]
    },
    {
     "name": "stderr",
     "output_type": "stream",
     "text": [
      " 22%|██▏       | 80/363 [2:19:46<8:59:37, 114.41s/it]"
     ]
    },
    {
     "name": "stdout",
     "output_type": "stream",
     "text": [
      "[TransNetV2] Extracting frames from ../Data/videos\\L15_V024.mp4\n",
      "[TransNetV2] Processing video frames 33500/33516"
     ]
    },
    {
     "name": "stderr",
     "output_type": "stream",
     "text": [
      " 22%|██▏       | 81/363 [2:21:47<9:07:28, 116.48s/it]"
     ]
    },
    {
     "name": "stdout",
     "output_type": "stream",
     "text": [
      "[TransNetV2] Processing video frames 33516/33516\n",
      "[TransNetV2] Extracting frames from ../Data/videos\\L15_V025.mp4\n",
      "[TransNetV2] Processing video frames 30895/30895\n"
     ]
    },
    {
     "name": "stderr",
     "output_type": "stream",
     "text": [
      " 23%|██▎       | 82/363 [2:23:35<8:52:51, 113.78s/it]"
     ]
    },
    {
     "name": "stdout",
     "output_type": "stream",
     "text": [
      "[TransNetV2] Extracting frames from ../Data/videos\\L15_V026.mp4\n",
      "[TransNetV2] Processing video frames 24950/24984"
     ]
    },
    {
     "name": "stderr",
     "output_type": "stream",
     "text": [
      " 23%|██▎       | 83/363 [2:25:07<8:20:49, 107.32s/it]"
     ]
    },
    {
     "name": "stdout",
     "output_type": "stream",
     "text": [
      "[TransNetV2] Processing video frames 24984/24984\n",
      "[TransNetV2] Extracting frames from ../Data/videos\\L15_V027.mp4\n",
      "[TransNetV2] Processing video frames 27400/27400\n"
     ]
    },
    {
     "name": "stderr",
     "output_type": "stream",
     "text": [
      " 23%|██▎       | 84/363 [2:26:46<8:06:37, 104.65s/it]"
     ]
    },
    {
     "name": "stdout",
     "output_type": "stream",
     "text": [
      "[TransNetV2] Extracting frames from ../Data/videos\\L15_V028.mp4\n",
      "[TransNetV2] Processing video frames 35023/35023\n"
     ]
    },
    {
     "name": "stderr",
     "output_type": "stream",
     "text": [
      " 23%|██▎       | 85/363 [2:28:48<8:29:57, 110.06s/it]"
     ]
    },
    {
     "name": "stdout",
     "output_type": "stream",
     "text": [
      "[TransNetV2] Extracting frames from ../Data/videos\\L15_V029.mp4\n",
      "[TransNetV2] Processing video frames 37300/37314"
     ]
    },
    {
     "name": "stderr",
     "output_type": "stream",
     "text": [
      " 24%|██▎       | 86/363 [2:30:59<8:56:41, 116.25s/it]"
     ]
    },
    {
     "name": "stdout",
     "output_type": "stream",
     "text": [
      "[TransNetV2] Processing video frames 37314/37314\n",
      "[TransNetV2] Extracting frames from ../Data/videos\\L15_V030.mp4\n",
      "[TransNetV2] Processing video frames 34800/34822"
     ]
    },
    {
     "name": "stderr",
     "output_type": "stream",
     "text": [
      " 24%|██▍       | 87/363 [2:33:01<9:02:33, 117.95s/it]"
     ]
    },
    {
     "name": "stdout",
     "output_type": "stream",
     "text": [
      "[TransNetV2] Processing video frames 34822/34822\n",
      "[TransNetV2] Extracting frames from ../Data/videos\\L15_V031.mp4\n",
      "[TransNetV2] Processing video frames 31349/31349\n"
     ]
    },
    {
     "name": "stderr",
     "output_type": "stream",
     "text": [
      " 24%|██▍       | 88/363 [2:35:08<9:13:34, 120.78s/it]"
     ]
    },
    {
     "name": "stdout",
     "output_type": "stream",
     "text": [
      "[TransNetV2] Extracting frames from ../Data/videos\\L16_V001.mp4\n",
      "[TransNetV2] Processing video frames 41811/41811\n"
     ]
    },
    {
     "name": "stderr",
     "output_type": "stream",
     "text": [
      " 25%|██▍       | 89/363 [2:37:51<10:09:33, 133.48s/it]"
     ]
    },
    {
     "name": "stdout",
     "output_type": "stream",
     "text": [
      "[TransNetV2] Extracting frames from ../Data/videos\\L16_V002.mp4\n",
      "[TransNetV2] Processing video frames 39100/39148"
     ]
    },
    {
     "name": "stderr",
     "output_type": "stream",
     "text": [
      " 25%|██▍       | 90/363 [2:40:10<10:14:18, 135.01s/it]"
     ]
    },
    {
     "name": "stdout",
     "output_type": "stream",
     "text": [
      "[TransNetV2] Processing video frames 39148/39148\n",
      "[TransNetV2] Extracting frames from ../Data/videos\\L16_V003.mp4\n",
      "[TransNetV2] Processing video frames 36431/36431\n"
     ]
    },
    {
     "name": "stderr",
     "output_type": "stream",
     "text": [
      " 25%|██▌       | 91/363 [2:42:28<10:15:44, 135.82s/it]"
     ]
    },
    {
     "name": "stdout",
     "output_type": "stream",
     "text": [
      "[TransNetV2] Extracting frames from ../Data/videos\\L16_V004.mp4\n",
      "[TransNetV2] Processing video frames 29914/29914\n"
     ]
    },
    {
     "name": "stderr",
     "output_type": "stream",
     "text": [
      " 25%|██▌       | 92/363 [2:44:17<9:37:24, 127.84s/it] "
     ]
    },
    {
     "name": "stdout",
     "output_type": "stream",
     "text": [
      "[TransNetV2] Extracting frames from ../Data/videos\\L16_V005.mp4\n",
      "[TransNetV2] Processing video frames 28681/28681\n"
     ]
    },
    {
     "name": "stderr",
     "output_type": "stream",
     "text": [
      " 26%|██▌       | 93/363 [2:45:59<9:00:04, 120.02s/it]"
     ]
    },
    {
     "name": "stdout",
     "output_type": "stream",
     "text": [
      "[TransNetV2] Extracting frames from ../Data/videos\\L16_V006.mp4\n",
      "[TransNetV2] Processing video frames 34600/34607"
     ]
    },
    {
     "name": "stderr",
     "output_type": "stream",
     "text": [
      " 26%|██▌       | 94/363 [2:48:03<9:03:58, 121.33s/it]"
     ]
    },
    {
     "name": "stdout",
     "output_type": "stream",
     "text": [
      "[TransNetV2] Processing video frames 34607/34607\n",
      "[TransNetV2] Extracting frames from ../Data/videos\\L16_V007.mp4\n",
      "[TransNetV2] Processing video frames 41300/41332"
     ]
    },
    {
     "name": "stderr",
     "output_type": "stream",
     "text": [
      " 26%|██▌       | 95/363 [2:50:28<9:33:18, 128.35s/it]"
     ]
    },
    {
     "name": "stdout",
     "output_type": "stream",
     "text": [
      "[TransNetV2] Processing video frames 41332/41332\n",
      "[TransNetV2] Extracting frames from ../Data/videos\\L16_V008.mp4\n",
      "[TransNetV2] Processing video frames 38498/38498\n"
     ]
    },
    {
     "name": "stderr",
     "output_type": "stream",
     "text": [
      " 26%|██▋       | 96/363 [2:52:43<9:39:43, 130.28s/it]"
     ]
    },
    {
     "name": "stdout",
     "output_type": "stream",
     "text": [
      "[TransNetV2] Extracting frames from ../Data/videos\\L16_V009.mp4\n",
      "[TransNetV2] Processing video frames 36700/36711"
     ]
    },
    {
     "name": "stderr",
     "output_type": "stream",
     "text": [
      " 27%|██▋       | 97/363 [2:54:51<9:35:17, 129.77s/it]"
     ]
    },
    {
     "name": "stdout",
     "output_type": "stream",
     "text": [
      "[TransNetV2] Processing video frames 36711/36711\n",
      "[TransNetV2] Extracting frames from ../Data/videos\\L16_V010.mp4\n",
      "[TransNetV2] Processing video frames 31393/31393\n"
     ]
    },
    {
     "name": "stderr",
     "output_type": "stream",
     "text": [
      " 27%|██▋       | 98/363 [2:56:42<9:08:41, 124.23s/it]"
     ]
    },
    {
     "name": "stdout",
     "output_type": "stream",
     "text": [
      "[TransNetV2] Extracting frames from ../Data/videos\\L16_V011.mp4\n",
      "[TransNetV2] Processing video frames 28794/28794\n"
     ]
    },
    {
     "name": "stderr",
     "output_type": "stream",
     "text": [
      " 27%|██▋       | 99/363 [2:58:25<8:38:06, 117.75s/it]"
     ]
    },
    {
     "name": "stdout",
     "output_type": "stream",
     "text": [
      "[TransNetV2] Extracting frames from ../Data/videos\\L16_V012.mp4\n",
      "[TransNetV2] Processing video frames 36696/36696\n"
     ]
    },
    {
     "name": "stderr",
     "output_type": "stream",
     "text": [
      " 28%|██▊       | 100/363 [3:00:36<8:53:38, 121.74s/it]"
     ]
    },
    {
     "name": "stdout",
     "output_type": "stream",
     "text": [
      "[TransNetV2] Extracting frames from ../Data/videos\\L16_V013.mp4\n",
      "[TransNetV2] Processing video frames 39400/39436"
     ]
    },
    {
     "name": "stderr",
     "output_type": "stream",
     "text": [
      " 28%|██▊       | 101/363 [3:02:56<9:15:19, 127.17s/it]"
     ]
    },
    {
     "name": "stdout",
     "output_type": "stream",
     "text": [
      "[TransNetV2] Processing video frames 39436/39436\n",
      "[TransNetV2] Extracting frames from ../Data/videos\\L16_V014.mp4\n",
      "[TransNetV2] Processing video frames 34854/34854\n"
     ]
    },
    {
     "name": "stderr",
     "output_type": "stream",
     "text": [
      " 28%|██▊       | 102/363 [3:04:58<9:06:37, 125.66s/it]"
     ]
    },
    {
     "name": "stdout",
     "output_type": "stream",
     "text": [
      "[TransNetV2] Extracting frames from ../Data/videos\\L16_V015.mp4\n",
      "[TransNetV2] Processing video frames 35000/35048"
     ]
    },
    {
     "name": "stderr",
     "output_type": "stream",
     "text": [
      " 28%|██▊       | 103/363 [3:07:00<8:59:30, 124.50s/it]"
     ]
    },
    {
     "name": "stdout",
     "output_type": "stream",
     "text": [
      "[TransNetV2] Processing video frames 35048/35048\n",
      "[TransNetV2] Extracting frames from ../Data/videos\\L16_V016.mp4\n",
      "[TransNetV2] Processing video frames 34689/34689\n"
     ]
    },
    {
     "name": "stderr",
     "output_type": "stream",
     "text": [
      " 29%|██▊       | 104/363 [3:09:01<8:53:03, 123.49s/it]"
     ]
    },
    {
     "name": "stdout",
     "output_type": "stream",
     "text": [
      "[TransNetV2] Extracting frames from ../Data/videos\\L16_V017.mp4\n",
      "[TransNetV2] Processing video frames 30964/30964\n"
     ]
    },
    {
     "name": "stderr",
     "output_type": "stream",
     "text": [
      " 29%|██▉       | 105/363 [3:10:55<8:38:05, 120.49s/it]"
     ]
    },
    {
     "name": "stdout",
     "output_type": "stream",
     "text": [
      "[TransNetV2] Extracting frames from ../Data/videos\\L16_V018.mp4\n",
      "[TransNetV2] Processing video frames 27500/27517"
     ]
    },
    {
     "name": "stderr",
     "output_type": "stream",
     "text": [
      " 29%|██▉       | 106/363 [3:12:32<8:06:18, 113.54s/it]"
     ]
    },
    {
     "name": "stdout",
     "output_type": "stream",
     "text": [
      "[TransNetV2] Processing video frames 27517/27517\n",
      "[TransNetV2] Extracting frames from ../Data/videos\\L16_V019.mp4\n",
      "[TransNetV2] Processing video frames 34600/34633"
     ]
    },
    {
     "name": "stderr",
     "output_type": "stream",
     "text": [
      " 29%|██▉       | 107/363 [3:14:32<8:13:08, 115.58s/it]"
     ]
    },
    {
     "name": "stdout",
     "output_type": "stream",
     "text": [
      "[TransNetV2] Processing video frames 34633/34633\n",
      "[TransNetV2] Extracting frames from ../Data/videos\\L16_V020.mp4\n",
      "[TransNetV2] Processing video frames 37977/37977\n"
     ]
    },
    {
     "name": "stderr",
     "output_type": "stream",
     "text": [
      " 30%|██▉       | 108/363 [3:16:46<8:33:52, 120.91s/it]"
     ]
    },
    {
     "name": "stdout",
     "output_type": "stream",
     "text": [
      "[TransNetV2] Extracting frames from ../Data/videos\\L16_V021.mp4\n",
      "[TransNetV2] Processing video frames 39539/39539\n"
     ]
    },
    {
     "name": "stderr",
     "output_type": "stream",
     "text": [
      " 30%|███       | 109/363 [3:19:03<8:53:03, 125.92s/it]"
     ]
    },
    {
     "name": "stdout",
     "output_type": "stream",
     "text": [
      "[TransNetV2] Extracting frames from ../Data/videos\\L16_V022.mp4\n",
      "[TransNetV2] Processing video frames 33100/33139"
     ]
    },
    {
     "name": "stderr",
     "output_type": "stream",
     "text": [
      " 30%|███       | 110/363 [3:20:56<8:34:53, 122.11s/it]"
     ]
    },
    {
     "name": "stdout",
     "output_type": "stream",
     "text": [
      "[TransNetV2] Processing video frames 33139/33139\n",
      "[TransNetV2] Extracting frames from ../Data/videos\\L16_V023.mp4\n",
      "[TransNetV2] Processing video frames 39790/39790\n"
     ]
    },
    {
     "name": "stderr",
     "output_type": "stream",
     "text": [
      " 31%|███       | 111/363 [3:23:12<8:49:48, 126.14s/it]"
     ]
    },
    {
     "name": "stdout",
     "output_type": "stream",
     "text": [
      "[TransNetV2] Extracting frames from ../Data/videos\\L16_V024.mp4\n",
      "[TransNetV2] Processing video frames 34900/34915"
     ]
    },
    {
     "name": "stderr",
     "output_type": "stream",
     "text": [
      " 31%|███       | 112/363 [3:25:14<8:42:52, 124.99s/it]"
     ]
    },
    {
     "name": "stdout",
     "output_type": "stream",
     "text": [
      "[TransNetV2] Processing video frames 34915/34915\n",
      "[TransNetV2] Extracting frames from ../Data/videos\\L16_V025.mp4\n",
      "[TransNetV2] Processing video frames 30300/30337"
     ]
    },
    {
     "name": "stderr",
     "output_type": "stream",
     "text": [
      " 31%|███       | 113/363 [3:26:59<8:15:44, 118.98s/it]"
     ]
    },
    {
     "name": "stdout",
     "output_type": "stream",
     "text": [
      "[TransNetV2] Processing video frames 30337/30337\n",
      "[TransNetV2] Extracting frames from ../Data/videos\\L16_V026.mp4\n",
      "[TransNetV2] Processing video frames 36500/36503"
     ]
    },
    {
     "name": "stderr",
     "output_type": "stream",
     "text": [
      " 31%|███▏      | 114/363 [3:29:09<8:27:05, 122.19s/it]"
     ]
    },
    {
     "name": "stdout",
     "output_type": "stream",
     "text": [
      "[TransNetV2] Processing video frames 36503/36503\n",
      "[TransNetV2] Extracting frames from ../Data/videos\\L16_V027.mp4\n",
      "[TransNetV2] Processing video frames 34600/34626"
     ]
    },
    {
     "name": "stderr",
     "output_type": "stream",
     "text": [
      " 32%|███▏      | 115/363 [3:31:12<8:26:22, 122.51s/it]"
     ]
    },
    {
     "name": "stdout",
     "output_type": "stream",
     "text": [
      "[TransNetV2] Processing video frames 34626/34626\n",
      "[TransNetV2] Extracting frames from ../Data/videos\\L16_V028.mp4\n",
      "[TransNetV2] Processing video frames 41100/41133"
     ]
    },
    {
     "name": "stderr",
     "output_type": "stream",
     "text": [
      " 32%|███▏      | 116/363 [3:33:39<8:54:40, 129.88s/it]"
     ]
    },
    {
     "name": "stdout",
     "output_type": "stream",
     "text": [
      "[TransNetV2] Processing video frames 41133/41133\n",
      "[TransNetV2] Extracting frames from ../Data/videos\\L16_V029.mp4\n",
      "[TransNetV2] Processing video frames 33200/33221"
     ]
    },
    {
     "name": "stderr",
     "output_type": "stream",
     "text": [
      " 32%|███▏      | 117/363 [3:35:36<8:36:16, 125.92s/it]"
     ]
    },
    {
     "name": "stdout",
     "output_type": "stream",
     "text": [
      "[TransNetV2] Processing video frames 33221/33221\n",
      "[TransNetV2] Extracting frames from ../Data/videos\\L16_V030.mp4\n",
      "[TransNetV2] Processing video frames 26400/26401"
     ]
    },
    {
     "name": "stderr",
     "output_type": "stream",
     "text": [
      " 33%|███▎      | 118/363 [3:37:10<7:55:10, 116.37s/it]"
     ]
    },
    {
     "name": "stdout",
     "output_type": "stream",
     "text": [
      "[TransNetV2] Processing video frames 26401/26401\n",
      "[TransNetV2] Extracting frames from ../Data/videos\\L16_V031.mp4\n",
      "[TransNetV2] Processing video frames 29861/29861\n"
     ]
    },
    {
     "name": "stderr",
     "output_type": "stream",
     "text": [
      " 33%|███▎      | 119/363 [3:38:57<7:41:26, 113.47s/it]"
     ]
    },
    {
     "name": "stdout",
     "output_type": "stream",
     "text": [
      "[TransNetV2] Extracting frames from ../Data/videos\\L17_V001.mp4\n",
      "[TransNetV2] Processing video frames 27000/27022"
     ]
    },
    {
     "name": "stderr",
     "output_type": "stream",
     "text": [
      " 33%|███▎      | 120/363 [3:40:31<7:15:45, 107.59s/it]"
     ]
    },
    {
     "name": "stdout",
     "output_type": "stream",
     "text": [
      "[TransNetV2] Processing video frames 27022/27022\n",
      "[TransNetV2] Extracting frames from ../Data/videos\\L17_V002.mp4\n",
      "[TransNetV2] Processing video frames 24372/24372\n"
     ]
    },
    {
     "name": "stderr",
     "output_type": "stream",
     "text": [
      " 33%|███▎      | 121/363 [3:41:55<6:45:40, 100.58s/it]"
     ]
    },
    {
     "name": "stdout",
     "output_type": "stream",
     "text": [
      "[TransNetV2] Extracting frames from ../Data/videos\\L17_V003.mp4\n",
      "[TransNetV2] Processing video frames 30362/30362\n"
     ]
    },
    {
     "name": "stderr",
     "output_type": "stream",
     "text": [
      " 34%|███▎      | 122/363 [3:43:41<6:51:16, 102.39s/it]"
     ]
    },
    {
     "name": "stdout",
     "output_type": "stream",
     "text": [
      "[TransNetV2] Extracting frames from ../Data/videos\\L17_V004.mp4\n",
      "[TransNetV2] Processing video frames 32561/32561\n"
     ]
    },
    {
     "name": "stderr",
     "output_type": "stream",
     "text": [
      " 34%|███▍      | 123/363 [3:45:35<7:02:54, 105.73s/it]"
     ]
    },
    {
     "name": "stdout",
     "output_type": "stream",
     "text": [
      "[TransNetV2] Extracting frames from ../Data/videos\\L17_V005.mp4\n",
      "[TransNetV2] Processing video frames 31274/31274\n"
     ]
    },
    {
     "name": "stderr",
     "output_type": "stream",
     "text": [
      " 34%|███▍      | 124/363 [3:47:25<7:05:48, 106.90s/it]"
     ]
    },
    {
     "name": "stdout",
     "output_type": "stream",
     "text": [
      "[TransNetV2] Extracting frames from ../Data/videos\\L17_V006.mp4\n",
      "[TransNetV2] Processing video frames 38600/38616"
     ]
    },
    {
     "name": "stderr",
     "output_type": "stream",
     "text": [
      " 34%|███▍      | 125/363 [3:49:41<7:38:43, 115.64s/it]"
     ]
    },
    {
     "name": "stdout",
     "output_type": "stream",
     "text": [
      "[TransNetV2] Processing video frames 38616/38616\n",
      "[TransNetV2] Extracting frames from ../Data/videos\\L17_V007.mp4\n",
      "[TransNetV2] Processing video frames 42000/42021"
     ]
    },
    {
     "name": "stderr",
     "output_type": "stream",
     "text": [
      " 35%|███▍      | 126/363 [3:52:07<8:13:21, 124.90s/it]"
     ]
    },
    {
     "name": "stdout",
     "output_type": "stream",
     "text": [
      "[TransNetV2] Processing video frames 42021/42021\n",
      "[TransNetV2] Extracting frames from ../Data/videos\\L17_V009.mp4\n",
      "[TransNetV2] Processing video frames 27000/27015"
     ]
    },
    {
     "name": "stderr",
     "output_type": "stream",
     "text": [
      " 35%|███▍      | 127/363 [3:53:43<7:36:49, 116.14s/it]"
     ]
    },
    {
     "name": "stdout",
     "output_type": "stream",
     "text": [
      "[TransNetV2] Processing video frames 27015/27015\n",
      "[TransNetV2] Extracting frames from ../Data/videos\\L17_V010.mp4\n",
      "[TransNetV2] Processing video frames 28300/28347"
     ]
    },
    {
     "name": "stderr",
     "output_type": "stream",
     "text": [
      " 35%|███▌      | 128/363 [3:55:21<7:13:54, 110.79s/it]"
     ]
    },
    {
     "name": "stdout",
     "output_type": "stream",
     "text": [
      "[TransNetV2] Processing video frames 28347/28347\n",
      "[TransNetV2] Extracting frames from ../Data/videos\\L17_V011.mp4\n",
      "[TransNetV2] Processing video frames 27900/27902"
     ]
    },
    {
     "name": "stderr",
     "output_type": "stream",
     "text": [
      " 36%|███▌      | 129/363 [3:57:01<6:59:11, 107.49s/it]"
     ]
    },
    {
     "name": "stdout",
     "output_type": "stream",
     "text": [
      "[TransNetV2] Processing video frames 27902/27902\n",
      "[TransNetV2] Extracting frames from ../Data/videos\\L17_V012.mp4\n",
      "[TransNetV2] Processing video frames 37393/37393\n"
     ]
    },
    {
     "name": "stderr",
     "output_type": "stream",
     "text": [
      " 36%|███▌      | 130/363 [3:59:12<7:25:20, 114.68s/it]"
     ]
    },
    {
     "name": "stdout",
     "output_type": "stream",
     "text": [
      "[TransNetV2] Extracting frames from ../Data/videos\\L17_V013.mp4\n",
      "[TransNetV2] Processing video frames 43264/43264\n"
     ]
    },
    {
     "name": "stderr",
     "output_type": "stream",
     "text": [
      " 36%|███▌      | 131/363 [4:01:45<8:06:56, 125.93s/it]"
     ]
    },
    {
     "name": "stdout",
     "output_type": "stream",
     "text": [
      "[TransNetV2] Extracting frames from ../Data/videos\\L17_V014.mp4\n",
      "[TransNetV2] Processing video frames 31672/31672\n"
     ]
    },
    {
     "name": "stderr",
     "output_type": "stream",
     "text": [
      " 36%|███▋      | 132/363 [4:03:37<7:49:01, 121.83s/it]"
     ]
    },
    {
     "name": "stdout",
     "output_type": "stream",
     "text": [
      "[TransNetV2] Extracting frames from ../Data/videos\\L17_V015.mp4\n",
      "[TransNetV2] Processing video frames 23364/23364\n"
     ]
    },
    {
     "name": "stderr",
     "output_type": "stream",
     "text": [
      " 37%|███▋      | 133/363 [4:05:01<7:03:29, 110.48s/it]"
     ]
    },
    {
     "name": "stdout",
     "output_type": "stream",
     "text": [
      "[TransNetV2] Extracting frames from ../Data/videos\\L17_V016.mp4\n",
      "[TransNetV2] Processing video frames 25200/25201"
     ]
    },
    {
     "name": "stderr",
     "output_type": "stream",
     "text": [
      " 37%|███▋      | 134/363 [4:06:30<6:37:04, 104.04s/it]"
     ]
    },
    {
     "name": "stdout",
     "output_type": "stream",
     "text": [
      "[TransNetV2] Processing video frames 25201/25201\n",
      "[TransNetV2] Extracting frames from ../Data/videos\\L17_V017.mp4\n",
      "[TransNetV2] Processing video frames 29075/29075\n"
     ]
    },
    {
     "name": "stderr",
     "output_type": "stream",
     "text": [
      " 37%|███▋      | 135/363 [4:08:13<6:34:09, 103.73s/it]"
     ]
    },
    {
     "name": "stdout",
     "output_type": "stream",
     "text": [
      "[TransNetV2] Extracting frames from ../Data/videos\\L17_V018.mp4\n",
      "[TransNetV2] Processing video frames 26465/26465\n"
     ]
    },
    {
     "name": "stderr",
     "output_type": "stream",
     "text": [
      " 37%|███▋      | 136/363 [4:09:47<6:21:25, 100.82s/it]"
     ]
    },
    {
     "name": "stdout",
     "output_type": "stream",
     "text": [
      "[TransNetV2] Extracting frames from ../Data/videos\\L17_V019.mp4\n",
      "[TransNetV2] Processing video frames 33555/33555\n"
     ]
    },
    {
     "name": "stderr",
     "output_type": "stream",
     "text": [
      " 38%|███▊      | 137/363 [4:11:45<6:38:58, 105.92s/it]"
     ]
    },
    {
     "name": "stdout",
     "output_type": "stream",
     "text": [
      "[TransNetV2] Extracting frames from ../Data/videos\\L17_V020.mp4\n",
      "[TransNetV2] Processing video frames 34500/34533"
     ]
    },
    {
     "name": "stderr",
     "output_type": "stream",
     "text": [
      " 38%|███▊      | 138/363 [4:13:47<6:56:05, 110.96s/it]"
     ]
    },
    {
     "name": "stdout",
     "output_type": "stream",
     "text": [
      "[TransNetV2] Processing video frames 34533/34533\n",
      "[TransNetV2] Extracting frames from ../Data/videos\\L17_V021.mp4\n",
      "[TransNetV2] Processing video frames 32400/32405"
     ]
    },
    {
     "name": "stderr",
     "output_type": "stream",
     "text": [
      " 38%|███▊      | 139/363 [4:15:40<6:56:18, 111.51s/it]"
     ]
    },
    {
     "name": "stdout",
     "output_type": "stream",
     "text": [
      "[TransNetV2] Processing video frames 32405/32405\n",
      "[TransNetV2] Extracting frames from ../Data/videos\\L17_V022.mp4\n",
      "[TransNetV2] Processing video frames 26370/26370\n"
     ]
    },
    {
     "name": "stderr",
     "output_type": "stream",
     "text": [
      " 39%|███▊      | 140/363 [4:17:12<6:32:45, 105.68s/it]"
     ]
    },
    {
     "name": "stdout",
     "output_type": "stream",
     "text": [
      "[TransNetV2] Extracting frames from ../Data/videos\\L17_V023.mp4\n",
      "[TransNetV2] Processing video frames 22600/22620"
     ]
    },
    {
     "name": "stderr",
     "output_type": "stream",
     "text": [
      " 39%|███▉      | 141/363 [4:18:31<6:00:56, 97.55s/it] "
     ]
    },
    {
     "name": "stdout",
     "output_type": "stream",
     "text": [
      "[TransNetV2] Processing video frames 22620/22620\n",
      "[TransNetV2] Extracting frames from ../Data/videos\\L17_V024.mp4\n",
      "[TransNetV2] Processing video frames 24400/24401"
     ]
    },
    {
     "name": "stderr",
     "output_type": "stream",
     "text": [
      " 39%|███▉      | 142/363 [4:19:58<5:47:36, 94.38s/it]"
     ]
    },
    {
     "name": "stdout",
     "output_type": "stream",
     "text": [
      "[TransNetV2] Processing video frames 24401/24401\n",
      "[TransNetV2] Extracting frames from ../Data/videos\\L17_V025.mp4\n",
      "[TransNetV2] Processing video frames 27090/27090\n"
     ]
    },
    {
     "name": "stderr",
     "output_type": "stream",
     "text": [
      " 39%|███▉      | 143/363 [4:21:32<5:45:50, 94.32s/it]"
     ]
    },
    {
     "name": "stdout",
     "output_type": "stream",
     "text": [
      "[TransNetV2] Extracting frames from ../Data/videos\\L17_V026.mp4\n",
      "[TransNetV2] Processing video frames 29153/29153\n"
     ]
    },
    {
     "name": "stderr",
     "output_type": "stream",
     "text": [
      " 40%|███▉      | 144/363 [4:23:15<5:53:41, 96.90s/it]"
     ]
    },
    {
     "name": "stdout",
     "output_type": "stream",
     "text": [
      "[TransNetV2] Extracting frames from ../Data/videos\\L17_V027.mp4\n",
      "[TransNetV2] Processing video frames 34629/34629\n"
     ]
    },
    {
     "name": "stderr",
     "output_type": "stream",
     "text": [
      " 40%|███▉      | 145/363 [4:25:25<6:28:06, 106.82s/it]"
     ]
    },
    {
     "name": "stdout",
     "output_type": "stream",
     "text": [
      "[TransNetV2] Extracting frames from ../Data/videos\\L17_V028.mp4\n",
      "[TransNetV2] Processing video frames 32800/32826"
     ]
    },
    {
     "name": "stderr",
     "output_type": "stream",
     "text": [
      " 40%|████      | 146/363 [4:27:23<6:39:03, 110.34s/it]"
     ]
    },
    {
     "name": "stdout",
     "output_type": "stream",
     "text": [
      "[TransNetV2] Processing video frames 32826/32826\n",
      "[TransNetV2] Extracting frames from ../Data/videos\\L17_V029.mp4\n",
      "[TransNetV2] Processing video frames 33600/33637"
     ]
    },
    {
     "name": "stderr",
     "output_type": "stream",
     "text": [
      " 40%|████      | 147/363 [4:29:24<6:48:37, 113.51s/it]"
     ]
    },
    {
     "name": "stdout",
     "output_type": "stream",
     "text": [
      "[TransNetV2] Processing video frames 33637/33637\n",
      "[TransNetV2] Extracting frames from ../Data/videos\\L18_V001.mp4\n",
      "[TransNetV2] Processing video frames 36300/36346"
     ]
    },
    {
     "name": "stderr",
     "output_type": "stream",
     "text": [
      " 41%|████      | 148/363 [4:31:38<7:08:30, 119.58s/it]"
     ]
    },
    {
     "name": "stdout",
     "output_type": "stream",
     "text": [
      "[TransNetV2] Processing video frames 36346/36346\n",
      "[TransNetV2] Extracting frames from ../Data/videos\\L18_V002.mp4\n",
      "[TransNetV2] Processing video frames 39700/39714"
     ]
    },
    {
     "name": "stderr",
     "output_type": "stream",
     "text": [
      " 41%|████      | 149/363 [4:34:02<7:33:01, 127.02s/it]"
     ]
    },
    {
     "name": "stdout",
     "output_type": "stream",
     "text": [
      "[TransNetV2] Processing video frames 39714/39714\n",
      "[TransNetV2] Extracting frames from ../Data/videos\\L18_V003.mp4\n",
      "[TransNetV2] Processing video frames 35902/35902\n"
     ]
    },
    {
     "name": "stderr",
     "output_type": "stream",
     "text": [
      " 41%|████▏     | 150/363 [4:36:15<7:36:22, 128.56s/it]"
     ]
    },
    {
     "name": "stdout",
     "output_type": "stream",
     "text": [
      "[TransNetV2] Extracting frames from ../Data/videos\\L18_V004.mp4\n",
      "[TransNetV2] Processing video frames 38500/38500\n"
     ]
    },
    {
     "name": "stderr",
     "output_type": "stream",
     "text": [
      " 42%|████▏     | 151/363 [4:38:33<7:44:34, 131.48s/it]"
     ]
    },
    {
     "name": "stdout",
     "output_type": "stream",
     "text": [
      "[TransNetV2] Extracting frames from ../Data/videos\\L18_V005.mp4\n",
      "[TransNetV2] Processing video frames 36405/36405\n"
     ]
    },
    {
     "name": "stderr",
     "output_type": "stream",
     "text": [
      " 42%|████▏     | 152/363 [4:40:44<7:41:49, 131.33s/it]"
     ]
    },
    {
     "name": "stdout",
     "output_type": "stream",
     "text": [
      "[TransNetV2] Extracting frames from ../Data/videos\\L18_V006.mp4\n",
      "[TransNetV2] Processing video frames 41126/41126\n"
     ]
    },
    {
     "name": "stderr",
     "output_type": "stream",
     "text": [
      " 42%|████▏     | 153/363 [4:43:19<8:04:22, 138.39s/it]"
     ]
    },
    {
     "name": "stdout",
     "output_type": "stream",
     "text": [
      "[TransNetV2] Extracting frames from ../Data/videos\\L18_V007.mp4\n",
      "[TransNetV2] Processing video frames 35950/35969"
     ]
    },
    {
     "name": "stderr",
     "output_type": "stream",
     "text": [
      " 42%|████▏     | 154/363 [4:45:30<7:55:04, 136.39s/it]"
     ]
    },
    {
     "name": "stdout",
     "output_type": "stream",
     "text": [
      "[TransNetV2] Processing video frames 35969/35969\n",
      "[TransNetV2] Extracting frames from ../Data/videos\\L18_V008.mp4\n",
      "[TransNetV2] Processing video frames 35800/35841"
     ]
    },
    {
     "name": "stderr",
     "output_type": "stream",
     "text": [
      " 43%|████▎     | 155/363 [4:47:38<7:43:56, 133.83s/it]"
     ]
    },
    {
     "name": "stdout",
     "output_type": "stream",
     "text": [
      "[TransNetV2] Processing video frames 35841/35841\n",
      "[TransNetV2] Extracting frames from ../Data/videos\\L18_V009.mp4\n",
      "[TransNetV2] Processing video frames 37000/37002"
     ]
    },
    {
     "name": "stderr",
     "output_type": "stream",
     "text": [
      " 43%|████▎     | 156/363 [4:49:52<7:42:03, 133.93s/it]"
     ]
    },
    {
     "name": "stdout",
     "output_type": "stream",
     "text": [
      "[TransNetV2] Processing video frames 37002/37002\n",
      "[TransNetV2] Extracting frames from ../Data/videos\\L18_V010.mp4\n",
      "[TransNetV2] Processing video frames 36582/36582\n"
     ]
    },
    {
     "name": "stderr",
     "output_type": "stream",
     "text": [
      " 43%|████▎     | 157/363 [4:52:06<7:39:55, 133.96s/it]"
     ]
    },
    {
     "name": "stdout",
     "output_type": "stream",
     "text": [
      "[TransNetV2] Extracting frames from ../Data/videos\\L18_V011.mp4\n",
      "[TransNetV2] Processing video frames 41650/41697"
     ]
    },
    {
     "name": "stderr",
     "output_type": "stream",
     "text": [
      " 44%|████▎     | 158/363 [4:54:40<7:57:49, 139.85s/it]"
     ]
    },
    {
     "name": "stdout",
     "output_type": "stream",
     "text": [
      "[TransNetV2] Processing video frames 41697/41697\n",
      "[TransNetV2] Extracting frames from ../Data/videos\\L18_V012.mp4\n",
      "[TransNetV2] Processing video frames 38225/38225\n"
     ]
    },
    {
     "name": "stderr",
     "output_type": "stream",
     "text": [
      " 44%|████▍     | 159/363 [4:56:56<7:51:19, 138.62s/it]"
     ]
    },
    {
     "name": "stdout",
     "output_type": "stream",
     "text": [
      "[TransNetV2] Extracting frames from ../Data/videos\\L18_V013.mp4\n",
      "[TransNetV2] Processing video frames 39854/39854\n"
     ]
    },
    {
     "name": "stderr",
     "output_type": "stream",
     "text": [
      " 44%|████▍     | 160/363 [4:59:17<7:51:41, 139.41s/it]"
     ]
    },
    {
     "name": "stdout",
     "output_type": "stream",
     "text": [
      "[TransNetV2] Extracting frames from ../Data/videos\\L18_V014.mp4\n",
      "[TransNetV2] Processing video frames 27105/27105\n"
     ]
    },
    {
     "name": "stderr",
     "output_type": "stream",
     "text": [
      " 44%|████▍     | 161/363 [5:00:55<7:07:30, 126.98s/it]"
     ]
    },
    {
     "name": "stdout",
     "output_type": "stream",
     "text": [
      "[TransNetV2] Extracting frames from ../Data/videos\\L18_V015.mp4\n",
      "[TransNetV2] Processing video frames 23163/23163\n"
     ]
    },
    {
     "name": "stderr",
     "output_type": "stream",
     "text": [
      " 45%|████▍     | 162/363 [5:02:19<6:21:57, 114.02s/it]"
     ]
    },
    {
     "name": "stdout",
     "output_type": "stream",
     "text": [
      "[TransNetV2] Extracting frames from ../Data/videos\\L18_V016.mp4\n",
      "[TransNetV2] Processing video frames 34100/34136"
     ]
    },
    {
     "name": "stderr",
     "output_type": "stream",
     "text": [
      " 45%|████▍     | 163/363 [5:04:22<6:29:24, 116.82s/it]"
     ]
    },
    {
     "name": "stdout",
     "output_type": "stream",
     "text": [
      "[TransNetV2] Processing video frames 34136/34136\n",
      "[TransNetV2] Extracting frames from ../Data/videos\\L18_V017.mp4\n",
      "[TransNetV2] Processing video frames 30900/30941"
     ]
    },
    {
     "name": "stderr",
     "output_type": "stream",
     "text": [
      " 45%|████▌     | 164/363 [5:06:08<6:16:12, 113.43s/it]"
     ]
    },
    {
     "name": "stdout",
     "output_type": "stream",
     "text": [
      "[TransNetV2] Processing video frames 30941/30941\n",
      "[TransNetV2] Extracting frames from ../Data/videos\\L18_V018.mp4\n",
      "[TransNetV2] Processing video frames 36784/36784\n"
     ]
    },
    {
     "name": "stderr",
     "output_type": "stream",
     "text": [
      " 45%|████▌     | 165/363 [5:08:19<6:32:26, 118.92s/it]"
     ]
    },
    {
     "name": "stdout",
     "output_type": "stream",
     "text": [
      "[TransNetV2] Extracting frames from ../Data/videos\\L18_V019.mp4\n",
      "[TransNetV2] Processing video frames 35600/35628"
     ]
    },
    {
     "name": "stderr",
     "output_type": "stream",
     "text": [
      " 46%|████▌     | 166/363 [5:10:21<6:33:32, 119.86s/it]"
     ]
    },
    {
     "name": "stdout",
     "output_type": "stream",
     "text": [
      "[TransNetV2] Processing video frames 35628/35628\n",
      "[TransNetV2] Extracting frames from ../Data/videos\\L18_V020.mp4\n",
      "[TransNetV2] Processing video frames 33953/33953\n"
     ]
    },
    {
     "name": "stderr",
     "output_type": "stream",
     "text": [
      " 46%|████▌     | 167/363 [5:12:21<6:31:36, 119.88s/it]"
     ]
    },
    {
     "name": "stdout",
     "output_type": "stream",
     "text": [
      "[TransNetV2] Extracting frames from ../Data/videos\\L18_V021.mp4\n",
      "[TransNetV2] Processing video frames 27895/27895\n"
     ]
    },
    {
     "name": "stderr",
     "output_type": "stream",
     "text": [
      " 46%|████▋     | 168/363 [5:14:01<6:09:47, 113.78s/it]"
     ]
    },
    {
     "name": "stdout",
     "output_type": "stream",
     "text": [
      "[TransNetV2] Extracting frames from ../Data/videos\\L18_V022.mp4\n",
      "[TransNetV2] Processing video frames 31600/31621"
     ]
    },
    {
     "name": "stderr",
     "output_type": "stream",
     "text": [
      " 47%|████▋     | 169/363 [5:15:53<6:06:34, 113.37s/it]"
     ]
    },
    {
     "name": "stdout",
     "output_type": "stream",
     "text": [
      "[TransNetV2] Processing video frames 31621/31621\n",
      "[TransNetV2] Extracting frames from ../Data/videos\\L18_V023.mp4\n",
      "[TransNetV2] Processing video frames 35500/35508"
     ]
    },
    {
     "name": "stderr",
     "output_type": "stream",
     "text": [
      " 47%|████▋     | 170/363 [5:17:55<6:12:56, 115.94s/it]"
     ]
    },
    {
     "name": "stdout",
     "output_type": "stream",
     "text": [
      "[TransNetV2] Processing video frames 35508/35508\n",
      "[TransNetV2] Extracting frames from ../Data/videos\\L18_V024.mp4\n",
      "[TransNetV2] Processing video frames 30900/30940"
     ]
    },
    {
     "name": "stderr",
     "output_type": "stream",
     "text": [
      " 47%|████▋     | 171/363 [5:19:44<6:04:14, 113.83s/it]"
     ]
    },
    {
     "name": "stdout",
     "output_type": "stream",
     "text": [
      "[TransNetV2] Processing video frames 30940/30940\n",
      "[TransNetV2] Extracting frames from ../Data/videos\\L18_V025.mp4\n",
      "[TransNetV2] Processing video frames 30900/30945"
     ]
    },
    {
     "name": "stderr",
     "output_type": "stream",
     "text": [
      " 47%|████▋     | 172/363 [5:21:33<5:57:25, 112.28s/it]"
     ]
    },
    {
     "name": "stdout",
     "output_type": "stream",
     "text": [
      "[TransNetV2] Processing video frames 30945/30945\n",
      "[TransNetV2] Extracting frames from ../Data/videos\\L18_V026.mp4\n",
      "[TransNetV2] Processing video frames 33700/33749"
     ]
    },
    {
     "name": "stderr",
     "output_type": "stream",
     "text": [
      " 48%|████▊     | 173/363 [5:23:35<6:04:35, 115.13s/it]"
     ]
    },
    {
     "name": "stdout",
     "output_type": "stream",
     "text": [
      "[TransNetV2] Processing video frames 33749/33749\n",
      "[TransNetV2] Extracting frames from ../Data/videos\\L18_V027.mp4\n",
      "[TransNetV2] Processing video frames 41323/41323\n"
     ]
    },
    {
     "name": "stderr",
     "output_type": "stream",
     "text": [
      " 48%|████▊     | 174/363 [5:26:04<6:35:23, 125.52s/it]"
     ]
    },
    {
     "name": "stdout",
     "output_type": "stream",
     "text": [
      "[TransNetV2] Extracting frames from ../Data/videos\\L18_V028.mp4\n",
      "[TransNetV2] Processing video frames 30695/30695\n"
     ]
    },
    {
     "name": "stderr",
     "output_type": "stream",
     "text": [
      " 48%|████▊     | 175/363 [5:27:57<6:20:56, 121.58s/it]"
     ]
    },
    {
     "name": "stdout",
     "output_type": "stream",
     "text": [
      "[TransNetV2] Extracting frames from ../Data/videos\\L18_V029.mp4\n",
      "[TransNetV2] Processing video frames 26663/26663\n"
     ]
    },
    {
     "name": "stderr",
     "output_type": "stream",
     "text": [
      " 48%|████▊     | 176/363 [5:29:31<5:53:41, 113.48s/it]"
     ]
    },
    {
     "name": "stdout",
     "output_type": "stream",
     "text": [
      "[TransNetV2] Extracting frames from ../Data/videos\\L19_V001.mp4\n",
      "[TransNetV2] Processing video frames 29426/29426\n"
     ]
    },
    {
     "name": "stderr",
     "output_type": "stream",
     "text": [
      " 49%|████▉     | 177/363 [5:31:17<5:44:05, 111.00s/it]"
     ]
    },
    {
     "name": "stdout",
     "output_type": "stream",
     "text": [
      "[TransNetV2] Extracting frames from ../Data/videos\\L19_V003.mp4\n",
      "[TransNetV2] Processing video frames 34000/34037"
     ]
    },
    {
     "name": "stderr",
     "output_type": "stream",
     "text": [
      " 49%|████▉     | 178/363 [5:33:19<5:52:36, 114.36s/it]"
     ]
    },
    {
     "name": "stdout",
     "output_type": "stream",
     "text": [
      "[TransNetV2] Processing video frames 34037/34037\n",
      "[TransNetV2] Extracting frames from ../Data/videos\\L19_V004.mp4\n",
      "[TransNetV2] Processing video frames 32266/32266\n"
     ]
    },
    {
     "name": "stderr",
     "output_type": "stream",
     "text": [
      " 49%|████▉     | 179/363 [5:35:15<5:52:17, 114.88s/it]"
     ]
    },
    {
     "name": "stdout",
     "output_type": "stream",
     "text": [
      "[TransNetV2] Extracting frames from ../Data/videos\\L19_V005.mp4\n",
      "[TransNetV2] Processing video frames 32721/32721\n"
     ]
    },
    {
     "name": "stderr",
     "output_type": "stream",
     "text": [
      " 50%|████▉     | 180/363 [5:37:12<5:52:40, 115.63s/it]"
     ]
    },
    {
     "name": "stdout",
     "output_type": "stream",
     "text": [
      "[TransNetV2] Extracting frames from ../Data/videos\\L19_V006.mp4\n",
      "[TransNetV2] Processing video frames 25897/25897\n"
     ]
    },
    {
     "name": "stderr",
     "output_type": "stream",
     "text": [
      " 50%|████▉     | 181/363 [5:38:47<5:31:47, 109.38s/it]"
     ]
    },
    {
     "name": "stdout",
     "output_type": "stream",
     "text": [
      "[TransNetV2] Extracting frames from ../Data/videos\\L19_V007.mp4\n",
      "[TransNetV2] Processing video frames 29581/29581\n"
     ]
    },
    {
     "name": "stderr",
     "output_type": "stream",
     "text": [
      " 50%|█████     | 182/363 [5:40:36<5:29:48, 109.33s/it]"
     ]
    },
    {
     "name": "stdout",
     "output_type": "stream",
     "text": [
      "[TransNetV2] Extracting frames from ../Data/videos\\L19_V008.mp4\n",
      "[TransNetV2] Processing video frames 29100/29143"
     ]
    },
    {
     "name": "stderr",
     "output_type": "stream",
     "text": [
      " 50%|█████     | 183/363 [5:42:20<5:23:21, 107.78s/it]"
     ]
    },
    {
     "name": "stdout",
     "output_type": "stream",
     "text": [
      "[TransNetV2] Processing video frames 29143/29143\n",
      "[TransNetV2] Extracting frames from ../Data/videos\\L19_V009.mp4\n",
      "[TransNetV2] Processing video frames 29473/29473\n"
     ]
    },
    {
     "name": "stderr",
     "output_type": "stream",
     "text": [
      " 51%|█████     | 184/363 [5:44:05<5:18:38, 106.81s/it]"
     ]
    },
    {
     "name": "stdout",
     "output_type": "stream",
     "text": [
      "[TransNetV2] Extracting frames from ../Data/videos\\L19_V010.mp4\n",
      "[TransNetV2] Processing video frames 34696/34696\n"
     ]
    },
    {
     "name": "stderr",
     "output_type": "stream",
     "text": [
      " 51%|█████     | 185/363 [5:46:11<5:33:54, 112.55s/it]"
     ]
    },
    {
     "name": "stdout",
     "output_type": "stream",
     "text": [
      "[TransNetV2] Extracting frames from ../Data/videos\\L19_V011.mp4\n",
      "[TransNetV2] Processing video frames 37700/37714"
     ]
    },
    {
     "name": "stderr",
     "output_type": "stream",
     "text": [
      " 51%|█████     | 186/363 [5:48:27<5:52:56, 119.64s/it]"
     ]
    },
    {
     "name": "stdout",
     "output_type": "stream",
     "text": [
      "[TransNetV2] Processing video frames 37714/37714\n",
      "[TransNetV2] Extracting frames from ../Data/videos\\L19_V012.mp4\n",
      "[TransNetV2] Processing video frames 36500/36547"
     ]
    },
    {
     "name": "stderr",
     "output_type": "stream",
     "text": [
      " 52%|█████▏    | 187/363 [5:50:41<6:03:20, 123.87s/it]"
     ]
    },
    {
     "name": "stdout",
     "output_type": "stream",
     "text": [
      "[TransNetV2] Processing video frames 36547/36547\n",
      "[TransNetV2] Extracting frames from ../Data/videos\\L19_V013.mp4\n",
      "[TransNetV2] Processing video frames 29048/29048\n"
     ]
    },
    {
     "name": "stderr",
     "output_type": "stream",
     "text": [
      " 52%|█████▏    | 188/363 [5:52:26<5:44:51, 118.24s/it]"
     ]
    },
    {
     "name": "stdout",
     "output_type": "stream",
     "text": [
      "[TransNetV2] Extracting frames from ../Data/videos\\L19_V014.mp4\n",
      "[TransNetV2] Processing video frames 28300/28343"
     ]
    },
    {
     "name": "stderr",
     "output_type": "stream",
     "text": [
      " 52%|█████▏    | 189/363 [5:54:08<5:29:12, 113.52s/it]"
     ]
    },
    {
     "name": "stdout",
     "output_type": "stream",
     "text": [
      "[TransNetV2] Processing video frames 28343/28343\n",
      "[TransNetV2] Extracting frames from ../Data/videos\\L19_V015.mp4\n",
      "[TransNetV2] Processing video frames 26600/26636"
     ]
    },
    {
     "name": "stderr",
     "output_type": "stream",
     "text": [
      " 52%|█████▏    | 190/363 [5:55:44<5:11:56, 108.19s/it]"
     ]
    },
    {
     "name": "stdout",
     "output_type": "stream",
     "text": [
      "[TransNetV2] Processing video frames 26636/26636\n",
      "[TransNetV2] Extracting frames from ../Data/videos\\L19_V016.mp4\n",
      "[TransNetV2] Processing video frames 36259/36259\n"
     ]
    },
    {
     "name": "stderr",
     "output_type": "stream",
     "text": [
      " 53%|█████▎    | 191/363 [5:57:53<5:27:42, 114.32s/it]"
     ]
    },
    {
     "name": "stdout",
     "output_type": "stream",
     "text": [
      "[TransNetV2] Extracting frames from ../Data/videos\\L19_V017.mp4\n",
      "[TransNetV2] Processing video frames 32776/32776\n"
     ]
    },
    {
     "name": "stderr",
     "output_type": "stream",
     "text": [
      " 53%|█████▎    | 192/363 [5:59:49<5:27:13, 114.81s/it]"
     ]
    },
    {
     "name": "stdout",
     "output_type": "stream",
     "text": [
      "[TransNetV2] Extracting frames from ../Data/videos\\L19_V018.mp4\n",
      "[TransNetV2] Processing video frames 29600/29616"
     ]
    },
    {
     "name": "stderr",
     "output_type": "stream",
     "text": [
      " 53%|█████▎    | 193/363 [6:01:32<5:15:48, 111.46s/it]"
     ]
    },
    {
     "name": "stdout",
     "output_type": "stream",
     "text": [
      "[TransNetV2] Processing video frames 29616/29616\n",
      "[TransNetV2] Extracting frames from ../Data/videos\\L19_V019.mp4\n",
      "[TransNetV2] Processing video frames 34992/34992\n"
     ]
    },
    {
     "name": "stderr",
     "output_type": "stream",
     "text": [
      " 53%|█████▎    | 194/363 [6:03:36<5:24:01, 115.04s/it]"
     ]
    },
    {
     "name": "stdout",
     "output_type": "stream",
     "text": [
      "[TransNetV2] Extracting frames from ../Data/videos\\L19_V020.mp4\n",
      "[TransNetV2] Processing video frames 26555/26555\n"
     ]
    },
    {
     "name": "stderr",
     "output_type": "stream",
     "text": [
      " 54%|█████▎    | 195/363 [6:05:09<5:03:53, 108.54s/it]"
     ]
    },
    {
     "name": "stdout",
     "output_type": "stream",
     "text": [
      "[TransNetV2] Extracting frames from ../Data/videos\\L19_V021.mp4\n",
      "[TransNetV2] Processing video frames 27800/27819"
     ]
    },
    {
     "name": "stderr",
     "output_type": "stream",
     "text": [
      " 54%|█████▍    | 196/363 [6:06:45<4:51:52, 104.86s/it]"
     ]
    },
    {
     "name": "stdout",
     "output_type": "stream",
     "text": [
      "[TransNetV2] Processing video frames 27819/27819\n",
      "[TransNetV2] Extracting frames from ../Data/videos\\L19_V022.mp4\n",
      "[TransNetV2] Processing video frames 38753/38753\n"
     ]
    },
    {
     "name": "stderr",
     "output_type": "stream",
     "text": [
      " 54%|█████▍    | 197/363 [6:08:59<5:14:08, 113.54s/it]"
     ]
    },
    {
     "name": "stdout",
     "output_type": "stream",
     "text": [
      "[TransNetV2] Extracting frames from ../Data/videos\\L19_V023.mp4\n",
      "[TransNetV2] Processing video frames 32166/32166\n"
     ]
    },
    {
     "name": "stderr",
     "output_type": "stream",
     "text": [
      " 55%|█████▍    | 198/363 [6:10:50<5:09:45, 112.64s/it]"
     ]
    },
    {
     "name": "stdout",
     "output_type": "stream",
     "text": [
      "[TransNetV2] Extracting frames from ../Data/videos\\L19_V024.mp4\n",
      "[TransNetV2] Processing video frames 36555/36555\n"
     ]
    },
    {
     "name": "stderr",
     "output_type": "stream",
     "text": [
      " 55%|█████▍    | 199/363 [6:12:55<5:18:32, 116.54s/it]"
     ]
    },
    {
     "name": "stdout",
     "output_type": "stream",
     "text": [
      "[TransNetV2] Extracting frames from ../Data/videos\\L19_V025.mp4\n",
      "[TransNetV2] Processing video frames 22400/22402"
     ]
    },
    {
     "name": "stderr",
     "output_type": "stream",
     "text": [
      " 55%|█████▌    | 200/363 [6:14:13<4:44:26, 104.71s/it]"
     ]
    },
    {
     "name": "stdout",
     "output_type": "stream",
     "text": [
      "[TransNetV2] Processing video frames 22402/22402\n",
      "[TransNetV2] Extracting frames from ../Data/videos\\L19_V026.mp4\n",
      "[TransNetV2] Processing video frames 29700/29721"
     ]
    },
    {
     "name": "stderr",
     "output_type": "stream",
     "text": [
      " 55%|█████▌    | 201/363 [6:15:55<4:40:33, 103.91s/it]"
     ]
    },
    {
     "name": "stdout",
     "output_type": "stream",
     "text": [
      "[TransNetV2] Processing video frames 29721/29721\n",
      "[TransNetV2] Extracting frames from ../Data/videos\\L19_V027.mp4\n",
      "[TransNetV2] Processing video frames 29200/29206"
     ]
    },
    {
     "name": "stderr",
     "output_type": "stream",
     "text": [
      " 56%|█████▌    | 202/363 [6:17:35<4:36:22, 103.00s/it]"
     ]
    },
    {
     "name": "stdout",
     "output_type": "stream",
     "text": [
      "[TransNetV2] Processing video frames 29206/29206\n",
      "[TransNetV2] Extracting frames from ../Data/videos\\L19_V028.mp4\n",
      "[TransNetV2] Processing video frames 23061/23061\n"
     ]
    },
    {
     "name": "stderr",
     "output_type": "stream",
     "text": [
      " 56%|█████▌    | 203/363 [6:18:56<4:16:34, 96.21s/it] "
     ]
    },
    {
     "name": "stdout",
     "output_type": "stream",
     "text": [
      "[TransNetV2] Extracting frames from ../Data/videos\\L19_V029.mp4\n",
      "[TransNetV2] Processing video frames 32899/32899\n"
     ]
    },
    {
     "name": "stderr",
     "output_type": "stream",
     "text": [
      " 56%|█████▌    | 204/363 [6:20:50<4:29:15, 101.60s/it]"
     ]
    },
    {
     "name": "stdout",
     "output_type": "stream",
     "text": [
      "[TransNetV2] Extracting frames from ../Data/videos\\L19_V030.mp4\n",
      "[TransNetV2] Processing video frames 29978/29978\n"
     ]
    },
    {
     "name": "stderr",
     "output_type": "stream",
     "text": [
      " 56%|█████▋    | 205/363 [6:22:33<4:28:49, 102.09s/it]"
     ]
    },
    {
     "name": "stdout",
     "output_type": "stream",
     "text": [
      "[TransNetV2] Extracting frames from ../Data/videos\\L19_V031.mp4\n",
      "[TransNetV2] Processing video frames 30664/30664\n"
     ]
    },
    {
     "name": "stderr",
     "output_type": "stream",
     "text": [
      " 57%|█████▋    | 206/363 [6:24:19<4:29:52, 103.14s/it]"
     ]
    },
    {
     "name": "stdout",
     "output_type": "stream",
     "text": [
      "[TransNetV2] Extracting frames from ../Data/videos\\L20_V001.mp4\n",
      "[TransNetV2] Processing video frames 41574/41574\n"
     ]
    },
    {
     "name": "stderr",
     "output_type": "stream",
     "text": [
      " 57%|█████▋    | 207/363 [6:26:42<4:59:35, 115.23s/it]"
     ]
    },
    {
     "name": "stdout",
     "output_type": "stream",
     "text": [
      "[TransNetV2] Extracting frames from ../Data/videos\\L20_V002.mp4\n",
      "[TransNetV2] Processing video frames 27600/27607"
     ]
    },
    {
     "name": "stderr",
     "output_type": "stream",
     "text": [
      " 57%|█████▋    | 208/363 [6:28:20<4:43:49, 109.87s/it]"
     ]
    },
    {
     "name": "stdout",
     "output_type": "stream",
     "text": [
      "[TransNetV2] Processing video frames 27607/27607\n",
      "[TransNetV2] Extracting frames from ../Data/videos\\L20_V003.mp4\n",
      "[TransNetV2] Processing video frames 35077/35077\n"
     ]
    },
    {
     "name": "stderr",
     "output_type": "stream",
     "text": [
      " 58%|█████▊    | 209/363 [6:30:21<4:50:37, 113.23s/it]"
     ]
    },
    {
     "name": "stdout",
     "output_type": "stream",
     "text": [
      "[TransNetV2] Extracting frames from ../Data/videos\\L20_V004.mp4\n",
      "[TransNetV2] Processing video frames 32654/32654\n"
     ]
    },
    {
     "name": "stderr",
     "output_type": "stream",
     "text": [
      " 58%|█████▊    | 210/363 [6:32:15<4:49:47, 113.65s/it]"
     ]
    },
    {
     "name": "stdout",
     "output_type": "stream",
     "text": [
      "[TransNetV2] Extracting frames from ../Data/videos\\L20_V005.mp4\n",
      "[TransNetV2] Processing video frames 24793/24793\n"
     ]
    },
    {
     "name": "stderr",
     "output_type": "stream",
     "text": [
      " 58%|█████▊    | 211/363 [6:33:41<4:26:18, 105.12s/it]"
     ]
    },
    {
     "name": "stdout",
     "output_type": "stream",
     "text": [
      "[TransNetV2] Extracting frames from ../Data/videos\\L20_V006.mp4\n",
      "[TransNetV2] Processing video frames 34400/34438"
     ]
    },
    {
     "name": "stderr",
     "output_type": "stream",
     "text": [
      " 58%|█████▊    | 212/363 [6:35:40<4:35:12, 109.36s/it]"
     ]
    },
    {
     "name": "stdout",
     "output_type": "stream",
     "text": [
      "[TransNetV2] Processing video frames 34438/34438\n",
      "[TransNetV2] Extracting frames from ../Data/videos\\L20_V007.mp4\n",
      "[TransNetV2] Processing video frames 36100/36120"
     ]
    },
    {
     "name": "stderr",
     "output_type": "stream",
     "text": [
      " 59%|█████▊    | 213/363 [6:37:47<4:46:40, 114.67s/it]"
     ]
    },
    {
     "name": "stdout",
     "output_type": "stream",
     "text": [
      "[TransNetV2] Processing video frames 36120/36120\n",
      "[TransNetV2] Extracting frames from ../Data/videos\\L20_V008.mp4\n",
      "[TransNetV2] Processing video frames 29100/29133"
     ]
    },
    {
     "name": "stderr",
     "output_type": "stream",
     "text": [
      " 59%|█████▉    | 214/363 [6:39:27<4:34:00, 110.34s/it]"
     ]
    },
    {
     "name": "stdout",
     "output_type": "stream",
     "text": [
      "[TransNetV2] Processing video frames 29133/29133\n",
      "[TransNetV2] Extracting frames from ../Data/videos\\L20_V009.mp4\n",
      "[TransNetV2] Processing video frames 39200/39220"
     ]
    },
    {
     "name": "stderr",
     "output_type": "stream",
     "text": [
      " 59%|█████▉    | 215/363 [6:41:42<4:50:09, 117.63s/it]"
     ]
    },
    {
     "name": "stdout",
     "output_type": "stream",
     "text": [
      "[TransNetV2] Processing video frames 39220/39220\n",
      "[TransNetV2] Extracting frames from ../Data/videos\\L20_V010.mp4\n",
      "[TransNetV2] Processing video frames 36000/36018"
     ]
    },
    {
     "name": "stderr",
     "output_type": "stream",
     "text": [
      " 60%|█████▉    | 216/363 [6:43:46<4:52:42, 119.48s/it]"
     ]
    },
    {
     "name": "stdout",
     "output_type": "stream",
     "text": [
      "[TransNetV2] Processing video frames 36018/36018\n",
      "[TransNetV2] Extracting frames from ../Data/videos\\L20_V011.mp4\n",
      "[TransNetV2] Processing video frames 35878/35878\n"
     ]
    },
    {
     "name": "stderr",
     "output_type": "stream",
     "text": [
      " 60%|█████▉    | 217/363 [6:45:49<4:53:35, 120.65s/it]"
     ]
    },
    {
     "name": "stdout",
     "output_type": "stream",
     "text": [
      "[TransNetV2] Extracting frames from ../Data/videos\\L20_V012.mp4\n",
      "[TransNetV2] Processing video frames 27100/27105"
     ]
    },
    {
     "name": "stderr",
     "output_type": "stream",
     "text": [
      " 60%|██████    | 218/363 [6:47:23<4:32:08, 112.61s/it]"
     ]
    },
    {
     "name": "stdout",
     "output_type": "stream",
     "text": [
      "[TransNetV2] Processing video frames 27105/27105\n",
      "[TransNetV2] Extracting frames from ../Data/videos\\L20_V013.mp4\n",
      "[TransNetV2] Processing video frames 29681/29681\n"
     ]
    },
    {
     "name": "stderr",
     "output_type": "stream",
     "text": [
      " 60%|██████    | 219/363 [6:49:05<4:23:06, 109.63s/it]"
     ]
    },
    {
     "name": "stdout",
     "output_type": "stream",
     "text": [
      "[TransNetV2] Extracting frames from ../Data/videos\\L20_V014.mp4\n",
      "[TransNetV2] Processing video frames 33356/33356\n"
     ]
    },
    {
     "name": "stderr",
     "output_type": "stream",
     "text": [
      " 61%|██████    | 220/363 [6:51:01<4:25:19, 111.33s/it]"
     ]
    },
    {
     "name": "stdout",
     "output_type": "stream",
     "text": [
      "[TransNetV2] Extracting frames from ../Data/videos\\L20_V015.mp4\n",
      "[TransNetV2] Processing video frames 29770/29770\n"
     ]
    },
    {
     "name": "stderr",
     "output_type": "stream",
     "text": [
      " 61%|██████    | 221/363 [6:52:43<4:17:01, 108.60s/it]"
     ]
    },
    {
     "name": "stdout",
     "output_type": "stream",
     "text": [
      "[TransNetV2] Extracting frames from ../Data/videos\\L20_V016.mp4\n",
      "[TransNetV2] Processing video frames 32755/32755\n"
     ]
    },
    {
     "name": "stderr",
     "output_type": "stream",
     "text": [
      " 61%|██████    | 222/363 [6:54:35<4:17:58, 109.78s/it]"
     ]
    },
    {
     "name": "stdout",
     "output_type": "stream",
     "text": [
      "[TransNetV2] Extracting frames from ../Data/videos\\L20_V017.mp4\n",
      "[TransNetV2] Processing video frames 34000/34000\n"
     ]
    },
    {
     "name": "stderr",
     "output_type": "stream",
     "text": [
      " 61%|██████▏   | 223/363 [6:56:32<4:21:09, 111.93s/it]"
     ]
    },
    {
     "name": "stdout",
     "output_type": "stream",
     "text": [
      "[TransNetV2] Extracting frames from ../Data/videos\\L20_V018.mp4\n",
      "[TransNetV2] Processing video frames 31967/31967\n"
     ]
    },
    {
     "name": "stderr",
     "output_type": "stream",
     "text": [
      " 62%|██████▏   | 224/363 [6:58:23<4:18:02, 111.39s/it]"
     ]
    },
    {
     "name": "stdout",
     "output_type": "stream",
     "text": [
      "[TransNetV2] Extracting frames from ../Data/videos\\L20_V019.mp4\n",
      "[TransNetV2] Processing video frames 31000/31039"
     ]
    },
    {
     "name": "stderr",
     "output_type": "stream",
     "text": [
      " 62%|██████▏   | 225/363 [7:00:10<4:13:37, 110.27s/it]"
     ]
    },
    {
     "name": "stdout",
     "output_type": "stream",
     "text": [
      "[TransNetV2] Processing video frames 31039/31039\n",
      "[TransNetV2] Extracting frames from ../Data/videos\\L20_V020.mp4\n",
      "[TransNetV2] Processing video frames 31200/31206"
     ]
    },
    {
     "name": "stderr",
     "output_type": "stream",
     "text": [
      " 62%|██████▏   | 226/363 [7:01:58<4:10:15, 109.60s/it]"
     ]
    },
    {
     "name": "stdout",
     "output_type": "stream",
     "text": [
      "[TransNetV2] Processing video frames 31206/31206\n",
      "[TransNetV2] Extracting frames from ../Data/videos\\L20_V021.mp4\n",
      "[TransNetV2] Processing video frames 40900/40921"
     ]
    },
    {
     "name": "stderr",
     "output_type": "stream",
     "text": [
      " 63%|██████▎   | 227/363 [7:04:19<4:29:45, 119.01s/it]"
     ]
    },
    {
     "name": "stdout",
     "output_type": "stream",
     "text": [
      "[TransNetV2] Processing video frames 40921/40921\n",
      "[TransNetV2] Extracting frames from ../Data/videos\\L20_V022.mp4\n",
      "[TransNetV2] Processing video frames 41000/41029"
     ]
    },
    {
     "name": "stderr",
     "output_type": "stream",
     "text": [
      " 63%|██████▎   | 228/363 [7:06:40<4:42:36, 125.61s/it]"
     ]
    },
    {
     "name": "stdout",
     "output_type": "stream",
     "text": [
      "[TransNetV2] Processing video frames 41029/41029\n",
      "[TransNetV2] Extracting frames from ../Data/videos\\L20_V024.mp4\n",
      "[TransNetV2] Processing video frames 38999/38999\n"
     ]
    },
    {
     "name": "stderr",
     "output_type": "stream",
     "text": [
      " 63%|██████▎   | 229/363 [7:08:55<4:46:23, 128.23s/it]"
     ]
    },
    {
     "name": "stdout",
     "output_type": "stream",
     "text": [
      "[TransNetV2] Extracting frames from ../Data/videos\\L20_V025.mp4\n",
      "[TransNetV2] Processing video frames 42569/42569\n"
     ]
    },
    {
     "name": "stderr",
     "output_type": "stream",
     "text": [
      " 63%|██████▎   | 230/363 [7:11:21<4:56:37, 133.82s/it]"
     ]
    },
    {
     "name": "stdout",
     "output_type": "stream",
     "text": [
      "[TransNetV2] Extracting frames from ../Data/videos\\L20_V027.mp4\n",
      "[TransNetV2] Processing video frames 31200/31231"
     ]
    },
    {
     "name": "stderr",
     "output_type": "stream",
     "text": [
      " 64%|██████▎   | 231/363 [7:13:10<4:37:25, 126.11s/it]"
     ]
    },
    {
     "name": "stdout",
     "output_type": "stream",
     "text": [
      "[TransNetV2] Processing video frames 31231/31231\n",
      "[TransNetV2] Extracting frames from ../Data/videos\\L20_V028.mp4\n",
      "[TransNetV2] Processing video frames 30887/30887\n"
     ]
    },
    {
     "name": "stderr",
     "output_type": "stream",
     "text": [
      " 64%|██████▍   | 232/363 [7:14:55<4:21:57, 119.98s/it]"
     ]
    },
    {
     "name": "stdout",
     "output_type": "stream",
     "text": [
      "[TransNetV2] Extracting frames from ../Data/videos\\L20_V029.mp4\n",
      "[TransNetV2] Processing video frames 32986/32986\n"
     ]
    },
    {
     "name": "stderr",
     "output_type": "stream",
     "text": [
      " 64%|██████▍   | 233/363 [7:16:49<4:15:59, 118.15s/it]"
     ]
    },
    {
     "name": "stdout",
     "output_type": "stream",
     "text": [
      "[TransNetV2] Extracting frames from ../Data/videos\\L20_V030.mp4\n",
      "[TransNetV2] Processing video frames 35200/35248"
     ]
    },
    {
     "name": "stderr",
     "output_type": "stream",
     "text": [
      " 64%|██████▍   | 234/363 [7:18:50<4:16:06, 119.12s/it]"
     ]
    },
    {
     "name": "stdout",
     "output_type": "stream",
     "text": [
      "[TransNetV2] Processing video frames 35248/35248\n",
      "[TransNetV2] Extracting frames from ../Data/videos\\L20_V031.mp4\n",
      "[TransNetV2] Processing video frames 36066/36066\n"
     ]
    },
    {
     "name": "stderr",
     "output_type": "stream",
     "text": [
      " 65%|██████▍   | 235/363 [7:20:57<4:18:53, 121.36s/it]"
     ]
    },
    {
     "name": "stdout",
     "output_type": "stream",
     "text": [
      "[TransNetV2] Extracting frames from ../Data/videos\\L21_V001.mp4\n",
      "[TransNetV2] Processing video frames 37800/37849"
     ]
    },
    {
     "name": "stderr",
     "output_type": "stream",
     "text": [
      " 65%|██████▌   | 236/363 [7:23:07<4:22:33, 124.04s/it]"
     ]
    },
    {
     "name": "stdout",
     "output_type": "stream",
     "text": [
      "[TransNetV2] Processing video frames 37849/37849\n",
      "[TransNetV2] Extracting frames from ../Data/videos\\L21_V002.mp4\n",
      "[TransNetV2] Processing video frames 31700/31720"
     ]
    },
    {
     "name": "stderr",
     "output_type": "stream",
     "text": [
      " 65%|██████▌   | 237/363 [7:24:56<4:10:54, 119.48s/it]"
     ]
    },
    {
     "name": "stdout",
     "output_type": "stream",
     "text": [
      "[TransNetV2] Processing video frames 31720/31720\n",
      "[TransNetV2] Extracting frames from ../Data/videos\\L21_V003.mp4\n",
      "[TransNetV2] Processing video frames 29900/29946"
     ]
    },
    {
     "name": "stderr",
     "output_type": "stream",
     "text": [
      " 66%|██████▌   | 238/363 [7:26:40<3:59:03, 114.75s/it]"
     ]
    },
    {
     "name": "stdout",
     "output_type": "stream",
     "text": [
      "[TransNetV2] Processing video frames 29946/29946\n",
      "[TransNetV2] Extracting frames from ../Data/videos\\L21_V005.mp4\n",
      "[TransNetV2] Processing video frames 28294/28294\n"
     ]
    },
    {
     "name": "stderr",
     "output_type": "stream",
     "text": [
      " 66%|██████▌   | 239/363 [7:28:17<3:46:11, 109.45s/it]"
     ]
    },
    {
     "name": "stdout",
     "output_type": "stream",
     "text": [
      "[TransNetV2] Extracting frames from ../Data/videos\\L21_V006.mp4\n",
      "[TransNetV2] Processing video frames 31064/31064\n"
     ]
    },
    {
     "name": "stderr",
     "output_type": "stream",
     "text": [
      " 66%|██████▌   | 240/363 [7:30:04<3:42:50, 108.71s/it]"
     ]
    },
    {
     "name": "stdout",
     "output_type": "stream",
     "text": [
      "[TransNetV2] Extracting frames from ../Data/videos\\L21_V007.mp4\n",
      "[TransNetV2] Processing video frames 25254/25254\n"
     ]
    },
    {
     "name": "stderr",
     "output_type": "stream",
     "text": [
      " 66%|██████▋   | 241/363 [7:31:31<3:27:59, 102.29s/it]"
     ]
    },
    {
     "name": "stdout",
     "output_type": "stream",
     "text": [
      "[TransNetV2] Extracting frames from ../Data/videos\\L21_V008.mp4\n",
      "[TransNetV2] Processing video frames 33700/33726"
     ]
    },
    {
     "name": "stderr",
     "output_type": "stream",
     "text": [
      " 67%|██████▋   | 242/363 [7:33:28<3:35:08, 106.68s/it]"
     ]
    },
    {
     "name": "stdout",
     "output_type": "stream",
     "text": [
      "[TransNetV2] Processing video frames 33726/33726\n",
      "[TransNetV2] Extracting frames from ../Data/videos\\L21_V009.mp4\n",
      "[TransNetV2] Processing video frames 28988/28988\n"
     ]
    },
    {
     "name": "stderr",
     "output_type": "stream",
     "text": [
      " 67%|██████▋   | 243/363 [7:35:09<3:29:40, 104.84s/it]"
     ]
    },
    {
     "name": "stdout",
     "output_type": "stream",
     "text": [
      "[TransNetV2] Extracting frames from ../Data/videos\\L21_V010.mp4\n",
      "[TransNetV2] Processing video frames 28300/28311"
     ]
    },
    {
     "name": "stderr",
     "output_type": "stream",
     "text": [
      " 67%|██████▋   | 244/363 [7:36:47<3:23:51, 102.79s/it]"
     ]
    },
    {
     "name": "stdout",
     "output_type": "stream",
     "text": [
      "[TransNetV2] Processing video frames 28311/28311\n",
      "[TransNetV2] Extracting frames from ../Data/videos\\L21_V011.mp4\n",
      "[TransNetV2] Processing video frames 25100/25122"
     ]
    },
    {
     "name": "stderr",
     "output_type": "stream",
     "text": [
      " 67%|██████▋   | 245/363 [7:38:14<3:12:45, 98.01s/it] "
     ]
    },
    {
     "name": "stdout",
     "output_type": "stream",
     "text": [
      "[TransNetV2] Processing video frames 25122/25122\n",
      "[TransNetV2] Extracting frames from ../Data/videos\\L21_V012.mp4\n",
      "[TransNetV2] Processing video frames 27972/27972\n"
     ]
    },
    {
     "name": "stderr",
     "output_type": "stream",
     "text": [
      " 68%|██████▊   | 246/363 [7:39:50<3:09:55, 97.40s/it]"
     ]
    },
    {
     "name": "stdout",
     "output_type": "stream",
     "text": [
      "[TransNetV2] Extracting frames from ../Data/videos\\L21_V013.mp4\n",
      "[TransNetV2] Processing video frames 33800/33805"
     ]
    },
    {
     "name": "stderr",
     "output_type": "stream",
     "text": [
      " 68%|██████▊   | 247/363 [7:41:46<3:19:35, 103.23s/it]"
     ]
    },
    {
     "name": "stdout",
     "output_type": "stream",
     "text": [
      "[TransNetV2] Processing video frames 33805/33805\n",
      "[TransNetV2] Extracting frames from ../Data/videos\\L21_V014.mp4\n",
      "[TransNetV2] Processing video frames 33500/33511"
     ]
    },
    {
     "name": "stderr",
     "output_type": "stream",
     "text": [
      " 68%|██████▊   | 248/363 [7:43:42<3:24:54, 106.91s/it]"
     ]
    },
    {
     "name": "stdout",
     "output_type": "stream",
     "text": [
      "[TransNetV2] Processing video frames 33511/33511\n",
      "[TransNetV2] Extracting frames from ../Data/videos\\L21_V015.mp4\n",
      "[TransNetV2] Processing video frames 39100/39117"
     ]
    },
    {
     "name": "stderr",
     "output_type": "stream",
     "text": [
      " 69%|██████▊   | 249/363 [7:45:57<3:39:04, 115.30s/it]"
     ]
    },
    {
     "name": "stdout",
     "output_type": "stream",
     "text": [
      "[TransNetV2] Processing video frames 39117/39117\n",
      "[TransNetV2] Extracting frames from ../Data/videos\\L21_V016.mp4\n",
      "[TransNetV2] Processing video frames 31600/31633"
     ]
    },
    {
     "name": "stderr",
     "output_type": "stream",
     "text": [
      " 69%|██████▉   | 250/363 [7:47:45<3:33:17, 113.26s/it]"
     ]
    },
    {
     "name": "stdout",
     "output_type": "stream",
     "text": [
      "[TransNetV2] Processing video frames 31633/31633\n",
      "[TransNetV2] Extracting frames from ../Data/videos\\L21_V017.mp4\n",
      "[TransNetV2] Processing video frames 23751/23751\n"
     ]
    },
    {
     "name": "stderr",
     "output_type": "stream",
     "text": [
      " 69%|██████▉   | 251/363 [7:49:07<3:13:47, 103.82s/it]"
     ]
    },
    {
     "name": "stdout",
     "output_type": "stream",
     "text": [
      "[TransNetV2] Extracting frames from ../Data/videos\\L21_V018.mp4\n",
      "[TransNetV2] Processing video frames 28599/28599\n"
     ]
    },
    {
     "name": "stderr",
     "output_type": "stream",
     "text": [
      " 69%|██████▉   | 252/363 [7:50:46<3:09:21, 102.35s/it]"
     ]
    },
    {
     "name": "stdout",
     "output_type": "stream",
     "text": [
      "[TransNetV2] Extracting frames from ../Data/videos\\L21_V019.mp4\n",
      "[TransNetV2] Processing video frames 33000/33027"
     ]
    },
    {
     "name": "stderr",
     "output_type": "stream",
     "text": [
      " 70%|██████▉   | 253/363 [7:52:40<3:13:54, 105.76s/it]"
     ]
    },
    {
     "name": "stdout",
     "output_type": "stream",
     "text": [
      "[TransNetV2] Processing video frames 33027/33027\n",
      "[TransNetV2] Extracting frames from ../Data/videos\\L21_V021.mp4\n",
      "[TransNetV2] Processing video frames 30900/30906"
     ]
    },
    {
     "name": "stderr",
     "output_type": "stream",
     "text": [
      " 70%|██████▉   | 254/363 [7:54:26<3:12:25, 105.92s/it]"
     ]
    },
    {
     "name": "stdout",
     "output_type": "stream",
     "text": [
      "[TransNetV2] Processing video frames 30906/30906\n",
      "[TransNetV2] Extracting frames from ../Data/videos\\L21_V022.mp4\n",
      "[TransNetV2] Processing video frames 29300/29325"
     ]
    },
    {
     "name": "stderr",
     "output_type": "stream",
     "text": [
      " 70%|███████   | 255/363 [7:56:07<3:07:46, 104.32s/it]"
     ]
    },
    {
     "name": "stdout",
     "output_type": "stream",
     "text": [
      "[TransNetV2] Processing video frames 29325/29325\n",
      "[TransNetV2] Extracting frames from ../Data/videos\\L21_V023.mp4\n",
      "[TransNetV2] Processing video frames 35391/35391\n"
     ]
    },
    {
     "name": "stderr",
     "output_type": "stream",
     "text": [
      " 71%|███████   | 256/363 [7:58:08<3:15:15, 109.49s/it]"
     ]
    },
    {
     "name": "stdout",
     "output_type": "stream",
     "text": [
      "[TransNetV2] Extracting frames from ../Data/videos\\L21_V024.mp4\n",
      "[TransNetV2] Processing video frames 30000/30045"
     ]
    },
    {
     "name": "stderr",
     "output_type": "stream",
     "text": [
      " 71%|███████   | 257/363 [7:59:52<3:10:24, 107.78s/it]"
     ]
    },
    {
     "name": "stdout",
     "output_type": "stream",
     "text": [
      "[TransNetV2] Processing video frames 30045/30045\n",
      "[TransNetV2] Extracting frames from ../Data/videos\\L21_V025.mp4\n",
      "[TransNetV2] Processing video frames 29495/29495\n"
     ]
    },
    {
     "name": "stderr",
     "output_type": "stream",
     "text": [
      " 71%|███████   | 258/363 [8:01:34<3:05:38, 106.08s/it]"
     ]
    },
    {
     "name": "stdout",
     "output_type": "stream",
     "text": [
      "[TransNetV2] Extracting frames from ../Data/videos\\L21_V026.mp4\n",
      "[TransNetV2] Processing video frames 34500/34546"
     ]
    },
    {
     "name": "stderr",
     "output_type": "stream",
     "text": [
      " 71%|███████▏  | 259/363 [8:03:33<3:10:27, 109.88s/it]"
     ]
    },
    {
     "name": "stdout",
     "output_type": "stream",
     "text": [
      "[TransNetV2] Processing video frames 34546/34546\n",
      "[TransNetV2] Extracting frames from ../Data/videos\\L21_V027.mp4\n",
      "[TransNetV2] Processing video frames 34800/34804"
     ]
    },
    {
     "name": "stderr",
     "output_type": "stream",
     "text": [
      " 72%|███████▏  | 260/363 [8:05:33<3:13:46, 112.88s/it]"
     ]
    },
    {
     "name": "stdout",
     "output_type": "stream",
     "text": [
      "[TransNetV2] Processing video frames 34804/34804\n",
      "[TransNetV2] Extracting frames from ../Data/videos\\L21_V028.mp4\n",
      "[TransNetV2] Processing video frames 30576/30576\n"
     ]
    },
    {
     "name": "stderr",
     "output_type": "stream",
     "text": [
      " 72%|███████▏  | 261/363 [8:07:19<3:08:29, 110.88s/it]"
     ]
    },
    {
     "name": "stdout",
     "output_type": "stream",
     "text": [
      "[TransNetV2] Extracting frames from ../Data/videos\\L21_V029.mp4\n",
      "[TransNetV2] Processing video frames 34689/34689\n"
     ]
    },
    {
     "name": "stderr",
     "output_type": "stream",
     "text": [
      " 72%|███████▏  | 262/363 [8:09:24<3:13:37, 115.02s/it]"
     ]
    },
    {
     "name": "stdout",
     "output_type": "stream",
     "text": [
      "[TransNetV2] Extracting frames from ../Data/videos\\L21_V030.mp4\n",
      "[TransNetV2] Processing video frames 31800/31801"
     ]
    },
    {
     "name": "stderr",
     "output_type": "stream",
     "text": [
      " 72%|███████▏  | 263/363 [8:11:13<3:08:50, 113.30s/it]"
     ]
    },
    {
     "name": "stdout",
     "output_type": "stream",
     "text": [
      "[TransNetV2] Processing video frames 31801/31801\n",
      "[TransNetV2] Extracting frames from ../Data/videos\\L21_V031.mp4\n",
      "[TransNetV2] Processing video frames 27500/27528"
     ]
    },
    {
     "name": "stderr",
     "output_type": "stream",
     "text": [
      " 73%|███████▎  | 264/363 [8:12:48<2:57:53, 107.82s/it]"
     ]
    },
    {
     "name": "stdout",
     "output_type": "stream",
     "text": [
      "[TransNetV2] Processing video frames 27528/27528\n",
      "[TransNetV2] Extracting frames from ../Data/videos\\L22_V001.mp4\n",
      "[TransNetV2] Processing video frames 34900/34901"
     ]
    },
    {
     "name": "stderr",
     "output_type": "stream",
     "text": [
      " 73%|███████▎  | 265/363 [8:14:48<3:02:03, 111.46s/it]"
     ]
    },
    {
     "name": "stdout",
     "output_type": "stream",
     "text": [
      "[TransNetV2] Processing video frames 34901/34901\n",
      "[TransNetV2] Extracting frames from ../Data/videos\\L22_V002.mp4\n",
      "[TransNetV2] Processing video frames 29681/29681\n"
     ]
    },
    {
     "name": "stderr",
     "output_type": "stream",
     "text": [
      " 73%|███████▎  | 266/363 [8:16:33<2:56:55, 109.44s/it]"
     ]
    },
    {
     "name": "stdout",
     "output_type": "stream",
     "text": [
      "[TransNetV2] Extracting frames from ../Data/videos\\L22_V003.mp4\n",
      "[TransNetV2] Processing video frames 30600/30626"
     ]
    },
    {
     "name": "stderr",
     "output_type": "stream",
     "text": [
      " 74%|███████▎  | 267/363 [8:18:18<2:53:22, 108.36s/it]"
     ]
    },
    {
     "name": "stdout",
     "output_type": "stream",
     "text": [
      "[TransNetV2] Processing video frames 30626/30626\n",
      "[TransNetV2] Extracting frames from ../Data/videos\\L22_V004.mp4\n",
      "[TransNetV2] Processing video frames 39100/39128"
     ]
    },
    {
     "name": "stderr",
     "output_type": "stream",
     "text": [
      " 74%|███████▍  | 268/363 [8:20:33<3:04:06, 116.27s/it]"
     ]
    },
    {
     "name": "stdout",
     "output_type": "stream",
     "text": [
      "[TransNetV2] Processing video frames 39128/39128\n",
      "[TransNetV2] Extracting frames from ../Data/videos\\L22_V005.mp4\n",
      "[TransNetV2] Processing video frames 31200/31218"
     ]
    },
    {
     "name": "stderr",
     "output_type": "stream",
     "text": [
      " 74%|███████▍  | 269/363 [8:22:20<2:57:51, 113.53s/it]"
     ]
    },
    {
     "name": "stdout",
     "output_type": "stream",
     "text": [
      "[TransNetV2] Processing video frames 31218/31218\n",
      "[TransNetV2] Extracting frames from ../Data/videos\\L22_V006.mp4\n",
      "[TransNetV2] Processing video frames 38600/38606"
     ]
    },
    {
     "name": "stderr",
     "output_type": "stream",
     "text": [
      " 74%|███████▍  | 270/363 [8:24:33<3:05:02, 119.38s/it]"
     ]
    },
    {
     "name": "stdout",
     "output_type": "stream",
     "text": [
      "[TransNetV2] Processing video frames 38606/38606\n",
      "[TransNetV2] Extracting frames from ../Data/videos\\L22_V007.mp4\n",
      "[TransNetV2] Processing video frames 30000/30032"
     ]
    },
    {
     "name": "stderr",
     "output_type": "stream",
     "text": [
      " 75%|███████▍  | 271/363 [8:26:17<2:55:54, 114.72s/it]"
     ]
    },
    {
     "name": "stdout",
     "output_type": "stream",
     "text": [
      "[TransNetV2] Processing video frames 30032/30032\n",
      "[TransNetV2] Extracting frames from ../Data/videos\\L22_V008.mp4\n",
      "[TransNetV2] Processing video frames 27393/27393\n"
     ]
    },
    {
     "name": "stderr",
     "output_type": "stream",
     "text": [
      " 75%|███████▍  | 272/363 [8:27:52<2:44:54, 108.73s/it]"
     ]
    },
    {
     "name": "stdout",
     "output_type": "stream",
     "text": [
      "[TransNetV2] Extracting frames from ../Data/videos\\L22_V009.mp4\n",
      "[TransNetV2] Processing video frames 26900/26927"
     ]
    },
    {
     "name": "stderr",
     "output_type": "stream",
     "text": [
      " 75%|███████▌  | 273/363 [8:29:25<2:35:49, 103.89s/it]"
     ]
    },
    {
     "name": "stdout",
     "output_type": "stream",
     "text": [
      "[TransNetV2] Processing video frames 26927/26927\n",
      "[TransNetV2] Extracting frames from ../Data/videos\\L22_V010.mp4\n",
      "[TransNetV2] Processing video frames 27276/27276\n"
     ]
    },
    {
     "name": "stderr",
     "output_type": "stream",
     "text": [
      " 75%|███████▌  | 274/363 [8:30:59<2:29:54, 101.06s/it]"
     ]
    },
    {
     "name": "stdout",
     "output_type": "stream",
     "text": [
      "[TransNetV2] Extracting frames from ../Data/videos\\L22_V011.mp4\n",
      "[TransNetV2] Processing video frames 32881/32881\n"
     ]
    },
    {
     "name": "stderr",
     "output_type": "stream",
     "text": [
      " 76%|███████▌  | 275/363 [8:32:52<2:33:32, 104.69s/it]"
     ]
    },
    {
     "name": "stdout",
     "output_type": "stream",
     "text": [
      "[TransNetV2] Extracting frames from ../Data/videos\\L22_V012.mp4\n",
      "[TransNetV2] Processing video frames 36100/36143"
     ]
    },
    {
     "name": "stderr",
     "output_type": "stream",
     "text": [
      " 76%|███████▌  | 276/363 [8:34:56<2:40:16, 110.54s/it]"
     ]
    },
    {
     "name": "stdout",
     "output_type": "stream",
     "text": [
      "[TransNetV2] Processing video frames 36143/36143\n",
      "[TransNetV2] Extracting frames from ../Data/videos\\L22_V013.mp4\n",
      "[TransNetV2] Processing video frames 38000/38015"
     ]
    },
    {
     "name": "stderr",
     "output_type": "stream",
     "text": [
      " 76%|███████▋  | 277/363 [8:37:07<2:47:08, 116.61s/it]"
     ]
    },
    {
     "name": "stdout",
     "output_type": "stream",
     "text": [
      "[TransNetV2] Processing video frames 38015/38015\n",
      "[TransNetV2] Extracting frames from ../Data/videos\\L22_V014.mp4\n",
      "[TransNetV2] Processing video frames 34157/34157\n"
     ]
    },
    {
     "name": "stderr",
     "output_type": "stream",
     "text": [
      " 77%|███████▋  | 278/363 [8:39:05<2:45:38, 116.93s/it]"
     ]
    },
    {
     "name": "stdout",
     "output_type": "stream",
     "text": [
      "[TransNetV2] Extracting frames from ../Data/videos\\L22_V015.mp4\n",
      "[TransNetV2] Processing video frames 39200/39244"
     ]
    },
    {
     "name": "stderr",
     "output_type": "stream",
     "text": [
      " 77%|███████▋  | 279/363 [8:41:20<2:51:15, 122.32s/it]"
     ]
    },
    {
     "name": "stdout",
     "output_type": "stream",
     "text": [
      "[TransNetV2] Processing video frames 39244/39244\n",
      "[TransNetV2] Extracting frames from ../Data/videos\\L22_V016.mp4\n",
      "[TransNetV2] Processing video frames 35900/35920"
     ]
    },
    {
     "name": "stderr",
     "output_type": "stream",
     "text": [
      " 77%|███████▋  | 280/363 [8:43:24<2:49:58, 122.87s/it]"
     ]
    },
    {
     "name": "stdout",
     "output_type": "stream",
     "text": [
      "[TransNetV2] Processing video frames 35920/35920\n",
      "[TransNetV2] Extracting frames from ../Data/videos\\L22_V017.mp4\n",
      "[TransNetV2] Processing video frames 27579/27579\n"
     ]
    },
    {
     "name": "stderr",
     "output_type": "stream",
     "text": [
      " 77%|███████▋  | 281/363 [8:44:59<2:36:35, 114.58s/it]"
     ]
    },
    {
     "name": "stdout",
     "output_type": "stream",
     "text": [
      "[TransNetV2] Extracting frames from ../Data/videos\\L22_V018.mp4\n",
      "[TransNetV2] Processing video frames 41300/41309"
     ]
    },
    {
     "name": "stderr",
     "output_type": "stream",
     "text": [
      " 78%|███████▊  | 282/363 [8:47:22<2:45:57, 122.93s/it]"
     ]
    },
    {
     "name": "stdout",
     "output_type": "stream",
     "text": [
      "[TransNetV2] Processing video frames 41309/41309\n",
      "[TransNetV2] Extracting frames from ../Data/videos\\L22_V019.mp4\n",
      "[TransNetV2] Processing video frames 31000/31019"
     ]
    },
    {
     "name": "stderr",
     "output_type": "stream",
     "text": [
      " 78%|███████▊  | 283/363 [8:49:08<2:37:15, 117.95s/it]"
     ]
    },
    {
     "name": "stdout",
     "output_type": "stream",
     "text": [
      "[TransNetV2] Processing video frames 31019/31019\n",
      "[TransNetV2] Extracting frames from ../Data/videos\\L22_V020.mp4\n",
      "[TransNetV2] Processing video frames 38981/38981\n"
     ]
    },
    {
     "name": "stderr",
     "output_type": "stream",
     "text": [
      " 78%|███████▊  | 284/363 [8:51:22<2:41:41, 122.81s/it]"
     ]
    },
    {
     "name": "stdout",
     "output_type": "stream",
     "text": [
      "[TransNetV2] Extracting frames from ../Data/videos\\L22_V021.mp4\n",
      "[TransNetV2] Processing video frames 38100/38124"
     ]
    },
    {
     "name": "stderr",
     "output_type": "stream",
     "text": [
      " 79%|███████▊  | 285/363 [8:53:33<2:42:52, 125.29s/it]"
     ]
    },
    {
     "name": "stdout",
     "output_type": "stream",
     "text": [
      "[TransNetV2] Processing video frames 38124/38124\n",
      "[TransNetV2] Extracting frames from ../Data/videos\\L22_V022.mp4\n",
      "[TransNetV2] Processing video frames 34100/34149"
     ]
    },
    {
     "name": "stderr",
     "output_type": "stream",
     "text": [
      " 79%|███████▉  | 286/363 [8:55:30<2:37:44, 122.92s/it]"
     ]
    },
    {
     "name": "stdout",
     "output_type": "stream",
     "text": [
      "[TransNetV2] Processing video frames 34149/34149\n",
      "[TransNetV2] Extracting frames from ../Data/videos\\L22_V023.mp4\n",
      "[TransNetV2] Processing video frames 31066/31066\n"
     ]
    },
    {
     "name": "stderr",
     "output_type": "stream",
     "text": [
      " 79%|███████▉  | 287/363 [8:57:18<2:29:44, 118.21s/it]"
     ]
    },
    {
     "name": "stdout",
     "output_type": "stream",
     "text": [
      "[TransNetV2] Extracting frames from ../Data/videos\\L22_V024.mp4\n",
      "[TransNetV2] Processing video frames 31700/31705"
     ]
    },
    {
     "name": "stderr",
     "output_type": "stream",
     "text": [
      " 79%|███████▉  | 288/363 [8:59:07<2:24:34, 115.66s/it]"
     ]
    },
    {
     "name": "stdout",
     "output_type": "stream",
     "text": [
      "[TransNetV2] Processing video frames 31705/31705\n",
      "[TransNetV2] Extracting frames from ../Data/videos\\L22_V025.mp4\n",
      "[TransNetV2] Processing video frames 33875/33875\n"
     ]
    },
    {
     "name": "stderr",
     "output_type": "stream",
     "text": [
      " 80%|███████▉  | 289/363 [9:01:04<2:22:59, 115.93s/it]"
     ]
    },
    {
     "name": "stdout",
     "output_type": "stream",
     "text": [
      "[TransNetV2] Extracting frames from ../Data/videos\\L22_V026.mp4\n",
      "[TransNetV2] Processing video frames 34064/34064\n"
     ]
    },
    {
     "name": "stderr",
     "output_type": "stream",
     "text": [
      " 80%|███████▉  | 290/363 [9:03:01<2:21:33, 116.35s/it]"
     ]
    },
    {
     "name": "stdout",
     "output_type": "stream",
     "text": [
      "[TransNetV2] Extracting frames from ../Data/videos\\L22_V027.mp4\n",
      "[TransNetV2] Processing video frames 33200/33200\n"
     ]
    },
    {
     "name": "stderr",
     "output_type": "stream",
     "text": [
      " 80%|████████  | 291/363 [9:04:55<2:18:44, 115.62s/it]"
     ]
    },
    {
     "name": "stdout",
     "output_type": "stream",
     "text": [
      "[TransNetV2] Extracting frames from ../Data/videos\\L22_V028.mp4\n",
      "[TransNetV2] Processing video frames 33400/33445"
     ]
    },
    {
     "name": "stderr",
     "output_type": "stream",
     "text": [
      " 80%|████████  | 292/363 [9:06:50<2:16:35, 115.44s/it]"
     ]
    },
    {
     "name": "stdout",
     "output_type": "stream",
     "text": [
      "[TransNetV2] Processing video frames 33445/33445\n",
      "[TransNetV2] Extracting frames from ../Data/videos\\L22_V029.mp4\n",
      "[TransNetV2] Processing video frames 31679/31679\n"
     ]
    },
    {
     "name": "stderr",
     "output_type": "stream",
     "text": [
      " 81%|████████  | 293/363 [9:08:39<2:12:23, 113.48s/it]"
     ]
    },
    {
     "name": "stdout",
     "output_type": "stream",
     "text": [
      "[TransNetV2] Extracting frames from ../Data/videos\\L22_V030.mp4\n",
      "[TransNetV2] Processing video frames 27900/27945"
     ]
    },
    {
     "name": "stderr",
     "output_type": "stream",
     "text": [
      " 81%|████████  | 294/363 [9:10:16<2:04:39, 108.40s/it]"
     ]
    },
    {
     "name": "stdout",
     "output_type": "stream",
     "text": [
      "[TransNetV2] Processing video frames 27945/27945\n",
      "[TransNetV2] Extracting frames from ../Data/videos\\L22_V031.mp4\n",
      "[TransNetV2] Processing video frames 29754/29754\n"
     ]
    },
    {
     "name": "stderr",
     "output_type": "stream",
     "text": [
      " 81%|████████▏ | 295/363 [9:11:59<2:00:58, 106.75s/it]"
     ]
    },
    {
     "name": "stdout",
     "output_type": "stream",
     "text": [
      "[TransNetV2] Extracting frames from ../Data/videos\\L23_V001.mp4\n",
      "[TransNetV2] Processing video frames 4300/4399"
     ]
    },
    {
     "name": "stderr",
     "output_type": "stream",
     "text": [
      " 82%|████████▏ | 296/363 [9:12:14<1:28:40, 79.41s/it] "
     ]
    },
    {
     "name": "stdout",
     "output_type": "stream",
     "text": [
      "[TransNetV2] Processing video frames 4399/4399\n",
      "[TransNetV2] Extracting frames from ../Data/videos\\L23_V002.mp4\n",
      "[TransNetV2] Processing video frames 10887/10887\n"
     ]
    },
    {
     "name": "stderr",
     "output_type": "stream",
     "text": [
      " 82%|████████▏ | 297/363 [9:12:52<1:13:37, 66.94s/it]"
     ]
    },
    {
     "name": "stdout",
     "output_type": "stream",
     "text": [
      "[TransNetV2] Extracting frames from ../Data/videos\\L23_V003.mp4\n",
      "[TransNetV2] Processing video frames 7700/7758"
     ]
    },
    {
     "name": "stderr",
     "output_type": "stream",
     "text": [
      " 82%|████████▏ | 298/363 [9:13:19<59:38, 55.06s/it]  "
     ]
    },
    {
     "name": "stdout",
     "output_type": "stream",
     "text": [
      "[TransNetV2] Processing video frames 7758/7758\n",
      "[TransNetV2] Extracting frames from ../Data/videos\\L23_V004.mp4\n",
      "[TransNetV2] Processing video frames 9900/9931"
     ]
    },
    {
     "name": "stderr",
     "output_type": "stream",
     "text": [
      " 82%|████████▏ | 299/363 [9:13:55<52:23, 49.12s/it]"
     ]
    },
    {
     "name": "stdout",
     "output_type": "stream",
     "text": [
      "[TransNetV2] Processing video frames 9931/9931\n",
      "[TransNetV2] Extracting frames from ../Data/videos\\L23_V005.mp4\n",
      "[TransNetV2] Processing video frames 6000/6067"
     ]
    },
    {
     "name": "stderr",
     "output_type": "stream",
     "text": [
      " 83%|████████▎ | 300/363 [9:14:16<42:56, 40.89s/it]"
     ]
    },
    {
     "name": "stdout",
     "output_type": "stream",
     "text": [
      "[TransNetV2] Processing video frames 6067/6067\n",
      "[TransNetV2] Extracting frames from ../Data/videos\\L23_V006.mp4\n",
      "[TransNetV2] Processing video frames 8900/8926"
     ]
    },
    {
     "name": "stderr",
     "output_type": "stream",
     "text": [
      " 83%|████████▎ | 301/363 [9:14:48<39:26, 38.16s/it]"
     ]
    },
    {
     "name": "stdout",
     "output_type": "stream",
     "text": [
      "[TransNetV2] Processing video frames 8926/8926\n",
      "[TransNetV2] Extracting frames from ../Data/videos\\L23_V007.mp4\n",
      "[TransNetV2] Processing video frames 9800/9869"
     ]
    },
    {
     "name": "stderr",
     "output_type": "stream",
     "text": [
      " 83%|████████▎ | 302/363 [9:15:23<37:41, 37.07s/it]"
     ]
    },
    {
     "name": "stdout",
     "output_type": "stream",
     "text": [
      "[TransNetV2] Processing video frames 9869/9869\n",
      "[TransNetV2] Extracting frames from ../Data/videos\\L23_V008.mp4\n",
      "[TransNetV2] Processing video frames 6166/6166\n"
     ]
    },
    {
     "name": "stderr",
     "output_type": "stream",
     "text": [
      " 83%|████████▎ | 303/363 [9:15:45<32:33, 32.55s/it]"
     ]
    },
    {
     "name": "stdout",
     "output_type": "stream",
     "text": [
      "[TransNetV2] Extracting frames from ../Data/videos\\L23_V009.mp4\n",
      "[TransNetV2] Processing video frames 7800/7846"
     ]
    },
    {
     "name": "stderr",
     "output_type": "stream",
     "text": [
      " 84%|████████▎ | 304/363 [9:16:12<30:32, 31.06s/it]"
     ]
    },
    {
     "name": "stdout",
     "output_type": "stream",
     "text": [
      "[TransNetV2] Processing video frames 7846/7846\n",
      "[TransNetV2] Extracting frames from ../Data/videos\\L23_V010.mp4\n",
      "[TransNetV2] Processing video frames 7800/7800\n"
     ]
    },
    {
     "name": "stderr",
     "output_type": "stream",
     "text": [
      " 84%|████████▍ | 305/363 [9:16:40<29:02, 30.04s/it]"
     ]
    },
    {
     "name": "stdout",
     "output_type": "stream",
     "text": [
      "[TransNetV2] Extracting frames from ../Data/videos\\L23_V011.mp4\n",
      "[TransNetV2] Processing video frames 10100/10123"
     ]
    },
    {
     "name": "stderr",
     "output_type": "stream",
     "text": [
      " 84%|████████▍ | 306/363 [9:17:16<30:14, 31.84s/it]"
     ]
    },
    {
     "name": "stdout",
     "output_type": "stream",
     "text": [
      "[TransNetV2] Processing video frames 10123/10123\n",
      "[TransNetV2] Extracting frames from ../Data/videos\\L23_V012.mp4\n",
      "[TransNetV2] Processing video frames 10400/10425"
     ]
    },
    {
     "name": "stderr",
     "output_type": "stream",
     "text": [
      " 85%|████████▍ | 307/363 [9:17:52<31:02, 33.25s/it]"
     ]
    },
    {
     "name": "stdout",
     "output_type": "stream",
     "text": [
      "[TransNetV2] Processing video frames 10425/10425\n",
      "[TransNetV2] Extracting frames from ../Data/videos\\L23_V013.mp4\n",
      "[TransNetV2] Processing video frames 9286/9286\n"
     ]
    },
    {
     "name": "stderr",
     "output_type": "stream",
     "text": [
      " 85%|████████▍ | 308/363 [9:18:25<30:17, 33.05s/it]"
     ]
    },
    {
     "name": "stdout",
     "output_type": "stream",
     "text": [
      "[TransNetV2] Extracting frames from ../Data/videos\\L23_V014.mp4\n",
      "[TransNetV2] Processing video frames 8000/8003"
     ]
    },
    {
     "name": "stderr",
     "output_type": "stream",
     "text": [
      " 85%|████████▌ | 309/363 [9:18:54<28:32, 31.72s/it]"
     ]
    },
    {
     "name": "stdout",
     "output_type": "stream",
     "text": [
      "[TransNetV2] Processing video frames 8003/8003\n",
      "[TransNetV2] Extracting frames from ../Data/videos\\L23_V015.mp4\n",
      "[TransNetV2] Processing video frames 9254/9254\n"
     ]
    },
    {
     "name": "stderr",
     "output_type": "stream",
     "text": [
      " 85%|████████▌ | 310/363 [9:19:26<28:12, 31.94s/it]"
     ]
    },
    {
     "name": "stdout",
     "output_type": "stream",
     "text": [
      "[TransNetV2] Extracting frames from ../Data/videos\\L23_V016.mp4\n",
      "[TransNetV2] Processing video frames 8400/8409"
     ]
    },
    {
     "name": "stderr",
     "output_type": "stream",
     "text": [
      " 86%|████████▌ | 311/363 [9:19:56<27:04, 31.25s/it]"
     ]
    },
    {
     "name": "stdout",
     "output_type": "stream",
     "text": [
      "[TransNetV2] Processing video frames 8409/8409\n",
      "[TransNetV2] Extracting frames from ../Data/videos\\L23_V017.mp4\n",
      "[TransNetV2] Processing video frames 7900/7947"
     ]
    },
    {
     "name": "stderr",
     "output_type": "stream",
     "text": [
      " 86%|████████▌ | 312/363 [9:20:24<25:42, 30.24s/it]"
     ]
    },
    {
     "name": "stdout",
     "output_type": "stream",
     "text": [
      "[TransNetV2] Processing video frames 7947/7947\n",
      "[TransNetV2] Extracting frames from ../Data/videos\\L23_V018.mp4\n",
      "[TransNetV2] Processing video frames 12698/12698\n"
     ]
    },
    {
     "name": "stderr",
     "output_type": "stream",
     "text": [
      " 86%|████████▌ | 313/363 [9:21:08<28:45, 34.50s/it]"
     ]
    },
    {
     "name": "stdout",
     "output_type": "stream",
     "text": [
      "[TransNetV2] Extracting frames from ../Data/videos\\L23_V019.mp4\n",
      "[TransNetV2] Processing video frames 13500/13531"
     ]
    },
    {
     "name": "stderr",
     "output_type": "stream",
     "text": [
      " 87%|████████▋ | 314/363 [9:21:55<31:18, 38.34s/it]"
     ]
    },
    {
     "name": "stdout",
     "output_type": "stream",
     "text": [
      "[TransNetV2] Processing video frames 13531/13531\n",
      "[TransNetV2] Extracting frames from ../Data/videos\\L23_V020.mp4\n",
      "[TransNetV2] Processing video frames 9600/9631"
     ]
    },
    {
     "name": "stderr",
     "output_type": "stream",
     "text": [
      " 87%|████████▋ | 315/363 [9:22:29<29:34, 36.96s/it]"
     ]
    },
    {
     "name": "stdout",
     "output_type": "stream",
     "text": [
      "[TransNetV2] Processing video frames 9631/9631\n",
      "[TransNetV2] Extracting frames from ../Data/videos\\L23_V021.mp4\n",
      "[TransNetV2] Processing video frames 13595/13595\n"
     ]
    },
    {
     "name": "stderr",
     "output_type": "stream",
     "text": [
      " 87%|████████▋ | 316/363 [9:23:17<31:28, 40.18s/it]"
     ]
    },
    {
     "name": "stdout",
     "output_type": "stream",
     "text": [
      "[TransNetV2] Extracting frames from ../Data/videos\\L23_V022.mp4\n",
      "[TransNetV2] Processing video frames 9100/9118"
     ]
    },
    {
     "name": "stderr",
     "output_type": "stream",
     "text": [
      " 87%|████████▋ | 317/363 [9:23:49<28:56, 37.74s/it]"
     ]
    },
    {
     "name": "stdout",
     "output_type": "stream",
     "text": [
      "[TransNetV2] Processing video frames 9118/9118\n",
      "[TransNetV2] Extracting frames from ../Data/videos\\L23_V023.mp4\n",
      "[TransNetV2] Processing video frames 9800/9884"
     ]
    },
    {
     "name": "stderr",
     "output_type": "stream",
     "text": [
      " 88%|████████▊ | 318/363 [9:24:23<27:36, 36.81s/it]"
     ]
    },
    {
     "name": "stdout",
     "output_type": "stream",
     "text": [
      "[TransNetV2] Processing video frames 9884/9884\n",
      "[TransNetV2] Extracting frames from ../Data/videos\\L23_V024.mp4\n",
      "[TransNetV2] Processing video frames 9988/9988\n"
     ]
    },
    {
     "name": "stderr",
     "output_type": "stream",
     "text": [
      " 88%|████████▊ | 319/363 [9:24:59<26:43, 36.44s/it]"
     ]
    },
    {
     "name": "stdout",
     "output_type": "stream",
     "text": [
      "[TransNetV2] Extracting frames from ../Data/videos\\L23_V025.mp4\n",
      "[TransNetV2] Processing video frames 21500/21504"
     ]
    },
    {
     "name": "stderr",
     "output_type": "stream",
     "text": [
      " 88%|████████▊ | 320/363 [9:26:15<34:42, 48.43s/it]"
     ]
    },
    {
     "name": "stdout",
     "output_type": "stream",
     "text": [
      "[TransNetV2] Processing video frames 21504/21504\n",
      "[TransNetV2] Extracting frames from ../Data/videos\\L24_V002.mp4\n",
      "[TransNetV2] Processing video frames 17573/17573\n"
     ]
    },
    {
     "name": "stderr",
     "output_type": "stream",
     "text": [
      " 88%|████████▊ | 321/363 [9:27:18<36:51, 52.65s/it]"
     ]
    },
    {
     "name": "stdout",
     "output_type": "stream",
     "text": [
      "[TransNetV2] Extracting frames from ../Data/videos\\L24_V003.mp4\n",
      "[TransNetV2] Processing video frames 19078/19078\n"
     ]
    },
    {
     "name": "stderr",
     "output_type": "stream",
     "text": [
      " 89%|████████▊ | 322/363 [9:28:26<39:02, 57.14s/it]"
     ]
    },
    {
     "name": "stdout",
     "output_type": "stream",
     "text": [
      "[TransNetV2] Extracting frames from ../Data/videos\\L24_V004.mp4\n",
      "[TransNetV2] Processing video frames 23400/23406"
     ]
    },
    {
     "name": "stderr",
     "output_type": "stream",
     "text": [
      " 89%|████████▉ | 323/363 [9:29:49<43:18, 64.97s/it]"
     ]
    },
    {
     "name": "stdout",
     "output_type": "stream",
     "text": [
      "[TransNetV2] Processing video frames 23406/23406\n",
      "[TransNetV2] Extracting frames from ../Data/videos\\L24_V005.mp4\n",
      "[TransNetV2] Processing video frames 15600/15629"
     ]
    },
    {
     "name": "stderr",
     "output_type": "stream",
     "text": [
      " 89%|████████▉ | 324/363 [9:30:45<40:29, 62.29s/it]"
     ]
    },
    {
     "name": "stdout",
     "output_type": "stream",
     "text": [
      "[TransNetV2] Processing video frames 15629/15629\n",
      "[TransNetV2] Extracting frames from ../Data/videos\\L24_V006.mp4\n",
      "[TransNetV2] Processing video frames 14200/14218"
     ]
    },
    {
     "name": "stderr",
     "output_type": "stream",
     "text": [
      " 90%|████████▉ | 325/363 [9:31:36<37:18, 58.90s/it]"
     ]
    },
    {
     "name": "stdout",
     "output_type": "stream",
     "text": [
      "[TransNetV2] Processing video frames 14218/14218\n",
      "[TransNetV2] Extracting frames from ../Data/videos\\L24_V007.mp4\n",
      "[TransNetV2] Processing video frames 14260/14260\n"
     ]
    },
    {
     "name": "stderr",
     "output_type": "stream",
     "text": [
      " 90%|████████▉ | 326/363 [9:32:27<34:54, 56.61s/it]"
     ]
    },
    {
     "name": "stdout",
     "output_type": "stream",
     "text": [
      "[TransNetV2] Extracting frames from ../Data/videos\\L24_V008.mp4\n",
      "[TransNetV2] Processing video frames 14051/14051\n"
     ]
    },
    {
     "name": "stderr",
     "output_type": "stream",
     "text": [
      " 90%|█████████ | 327/363 [9:33:18<32:54, 54.84s/it]"
     ]
    },
    {
     "name": "stdout",
     "output_type": "stream",
     "text": [
      "[TransNetV2] Extracting frames from ../Data/videos\\L24_V009.mp4\n",
      "[TransNetV2] Processing video frames 12900/12935"
     ]
    },
    {
     "name": "stderr",
     "output_type": "stream",
     "text": [
      " 90%|█████████ | 328/363 [9:34:04<30:32, 52.36s/it]"
     ]
    },
    {
     "name": "stdout",
     "output_type": "stream",
     "text": [
      "[TransNetV2] Processing video frames 12935/12935\n",
      "[TransNetV2] Extracting frames from ../Data/videos\\L24_V010.mp4\n",
      "[TransNetV2] Processing video frames 11700/11717"
     ]
    },
    {
     "name": "stderr",
     "output_type": "stream",
     "text": [
      " 91%|█████████ | 329/363 [9:34:47<27:55, 49.29s/it]"
     ]
    },
    {
     "name": "stdout",
     "output_type": "stream",
     "text": [
      "[TransNetV2] Processing video frames 11717/11717\n",
      "[TransNetV2] Extracting frames from ../Data/videos\\L24_V011.mp4\n",
      "[TransNetV2] Processing video frames 16200/16236"
     ]
    },
    {
     "name": "stderr",
     "output_type": "stream",
     "text": [
      " 91%|█████████ | 330/363 [9:35:45<28:37, 52.05s/it]"
     ]
    },
    {
     "name": "stdout",
     "output_type": "stream",
     "text": [
      "[TransNetV2] Processing video frames 16236/16236\n",
      "[TransNetV2] Extracting frames from ../Data/videos\\L24_V012.mp4\n",
      "[TransNetV2] Processing video frames 2400/2429"
     ]
    },
    {
     "name": "stderr",
     "output_type": "stream",
     "text": [
      " 91%|█████████ | 331/363 [9:35:54<20:51, 39.10s/it]"
     ]
    },
    {
     "name": "stdout",
     "output_type": "stream",
     "text": [
      "[TransNetV2] Processing video frames 2429/2429\n",
      "[TransNetV2] Extracting frames from ../Data/videos\\L24_V013.mp4\n",
      "[TransNetV2] Processing video frames 13053/13053\n"
     ]
    },
    {
     "name": "stderr",
     "output_type": "stream",
     "text": [
      " 91%|█████████▏| 332/363 [9:36:41<21:24, 41.44s/it]"
     ]
    },
    {
     "name": "stdout",
     "output_type": "stream",
     "text": [
      "[TransNetV2] Extracting frames from ../Data/videos\\L24_V014.mp4\n",
      "[TransNetV2] Processing video frames 13100/13141"
     ]
    },
    {
     "name": "stderr",
     "output_type": "stream",
     "text": [
      " 92%|█████████▏| 333/363 [9:37:28<21:34, 43.16s/it]"
     ]
    },
    {
     "name": "stdout",
     "output_type": "stream",
     "text": [
      "[TransNetV2] Processing video frames 13141/13141\n",
      "[TransNetV2] Extracting frames from ../Data/videos\\L24_V015.mp4\n",
      "[TransNetV2] Processing video frames 14900/14927"
     ]
    },
    {
     "name": "stderr",
     "output_type": "stream",
     "text": [
      " 92%|█████████▏| 334/363 [9:38:21<22:18, 46.17s/it]"
     ]
    },
    {
     "name": "stdout",
     "output_type": "stream",
     "text": [
      "[TransNetV2] Processing video frames 14927/14927\n",
      "[TransNetV2] Extracting frames from ../Data/videos\\L24_V016.mp4\n",
      "[TransNetV2] Processing video frames 14086/14086\n"
     ]
    },
    {
     "name": "stderr",
     "output_type": "stream",
     "text": [
      " 92%|█████████▏| 335/363 [9:39:11<22:05, 47.35s/it]"
     ]
    },
    {
     "name": "stdout",
     "output_type": "stream",
     "text": [
      "[TransNetV2] Extracting frames from ../Data/videos\\L24_V017.mp4\n",
      "[TransNetV2] Processing video frames 3400/3441"
     ]
    },
    {
     "name": "stderr",
     "output_type": "stream",
     "text": [
      " 93%|█████████▎| 336/363 [9:39:23<16:33, 36.80s/it]"
     ]
    },
    {
     "name": "stdout",
     "output_type": "stream",
     "text": [
      "[TransNetV2] Processing video frames 3441/3441\n",
      "[TransNetV2] Extracting frames from ../Data/videos\\L24_V018.mp4\n",
      "[TransNetV2] Processing video frames 16492/16492\n"
     ]
    },
    {
     "name": "stderr",
     "output_type": "stream",
     "text": [
      " 93%|█████████▎| 337/363 [9:40:22<18:47, 43.36s/it]"
     ]
    },
    {
     "name": "stdout",
     "output_type": "stream",
     "text": [
      "[TransNetV2] Extracting frames from ../Data/videos\\L24_V019.mp4\n",
      "[TransNetV2] Processing video frames 15600/15610"
     ]
    },
    {
     "name": "stderr",
     "output_type": "stream",
     "text": [
      " 93%|█████████▎| 338/363 [9:41:18<19:34, 47.00s/it]"
     ]
    },
    {
     "name": "stdout",
     "output_type": "stream",
     "text": [
      "[TransNetV2] Processing video frames 15610/15610\n",
      "[TransNetV2] Extracting frames from ../Data/videos\\L24_V020.mp4\n",
      "[TransNetV2] Processing video frames 14900/14916"
     ]
    },
    {
     "name": "stderr",
     "output_type": "stream",
     "text": [
      " 93%|█████████▎| 339/363 [9:42:11<19:31, 48.81s/it]"
     ]
    },
    {
     "name": "stdout",
     "output_type": "stream",
     "text": [
      "[TransNetV2] Processing video frames 14916/14916\n",
      "[TransNetV2] Extracting frames from ../Data/videos\\L24_V021.mp4\n",
      "[TransNetV2] Processing video frames 17000/17013"
     ]
    },
    {
     "name": "stderr",
     "output_type": "stream",
     "text": [
      " 94%|█████████▎| 340/363 [9:43:11<20:03, 52.31s/it]"
     ]
    },
    {
     "name": "stdout",
     "output_type": "stream",
     "text": [
      "[TransNetV2] Processing video frames 17013/17013\n",
      "[TransNetV2] Extracting frames from ../Data/videos\\L24_V022.mp4\n",
      "[TransNetV2] Processing video frames 17700/17717"
     ]
    },
    {
     "name": "stderr",
     "output_type": "stream",
     "text": [
      " 94%|█████████▍| 341/363 [9:44:14<20:21, 55.53s/it]"
     ]
    },
    {
     "name": "stdout",
     "output_type": "stream",
     "text": [
      "[TransNetV2] Processing video frames 17717/17717\n",
      "[TransNetV2] Extracting frames from ../Data/videos\\L24_V023.mp4\n",
      "[TransNetV2] Processing video frames 18100/18137"
     ]
    },
    {
     "name": "stderr",
     "output_type": "stream",
     "text": [
      " 94%|█████████▍| 342/363 [9:45:19<20:21, 58.18s/it]"
     ]
    },
    {
     "name": "stdout",
     "output_type": "stream",
     "text": [
      "[TransNetV2] Processing video frames 18137/18137\n",
      "[TransNetV2] Extracting frames from ../Data/videos\\L24_V024.mp4\n",
      "[TransNetV2] Processing video frames 16900/16922"
     ]
    },
    {
     "name": "stderr",
     "output_type": "stream",
     "text": [
      " 94%|█████████▍| 343/363 [9:46:19<19:36, 58.82s/it]"
     ]
    },
    {
     "name": "stdout",
     "output_type": "stream",
     "text": [
      "[TransNetV2] Processing video frames 16922/16922\n",
      "[TransNetV2] Extracting frames from ../Data/videos\\L24_V025.mp4\n",
      "[TransNetV2] Processing video frames 16872/16872\n"
     ]
    },
    {
     "name": "stderr",
     "output_type": "stream",
     "text": [
      " 95%|█████████▍| 344/363 [9:47:19<18:44, 59.17s/it]"
     ]
    },
    {
     "name": "stdout",
     "output_type": "stream",
     "text": [
      "[TransNetV2] Extracting frames from ../Data/videos\\L24_V026.mp4\n",
      "[TransNetV2] Processing video frames 14200/14245"
     ]
    },
    {
     "name": "stderr",
     "output_type": "stream",
     "text": [
      " 95%|█████████▌| 345/363 [9:48:10<17:01, 56.78s/it]"
     ]
    },
    {
     "name": "stdout",
     "output_type": "stream",
     "text": [
      "[TransNetV2] Processing video frames 14245/14245\n",
      "[TransNetV2] Extracting frames from ../Data/videos\\L24_V027.mp4\n",
      "[TransNetV2] Processing video frames 17056/17056\n"
     ]
    },
    {
     "name": "stderr",
     "output_type": "stream",
     "text": [
      " 95%|█████████▌| 346/363 [9:49:10<16:21, 57.71s/it]"
     ]
    },
    {
     "name": "stdout",
     "output_type": "stream",
     "text": [
      "[TransNetV2] Extracting frames from ../Data/videos\\L24_V028.mp4\n",
      "[TransNetV2] Processing video frames 17072/17072\n"
     ]
    },
    {
     "name": "stderr",
     "output_type": "stream",
     "text": [
      " 96%|█████████▌| 347/363 [9:50:10<15:35, 58.47s/it]"
     ]
    },
    {
     "name": "stdout",
     "output_type": "stream",
     "text": [
      "[TransNetV2] Extracting frames from ../Data/videos\\L24_V029.mp4\n",
      "[TransNetV2] Processing video frames 16600/16633"
     ]
    },
    {
     "name": "stderr",
     "output_type": "stream",
     "text": [
      " 96%|█████████▌| 348/363 [9:51:08<14:36, 58.40s/it]"
     ]
    },
    {
     "name": "stdout",
     "output_type": "stream",
     "text": [
      "[TransNetV2] Processing video frames 16633/16633\n",
      "[TransNetV2] Extracting frames from ../Data/videos\\L24_V030.mp4\n",
      "[TransNetV2] Processing video frames 19352/19352\n"
     ]
    },
    {
     "name": "stderr",
     "output_type": "stream",
     "text": [
      " 96%|█████████▌| 349/363 [9:52:16<14:18, 61.30s/it]"
     ]
    },
    {
     "name": "stdout",
     "output_type": "stream",
     "text": [
      "[TransNetV2] Extracting frames from ../Data/videos\\L24_V031.mp4\n",
      "[TransNetV2] Processing video frames 17069/17069\n"
     ]
    },
    {
     "name": "stderr",
     "output_type": "stream",
     "text": [
      " 96%|█████████▋| 350/363 [9:53:16<13:11, 60.90s/it]"
     ]
    },
    {
     "name": "stdout",
     "output_type": "stream",
     "text": [
      "[TransNetV2] Extracting frames from ../Data/videos\\L24_V032.mp4\n",
      "[TransNetV2] Processing video frames 17895/17895\n"
     ]
    },
    {
     "name": "stderr",
     "output_type": "stream",
     "text": [
      " 97%|█████████▋| 351/363 [9:54:20<12:20, 61.73s/it]"
     ]
    },
    {
     "name": "stdout",
     "output_type": "stream",
     "text": [
      "[TransNetV2] Extracting frames from ../Data/videos\\L24_V033.mp4\n",
      "[TransNetV2] Processing video frames 17596/17596\n"
     ]
    },
    {
     "name": "stderr",
     "output_type": "stream",
     "text": [
      " 97%|█████████▋| 352/363 [9:55:22<11:19, 61.76s/it]"
     ]
    },
    {
     "name": "stdout",
     "output_type": "stream",
     "text": [
      "[TransNetV2] Extracting frames from ../Data/videos\\L24_V035.mp4\n",
      "[TransNetV2] Processing video frames 19851/19851\n"
     ]
    },
    {
     "name": "stderr",
     "output_type": "stream",
     "text": [
      " 97%|█████████▋| 353/363 [9:56:32<10:41, 64.19s/it]"
     ]
    },
    {
     "name": "stdout",
     "output_type": "stream",
     "text": [
      "[TransNetV2] Extracting frames from ../Data/videos\\L24_V036.mp4\n",
      "[TransNetV2] Processing video frames 8800/8811"
     ]
    },
    {
     "name": "stderr",
     "output_type": "stream",
     "text": [
      " 98%|█████████▊| 354/363 [9:57:03<08:08, 54.29s/it]"
     ]
    },
    {
     "name": "stdout",
     "output_type": "stream",
     "text": [
      "[TransNetV2] Processing video frames 8811/8811\n",
      "[TransNetV2] Extracting frames from ../Data/videos\\L24_V037.mp4\n",
      "[TransNetV2] Processing video frames 19164/19164\n"
     ]
    },
    {
     "name": "stderr",
     "output_type": "stream",
     "text": [
      " 98%|█████████▊| 355/363 [9:58:11<07:46, 58.34s/it]"
     ]
    },
    {
     "name": "stdout",
     "output_type": "stream",
     "text": [
      "[TransNetV2] Extracting frames from ../Data/videos\\L24_V038.mp4\n",
      "[TransNetV2] Processing video frames 15200/15240"
     ]
    },
    {
     "name": "stderr",
     "output_type": "stream",
     "text": [
      " 98%|█████████▊| 356/363 [9:59:05<06:38, 56.99s/it]"
     ]
    },
    {
     "name": "stdout",
     "output_type": "stream",
     "text": [
      "[TransNetV2] Processing video frames 15240/15240\n",
      "[TransNetV2] Extracting frames from ../Data/videos\\L24_V039.mp4\n",
      "[TransNetV2] Processing video frames 15600/15600\n"
     ]
    },
    {
     "name": "stderr",
     "output_type": "stream",
     "text": [
      " 98%|█████████▊| 357/363 [9:59:59<05:37, 56.32s/it]"
     ]
    },
    {
     "name": "stdout",
     "output_type": "stream",
     "text": [
      "[TransNetV2] Extracting frames from ../Data/videos\\L24_V040.mp4\n",
      "[TransNetV2] Processing video frames 1100/1132"
     ]
    },
    {
     "name": "stderr",
     "output_type": "stream",
     "text": [
      " 99%|█████████▊| 358/363 [10:00:04<03:23, 40.68s/it]"
     ]
    },
    {
     "name": "stdout",
     "output_type": "stream",
     "text": [
      "[TransNetV2] Processing video frames 1132/1132\n",
      "[TransNetV2] Extracting frames from ../Data/videos\\L24_V041.mp4\n",
      "[TransNetV2] Processing video frames 1000/1073"
     ]
    },
    {
     "name": "stderr",
     "output_type": "stream",
     "text": [
      " 99%|█████████▉| 359/363 [10:00:08<01:58, 29.68s/it]"
     ]
    },
    {
     "name": "stdout",
     "output_type": "stream",
     "text": [
      "[TransNetV2] Processing video frames 1073/1073\n",
      "[TransNetV2] Extracting frames from ../Data/videos\\L24_V042.mp4\n",
      "[TransNetV2] Processing video frames 16690/16690\n"
     ]
    },
    {
     "name": "stderr",
     "output_type": "stream",
     "text": [
      " 99%|█████████▉| 360/363 [10:01:07<01:55, 38.53s/it]"
     ]
    },
    {
     "name": "stdout",
     "output_type": "stream",
     "text": [
      "[TransNetV2] Extracting frames from ../Data/videos\\L24_V043.mp4\n",
      "[TransNetV2] Processing video frames 17200/17201"
     ]
    },
    {
     "name": "stderr",
     "output_type": "stream",
     "text": [
      " 99%|█████████▉| 361/363 [10:02:09<01:31, 45.59s/it]"
     ]
    },
    {
     "name": "stdout",
     "output_type": "stream",
     "text": [
      "[TransNetV2] Processing video frames 17201/17201\n",
      "[TransNetV2] Extracting frames from ../Data/videos\\L24_V044.mp4\n",
      "[TransNetV2] Processing video frames 900/933"
     ]
    },
    {
     "name": "stderr",
     "output_type": "stream",
     "text": [
      "100%|█████████▉| 362/363 [10:02:12<00:32, 32.97s/it]"
     ]
    },
    {
     "name": "stdout",
     "output_type": "stream",
     "text": [
      "[TransNetV2] Processing video frames 933/933\n",
      "[TransNetV2] Extracting frames from ../Data/videos\\L24_V045.mp4\n",
      "[TransNetV2] Processing video frames 900/975"
     ]
    },
    {
     "name": "stderr",
     "output_type": "stream",
     "text": [
      "100%|██████████| 363/363 [10:02:16<00:00, 99.55s/it]"
     ]
    },
    {
     "name": "stdout",
     "output_type": "stream",
     "text": [
      "[TransNetV2] Processing video frames 975/975\n"
     ]
    },
    {
     "name": "stderr",
     "output_type": "stream",
     "text": [
      "\n"
     ]
    }
   ],
   "source": [
    "for video_filename in tqdm(video_files_to_process):\n",
    "    if video_filename.endswith(\".mp4\"):\n",
    "        video_path = os.path.join(video_dir, video_filename)\n",
    "\n",
    "        _, single_frame_predictions, _ = model.predict_video(video_path)\n",
    "\n",
    "        scenes = model.predictions_to_scenes(single_frame_predictions)\n",
    "\n",
    "        scenes_filename = video_filename.replace(\".mp4\", \".json\")\n",
    "        scenes_path = os.path.join(scenes_dir, scenes_filename)\n",
    "\n",
    "        with open(scenes_path, 'w') as json_file:\n",
    "            json.dump(scenes.tolist(), json_file)\n",
    "    \n"
   ]
  }
 ],
 "metadata": {
  "kernelspec": {
   "display_name": ".venv",
   "language": "python",
   "name": "python3"
  },
  "language_info": {
   "codemirror_mode": {
    "name": "ipython",
    "version": 3
   },
   "file_extension": ".py",
   "mimetype": "text/x-python",
   "name": "python",
   "nbconvert_exporter": "python",
   "pygments_lexer": "ipython3",
   "version": "3.12.3"
  }
 },
 "nbformat": 4,
 "nbformat_minor": 2
}
