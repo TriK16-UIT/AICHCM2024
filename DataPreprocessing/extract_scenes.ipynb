{
 "cells": [
  {
   "cell_type": "code",
   "execution_count": 1,
   "metadata": {},
   "outputs": [],
   "source": [
    "import os\n",
    "import glob\n",
    "from tqdm import tqdm\n",
    "import numpy as np\n",
    "import sys\n",
    "import json"
   ]
  },
  {
   "cell_type": "code",
   "execution_count": 6,
   "metadata": {},
   "outputs": [
    {
     "name": "stdout",
     "output_type": "stream",
     "text": [
      "e:\\AICHCM2024\\DataPreprocessing\\TransNetV2\\inference\n"
     ]
    },
    {
     "name": "stderr",
     "output_type": "stream",
     "text": [
      "Cloning into 'TransNetV2'...\n",
      "Filtering content:  66% (2/3)\n",
      "Filtering content: 100% (3/3), 5.66 MiB | 61.00 KiB/s\n",
      "Filtering content: 100% (3/3), 34.77 MiB | 122.00 KiB/s, done.\n",
      "e:\\AICHCM2024\\.venv\\Lib\\site-packages\\IPython\\core\\magics\\osm.py:417: UserWarning: This is now an optional IPython functionality, setting dhist requires you to install the `pickleshare` library.\n",
      "  self.shell.db['dhist'] = compress_dhist(dhist)[-100:]\n"
     ]
    }
   ],
   "source": [
    "# !git clone https://github.com/soCzech/TransNetV2.git"
   ]
  },
  {
   "cell_type": "code",
   "execution_count": 2,
   "metadata": {},
   "outputs": [],
   "source": [
    "from TransNetV2.inference.transnetv2 import TransNetV2"
   ]
  },
  {
   "cell_type": "code",
   "execution_count": 3,
   "metadata": {},
   "outputs": [],
   "source": [
    "sys.path.append('..')"
   ]
  },
  {
   "cell_type": "code",
   "execution_count": 4,
   "metadata": {},
   "outputs": [],
   "source": [
    "from config import SCENES_PATH, VIDEOS_PATH"
   ]
  },
  {
   "cell_type": "code",
   "execution_count": 5,
   "metadata": {},
   "outputs": [
    {
     "name": "stdout",
     "output_type": "stream",
     "text": [
      "[TransNetV2] Using weights from e:\\AICHCM2024\\DataPreprocessing\\TransNetV2\\inference\\transnetv2-weights/.\n"
     ]
    }
   ],
   "source": [
    "scenes_dir = \"../\" + SCENES_PATH\n",
    "video_dir = \"../\" + VIDEOS_PATH\n",
    "\n",
    "model =  TransNetV2()"
   ]
  },
  {
   "cell_type": "code",
   "execution_count": 6,
   "metadata": {},
   "outputs": [
    {
     "name": "stderr",
     "output_type": "stream",
     "text": [
      "  0%|          | 0/363 [00:00<?, ?it/s]"
     ]
    },
    {
     "name": "stdout",
     "output_type": "stream",
     "text": [
      "[TransNetV2] Extracting frames from ../Data/videos\\L01_V001.mp4\n",
      "[TransNetV2] Processing video frames 31650/31665"
     ]
    },
    {
     "name": "stderr",
     "output_type": "stream",
     "text": [
      "  0%|          | 1/363 [01:52<11:20:22, 112.77s/it]"
     ]
    },
    {
     "name": "stdout",
     "output_type": "stream",
     "text": [
      "[TransNetV2] Processing video frames 31665/31665\n",
      "[TransNetV2] Extracting frames from ../Data/videos\\L01_V002.mp4\n",
      "[TransNetV2] Processing video frames 24300/24337"
     ]
    },
    {
     "name": "stderr",
     "output_type": "stream",
     "text": [
      "  1%|          | 2/363 [03:18<9:42:52, 96.88s/it]  "
     ]
    },
    {
     "name": "stdout",
     "output_type": "stream",
     "text": [
      "[TransNetV2] Processing video frames 24337/24337\n",
      "[TransNetV2] Extracting frames from ../Data/videos\\L01_V003.mp4\n",
      "[TransNetV2] Processing video frames 30668/30668\n"
     ]
    },
    {
     "name": "stderr",
     "output_type": "stream",
     "text": [
      "  1%|          | 3/363 [05:08<10:17:50, 102.97s/it]"
     ]
    },
    {
     "name": "stdout",
     "output_type": "stream",
     "text": [
      "[TransNetV2] Extracting frames from ../Data/videos\\L01_V004.mp4\n",
      "[TransNetV2] Processing video frames 23000/23027"
     ]
    },
    {
     "name": "stderr",
     "output_type": "stream",
     "text": [
      "  1%|          | 4/363 [06:28<9:20:17, 93.64s/it]  "
     ]
    },
    {
     "name": "stdout",
     "output_type": "stream",
     "text": [
      "[TransNetV2] Processing video frames 23027/23027\n",
      "[TransNetV2] Extracting frames from ../Data/videos\\L01_V005.mp4\n",
      "[TransNetV2] Processing video frames 29000/29024"
     ]
    },
    {
     "name": "stderr",
     "output_type": "stream",
     "text": [
      "  1%|▏         | 5/363 [08:09<9:34:38, 96.31s/it]"
     ]
    },
    {
     "name": "stdout",
     "output_type": "stream",
     "text": [
      "[TransNetV2] Processing video frames 29024/29024\n",
      "[TransNetV2] Extracting frames from ../Data/videos\\L01_V006.mp4\n",
      "[TransNetV2] Processing video frames 24900/24946"
     ]
    },
    {
     "name": "stderr",
     "output_type": "stream",
     "text": [
      "  2%|▏         | 6/363 [09:35<9:11:57, 92.77s/it]"
     ]
    },
    {
     "name": "stdout",
     "output_type": "stream",
     "text": [
      "[TransNetV2] Processing video frames 24946/24946\n",
      "[TransNetV2] Extracting frames from ../Data/videos\\L01_V007.mp4\n",
      "[TransNetV2] Processing video frames 25678/25678\n"
     ]
    },
    {
     "name": "stderr",
     "output_type": "stream",
     "text": [
      "  2%|▏         | 7/363 [11:03<9:02:07, 91.37s/it]"
     ]
    },
    {
     "name": "stdout",
     "output_type": "stream",
     "text": [
      "[TransNetV2] Extracting frames from ../Data/videos\\L01_V008.mp4\n",
      "[TransNetV2] Processing video frames 29600/29647"
     ]
    },
    {
     "name": "stderr",
     "output_type": "stream",
     "text": [
      "  2%|▏         | 8/363 [12:47<9:23:28, 95.24s/it]"
     ]
    },
    {
     "name": "stdout",
     "output_type": "stream",
     "text": [
      "[TransNetV2] Processing video frames 29647/29647\n",
      "[TransNetV2] Extracting frames from ../Data/videos\\L01_V009.mp4\n",
      "[TransNetV2] Processing video frames 29173/29173\n"
     ]
    },
    {
     "name": "stderr",
     "output_type": "stream",
     "text": [
      "  2%|▏         | 9/363 [14:28<9:33:21, 97.18s/it]"
     ]
    },
    {
     "name": "stdout",
     "output_type": "stream",
     "text": [
      "[TransNetV2] Extracting frames from ../Data/videos\\L01_V010.mp4\n",
      "[TransNetV2] Processing video frames 25567/25567\n"
     ]
    },
    {
     "name": "stderr",
     "output_type": "stream",
     "text": [
      "  3%|▎         | 10/363 [15:56<9:15:28, 94.42s/it]"
     ]
    },
    {
     "name": "stdout",
     "output_type": "stream",
     "text": [
      "[TransNetV2] Extracting frames from ../Data/videos\\L01_V011.mp4\n",
      "[TransNetV2] Processing video frames 28800/28843"
     ]
    },
    {
     "name": "stderr",
     "output_type": "stream",
     "text": [
      "  3%|▎         | 11/363 [17:36<9:23:52, 96.11s/it]"
     ]
    },
    {
     "name": "stdout",
     "output_type": "stream",
     "text": [
      "[TransNetV2] Processing video frames 28843/28843\n",
      "[TransNetV2] Extracting frames from ../Data/videos\\L01_V012.mp4\n",
      "[TransNetV2] Processing video frames 29300/29315"
     ]
    },
    {
     "name": "stderr",
     "output_type": "stream",
     "text": [
      "  3%|▎         | 12/363 [19:18<9:32:49, 97.92s/it]"
     ]
    },
    {
     "name": "stdout",
     "output_type": "stream",
     "text": [
      "[TransNetV2] Processing video frames 29315/29315\n",
      "[TransNetV2] Extracting frames from ../Data/videos\\L01_V013.mp4\n",
      "[TransNetV2] Processing video frames 30000/30043"
     ]
    },
    {
     "name": "stderr",
     "output_type": "stream",
     "text": [
      "  4%|▎         | 13/363 [21:03<9:42:31, 99.86s/it]"
     ]
    },
    {
     "name": "stdout",
     "output_type": "stream",
     "text": [
      "[TransNetV2] Processing video frames 30043/30043\n",
      "[TransNetV2] Extracting frames from ../Data/videos\\L01_V014.mp4\n",
      "[TransNetV2] Processing video frames 24800/24820"
     ]
    },
    {
     "name": "stderr",
     "output_type": "stream",
     "text": [
      "  4%|▍         | 14/363 [22:29<9:17:29, 95.84s/it]"
     ]
    },
    {
     "name": "stdout",
     "output_type": "stream",
     "text": [
      "[TransNetV2] Processing video frames 24820/24820\n",
      "[TransNetV2] Extracting frames from ../Data/videos\\L01_V015.mp4\n",
      "[TransNetV2] Processing video frames 28551/28551\n"
     ]
    },
    {
     "name": "stderr",
     "output_type": "stream",
     "text": [
      "  4%|▍         | 15/363 [24:08<9:22:00, 96.90s/it]"
     ]
    },
    {
     "name": "stdout",
     "output_type": "stream",
     "text": [
      "[TransNetV2] Extracting frames from ../Data/videos\\L01_V016.mp4\n",
      "[TransNetV2] Processing video frames 23000/23002"
     ]
    },
    {
     "name": "stderr",
     "output_type": "stream",
     "text": [
      "  4%|▍         | 16/363 [25:28<8:50:11, 91.68s/it]"
     ]
    },
    {
     "name": "stdout",
     "output_type": "stream",
     "text": [
      "[TransNetV2] Processing video frames 23002/23002\n",
      "[TransNetV2] Extracting frames from ../Data/videos\\L01_V017.mp4\n",
      "[TransNetV2] Processing video frames 30400/30437"
     ]
    },
    {
     "name": "stderr",
     "output_type": "stream",
     "text": [
      "  5%|▍         | 17/363 [27:14<9:13:30, 95.98s/it]"
     ]
    },
    {
     "name": "stdout",
     "output_type": "stream",
     "text": [
      "[TransNetV2] Processing video frames 30437/30437\n",
      "[TransNetV2] Extracting frames from ../Data/videos\\L01_V018.mp4\n",
      "[TransNetV2] Processing video frames 28676/28676\n"
     ]
    },
    {
     "name": "stderr",
     "output_type": "stream",
     "text": [
      "  5%|▍         | 18/363 [28:54<9:18:27, 97.12s/it]"
     ]
    },
    {
     "name": "stdout",
     "output_type": "stream",
     "text": [
      "[TransNetV2] Extracting frames from ../Data/videos\\L01_V019.mp4\n",
      "[TransNetV2] Processing video frames 27355/27355\n"
     ]
    },
    {
     "name": "stderr",
     "output_type": "stream",
     "text": [
      "  5%|▌         | 19/363 [30:29<9:13:28, 96.54s/it]"
     ]
    },
    {
     "name": "stdout",
     "output_type": "stream",
     "text": [
      "[TransNetV2] Extracting frames from ../Data/videos\\L01_V020.mp4\n",
      "[TransNetV2] Processing video frames 31489/31489\n"
     ]
    },
    {
     "name": "stderr",
     "output_type": "stream",
     "text": [
      "  6%|▌         | 20/363 [32:19<9:34:37, 100.52s/it]"
     ]
    },
    {
     "name": "stdout",
     "output_type": "stream",
     "text": [
      "[TransNetV2] Extracting frames from ../Data/videos\\L01_V021.mp4\n",
      "[TransNetV2] Processing video frames 26587/26587\n"
     ]
    },
    {
     "name": "stderr",
     "output_type": "stream",
     "text": [
      "  6%|▌         | 21/363 [33:50<9:17:52, 97.87s/it] "
     ]
    },
    {
     "name": "stdout",
     "output_type": "stream",
     "text": [
      "[TransNetV2] Extracting frames from ../Data/videos\\L01_V022.mp4\n",
      "[TransNetV2] Processing video frames 33266/33266\n"
     ]
    },
    {
     "name": "stderr",
     "output_type": "stream",
     "text": [
      "  6%|▌         | 22/363 [35:46<9:46:35, 103.21s/it]"
     ]
    },
    {
     "name": "stdout",
     "output_type": "stream",
     "text": [
      "[TransNetV2] Extracting frames from ../Data/videos\\L01_V023.mp4\n",
      "[TransNetV2] Processing video frames 28881/28881\n"
     ]
    },
    {
     "name": "stderr",
     "output_type": "stream",
     "text": [
      "  6%|▋         | 23/363 [37:27<9:40:20, 102.41s/it]"
     ]
    },
    {
     "name": "stdout",
     "output_type": "stream",
     "text": [
      "[TransNetV2] Extracting frames from ../Data/videos\\L01_V024.mp4\n",
      "[TransNetV2] Processing video frames 30300/30342"
     ]
    },
    {
     "name": "stderr",
     "output_type": "stream",
     "text": [
      "  7%|▋         | 24/363 [39:12<9:43:59, 103.36s/it]"
     ]
    },
    {
     "name": "stdout",
     "output_type": "stream",
     "text": [
      "[TransNetV2] Processing video frames 30342/30342\n",
      "[TransNetV2] Extracting frames from ../Data/videos\\L01_V025.mp4\n",
      "[TransNetV2] Processing video frames 24200/24216"
     ]
    },
    {
     "name": "stderr",
     "output_type": "stream",
     "text": [
      "  7%|▋         | 25/363 [40:36<9:09:07, 97.48s/it] "
     ]
    },
    {
     "name": "stdout",
     "output_type": "stream",
     "text": [
      "[TransNetV2] Processing video frames 24216/24216\n",
      "[TransNetV2] Extracting frames from ../Data/videos\\L01_V026.mp4\n",
      "[TransNetV2] Processing video frames 27566/27566\n"
     ]
    },
    {
     "name": "stderr",
     "output_type": "stream",
     "text": [
      "  7%|▋         | 26/363 [42:12<9:04:51, 97.01s/it]"
     ]
    },
    {
     "name": "stdout",
     "output_type": "stream",
     "text": [
      "[TransNetV2] Extracting frames from ../Data/videos\\L01_V027.mp4\n",
      "[TransNetV2] Processing video frames 28695/28695\n"
     ]
    },
    {
     "name": "stderr",
     "output_type": "stream",
     "text": [
      "  7%|▋         | 27/363 [43:52<9:07:40, 97.80s/it]"
     ]
    },
    {
     "name": "stdout",
     "output_type": "stream",
     "text": [
      "[TransNetV2] Extracting frames from ../Data/videos\\L01_V028.mp4\n",
      "[TransNetV2] Processing video frames 29578/29578\n"
     ]
    },
    {
     "name": "stderr",
     "output_type": "stream",
     "text": [
      "  8%|▊         | 28/363 [45:39<9:22:15, 100.70s/it]"
     ]
    },
    {
     "name": "stdout",
     "output_type": "stream",
     "text": [
      "[TransNetV2] Extracting frames from ../Data/videos\\L01_V029.mp4\n",
      "[TransNetV2] Processing video frames 27290/27290\n"
     ]
    },
    {
     "name": "stderr",
     "output_type": "stream",
     "text": [
      "  8%|▊         | 29/363 [47:16<9:13:45, 99.48s/it] "
     ]
    },
    {
     "name": "stdout",
     "output_type": "stream",
     "text": [
      "[TransNetV2] Extracting frames from ../Data/videos\\L01_V030.mp4\n",
      "[TransNetV2] Processing video frames 32100/32115"
     ]
    },
    {
     "name": "stderr",
     "output_type": "stream",
     "text": [
      "  8%|▊         | 30/363 [49:09<9:34:33, 103.52s/it]"
     ]
    },
    {
     "name": "stdout",
     "output_type": "stream",
     "text": [
      "[TransNetV2] Processing video frames 32115/32115\n",
      "[TransNetV2] Extracting frames from ../Data/videos\\L01_V031.mp4\n",
      "[TransNetV2] Processing video frames 34673/34673\n"
     ]
    },
    {
     "name": "stderr",
     "output_type": "stream",
     "text": [
      "  9%|▊         | 31/363 [51:10<10:03:09, 109.01s/it]"
     ]
    },
    {
     "name": "stdout",
     "output_type": "stream",
     "text": [
      "[TransNetV2] Extracting frames from ../Data/videos\\L02_V001.mp4\n",
      "[TransNetV2] Processing video frames 29967/29967\n"
     ]
    },
    {
     "name": "stderr",
     "output_type": "stream",
     "text": [
      "  9%|▉         | 32/363 [52:56<9:55:58, 108.03s/it] "
     ]
    },
    {
     "name": "stdout",
     "output_type": "stream",
     "text": [
      "[TransNetV2] Extracting frames from ../Data/videos\\L02_V002.mp4\n",
      "[TransNetV2] Processing video frames 28300/28338"
     ]
    },
    {
     "name": "stderr",
     "output_type": "stream",
     "text": [
      "  9%|▉         | 33/363 [54:36<9:40:02, 105.46s/it]"
     ]
    },
    {
     "name": "stdout",
     "output_type": "stream",
     "text": [
      "[TransNetV2] Processing video frames 28338/28338\n",
      "[TransNetV2] Extracting frames from ../Data/videos\\L02_V003.mp4\n",
      "[TransNetV2] Processing video frames 28682/28682\n"
     ]
    },
    {
     "name": "stderr",
     "output_type": "stream",
     "text": [
      "  9%|▉         | 34/363 [56:16<9:29:50, 103.92s/it]"
     ]
    },
    {
     "name": "stdout",
     "output_type": "stream",
     "text": [
      "[TransNetV2] Extracting frames from ../Data/videos\\L02_V004.mp4\n",
      "[TransNetV2] Processing video frames 33897/33897\n"
     ]
    },
    {
     "name": "stderr",
     "output_type": "stream",
     "text": [
      " 10%|▉         | 35/363 [58:15<9:52:21, 108.36s/it]"
     ]
    },
    {
     "name": "stdout",
     "output_type": "stream",
     "text": [
      "[TransNetV2] Extracting frames from ../Data/videos\\L02_V005.mp4\n",
      "[TransNetV2] Processing video frames 29157/29157\n"
     ]
    },
    {
     "name": "stderr",
     "output_type": "stream",
     "text": [
      " 10%|▉         | 36/363 [59:57<9:41:17, 106.66s/it]"
     ]
    },
    {
     "name": "stdout",
     "output_type": "stream",
     "text": [
      "[TransNetV2] Extracting frames from ../Data/videos\\L02_V006.mp4\n",
      "[TransNetV2] Processing video frames 25300/25318"
     ]
    },
    {
     "name": "stderr",
     "output_type": "stream",
     "text": [
      " 10%|█         | 37/363 [1:01:25<9:08:59, 101.04s/it]"
     ]
    },
    {
     "name": "stdout",
     "output_type": "stream",
     "text": [
      "[TransNetV2] Processing video frames 25318/25318\n",
      "[TransNetV2] Extracting frames from ../Data/videos\\L02_V007.mp4\n",
      "[TransNetV2] Processing video frames 27600/27637"
     ]
    },
    {
     "name": "stderr",
     "output_type": "stream",
     "text": [
      " 10%|█         | 38/363 [1:03:02<9:01:00, 99.88s/it] "
     ]
    },
    {
     "name": "stdout",
     "output_type": "stream",
     "text": [
      "[TransNetV2] Processing video frames 27637/27637\n",
      "[TransNetV2] Extracting frames from ../Data/videos\\L02_V008.mp4\n",
      "[TransNetV2] Processing video frames 26300/26342"
     ]
    },
    {
     "name": "stderr",
     "output_type": "stream",
     "text": [
      " 11%|█         | 39/363 [1:04:34<8:46:29, 97.50s/it]"
     ]
    },
    {
     "name": "stdout",
     "output_type": "stream",
     "text": [
      "[TransNetV2] Processing video frames 26342/26342\n",
      "[TransNetV2] Extracting frames from ../Data/videos\\L02_V009.mp4\n",
      "[TransNetV2] Processing video frames 27996/27996\n"
     ]
    },
    {
     "name": "stderr",
     "output_type": "stream",
     "text": [
      " 11%|█         | 40/363 [1:06:18<8:54:08, 99.22s/it]"
     ]
    },
    {
     "name": "stdout",
     "output_type": "stream",
     "text": [
      "[TransNetV2] Extracting frames from ../Data/videos\\L02_V010.mp4\n",
      "[TransNetV2] Processing video frames 31593/31593\n"
     ]
    },
    {
     "name": "stderr",
     "output_type": "stream",
     "text": [
      " 11%|█▏        | 41/363 [1:08:10<9:13:50, 103.20s/it]"
     ]
    },
    {
     "name": "stdout",
     "output_type": "stream",
     "text": [
      "[TransNetV2] Extracting frames from ../Data/videos\\L02_V011.mp4\n",
      "[TransNetV2] Processing video frames 29000/29006"
     ]
    },
    {
     "name": "stderr",
     "output_type": "stream",
     "text": [
      " 12%|█▏        | 42/363 [1:09:52<9:09:31, 102.72s/it]"
     ]
    },
    {
     "name": "stdout",
     "output_type": "stream",
     "text": [
      "[TransNetV2] Processing video frames 29006/29006\n",
      "[TransNetV2] Extracting frames from ../Data/videos\\L02_V012.mp4\n",
      "[TransNetV2] Processing video frames 28900/28906"
     ]
    },
    {
     "name": "stderr",
     "output_type": "stream",
     "text": [
      " 12%|█▏        | 43/363 [1:11:33<9:05:06, 102.21s/it]"
     ]
    },
    {
     "name": "stdout",
     "output_type": "stream",
     "text": [
      "[TransNetV2] Processing video frames 28906/28906\n",
      "[TransNetV2] Extracting frames from ../Data/videos\\L02_V013.mp4\n",
      "[TransNetV2] Processing video frames 28700/28713"
     ]
    },
    {
     "name": "stderr",
     "output_type": "stream",
     "text": [
      " 12%|█▏        | 44/363 [1:13:13<9:00:43, 101.70s/it]"
     ]
    },
    {
     "name": "stdout",
     "output_type": "stream",
     "text": [
      "[TransNetV2] Processing video frames 28713/28713\n",
      "[TransNetV2] Extracting frames from ../Data/videos\\L02_V014.mp4\n",
      "[TransNetV2] Processing video frames 29591/29591\n"
     ]
    },
    {
     "name": "stderr",
     "output_type": "stream",
     "text": [
      " 12%|█▏        | 45/363 [1:14:57<9:01:53, 102.24s/it]"
     ]
    },
    {
     "name": "stdout",
     "output_type": "stream",
     "text": [
      "[TransNetV2] Extracting frames from ../Data/videos\\L02_V015.mp4\n",
      "[TransNetV2] Processing video frames 26600/26623"
     ]
    },
    {
     "name": "stderr",
     "output_type": "stream",
     "text": [
      " 13%|█▎        | 46/363 [1:16:30<8:46:18, 99.62s/it] "
     ]
    },
    {
     "name": "stdout",
     "output_type": "stream",
     "text": [
      "[TransNetV2] Processing video frames 26623/26623\n",
      "[TransNetV2] Extracting frames from ../Data/videos\\L02_V016.mp4\n",
      "[TransNetV2] Processing video frames 27082/27082\n"
     ]
    },
    {
     "name": "stderr",
     "output_type": "stream",
     "text": [
      " 13%|█▎        | 47/363 [1:18:06<8:38:26, 98.44s/it]"
     ]
    },
    {
     "name": "stdout",
     "output_type": "stream",
     "text": [
      "[TransNetV2] Extracting frames from ../Data/videos\\L02_V017.mp4\n",
      "[TransNetV2] Processing video frames 29000/29028"
     ]
    },
    {
     "name": "stderr",
     "output_type": "stream",
     "text": [
      " 13%|█▎        | 48/363 [1:19:48<8:42:29, 99.52s/it]"
     ]
    },
    {
     "name": "stdout",
     "output_type": "stream",
     "text": [
      "[TransNetV2] Processing video frames 29028/29028\n",
      "[TransNetV2] Extracting frames from ../Data/videos\\L02_V018.mp4\n",
      "[TransNetV2] Processing video frames 26600/26642"
     ]
    },
    {
     "name": "stderr",
     "output_type": "stream",
     "text": [
      " 13%|█▎        | 49/363 [1:21:21<8:31:06, 97.66s/it]"
     ]
    },
    {
     "name": "stdout",
     "output_type": "stream",
     "text": [
      "[TransNetV2] Processing video frames 26642/26642\n",
      "[TransNetV2] Extracting frames from ../Data/videos\\L02_V019.mp4\n",
      "[TransNetV2] Processing video frames 28573/28573\n"
     ]
    },
    {
     "name": "stderr",
     "output_type": "stream",
     "text": [
      " 14%|█▍        | 50/363 [1:23:01<8:33:15, 98.39s/it]"
     ]
    },
    {
     "name": "stdout",
     "output_type": "stream",
     "text": [
      "[TransNetV2] Extracting frames from ../Data/videos\\L02_V020.mp4\n",
      "[TransNetV2] Processing video frames 22800/22825"
     ]
    },
    {
     "name": "stderr",
     "output_type": "stream",
     "text": [
      " 14%|█▍        | 51/363 [1:24:21<8:01:34, 92.61s/it]"
     ]
    },
    {
     "name": "stdout",
     "output_type": "stream",
     "text": [
      "[TransNetV2] Processing video frames 22825/22825\n",
      "[TransNetV2] Extracting frames from ../Data/videos\\L02_V021.mp4\n",
      "[TransNetV2] Processing video frames 32300/32318"
     ]
    },
    {
     "name": "stderr",
     "output_type": "stream",
     "text": [
      " 14%|█▍        | 52/363 [1:26:14<8:32:01, 98.78s/it]"
     ]
    },
    {
     "name": "stdout",
     "output_type": "stream",
     "text": [
      "[TransNetV2] Processing video frames 32318/32318\n",
      "[TransNetV2] Extracting frames from ../Data/videos\\L02_V022.mp4\n",
      "[TransNetV2] Processing video frames 29866/29866\n"
     ]
    },
    {
     "name": "stderr",
     "output_type": "stream",
     "text": [
      " 15%|█▍        | 53/363 [1:27:59<8:40:06, 100.67s/it]"
     ]
    },
    {
     "name": "stdout",
     "output_type": "stream",
     "text": [
      "[TransNetV2] Extracting frames from ../Data/videos\\L02_V023.mp4\n",
      "[TransNetV2] Processing video frames 30079/30079\n"
     ]
    },
    {
     "name": "stderr",
     "output_type": "stream",
     "text": [
      " 15%|█▍        | 54/363 [1:29:44<8:45:25, 102.03s/it]"
     ]
    },
    {
     "name": "stdout",
     "output_type": "stream",
     "text": [
      "[TransNetV2] Extracting frames from ../Data/videos\\L02_V024.mp4\n",
      "[TransNetV2] Processing video frames 27269/27269\n"
     ]
    },
    {
     "name": "stderr",
     "output_type": "stream",
     "text": [
      " 15%|█▌        | 55/363 [1:31:20<8:33:58, 100.12s/it]"
     ]
    },
    {
     "name": "stdout",
     "output_type": "stream",
     "text": [
      "[TransNetV2] Extracting frames from ../Data/videos\\L02_V025.mp4\n",
      "[TransNetV2] Processing video frames 30291/30291\n"
     ]
    },
    {
     "name": "stderr",
     "output_type": "stream",
     "text": [
      " 15%|█▌        | 56/363 [1:33:06<8:42:14, 102.07s/it]"
     ]
    },
    {
     "name": "stdout",
     "output_type": "stream",
     "text": [
      "[TransNetV2] Extracting frames from ../Data/videos\\L02_V026.mp4\n",
      "[TransNetV2] Processing video frames 33300/33349"
     ]
    },
    {
     "name": "stderr",
     "output_type": "stream",
     "text": [
      " 16%|█▌        | 57/363 [1:35:03<9:03:28, 106.56s/it]"
     ]
    },
    {
     "name": "stdout",
     "output_type": "stream",
     "text": [
      "[TransNetV2] Processing video frames 33349/33349\n",
      "[TransNetV2] Extracting frames from ../Data/videos\\L02_V027.mp4\n",
      "[TransNetV2] Processing video frames 32400/32416"
     ]
    },
    {
     "name": "stderr",
     "output_type": "stream",
     "text": [
      " 16%|█▌        | 58/363 [1:36:57<9:11:56, 108.58s/it]"
     ]
    },
    {
     "name": "stdout",
     "output_type": "stream",
     "text": [
      "[TransNetV2] Processing video frames 32416/32416\n",
      "[TransNetV2] Extracting frames from ../Data/videos\\L02_V028.mp4\n",
      "[TransNetV2] Processing video frames 29200/29217"
     ]
    },
    {
     "name": "stderr",
     "output_type": "stream",
     "text": [
      " 16%|█▋        | 59/363 [1:38:39<9:00:48, 106.74s/it]"
     ]
    },
    {
     "name": "stdout",
     "output_type": "stream",
     "text": [
      "[TransNetV2] Processing video frames 29217/29217\n",
      "[TransNetV2] Extracting frames from ../Data/videos\\L02_V029.mp4\n",
      "[TransNetV2] Processing video frames 32189/32189\n"
     ]
    },
    {
     "name": "stderr",
     "output_type": "stream",
     "text": [
      " 17%|█▋        | 60/363 [1:40:31<9:07:30, 108.42s/it]"
     ]
    },
    {
     "name": "stdout",
     "output_type": "stream",
     "text": [
      "[TransNetV2] Extracting frames from ../Data/videos\\L02_V030.mp4\n",
      "[TransNetV2] Processing video frames 30358/30358\n"
     ]
    },
    {
     "name": "stderr",
     "output_type": "stream",
     "text": [
      " 17%|█▋        | 61/363 [1:42:17<9:01:48, 107.64s/it]"
     ]
    },
    {
     "name": "stdout",
     "output_type": "stream",
     "text": [
      "[TransNetV2] Extracting frames from ../Data/videos\\L02_V031.mp4\n",
      "[TransNetV2] Processing video frames 35900/35915"
     ]
    },
    {
     "name": "stderr",
     "output_type": "stream",
     "text": [
      " 17%|█▋        | 62/363 [1:44:23<9:27:03, 113.03s/it]"
     ]
    },
    {
     "name": "stdout",
     "output_type": "stream",
     "text": [
      "[TransNetV2] Processing video frames 35915/35915\n",
      "[TransNetV2] Extracting frames from ../Data/videos\\L03_V001.mp4\n",
      "[TransNetV2] Processing video frames 28400/28401"
     ]
    },
    {
     "name": "stderr",
     "output_type": "stream",
     "text": [
      " 17%|█▋        | 63/363 [1:46:02<9:04:23, 108.88s/it]"
     ]
    },
    {
     "name": "stdout",
     "output_type": "stream",
     "text": [
      "[TransNetV2] Processing video frames 28401/28401\n",
      "[TransNetV2] Extracting frames from ../Data/videos\\L03_V002.mp4\n",
      "[TransNetV2] Processing video frames 32592/32592\n"
     ]
    },
    {
     "name": "stderr",
     "output_type": "stream",
     "text": [
      " 18%|█▊        | 64/363 [1:47:56<9:09:53, 110.35s/it]"
     ]
    },
    {
     "name": "stdout",
     "output_type": "stream",
     "text": [
      "[TransNetV2] Extracting frames from ../Data/videos\\L03_V003.mp4\n",
      "[TransNetV2] Processing video frames 27100/27150"
     ]
    },
    {
     "name": "stderr",
     "output_type": "stream",
     "text": [
      " 18%|█▊        | 65/363 [1:49:30<8:44:34, 105.62s/it]"
     ]
    },
    {
     "name": "stdout",
     "output_type": "stream",
     "text": [
      "[TransNetV2] Processing video frames 27150/27150\n",
      "[TransNetV2] Extracting frames from ../Data/videos\\L03_V004.mp4\n",
      "[TransNetV2] Processing video frames 27777/27777\n"
     ]
    },
    {
     "name": "stderr",
     "output_type": "stream",
     "text": [
      " 18%|█▊        | 66/363 [1:51:07<8:29:59, 103.03s/it]"
     ]
    },
    {
     "name": "stdout",
     "output_type": "stream",
     "text": [
      "[TransNetV2] Extracting frames from ../Data/videos\\L03_V005.mp4\n",
      "[TransNetV2] Processing video frames 29300/29312"
     ]
    },
    {
     "name": "stderr",
     "output_type": "stream",
     "text": [
      " 18%|█▊        | 67/363 [1:52:50<8:27:18, 102.83s/it]"
     ]
    },
    {
     "name": "stdout",
     "output_type": "stream",
     "text": [
      "[TransNetV2] Processing video frames 29312/29312\n",
      "[TransNetV2] Extracting frames from ../Data/videos\\L03_V006.mp4\n",
      "[TransNetV2] Processing video frames 27589/27589\n"
     ]
    },
    {
     "name": "stderr",
     "output_type": "stream",
     "text": [
      " 19%|█▊        | 68/363 [1:54:26<8:15:59, 100.88s/it]"
     ]
    },
    {
     "name": "stdout",
     "output_type": "stream",
     "text": [
      "[TransNetV2] Extracting frames from ../Data/videos\\L03_V007.mp4\n",
      "[TransNetV2] Processing video frames 25881/25881\n"
     ]
    },
    {
     "name": "stderr",
     "output_type": "stream",
     "text": [
      " 19%|█▉        | 69/363 [1:55:56<7:57:42, 97.49s/it] "
     ]
    },
    {
     "name": "stdout",
     "output_type": "stream",
     "text": [
      "[TransNetV2] Extracting frames from ../Data/videos\\L03_V008.mp4\n",
      "[TransNetV2] Processing video frames 28788/28788\n"
     ]
    },
    {
     "name": "stderr",
     "output_type": "stream",
     "text": [
      " 19%|█▉        | 70/363 [1:57:36<8:00:03, 98.31s/it]"
     ]
    },
    {
     "name": "stdout",
     "output_type": "stream",
     "text": [
      "[TransNetV2] Extracting frames from ../Data/videos\\L03_V009.mp4\n",
      "[TransNetV2] Processing video frames 33500/33549"
     ]
    },
    {
     "name": "stderr",
     "output_type": "stream",
     "text": [
      " 20%|█▉        | 71/363 [1:59:33<8:25:44, 103.92s/it]"
     ]
    },
    {
     "name": "stdout",
     "output_type": "stream",
     "text": [
      "[TransNetV2] Processing video frames 33549/33549\n",
      "[TransNetV2] Extracting frames from ../Data/videos\\L03_V010.mp4\n",
      "[TransNetV2] Processing video frames 31284/31284\n"
     ]
    },
    {
     "name": "stderr",
     "output_type": "stream",
     "text": [
      " 20%|█▉        | 72/363 [2:01:22<8:32:08, 105.60s/it]"
     ]
    },
    {
     "name": "stdout",
     "output_type": "stream",
     "text": [
      "[TransNetV2] Extracting frames from ../Data/videos\\L03_V011.mp4\n",
      "[TransNetV2] Processing video frames 27499/27499\n"
     ]
    },
    {
     "name": "stderr",
     "output_type": "stream",
     "text": [
      " 20%|██        | 73/363 [2:02:59<8:16:39, 102.76s/it]"
     ]
    },
    {
     "name": "stdout",
     "output_type": "stream",
     "text": [
      "[TransNetV2] Extracting frames from ../Data/videos\\L03_V012.mp4\n",
      "[TransNetV2] Processing video frames 25366/25366\n"
     ]
    },
    {
     "name": "stderr",
     "output_type": "stream",
     "text": [
      " 20%|██        | 74/363 [2:04:26<7:53:36, 98.33s/it] "
     ]
    },
    {
     "name": "stdout",
     "output_type": "stream",
     "text": [
      "[TransNetV2] Extracting frames from ../Data/videos\\L03_V013.mp4\n",
      "[TransNetV2] Processing video frames 25356/25356\n"
     ]
    },
    {
     "name": "stderr",
     "output_type": "stream",
     "text": [
      " 21%|██        | 75/363 [2:05:54<7:36:57, 95.20s/it]"
     ]
    },
    {
     "name": "stdout",
     "output_type": "stream",
     "text": [
      "[TransNetV2] Extracting frames from ../Data/videos\\L03_V014.mp4\n",
      "[TransNetV2] Processing video frames 31900/31930"
     ]
    },
    {
     "name": "stderr",
     "output_type": "stream",
     "text": [
      " 21%|██        | 76/363 [2:07:46<7:58:46, 100.09s/it]"
     ]
    },
    {
     "name": "stdout",
     "output_type": "stream",
     "text": [
      "[TransNetV2] Processing video frames 31930/31930\n",
      "[TransNetV2] Extracting frames from ../Data/videos\\L03_V015.mp4\n",
      "[TransNetV2] Processing video frames 30854/30854\n"
     ]
    },
    {
     "name": "stderr",
     "output_type": "stream",
     "text": [
      " 21%|██        | 77/363 [2:09:34<8:08:35, 102.50s/it]"
     ]
    },
    {
     "name": "stdout",
     "output_type": "stream",
     "text": [
      "[TransNetV2] Extracting frames from ../Data/videos\\L03_V016.mp4\n",
      "[TransNetV2] Processing video frames 29665/29665\n"
     ]
    },
    {
     "name": "stderr",
     "output_type": "stream",
     "text": [
      " 21%|██▏       | 78/363 [2:11:18<8:08:39, 102.87s/it]"
     ]
    },
    {
     "name": "stdout",
     "output_type": "stream",
     "text": [
      "[TransNetV2] Extracting frames from ../Data/videos\\L03_V017.mp4\n",
      "[TransNetV2] Processing video frames 26900/26930"
     ]
    },
    {
     "name": "stderr",
     "output_type": "stream",
     "text": [
      " 22%|██▏       | 79/363 [2:12:51<7:52:55, 99.91s/it] "
     ]
    },
    {
     "name": "stdout",
     "output_type": "stream",
     "text": [
      "[TransNetV2] Processing video frames 26930/26930\n",
      "[TransNetV2] Extracting frames from ../Data/videos\\L03_V018.mp4\n",
      "[TransNetV2] Processing video frames 26400/26444"
     ]
    },
    {
     "name": "stderr",
     "output_type": "stream",
     "text": [
      " 22%|██▏       | 80/363 [2:14:22<7:39:18, 97.38s/it]"
     ]
    },
    {
     "name": "stdout",
     "output_type": "stream",
     "text": [
      "[TransNetV2] Processing video frames 26444/26444\n",
      "[TransNetV2] Extracting frames from ../Data/videos\\L03_V019.mp4\n",
      "[TransNetV2] Processing video frames 27485/27485\n"
     ]
    },
    {
     "name": "stderr",
     "output_type": "stream",
     "text": [
      " 22%|██▏       | 81/363 [2:15:58<7:35:31, 96.92s/it]"
     ]
    },
    {
     "name": "stdout",
     "output_type": "stream",
     "text": [
      "[TransNetV2] Extracting frames from ../Data/videos\\L03_V020.mp4\n",
      "[TransNetV2] Processing video frames 28755/28755\n"
     ]
    },
    {
     "name": "stderr",
     "output_type": "stream",
     "text": [
      " 23%|██▎       | 82/363 [2:17:39<7:38:55, 97.99s/it]"
     ]
    },
    {
     "name": "stdout",
     "output_type": "stream",
     "text": [
      "[TransNetV2] Extracting frames from ../Data/videos\\L03_V021.mp4\n",
      "[TransNetV2] Processing video frames 27899/27899\n"
     ]
    },
    {
     "name": "stderr",
     "output_type": "stream",
     "text": [
      " 23%|██▎       | 83/363 [2:19:16<7:36:53, 97.91s/it]"
     ]
    },
    {
     "name": "stdout",
     "output_type": "stream",
     "text": [
      "[TransNetV2] Extracting frames from ../Data/videos\\L03_V022.mp4\n",
      "[TransNetV2] Processing video frames 24871/24871\n"
     ]
    },
    {
     "name": "stderr",
     "output_type": "stream",
     "text": [
      " 23%|██▎       | 84/363 [2:20:44<7:20:23, 94.71s/it]"
     ]
    },
    {
     "name": "stdout",
     "output_type": "stream",
     "text": [
      "[TransNetV2] Extracting frames from ../Data/videos\\L03_V023.mp4\n",
      "[TransNetV2] Processing video frames 30800/30827"
     ]
    },
    {
     "name": "stderr",
     "output_type": "stream",
     "text": [
      " 23%|██▎       | 85/363 [2:22:31<7:36:34, 98.54s/it]"
     ]
    },
    {
     "name": "stdout",
     "output_type": "stream",
     "text": [
      "[TransNetV2] Processing video frames 30827/30827\n",
      "[TransNetV2] Extracting frames from ../Data/videos\\L03_V024.mp4\n",
      "[TransNetV2] Processing video frames 29700/29701"
     ]
    },
    {
     "name": "stderr",
     "output_type": "stream",
     "text": [
      " 24%|██▎       | 86/363 [2:24:15<7:42:14, 100.12s/it]"
     ]
    },
    {
     "name": "stdout",
     "output_type": "stream",
     "text": [
      "[TransNetV2] Processing video frames 29701/29701\n",
      "[TransNetV2] Extracting frames from ../Data/videos\\L03_V025.mp4\n",
      "[TransNetV2] Processing video frames 31800/31840"
     ]
    },
    {
     "name": "stderr",
     "output_type": "stream",
     "text": [
      " 24%|██▍       | 87/363 [2:26:06<7:55:55, 103.46s/it]"
     ]
    },
    {
     "name": "stdout",
     "output_type": "stream",
     "text": [
      "[TransNetV2] Processing video frames 31840/31840\n",
      "[TransNetV2] Extracting frames from ../Data/videos\\L03_V026.mp4\n",
      "[TransNetV2] Processing video frames 25400/25402"
     ]
    },
    {
     "name": "stderr",
     "output_type": "stream",
     "text": [
      " 24%|██▍       | 88/363 [2:27:34<7:32:30, 98.73s/it] "
     ]
    },
    {
     "name": "stdout",
     "output_type": "stream",
     "text": [
      "[TransNetV2] Processing video frames 25402/25402\n",
      "[TransNetV2] Extracting frames from ../Data/videos\\L03_V027.mp4\n",
      "[TransNetV2] Processing video frames 27677/27677\n"
     ]
    },
    {
     "name": "stderr",
     "output_type": "stream",
     "text": [
      " 25%|██▍       | 89/363 [2:29:11<7:28:16, 98.16s/it]"
     ]
    },
    {
     "name": "stdout",
     "output_type": "stream",
     "text": [
      "[TransNetV2] Extracting frames from ../Data/videos\\L03_V028.mp4\n",
      "[TransNetV2] Processing video frames 26581/26581\n"
     ]
    },
    {
     "name": "stderr",
     "output_type": "stream",
     "text": [
      " 25%|██▍       | 90/363 [2:30:43<7:19:15, 96.54s/it]"
     ]
    },
    {
     "name": "stdout",
     "output_type": "stream",
     "text": [
      "[TransNetV2] Extracting frames from ../Data/videos\\L03_V029.mp4\n",
      "[TransNetV2] Processing video frames 28900/28940"
     ]
    },
    {
     "name": "stderr",
     "output_type": "stream",
     "text": [
      " 25%|██▌       | 91/363 [2:32:26<7:25:47, 98.34s/it]"
     ]
    },
    {
     "name": "stdout",
     "output_type": "stream",
     "text": [
      "[TransNetV2] Processing video frames 28940/28940\n",
      "[TransNetV2] Extracting frames from ../Data/videos\\L03_V030.mp4\n",
      "[TransNetV2] Processing video frames 27984/27984\n"
     ]
    },
    {
     "name": "stderr",
     "output_type": "stream",
     "text": [
      " 25%|██▌       | 92/363 [2:34:04<7:24:20, 98.38s/it]"
     ]
    },
    {
     "name": "stdout",
     "output_type": "stream",
     "text": [
      "[TransNetV2] Extracting frames from ../Data/videos\\L04_V001.mp4\n",
      "[TransNetV2] Processing video frames 30550/30581"
     ]
    },
    {
     "name": "stderr",
     "output_type": "stream",
     "text": [
      " 26%|██▌       | 93/363 [2:35:53<7:36:14, 101.39s/it]"
     ]
    },
    {
     "name": "stdout",
     "output_type": "stream",
     "text": [
      "[TransNetV2] Processing video frames 30581/30581\n",
      "[TransNetV2] Extracting frames from ../Data/videos\\L04_V002.mp4\n",
      "[TransNetV2] Processing video frames 32250/32298"
     ]
    },
    {
     "name": "stderr",
     "output_type": "stream",
     "text": [
      " 26%|██▌       | 94/363 [2:37:47<7:51:08, 105.09s/it]"
     ]
    },
    {
     "name": "stdout",
     "output_type": "stream",
     "text": [
      "[TransNetV2] Processing video frames 32298/32298\n",
      "[TransNetV2] Extracting frames from ../Data/videos\\L04_V003.mp4\n",
      "[TransNetV2] Processing video frames 26346/26346\n"
     ]
    },
    {
     "name": "stderr",
     "output_type": "stream",
     "text": [
      " 26%|██▌       | 95/363 [2:39:19<7:33:06, 101.44s/it]"
     ]
    },
    {
     "name": "stdout",
     "output_type": "stream",
     "text": [
      "[TransNetV2] Extracting frames from ../Data/videos\\L04_V004.mp4\n",
      "[TransNetV2] Processing video frames 33450/33458"
     ]
    },
    {
     "name": "stderr",
     "output_type": "stream",
     "text": [
      " 26%|██▋       | 96/363 [2:41:17<7:53:32, 106.41s/it]"
     ]
    },
    {
     "name": "stdout",
     "output_type": "stream",
     "text": [
      "[TransNetV2] Processing video frames 33458/33458\n",
      "[TransNetV2] Extracting frames from ../Data/videos\\L04_V005.mp4\n",
      "[TransNetV2] Processing video frames 32841/32841\n"
     ]
    },
    {
     "name": "stderr",
     "output_type": "stream",
     "text": [
      " 27%|██▋       | 97/363 [2:43:14<8:04:52, 109.37s/it]"
     ]
    },
    {
     "name": "stdout",
     "output_type": "stream",
     "text": [
      "[TransNetV2] Extracting frames from ../Data/videos\\L04_V006.mp4\n",
      "[TransNetV2] Processing video frames 24600/24602"
     ]
    },
    {
     "name": "stderr",
     "output_type": "stream",
     "text": [
      " 27%|██▋       | 98/363 [2:44:40<7:32:07, 102.37s/it]"
     ]
    },
    {
     "name": "stdout",
     "output_type": "stream",
     "text": [
      "[TransNetV2] Processing video frames 24602/24602\n",
      "[TransNetV2] Extracting frames from ../Data/videos\\L04_V007.mp4\n",
      "[TransNetV2] Processing video frames 30095/30095\n"
     ]
    },
    {
     "name": "stderr",
     "output_type": "stream",
     "text": [
      " 27%|██▋       | 99/363 [2:46:26<7:35:03, 103.42s/it]"
     ]
    },
    {
     "name": "stdout",
     "output_type": "stream",
     "text": [
      "[TransNetV2] Extracting frames from ../Data/videos\\L04_V008.mp4\n",
      "[TransNetV2] Processing video frames 27700/27701"
     ]
    },
    {
     "name": "stderr",
     "output_type": "stream",
     "text": [
      " 28%|██▊       | 100/363 [2:48:04<7:26:30, 101.86s/it]"
     ]
    },
    {
     "name": "stdout",
     "output_type": "stream",
     "text": [
      "[TransNetV2] Processing video frames 27701/27701\n",
      "[TransNetV2] Extracting frames from ../Data/videos\\L04_V009.mp4\n",
      "[TransNetV2] Processing video frames 28819/28819\n"
     ]
    },
    {
     "name": "stderr",
     "output_type": "stream",
     "text": [
      " 28%|██▊       | 101/363 [2:49:45<7:24:14, 101.74s/it]"
     ]
    },
    {
     "name": "stdout",
     "output_type": "stream",
     "text": [
      "[TransNetV2] Extracting frames from ../Data/videos\\L04_V010.mp4\n",
      "[TransNetV2] Processing video frames 32250/32281"
     ]
    },
    {
     "name": "stderr",
     "output_type": "stream",
     "text": [
      " 28%|██▊       | 102/363 [2:51:39<7:38:18, 105.36s/it]"
     ]
    },
    {
     "name": "stdout",
     "output_type": "stream",
     "text": [
      "[TransNetV2] Processing video frames 32281/32281\n",
      "[TransNetV2] Extracting frames from ../Data/videos\\L04_V011.mp4\n",
      "[TransNetV2] Processing video frames 27550/27584"
     ]
    },
    {
     "name": "stderr",
     "output_type": "stream",
     "text": [
      " 28%|██▊       | 103/363 [2:53:17<7:26:12, 102.97s/it]"
     ]
    },
    {
     "name": "stdout",
     "output_type": "stream",
     "text": [
      "[TransNetV2] Processing video frames 27584/27584\n",
      "[TransNetV2] Extracting frames from ../Data/videos\\L04_V012.mp4\n",
      "[TransNetV2] Processing video frames 28850/28886"
     ]
    },
    {
     "name": "stderr",
     "output_type": "stream",
     "text": [
      " 29%|██▊       | 104/363 [2:54:59<7:23:43, 102.79s/it]"
     ]
    },
    {
     "name": "stdout",
     "output_type": "stream",
     "text": [
      "[TransNetV2] Processing video frames 28886/28886\n",
      "[TransNetV2] Extracting frames from ../Data/videos\\L04_V013.mp4\n",
      "[TransNetV2] Processing video frames 31850/31854"
     ]
    },
    {
     "name": "stderr",
     "output_type": "stream",
     "text": [
      " 29%|██▉       | 105/363 [2:56:51<7:34:08, 105.61s/it]"
     ]
    },
    {
     "name": "stdout",
     "output_type": "stream",
     "text": [
      "[TransNetV2] Processing video frames 31854/31854\n",
      "[TransNetV2] Extracting frames from ../Data/videos\\L04_V014.mp4\n",
      "[TransNetV2] Processing video frames 32382/32382\n"
     ]
    },
    {
     "name": "stderr",
     "output_type": "stream",
     "text": [
      " 29%|██▉       | 106/363 [2:58:46<7:44:00, 108.33s/it]"
     ]
    },
    {
     "name": "stdout",
     "output_type": "stream",
     "text": [
      "[TransNetV2] Extracting frames from ../Data/videos\\L04_V015.mp4\n",
      "[TransNetV2] Processing video frames 29050/29062"
     ]
    },
    {
     "name": "stderr",
     "output_type": "stream",
     "text": [
      " 29%|██▉       | 107/363 [3:00:28<7:34:47, 106.59s/it]"
     ]
    },
    {
     "name": "stdout",
     "output_type": "stream",
     "text": [
      "[TransNetV2] Processing video frames 29062/29062\n",
      "[TransNetV2] Extracting frames from ../Data/videos\\L04_V016.mp4\n",
      "[TransNetV2] Processing video frames 30802/30802\n"
     ]
    },
    {
     "name": "stderr",
     "output_type": "stream",
     "text": [
      " 30%|██▉       | 108/363 [3:02:17<7:35:59, 107.29s/it]"
     ]
    },
    {
     "name": "stdout",
     "output_type": "stream",
     "text": [
      "[TransNetV2] Extracting frames from ../Data/videos\\L04_V017.mp4\n",
      "[TransNetV2] Processing video frames 24752/24752\n"
     ]
    },
    {
     "name": "stderr",
     "output_type": "stream",
     "text": [
      " 30%|███       | 109/363 [3:03:44<7:08:00, 101.10s/it]"
     ]
    },
    {
     "name": "stdout",
     "output_type": "stream",
     "text": [
      "[TransNetV2] Extracting frames from ../Data/videos\\L04_V018.mp4\n",
      "[TransNetV2] Processing video frames 33250/33282"
     ]
    },
    {
     "name": "stderr",
     "output_type": "stream",
     "text": [
      " 30%|███       | 110/363 [3:05:42<7:27:31, 106.13s/it]"
     ]
    },
    {
     "name": "stdout",
     "output_type": "stream",
     "text": [
      "[TransNetV2] Processing video frames 33282/33282\n",
      "[TransNetV2] Extracting frames from ../Data/videos\\L04_V019.mp4\n",
      "[TransNetV2] Processing video frames 31257/31257\n"
     ]
    },
    {
     "name": "stderr",
     "output_type": "stream",
     "text": [
      " 31%|███       | 111/363 [3:07:32<7:31:07, 107.41s/it]"
     ]
    },
    {
     "name": "stdout",
     "output_type": "stream",
     "text": [
      "[TransNetV2] Extracting frames from ../Data/videos\\L04_V020.mp4\n",
      "[TransNetV2] Processing video frames 29390/29390\n"
     ]
    },
    {
     "name": "stderr",
     "output_type": "stream",
     "text": [
      " 31%|███       | 112/363 [3:09:16<7:24:29, 106.25s/it]"
     ]
    },
    {
     "name": "stdout",
     "output_type": "stream",
     "text": [
      "[TransNetV2] Extracting frames from ../Data/videos\\L04_V021.mp4\n",
      "[TransNetV2] Processing video frames 25788/25788\n"
     ]
    },
    {
     "name": "stderr",
     "output_type": "stream",
     "text": [
      " 31%|███       | 113/363 [3:10:47<7:04:30, 101.88s/it]"
     ]
    },
    {
     "name": "stdout",
     "output_type": "stream",
     "text": [
      "[TransNetV2] Extracting frames from ../Data/videos\\L04_V022.mp4\n",
      "[TransNetV2] Processing video frames 32200/32205"
     ]
    },
    {
     "name": "stderr",
     "output_type": "stream",
     "text": [
      " 31%|███▏      | 114/363 [3:12:41<7:17:57, 105.53s/it]"
     ]
    },
    {
     "name": "stdout",
     "output_type": "stream",
     "text": [
      "[TransNetV2] Processing video frames 32205/32205\n",
      "[TransNetV2] Extracting frames from ../Data/videos\\L04_V023.mp4\n",
      "[TransNetV2] Processing video frames 28380/28380\n"
     ]
    },
    {
     "name": "stderr",
     "output_type": "stream",
     "text": [
      " 32%|███▏      | 115/363 [3:14:22<7:10:17, 104.10s/it]"
     ]
    },
    {
     "name": "stdout",
     "output_type": "stream",
     "text": [
      "[TransNetV2] Extracting frames from ../Data/videos\\L04_V024.mp4\n",
      "[TransNetV2] Processing video frames 32900/32921"
     ]
    },
    {
     "name": "stderr",
     "output_type": "stream",
     "text": [
      " 32%|███▏      | 116/363 [3:16:19<7:24:22, 107.95s/it]"
     ]
    },
    {
     "name": "stdout",
     "output_type": "stream",
     "text": [
      "[TransNetV2] Processing video frames 32921/32921\n",
      "[TransNetV2] Extracting frames from ../Data/videos\\L04_V025.mp4\n",
      "[TransNetV2] Processing video frames 31400/31429"
     ]
    },
    {
     "name": "stderr",
     "output_type": "stream",
     "text": [
      " 32%|███▏      | 117/363 [3:18:11<7:27:12, 109.08s/it]"
     ]
    },
    {
     "name": "stdout",
     "output_type": "stream",
     "text": [
      "[TransNetV2] Processing video frames 31429/31429\n",
      "[TransNetV2] Extracting frames from ../Data/videos\\L04_V026.mp4\n",
      "[TransNetV2] Processing video frames 29100/29113"
     ]
    },
    {
     "name": "stderr",
     "output_type": "stream",
     "text": [
      " 33%|███▎      | 118/363 [3:19:54<7:18:00, 107.27s/it]"
     ]
    },
    {
     "name": "stdout",
     "output_type": "stream",
     "text": [
      "[TransNetV2] Processing video frames 29113/29113\n",
      "[TransNetV2] Extracting frames from ../Data/videos\\L04_V027.mp4\n",
      "[TransNetV2] Processing video frames 26700/26745"
     ]
    },
    {
     "name": "stderr",
     "output_type": "stream",
     "text": [
      " 33%|███▎      | 119/363 [3:21:29<7:00:50, 103.49s/it]"
     ]
    },
    {
     "name": "stdout",
     "output_type": "stream",
     "text": [
      "[TransNetV2] Processing video frames 26745/26745\n",
      "[TransNetV2] Extracting frames from ../Data/videos\\L04_V028.mp4\n",
      "[TransNetV2] Processing video frames 30700/30712"
     ]
    },
    {
     "name": "stderr",
     "output_type": "stream",
     "text": [
      " 33%|███▎      | 120/363 [3:23:17<7:05:01, 104.95s/it]"
     ]
    },
    {
     "name": "stdout",
     "output_type": "stream",
     "text": [
      "[TransNetV2] Processing video frames 30712/30712\n",
      "[TransNetV2] Extracting frames from ../Data/videos\\L04_V029.mp4\n",
      "[TransNetV2] Processing video frames 29635/29635\n"
     ]
    },
    {
     "name": "stderr",
     "output_type": "stream",
     "text": [
      " 33%|███▎      | 121/363 [3:25:02<7:03:13, 104.93s/it]"
     ]
    },
    {
     "name": "stdout",
     "output_type": "stream",
     "text": [
      "[TransNetV2] Extracting frames from ../Data/videos\\L04_V030.mp4\n",
      "[TransNetV2] Processing video frames 29562/29562\n"
     ]
    },
    {
     "name": "stderr",
     "output_type": "stream",
     "text": [
      " 34%|███▎      | 122/363 [3:26:47<7:01:23, 104.91s/it]"
     ]
    },
    {
     "name": "stdout",
     "output_type": "stream",
     "text": [
      "[TransNetV2] Extracting frames from ../Data/videos\\L05_V001.mp4\n",
      "[TransNetV2] Processing video frames 29176/29176\n"
     ]
    },
    {
     "name": "stderr",
     "output_type": "stream",
     "text": [
      " 34%|███▍      | 123/363 [3:28:31<6:59:11, 104.80s/it]"
     ]
    },
    {
     "name": "stdout",
     "output_type": "stream",
     "text": [
      "[TransNetV2] Extracting frames from ../Data/videos\\L05_V002.mp4\n",
      "[TransNetV2] Processing video frames 27300/27308"
     ]
    },
    {
     "name": "stderr",
     "output_type": "stream",
     "text": [
      " 34%|███▍      | 124/363 [3:30:08<6:47:31, 102.31s/it]"
     ]
    },
    {
     "name": "stdout",
     "output_type": "stream",
     "text": [
      "[TransNetV2] Processing video frames 27308/27308\n",
      "[TransNetV2] Extracting frames from ../Data/videos\\L05_V003.mp4\n",
      "[TransNetV2] Processing video frames 29600/29623"
     ]
    },
    {
     "name": "stderr",
     "output_type": "stream",
     "text": [
      " 34%|███▍      | 125/363 [3:31:53<6:49:19, 103.19s/it]"
     ]
    },
    {
     "name": "stdout",
     "output_type": "stream",
     "text": [
      "[TransNetV2] Processing video frames 29623/29623\n",
      "[TransNetV2] Extracting frames from ../Data/videos\\L05_V004.mp4\n",
      "[TransNetV2] Processing video frames 27150/27181"
     ]
    },
    {
     "name": "stderr",
     "output_type": "stream",
     "text": [
      " 35%|███▍      | 126/363 [3:33:30<6:40:38, 101.43s/it]"
     ]
    },
    {
     "name": "stdout",
     "output_type": "stream",
     "text": [
      "[TransNetV2] Processing video frames 27181/27181\n",
      "[TransNetV2] Extracting frames from ../Data/videos\\L05_V005.mp4\n",
      "[TransNetV2] Processing video frames 25900/25942"
     ]
    },
    {
     "name": "stderr",
     "output_type": "stream",
     "text": [
      " 35%|███▍      | 127/363 [3:35:02<6:27:14, 98.45s/it] "
     ]
    },
    {
     "name": "stdout",
     "output_type": "stream",
     "text": [
      "[TransNetV2] Processing video frames 25942/25942\n",
      "[TransNetV2] Extracting frames from ../Data/videos\\L05_V006.mp4\n",
      "[TransNetV2] Processing video frames 33150/33171"
     ]
    },
    {
     "name": "stderr",
     "output_type": "stream",
     "text": [
      " 35%|███▌      | 128/363 [3:37:00<6:49:01, 104.43s/it]"
     ]
    },
    {
     "name": "stdout",
     "output_type": "stream",
     "text": [
      "[TransNetV2] Processing video frames 33171/33171\n",
      "[TransNetV2] Extracting frames from ../Data/videos\\L05_V007.mp4\n",
      "[TransNetV2] Processing video frames 26100/26134"
     ]
    },
    {
     "name": "stderr",
     "output_type": "stream",
     "text": [
      " 36%|███▌      | 129/363 [3:38:33<6:34:16, 101.09s/it]"
     ]
    },
    {
     "name": "stdout",
     "output_type": "stream",
     "text": [
      "[TransNetV2] Processing video frames 26134/26134\n",
      "[TransNetV2] Extracting frames from ../Data/videos\\L05_V008.mp4\n",
      "[TransNetV2] Processing video frames 32094/32094\n"
     ]
    },
    {
     "name": "stderr",
     "output_type": "stream",
     "text": [
      " 36%|███▌      | 130/363 [3:40:28<6:48:42, 105.25s/it]"
     ]
    },
    {
     "name": "stdout",
     "output_type": "stream",
     "text": [
      "[TransNetV2] Extracting frames from ../Data/videos\\L05_V009.mp4\n",
      "[TransNetV2] Processing video frames 27944/27944\n"
     ]
    },
    {
     "name": "stderr",
     "output_type": "stream",
     "text": [
      " 36%|███▌      | 131/363 [3:42:09<6:41:43, 103.89s/it]"
     ]
    },
    {
     "name": "stdout",
     "output_type": "stream",
     "text": [
      "[TransNetV2] Extracting frames from ../Data/videos\\L05_V010.mp4\n",
      "[TransNetV2] Processing video frames 25687/25687\n"
     ]
    },
    {
     "name": "stderr",
     "output_type": "stream",
     "text": [
      " 36%|███▋      | 132/363 [3:43:38<6:22:54, 99.46s/it] "
     ]
    },
    {
     "name": "stdout",
     "output_type": "stream",
     "text": [
      "[TransNetV2] Extracting frames from ../Data/videos\\L05_V011.mp4\n",
      "[TransNetV2] Processing video frames 27200/27239"
     ]
    },
    {
     "name": "stderr",
     "output_type": "stream",
     "text": [
      " 37%|███▋      | 133/363 [3:45:14<6:17:12, 98.40s/it]"
     ]
    },
    {
     "name": "stdout",
     "output_type": "stream",
     "text": [
      "[TransNetV2] Processing video frames 27239/27239\n",
      "[TransNetV2] Extracting frames from ../Data/videos\\L05_V012.mp4\n",
      "[TransNetV2] Processing video frames 28900/28914"
     ]
    },
    {
     "name": "stderr",
     "output_type": "stream",
     "text": [
      " 37%|███▋      | 134/363 [3:46:57<6:20:39, 99.73s/it]"
     ]
    },
    {
     "name": "stdout",
     "output_type": "stream",
     "text": [
      "[TransNetV2] Processing video frames 28914/28914\n",
      "[TransNetV2] Extracting frames from ../Data/videos\\L05_V013.mp4\n",
      "[TransNetV2] Processing video frames 33960/33960\n"
     ]
    },
    {
     "name": "stderr",
     "output_type": "stream",
     "text": [
      " 37%|███▋      | 135/363 [3:48:56<6:41:01, 105.53s/it]"
     ]
    },
    {
     "name": "stdout",
     "output_type": "stream",
     "text": [
      "[TransNetV2] Extracting frames from ../Data/videos\\L05_V014.mp4\n",
      "[TransNetV2] Processing video frames 27600/27648"
     ]
    },
    {
     "name": "stderr",
     "output_type": "stream",
     "text": [
      " 37%|███▋      | 136/363 [3:50:33<6:29:34, 102.97s/it]"
     ]
    },
    {
     "name": "stdout",
     "output_type": "stream",
     "text": [
      "[TransNetV2] Processing video frames 27648/27648\n",
      "[TransNetV2] Extracting frames from ../Data/videos\\L05_V015.mp4\n",
      "[TransNetV2] Processing video frames 31200/31247"
     ]
    },
    {
     "name": "stderr",
     "output_type": "stream",
     "text": [
      " 38%|███▊      | 137/363 [3:52:23<6:35:20, 104.96s/it]"
     ]
    },
    {
     "name": "stdout",
     "output_type": "stream",
     "text": [
      "[TransNetV2] Processing video frames 31247/31247\n",
      "[TransNetV2] Extracting frames from ../Data/videos\\L05_V016.mp4\n",
      "[TransNetV2] Processing video frames 29566/29566\n"
     ]
    },
    {
     "name": "stderr",
     "output_type": "stream",
     "text": [
      " 38%|███▊      | 138/363 [3:54:06<6:32:00, 104.53s/it]"
     ]
    },
    {
     "name": "stdout",
     "output_type": "stream",
     "text": [
      "[TransNetV2] Extracting frames from ../Data/videos\\L05_V017.mp4\n",
      "[TransNetV2] Processing video frames 29579/29579\n"
     ]
    },
    {
     "name": "stderr",
     "output_type": "stream",
     "text": [
      " 38%|███▊      | 139/363 [3:55:50<6:29:21, 104.29s/it]"
     ]
    },
    {
     "name": "stdout",
     "output_type": "stream",
     "text": [
      "[TransNetV2] Extracting frames from ../Data/videos\\L05_V018.mp4\n",
      "[TransNetV2] Processing video frames 28351/28351\n"
     ]
    },
    {
     "name": "stderr",
     "output_type": "stream",
     "text": [
      " 39%|███▊      | 140/363 [3:57:29<6:22:15, 102.85s/it]"
     ]
    },
    {
     "name": "stdout",
     "output_type": "stream",
     "text": [
      "[TransNetV2] Extracting frames from ../Data/videos\\L05_V019.mp4\n",
      "[TransNetV2] Processing video frames 29384/29384\n"
     ]
    },
    {
     "name": "stderr",
     "output_type": "stream",
     "text": [
      " 39%|███▉      | 141/363 [3:59:12<6:20:27, 102.83s/it]"
     ]
    },
    {
     "name": "stdout",
     "output_type": "stream",
     "text": [
      "[TransNetV2] Extracting frames from ../Data/videos\\L05_V020.mp4\n",
      "[TransNetV2] Processing video frames 27200/27247"
     ]
    },
    {
     "name": "stderr",
     "output_type": "stream",
     "text": [
      " 39%|███▉      | 142/363 [4:00:48<6:10:58, 100.72s/it]"
     ]
    },
    {
     "name": "stdout",
     "output_type": "stream",
     "text": [
      "[TransNetV2] Processing video frames 27247/27247\n",
      "[TransNetV2] Extracting frames from ../Data/videos\\L05_V021.mp4\n",
      "[TransNetV2] Processing video frames 23200/23213"
     ]
    },
    {
     "name": "stderr",
     "output_type": "stream",
     "text": [
      " 39%|███▉      | 143/363 [4:02:08<5:47:03, 94.65s/it] "
     ]
    },
    {
     "name": "stdout",
     "output_type": "stream",
     "text": [
      "[TransNetV2] Processing video frames 23213/23213\n",
      "[TransNetV2] Extracting frames from ../Data/videos\\L05_V022.mp4\n",
      "[TransNetV2] Processing video frames 30486/30486\n"
     ]
    },
    {
     "name": "stderr",
     "output_type": "stream",
     "text": [
      " 40%|███▉      | 144/363 [4:03:55<5:58:57, 98.34s/it]"
     ]
    },
    {
     "name": "stdout",
     "output_type": "stream",
     "text": [
      "[TransNetV2] Extracting frames from ../Data/videos\\L05_V023.mp4\n",
      "[TransNetV2] Processing video frames 30300/30300\n"
     ]
    },
    {
     "name": "stderr",
     "output_type": "stream",
     "text": [
      " 40%|███▉      | 145/363 [4:05:42<6:06:02, 100.75s/it]"
     ]
    },
    {
     "name": "stdout",
     "output_type": "stream",
     "text": [
      "[TransNetV2] Extracting frames from ../Data/videos\\L05_V024.mp4\n",
      "[TransNetV2] Processing video frames 30800/30843"
     ]
    },
    {
     "name": "stderr",
     "output_type": "stream",
     "text": [
      " 40%|████      | 146/363 [4:07:30<6:12:37, 103.03s/it]"
     ]
    },
    {
     "name": "stdout",
     "output_type": "stream",
     "text": [
      "[TransNetV2] Processing video frames 30843/30843\n",
      "[TransNetV2] Extracting frames from ../Data/videos\\L05_V025.mp4\n",
      "[TransNetV2] Processing video frames 26361/26361\n"
     ]
    },
    {
     "name": "stderr",
     "output_type": "stream",
     "text": [
      " 40%|████      | 147/363 [4:09:02<5:58:20, 99.54s/it] "
     ]
    },
    {
     "name": "stdout",
     "output_type": "stream",
     "text": [
      "[TransNetV2] Extracting frames from ../Data/videos\\L05_V026.mp4\n",
      "[TransNetV2] Processing video frames 25454/25454\n"
     ]
    },
    {
     "name": "stderr",
     "output_type": "stream",
     "text": [
      " 41%|████      | 148/363 [4:10:31<5:45:32, 96.43s/it]"
     ]
    },
    {
     "name": "stdout",
     "output_type": "stream",
     "text": [
      "[TransNetV2] Extracting frames from ../Data/videos\\L05_V027.mp4\n",
      "[TransNetV2] Processing video frames 28400/28448"
     ]
    },
    {
     "name": "stderr",
     "output_type": "stream",
     "text": [
      " 41%|████      | 149/363 [4:12:11<5:47:33, 97.44s/it]"
     ]
    },
    {
     "name": "stdout",
     "output_type": "stream",
     "text": [
      "[TransNetV2] Processing video frames 28448/28448\n",
      "[TransNetV2] Extracting frames from ../Data/videos\\L05_V028.mp4\n",
      "[TransNetV2] Processing video frames 27900/27906"
     ]
    },
    {
     "name": "stderr",
     "output_type": "stream",
     "text": [
      " 41%|████▏     | 150/363 [4:13:48<5:46:25, 97.58s/it]"
     ]
    },
    {
     "name": "stdout",
     "output_type": "stream",
     "text": [
      "[TransNetV2] Processing video frames 27906/27906\n",
      "[TransNetV2] Extracting frames from ../Data/videos\\L05_V029.mp4\n",
      "[TransNetV2] Processing video frames 28300/28321"
     ]
    },
    {
     "name": "stderr",
     "output_type": "stream",
     "text": [
      " 42%|████▏     | 151/363 [4:15:28<5:46:39, 98.11s/it]"
     ]
    },
    {
     "name": "stdout",
     "output_type": "stream",
     "text": [
      "[TransNetV2] Processing video frames 28321/28321\n",
      "[TransNetV2] Extracting frames from ../Data/videos\\L05_V030.mp4\n",
      "[TransNetV2] Processing video frames 28800/28823"
     ]
    },
    {
     "name": "stderr",
     "output_type": "stream",
     "text": [
      " 42%|████▏     | 152/363 [4:17:09<5:48:28, 99.09s/it]"
     ]
    },
    {
     "name": "stdout",
     "output_type": "stream",
     "text": [
      "[TransNetV2] Processing video frames 28823/28823\n",
      "[TransNetV2] Extracting frames from ../Data/videos\\L05_V031.mp4\n",
      "[TransNetV2] Processing video frames 35891/35891\n"
     ]
    },
    {
     "name": "stderr",
     "output_type": "stream",
     "text": [
      " 42%|████▏     | 153/363 [4:19:15<6:15:01, 107.15s/it]"
     ]
    },
    {
     "name": "stdout",
     "output_type": "stream",
     "text": [
      "[TransNetV2] Extracting frames from ../Data/videos\\L06_V001.mp4\n",
      "[TransNetV2] Processing video frames 28800/28823"
     ]
    },
    {
     "name": "stderr",
     "output_type": "stream",
     "text": [
      " 42%|████▏     | 154/363 [4:20:56<6:06:52, 105.32s/it]"
     ]
    },
    {
     "name": "stdout",
     "output_type": "stream",
     "text": [
      "[TransNetV2] Processing video frames 28823/28823\n",
      "[TransNetV2] Extracting frames from ../Data/videos\\L06_V002.mp4\n",
      "[TransNetV2] Processing video frames 27979/27979\n"
     ]
    },
    {
     "name": "stderr",
     "output_type": "stream",
     "text": [
      " 43%|████▎     | 155/363 [4:22:35<5:57:55, 103.25s/it]"
     ]
    },
    {
     "name": "stdout",
     "output_type": "stream",
     "text": [
      "[TransNetV2] Extracting frames from ../Data/videos\\L06_V003.mp4\n",
      "[TransNetV2] Processing video frames 36800/36839"
     ]
    },
    {
     "name": "stderr",
     "output_type": "stream",
     "text": [
      " 43%|████▎     | 156/363 [4:24:43<6:22:33, 110.88s/it]"
     ]
    },
    {
     "name": "stdout",
     "output_type": "stream",
     "text": [
      "[TransNetV2] Processing video frames 36839/36839\n",
      "[TransNetV2] Extracting frames from ../Data/videos\\L06_V004.mp4\n",
      "[TransNetV2] Processing video frames 32988/32988\n"
     ]
    },
    {
     "name": "stderr",
     "output_type": "stream",
     "text": [
      " 43%|████▎     | 157/363 [4:26:39<6:25:38, 112.32s/it]"
     ]
    },
    {
     "name": "stdout",
     "output_type": "stream",
     "text": [
      "[TransNetV2] Extracting frames from ../Data/videos\\L06_V005.mp4\n",
      "[TransNetV2] Processing video frames 25600/25618"
     ]
    },
    {
     "name": "stderr",
     "output_type": "stream",
     "text": [
      " 44%|████▎     | 158/363 [4:28:08<5:59:52, 105.33s/it]"
     ]
    },
    {
     "name": "stdout",
     "output_type": "stream",
     "text": [
      "[TransNetV2] Processing video frames 25618/25618\n",
      "[TransNetV2] Extracting frames from ../Data/videos\\L06_V006.mp4\n",
      "[TransNetV2] Processing video frames 30053/30053\n"
     ]
    },
    {
     "name": "stderr",
     "output_type": "stream",
     "text": [
      " 44%|████▍     | 159/363 [4:29:53<5:58:09, 105.34s/it]"
     ]
    },
    {
     "name": "stdout",
     "output_type": "stream",
     "text": [
      "[TransNetV2] Extracting frames from ../Data/videos\\L06_V007.mp4\n",
      "[TransNetV2] Processing video frames 34191/34191\n"
     ]
    },
    {
     "name": "stderr",
     "output_type": "stream",
     "text": [
      " 44%|████▍     | 160/363 [4:31:53<6:11:02, 109.67s/it]"
     ]
    },
    {
     "name": "stdout",
     "output_type": "stream",
     "text": [
      "[TransNetV2] Extracting frames from ../Data/videos\\L06_V008.mp4\n",
      "[TransNetV2] Processing video frames 31300/31341"
     ]
    },
    {
     "name": "stderr",
     "output_type": "stream",
     "text": [
      " 44%|████▍     | 161/363 [4:33:43<6:09:45, 109.83s/it]"
     ]
    },
    {
     "name": "stdout",
     "output_type": "stream",
     "text": [
      "[TransNetV2] Processing video frames 31341/31341\n",
      "[TransNetV2] Extracting frames from ../Data/videos\\L06_V009.mp4\n",
      "[TransNetV2] Processing video frames 33000/33012"
     ]
    },
    {
     "name": "stderr",
     "output_type": "stream",
     "text": [
      " 45%|████▍     | 162/363 [4:35:40<6:14:20, 111.75s/it]"
     ]
    },
    {
     "name": "stdout",
     "output_type": "stream",
     "text": [
      "[TransNetV2] Processing video frames 33012/33012\n",
      "[TransNetV2] Extracting frames from ../Data/videos\\L06_V010.mp4\n",
      "[TransNetV2] Processing video frames 30090/30090\n"
     ]
    },
    {
     "name": "stderr",
     "output_type": "stream",
     "text": [
      " 45%|████▍     | 163/363 [4:37:25<6:06:35, 109.98s/it]"
     ]
    },
    {
     "name": "stdout",
     "output_type": "stream",
     "text": [
      "[TransNetV2] Extracting frames from ../Data/videos\\L06_V011.mp4\n",
      "[TransNetV2] Processing video frames 28500/28515"
     ]
    },
    {
     "name": "stderr",
     "output_type": "stream",
     "text": [
      " 45%|████▌     | 164/363 [4:39:05<5:54:49, 106.98s/it]"
     ]
    },
    {
     "name": "stdout",
     "output_type": "stream",
     "text": [
      "[TransNetV2] Processing video frames 28515/28515\n",
      "[TransNetV2] Extracting frames from ../Data/videos\\L06_V012.mp4\n",
      "[TransNetV2] Processing video frames 30872/30872\n"
     ]
    },
    {
     "name": "stderr",
     "output_type": "stream",
     "text": [
      " 45%|████▌     | 165/363 [4:40:54<5:54:20, 107.38s/it]"
     ]
    },
    {
     "name": "stdout",
     "output_type": "stream",
     "text": [
      "[TransNetV2] Extracting frames from ../Data/videos\\L06_V013.mp4\n",
      "[TransNetV2] Processing video frames 34900/34947"
     ]
    },
    {
     "name": "stderr",
     "output_type": "stream",
     "text": [
      " 46%|████▌     | 166/363 [4:42:58<6:09:38, 112.58s/it]"
     ]
    },
    {
     "name": "stdout",
     "output_type": "stream",
     "text": [
      "[TransNetV2] Processing video frames 34947/34947\n",
      "[TransNetV2] Extracting frames from ../Data/videos\\L06_V014.mp4\n",
      "[TransNetV2] Processing video frames 29754/29754\n"
     ]
    },
    {
     "name": "stderr",
     "output_type": "stream",
     "text": [
      " 46%|████▌     | 167/363 [4:44:43<5:59:30, 110.05s/it]"
     ]
    },
    {
     "name": "stdout",
     "output_type": "stream",
     "text": [
      "[TransNetV2] Extracting frames from ../Data/videos\\L06_V015.mp4\n",
      "[TransNetV2] Processing video frames 31000/31045"
     ]
    },
    {
     "name": "stderr",
     "output_type": "stream",
     "text": [
      " 46%|████▋     | 168/363 [4:46:31<5:56:34, 109.71s/it]"
     ]
    },
    {
     "name": "stdout",
     "output_type": "stream",
     "text": [
      "[TransNetV2] Processing video frames 31045/31045\n",
      "[TransNetV2] Extracting frames from ../Data/videos\\L06_V016.mp4\n",
      "[TransNetV2] Processing video frames 30600/30600\n"
     ]
    },
    {
     "name": "stderr",
     "output_type": "stream",
     "text": [
      " 47%|████▋     | 169/363 [4:48:19<5:52:44, 109.10s/it]"
     ]
    },
    {
     "name": "stdout",
     "output_type": "stream",
     "text": [
      "[TransNetV2] Extracting frames from ../Data/videos\\L06_V017.mp4\n",
      "[TransNetV2] Processing video frames 32400/32424"
     ]
    },
    {
     "name": "stderr",
     "output_type": "stream",
     "text": [
      " 47%|████▋     | 170/363 [4:50:13<5:55:24, 110.49s/it]"
     ]
    },
    {
     "name": "stdout",
     "output_type": "stream",
     "text": [
      "[TransNetV2] Processing video frames 32424/32424\n",
      "[TransNetV2] Extracting frames from ../Data/videos\\L06_V018.mp4\n",
      "[TransNetV2] Processing video frames 27374/27374\n"
     ]
    },
    {
     "name": "stderr",
     "output_type": "stream",
     "text": [
      " 47%|████▋     | 171/363 [4:51:49<5:39:55, 106.23s/it]"
     ]
    },
    {
     "name": "stdout",
     "output_type": "stream",
     "text": [
      "[TransNetV2] Extracting frames from ../Data/videos\\L06_V019.mp4\n",
      "[TransNetV2] Processing video frames 28993/28993\n"
     ]
    },
    {
     "name": "stderr",
     "output_type": "stream",
     "text": [
      " 47%|████▋     | 172/363 [4:53:31<5:33:49, 104.87s/it]"
     ]
    },
    {
     "name": "stdout",
     "output_type": "stream",
     "text": [
      "[TransNetV2] Extracting frames from ../Data/videos\\L06_V020.mp4\n",
      "[TransNetV2] Processing video frames 29553/29553\n"
     ]
    },
    {
     "name": "stderr",
     "output_type": "stream",
     "text": [
      " 48%|████▊     | 173/363 [4:55:16<5:32:16, 104.93s/it]"
     ]
    },
    {
     "name": "stdout",
     "output_type": "stream",
     "text": [
      "[TransNetV2] Extracting frames from ../Data/videos\\L06_V021.mp4\n",
      "[TransNetV2] Processing video frames 27200/27206"
     ]
    },
    {
     "name": "stderr",
     "output_type": "stream",
     "text": [
      " 48%|████▊     | 174/363 [4:56:52<5:22:00, 102.23s/it]"
     ]
    },
    {
     "name": "stdout",
     "output_type": "stream",
     "text": [
      "[TransNetV2] Processing video frames 27206/27206\n",
      "[TransNetV2] Extracting frames from ../Data/videos\\L06_V022.mp4\n",
      "[TransNetV2] Processing video frames 33200/33210"
     ]
    },
    {
     "name": "stderr",
     "output_type": "stream",
     "text": [
      " 48%|████▊     | 175/363 [4:58:48<5:33:49, 106.54s/it]"
     ]
    },
    {
     "name": "stdout",
     "output_type": "stream",
     "text": [
      "[TransNetV2] Processing video frames 33210/33210\n",
      "[TransNetV2] Extracting frames from ../Data/videos\\L06_V023.mp4\n",
      "[TransNetV2] Processing video frames 32200/32204"
     ]
    },
    {
     "name": "stderr",
     "output_type": "stream",
     "text": [
      " 48%|████▊     | 176/363 [5:00:41<5:38:02, 108.46s/it]"
     ]
    },
    {
     "name": "stdout",
     "output_type": "stream",
     "text": [
      "[TransNetV2] Processing video frames 32204/32204\n",
      "[TransNetV2] Extracting frames from ../Data/videos\\L06_V024.mp4\n",
      "[TransNetV2] Processing video frames 28798/28798\n"
     ]
    },
    {
     "name": "stderr",
     "output_type": "stream",
     "text": [
      " 49%|████▉     | 177/363 [5:02:22<5:29:23, 106.25s/it]"
     ]
    },
    {
     "name": "stdout",
     "output_type": "stream",
     "text": [
      "[TransNetV2] Extracting frames from ../Data/videos\\L06_V025.mp4\n",
      "[TransNetV2] Processing video frames 29700/29724"
     ]
    },
    {
     "name": "stderr",
     "output_type": "stream",
     "text": [
      " 49%|████▉     | 178/363 [5:04:07<5:25:46, 105.66s/it]"
     ]
    },
    {
     "name": "stdout",
     "output_type": "stream",
     "text": [
      "[TransNetV2] Processing video frames 29724/29724\n",
      "[TransNetV2] Extracting frames from ../Data/videos\\L06_V026.mp4\n",
      "[TransNetV2] Processing video frames 31851/31851\n"
     ]
    },
    {
     "name": "stderr",
     "output_type": "stream",
     "text": [
      " 49%|████▉     | 179/363 [5:05:58<5:29:33, 107.47s/it]"
     ]
    },
    {
     "name": "stdout",
     "output_type": "stream",
     "text": [
      "[TransNetV2] Extracting frames from ../Data/videos\\L06_V027.mp4\n",
      "[TransNetV2] Processing video frames 33400/33448"
     ]
    },
    {
     "name": "stderr",
     "output_type": "stream",
     "text": [
      " 50%|████▉     | 180/363 [5:07:56<5:36:48, 110.43s/it]"
     ]
    },
    {
     "name": "stdout",
     "output_type": "stream",
     "text": [
      "[TransNetV2] Processing video frames 33448/33448\n",
      "[TransNetV2] Extracting frames from ../Data/videos\\L06_V028.mp4\n",
      "[TransNetV2] Processing video frames 33093/33093\n"
     ]
    },
    {
     "name": "stderr",
     "output_type": "stream",
     "text": [
      " 50%|████▉     | 181/363 [5:09:52<5:40:21, 112.21s/it]"
     ]
    },
    {
     "name": "stdout",
     "output_type": "stream",
     "text": [
      "[TransNetV2] Extracting frames from ../Data/videos\\L06_V029.mp4\n",
      "[TransNetV2] Processing video frames 33673/33673\n"
     ]
    },
    {
     "name": "stderr",
     "output_type": "stream",
     "text": [
      " 50%|█████     | 182/363 [5:11:50<5:43:57, 114.02s/it]"
     ]
    },
    {
     "name": "stdout",
     "output_type": "stream",
     "text": [
      "[TransNetV2] Extracting frames from ../Data/videos\\L06_V030.mp4\n",
      "[TransNetV2] Processing video frames 32594/32594\n"
     ]
    },
    {
     "name": "stderr",
     "output_type": "stream",
     "text": [
      " 50%|█████     | 183/363 [5:13:45<5:42:35, 114.20s/it]"
     ]
    },
    {
     "name": "stdout",
     "output_type": "stream",
     "text": [
      "[TransNetV2] Extracting frames from ../Data/videos\\L06_V031.mp4\n",
      "[TransNetV2] Processing video frames 31800/31844"
     ]
    },
    {
     "name": "stderr",
     "output_type": "stream",
     "text": [
      " 51%|█████     | 184/363 [5:15:36<5:38:10, 113.35s/it]"
     ]
    },
    {
     "name": "stdout",
     "output_type": "stream",
     "text": [
      "[TransNetV2] Processing video frames 31844/31844\n",
      "[TransNetV2] Extracting frames from ../Data/videos\\L07_V001.mp4\n",
      "[TransNetV2] Processing video frames 26500/26542"
     ]
    },
    {
     "name": "stderr",
     "output_type": "stream",
     "text": [
      " 51%|█████     | 185/363 [5:17:09<5:17:53, 107.15s/it]"
     ]
    },
    {
     "name": "stdout",
     "output_type": "stream",
     "text": [
      "[TransNetV2] Processing video frames 26542/26542\n",
      "[TransNetV2] Extracting frames from ../Data/videos\\L07_V002.mp4\n",
      "[TransNetV2] Processing video frames 28065/28065\n"
     ]
    },
    {
     "name": "stderr",
     "output_type": "stream",
     "text": [
      " 51%|█████     | 186/363 [5:18:47<5:08:16, 104.50s/it]"
     ]
    },
    {
     "name": "stdout",
     "output_type": "stream",
     "text": [
      "[TransNetV2] Extracting frames from ../Data/videos\\L07_V003.mp4\n",
      "[TransNetV2] Processing video frames 26600/26629"
     ]
    },
    {
     "name": "stderr",
     "output_type": "stream",
     "text": [
      " 52%|█████▏    | 187/363 [5:20:20<4:56:02, 100.92s/it]"
     ]
    },
    {
     "name": "stdout",
     "output_type": "stream",
     "text": [
      "[TransNetV2] Processing video frames 26629/26629\n",
      "[TransNetV2] Extracting frames from ../Data/videos\\L07_V004.mp4\n",
      "[TransNetV2] Processing video frames 32688/32688\n"
     ]
    },
    {
     "name": "stderr",
     "output_type": "stream",
     "text": [
      " 52%|█████▏    | 188/363 [5:22:14<5:05:47, 104.84s/it]"
     ]
    },
    {
     "name": "stdout",
     "output_type": "stream",
     "text": [
      "[TransNetV2] Extracting frames from ../Data/videos\\L07_V005.mp4\n",
      "[TransNetV2] Processing video frames 27074/27074\n"
     ]
    },
    {
     "name": "stderr",
     "output_type": "stream",
     "text": [
      " 52%|█████▏    | 189/363 [5:23:48<4:54:53, 101.69s/it]"
     ]
    },
    {
     "name": "stdout",
     "output_type": "stream",
     "text": [
      "[TransNetV2] Extracting frames from ../Data/videos\\L07_V006.mp4\n",
      "[TransNetV2] Processing video frames 29282/29282\n"
     ]
    },
    {
     "name": "stderr",
     "output_type": "stream",
     "text": [
      " 52%|█████▏    | 190/363 [5:25:30<4:53:32, 101.80s/it]"
     ]
    },
    {
     "name": "stdout",
     "output_type": "stream",
     "text": [
      "[TransNetV2] Extracting frames from ../Data/videos\\L07_V007.mp4\n",
      "[TransNetV2] Processing video frames 25600/25624"
     ]
    },
    {
     "name": "stderr",
     "output_type": "stream",
     "text": [
      " 53%|█████▎    | 191/363 [5:26:59<4:40:38, 97.90s/it] "
     ]
    },
    {
     "name": "stdout",
     "output_type": "stream",
     "text": [
      "[TransNetV2] Processing video frames 25624/25624\n",
      "[TransNetV2] Extracting frames from ../Data/videos\\L07_V008.mp4\n",
      "[TransNetV2] Processing video frames 29665/29665\n"
     ]
    },
    {
     "name": "stderr",
     "output_type": "stream",
     "text": [
      " 53%|█████▎    | 192/363 [5:28:43<4:43:49, 99.58s/it]"
     ]
    },
    {
     "name": "stdout",
     "output_type": "stream",
     "text": [
      "[TransNetV2] Extracting frames from ../Data/videos\\L07_V009.mp4\n",
      "[TransNetV2] Processing video frames 29093/29093\n"
     ]
    },
    {
     "name": "stderr",
     "output_type": "stream",
     "text": [
      " 53%|█████▎    | 193/363 [5:30:24<4:43:50, 100.18s/it]"
     ]
    },
    {
     "name": "stdout",
     "output_type": "stream",
     "text": [
      "[TransNetV2] Extracting frames from ../Data/videos\\L07_V010.mp4\n",
      "[TransNetV2] Processing video frames 28461/28461\n"
     ]
    },
    {
     "name": "stderr",
     "output_type": "stream",
     "text": [
      " 53%|█████▎    | 194/363 [5:32:03<4:41:23, 99.90s/it] "
     ]
    },
    {
     "name": "stdout",
     "output_type": "stream",
     "text": [
      "[TransNetV2] Extracting frames from ../Data/videos\\L07_V011.mp4\n",
      "[TransNetV2] Processing video frames 32664/32664\n"
     ]
    },
    {
     "name": "stderr",
     "output_type": "stream",
     "text": [
      " 54%|█████▎    | 195/363 [5:33:58<4:51:43, 104.19s/it]"
     ]
    },
    {
     "name": "stdout",
     "output_type": "stream",
     "text": [
      "[TransNetV2] Extracting frames from ../Data/videos\\L07_V012.mp4\n",
      "[TransNetV2] Processing video frames 32500/32510"
     ]
    },
    {
     "name": "stderr",
     "output_type": "stream",
     "text": [
      " 54%|█████▍    | 196/363 [5:35:51<4:57:29, 106.88s/it]"
     ]
    },
    {
     "name": "stdout",
     "output_type": "stream",
     "text": [
      "[TransNetV2] Processing video frames 32510/32510\n",
      "[TransNetV2] Extracting frames from ../Data/videos\\L07_V013.mp4\n",
      "[TransNetV2] Processing video frames 27799/27799\n"
     ]
    },
    {
     "name": "stderr",
     "output_type": "stream",
     "text": [
      " 54%|█████▍    | 197/363 [5:37:28<4:47:41, 103.99s/it]"
     ]
    },
    {
     "name": "stdout",
     "output_type": "stream",
     "text": [
      "[TransNetV2] Extracting frames from ../Data/videos\\L07_V014.mp4\n",
      "[TransNetV2] Processing video frames 26500/26539"
     ]
    },
    {
     "name": "stderr",
     "output_type": "stream",
     "text": [
      " 55%|█████▍    | 198/363 [5:39:00<4:36:16, 100.46s/it]"
     ]
    },
    {
     "name": "stdout",
     "output_type": "stream",
     "text": [
      "[TransNetV2] Processing video frames 26539/26539\n",
      "[TransNetV2] Extracting frames from ../Data/videos\\L07_V015.mp4\n",
      "[TransNetV2] Processing video frames 24800/24831"
     ]
    },
    {
     "name": "stderr",
     "output_type": "stream",
     "text": [
      " 55%|█████▍    | 199/363 [5:40:27<4:23:37, 96.45s/it] "
     ]
    },
    {
     "name": "stdout",
     "output_type": "stream",
     "text": [
      "[TransNetV2] Processing video frames 24831/24831\n",
      "[TransNetV2] Extracting frames from ../Data/videos\\L07_V016.mp4\n",
      "[TransNetV2] Processing video frames 30800/30824"
     ]
    },
    {
     "name": "stderr",
     "output_type": "stream",
     "text": [
      " 55%|█████▌    | 200/363 [5:42:16<4:31:45, 100.03s/it]"
     ]
    },
    {
     "name": "stdout",
     "output_type": "stream",
     "text": [
      "[TransNetV2] Processing video frames 30824/30824\n",
      "[TransNetV2] Extracting frames from ../Data/videos\\L07_V017.mp4\n",
      "[TransNetV2] Processing video frames 25569/25569\n"
     ]
    },
    {
     "name": "stderr",
     "output_type": "stream",
     "text": [
      " 55%|█████▌    | 201/363 [5:43:45<4:20:59, 96.67s/it] "
     ]
    },
    {
     "name": "stdout",
     "output_type": "stream",
     "text": [
      "[TransNetV2] Extracting frames from ../Data/videos\\L07_V018.mp4\n",
      "[TransNetV2] Processing video frames 27500/27549"
     ]
    },
    {
     "name": "stderr",
     "output_type": "stream",
     "text": [
      " 56%|█████▌    | 202/363 [5:45:21<4:19:22, 96.66s/it]"
     ]
    },
    {
     "name": "stdout",
     "output_type": "stream",
     "text": [
      "[TransNetV2] Processing video frames 27549/27549\n",
      "[TransNetV2] Extracting frames from ../Data/videos\\L07_V019.mp4\n",
      "[TransNetV2] Processing video frames 30661/30661\n"
     ]
    },
    {
     "name": "stderr",
     "output_type": "stream",
     "text": [
      " 56%|█████▌    | 203/363 [5:47:09<4:26:27, 99.92s/it]"
     ]
    },
    {
     "name": "stdout",
     "output_type": "stream",
     "text": [
      "[TransNetV2] Extracting frames from ../Data/videos\\L07_V020.mp4\n",
      "[TransNetV2] Processing video frames 27300/27307"
     ]
    },
    {
     "name": "stderr",
     "output_type": "stream",
     "text": [
      " 56%|█████▌    | 204/363 [5:48:45<4:21:44, 98.77s/it]"
     ]
    },
    {
     "name": "stdout",
     "output_type": "stream",
     "text": [
      "[TransNetV2] Processing video frames 27307/27307\n",
      "[TransNetV2] Extracting frames from ../Data/videos\\L07_V021.mp4\n",
      "[TransNetV2] Processing video frames 25387/25387\n"
     ]
    },
    {
     "name": "stderr",
     "output_type": "stream",
     "text": [
      " 56%|█████▋    | 205/363 [5:50:14<4:12:31, 95.90s/it]"
     ]
    },
    {
     "name": "stdout",
     "output_type": "stream",
     "text": [
      "[TransNetV2] Extracting frames from ../Data/videos\\L07_V022.mp4\n",
      "[TransNetV2] Processing video frames 27700/27745"
     ]
    },
    {
     "name": "stderr",
     "output_type": "stream",
     "text": [
      " 57%|█████▋    | 206/363 [5:51:51<4:11:59, 96.30s/it]"
     ]
    },
    {
     "name": "stdout",
     "output_type": "stream",
     "text": [
      "[TransNetV2] Processing video frames 27745/27745\n",
      "[TransNetV2] Extracting frames from ../Data/videos\\L07_V023.mp4\n",
      "[TransNetV2] Processing video frames 30100/30142"
     ]
    },
    {
     "name": "stderr",
     "output_type": "stream",
     "text": [
      " 57%|█████▋    | 207/363 [5:53:37<4:17:29, 99.03s/it]"
     ]
    },
    {
     "name": "stdout",
     "output_type": "stream",
     "text": [
      "[TransNetV2] Processing video frames 30142/30142\n",
      "[TransNetV2] Extracting frames from ../Data/videos\\L07_V024.mp4\n",
      "[TransNetV2] Processing video frames 23551/23551\n"
     ]
    },
    {
     "name": "stderr",
     "output_type": "stream",
     "text": [
      " 57%|█████▋    | 208/363 [5:54:59<4:02:40, 93.94s/it]"
     ]
    },
    {
     "name": "stdout",
     "output_type": "stream",
     "text": [
      "[TransNetV2] Extracting frames from ../Data/videos\\L07_V025.mp4\n",
      "[TransNetV2] Processing video frames 29700/29725"
     ]
    },
    {
     "name": "stderr",
     "output_type": "stream",
     "text": [
      " 58%|█████▊    | 209/363 [5:56:43<4:08:55, 96.98s/it]"
     ]
    },
    {
     "name": "stdout",
     "output_type": "stream",
     "text": [
      "[TransNetV2] Processing video frames 29725/29725\n",
      "[TransNetV2] Extracting frames from ../Data/videos\\L07_V026.mp4\n",
      "[TransNetV2] Processing video frames 29551/29551\n"
     ]
    },
    {
     "name": "stderr",
     "output_type": "stream",
     "text": [
      " 58%|█████▊    | 210/363 [5:58:27<4:12:37, 99.07s/it]"
     ]
    },
    {
     "name": "stdout",
     "output_type": "stream",
     "text": [
      "[TransNetV2] Extracting frames from ../Data/videos\\L07_V027.mp4\n",
      "[TransNetV2] Processing video frames 27800/27824"
     ]
    },
    {
     "name": "stderr",
     "output_type": "stream",
     "text": [
      " 58%|█████▊    | 211/363 [6:00:04<4:09:50, 98.62s/it]"
     ]
    },
    {
     "name": "stdout",
     "output_type": "stream",
     "text": [
      "[TransNetV2] Processing video frames 27824/27824\n",
      "[TransNetV2] Extracting frames from ../Data/videos\\L07_V028.mp4\n",
      "[TransNetV2] Processing video frames 29600/29633"
     ]
    },
    {
     "name": "stderr",
     "output_type": "stream",
     "text": [
      " 58%|█████▊    | 212/363 [6:01:48<4:12:21, 100.27s/it]"
     ]
    },
    {
     "name": "stdout",
     "output_type": "stream",
     "text": [
      "[TransNetV2] Processing video frames 29633/29633\n",
      "[TransNetV2] Extracting frames from ../Data/videos\\L07_V029.mp4\n",
      "[TransNetV2] Processing video frames 28500/28539"
     ]
    },
    {
     "name": "stderr",
     "output_type": "stream",
     "text": [
      " 59%|█████▊    | 213/363 [6:03:28<4:10:29, 100.19s/it]"
     ]
    },
    {
     "name": "stdout",
     "output_type": "stream",
     "text": [
      "[TransNetV2] Processing video frames 28539/28539\n",
      "[TransNetV2] Extracting frames from ../Data/videos\\L07_V030.mp4\n",
      "[TransNetV2] Processing video frames 29171/29171\n"
     ]
    },
    {
     "name": "stderr",
     "output_type": "stream",
     "text": [
      " 59%|█████▉    | 214/363 [6:05:10<4:09:56, 100.65s/it]"
     ]
    },
    {
     "name": "stdout",
     "output_type": "stream",
     "text": [
      "[TransNetV2] Extracting frames from ../Data/videos\\L07_V031.mp4\n",
      "[TransNetV2] Processing video frames 32300/32347"
     ]
    },
    {
     "name": "stderr",
     "output_type": "stream",
     "text": [
      " 59%|█████▉    | 215/363 [6:07:04<4:17:48, 104.51s/it]"
     ]
    },
    {
     "name": "stdout",
     "output_type": "stream",
     "text": [
      "[TransNetV2] Processing video frames 32347/32347\n",
      "[TransNetV2] Extracting frames from ../Data/videos\\L08_V001.mp4\n",
      "[TransNetV2] Processing video frames 32400/32438"
     ]
    },
    {
     "name": "stderr",
     "output_type": "stream",
     "text": [
      " 60%|█████▉    | 216/363 [6:08:57<4:22:21, 107.09s/it]"
     ]
    },
    {
     "name": "stdout",
     "output_type": "stream",
     "text": [
      "[TransNetV2] Processing video frames 32438/32438\n",
      "[TransNetV2] Extracting frames from ../Data/videos\\L08_V002.mp4\n",
      "[TransNetV2] Processing video frames 28666/28666\n"
     ]
    },
    {
     "name": "stderr",
     "output_type": "stream",
     "text": [
      " 60%|█████▉    | 217/363 [6:10:36<4:14:59, 104.79s/it]"
     ]
    },
    {
     "name": "stdout",
     "output_type": "stream",
     "text": [
      "[TransNetV2] Extracting frames from ../Data/videos\\L08_V003.mp4\n",
      "[TransNetV2] Processing video frames 31700/31747"
     ]
    },
    {
     "name": "stderr",
     "output_type": "stream",
     "text": [
      " 60%|██████    | 218/363 [6:12:27<4:17:21, 106.49s/it]"
     ]
    },
    {
     "name": "stdout",
     "output_type": "stream",
     "text": [
      "[TransNetV2] Processing video frames 31747/31747\n",
      "[TransNetV2] Extracting frames from ../Data/videos\\L08_V004.mp4\n",
      "[TransNetV2] Processing video frames 30387/30387\n"
     ]
    },
    {
     "name": "stderr",
     "output_type": "stream",
     "text": [
      " 60%|██████    | 219/363 [6:14:13<4:15:26, 106.43s/it]"
     ]
    },
    {
     "name": "stdout",
     "output_type": "stream",
     "text": [
      "[TransNetV2] Extracting frames from ../Data/videos\\L08_V005.mp4\n",
      "[TransNetV2] Processing video frames 32900/32918"
     ]
    },
    {
     "name": "stderr",
     "output_type": "stream",
     "text": [
      " 61%|██████    | 220/363 [6:16:07<4:19:24, 108.84s/it]"
     ]
    },
    {
     "name": "stdout",
     "output_type": "stream",
     "text": [
      "[TransNetV2] Processing video frames 32918/32918\n",
      "[TransNetV2] Extracting frames from ../Data/videos\\L08_V006.mp4\n",
      "[TransNetV2] Processing video frames 27576/27576\n"
     ]
    },
    {
     "name": "stderr",
     "output_type": "stream",
     "text": [
      " 61%|██████    | 221/363 [6:17:44<4:08:40, 105.07s/it]"
     ]
    },
    {
     "name": "stdout",
     "output_type": "stream",
     "text": [
      "[TransNetV2] Extracting frames from ../Data/videos\\L08_V007.mp4\n",
      "[TransNetV2] Processing video frames 30200/30213"
     ]
    },
    {
     "name": "stderr",
     "output_type": "stream",
     "text": [
      " 61%|██████    | 222/363 [6:19:29<4:06:52, 105.06s/it]"
     ]
    },
    {
     "name": "stdout",
     "output_type": "stream",
     "text": [
      "[TransNetV2] Processing video frames 30213/30213\n",
      "[TransNetV2] Extracting frames from ../Data/videos\\L08_V008.mp4\n",
      "[TransNetV2] Processing video frames 30471/30471\n"
     ]
    },
    {
     "name": "stderr",
     "output_type": "stream",
     "text": [
      " 61%|██████▏   | 223/363 [6:21:15<4:05:54, 105.39s/it]"
     ]
    },
    {
     "name": "stdout",
     "output_type": "stream",
     "text": [
      "[TransNetV2] Extracting frames from ../Data/videos\\L08_V009.mp4\n",
      "[TransNetV2] Processing video frames 28600/28637"
     ]
    },
    {
     "name": "stderr",
     "output_type": "stream",
     "text": [
      " 62%|██████▏   | 224/363 [6:22:55<4:00:26, 103.79s/it]"
     ]
    },
    {
     "name": "stdout",
     "output_type": "stream",
     "text": [
      "[TransNetV2] Processing video frames 28637/28637\n",
      "[TransNetV2] Extracting frames from ../Data/videos\\L08_V010.mp4\n",
      "[TransNetV2] Processing video frames 29899/29899\n"
     ]
    },
    {
     "name": "stderr",
     "output_type": "stream",
     "text": [
      " 62%|██████▏   | 225/363 [6:24:39<3:58:51, 103.85s/it]"
     ]
    },
    {
     "name": "stdout",
     "output_type": "stream",
     "text": [
      "[TransNetV2] Extracting frames from ../Data/videos\\L08_V011.mp4\n",
      "[TransNetV2] Processing video frames 32077/32077\n"
     ]
    },
    {
     "name": "stderr",
     "output_type": "stream",
     "text": [
      " 62%|██████▏   | 226/363 [6:26:31<4:02:32, 106.22s/it]"
     ]
    },
    {
     "name": "stdout",
     "output_type": "stream",
     "text": [
      "[TransNetV2] Extracting frames from ../Data/videos\\L08_V012.mp4\n",
      "[TransNetV2] Processing video frames 29796/29796\n"
     ]
    },
    {
     "name": "stderr",
     "output_type": "stream",
     "text": [
      " 63%|██████▎   | 227/363 [6:28:15<3:59:18, 105.57s/it]"
     ]
    },
    {
     "name": "stdout",
     "output_type": "stream",
     "text": [
      "[TransNetV2] Extracting frames from ../Data/videos\\L08_V013.mp4\n",
      "[TransNetV2] Processing video frames 28464/28464\n"
     ]
    },
    {
     "name": "stderr",
     "output_type": "stream",
     "text": [
      " 63%|██████▎   | 228/363 [6:29:54<3:53:24, 103.73s/it]"
     ]
    },
    {
     "name": "stdout",
     "output_type": "stream",
     "text": [
      "[TransNetV2] Extracting frames from ../Data/videos\\L08_V014.mp4\n",
      "[TransNetV2] Processing video frames 29500/29519"
     ]
    },
    {
     "name": "stderr",
     "output_type": "stream",
     "text": [
      " 63%|██████▎   | 229/363 [6:31:38<3:51:31, 103.67s/it]"
     ]
    },
    {
     "name": "stdout",
     "output_type": "stream",
     "text": [
      "[TransNetV2] Processing video frames 29519/29519\n",
      "[TransNetV2] Extracting frames from ../Data/videos\\L08_V015.mp4\n",
      "[TransNetV2] Processing video frames 28600/28615"
     ]
    },
    {
     "name": "stderr",
     "output_type": "stream",
     "text": [
      " 63%|██████▎   | 230/363 [6:33:18<3:47:42, 102.73s/it]"
     ]
    },
    {
     "name": "stdout",
     "output_type": "stream",
     "text": [
      "[TransNetV2] Processing video frames 28615/28615\n",
      "[TransNetV2] Extracting frames from ../Data/videos\\L08_V016.mp4\n",
      "[TransNetV2] Processing video frames 31200/31223"
     ]
    },
    {
     "name": "stderr",
     "output_type": "stream",
     "text": [
      " 64%|██████▎   | 231/363 [6:35:09<3:51:10, 105.08s/it]"
     ]
    },
    {
     "name": "stdout",
     "output_type": "stream",
     "text": [
      "[TransNetV2] Processing video frames 31223/31223\n",
      "[TransNetV2] Extracting frames from ../Data/videos\\L08_V017.mp4\n",
      "[TransNetV2] Processing video frames 30595/30595\n"
     ]
    },
    {
     "name": "stderr",
     "output_type": "stream",
     "text": [
      " 64%|██████▍   | 232/363 [6:36:56<3:50:51, 105.73s/it]"
     ]
    },
    {
     "name": "stdout",
     "output_type": "stream",
     "text": [
      "[TransNetV2] Extracting frames from ../Data/videos\\L08_V018.mp4\n",
      "[TransNetV2] Processing video frames 33100/33103"
     ]
    },
    {
     "name": "stderr",
     "output_type": "stream",
     "text": [
      " 64%|██████▍   | 233/363 [6:38:52<3:55:49, 108.84s/it]"
     ]
    },
    {
     "name": "stdout",
     "output_type": "stream",
     "text": [
      "[TransNetV2] Processing video frames 33103/33103\n",
      "[TransNetV2] Extracting frames from ../Data/videos\\L08_V019.mp4\n",
      "[TransNetV2] Processing video frames 31300/31340"
     ]
    },
    {
     "name": "stderr",
     "output_type": "stream",
     "text": [
      " 64%|██████▍   | 234/363 [6:40:42<3:54:43, 109.17s/it]"
     ]
    },
    {
     "name": "stdout",
     "output_type": "stream",
     "text": [
      "[TransNetV2] Processing video frames 31340/31340\n",
      "[TransNetV2] Extracting frames from ../Data/videos\\L08_V020.mp4\n",
      "[TransNetV2] Processing video frames 32900/32940"
     ]
    },
    {
     "name": "stderr",
     "output_type": "stream",
     "text": [
      " 65%|██████▍   | 235/363 [6:42:38<3:57:07, 111.15s/it]"
     ]
    },
    {
     "name": "stdout",
     "output_type": "stream",
     "text": [
      "[TransNetV2] Processing video frames 32940/32940\n",
      "[TransNetV2] Extracting frames from ../Data/videos\\L08_V021.mp4\n",
      "[TransNetV2] Processing video frames 30557/30557\n"
     ]
    },
    {
     "name": "stderr",
     "output_type": "stream",
     "text": [
      " 65%|██████▌   | 236/363 [6:44:25<3:52:38, 109.91s/it]"
     ]
    },
    {
     "name": "stdout",
     "output_type": "stream",
     "text": [
      "[TransNetV2] Extracting frames from ../Data/videos\\L08_V022.mp4\n",
      "[TransNetV2] Processing video frames 32200/32212"
     ]
    },
    {
     "name": "stderr",
     "output_type": "stream",
     "text": [
      " 65%|██████▌   | 237/363 [6:46:18<3:52:45, 110.83s/it]"
     ]
    },
    {
     "name": "stdout",
     "output_type": "stream",
     "text": [
      "[TransNetV2] Processing video frames 32212/32212\n",
      "[TransNetV2] Extracting frames from ../Data/videos\\L08_V023.mp4\n",
      "[TransNetV2] Processing video frames 29600/29630"
     ]
    },
    {
     "name": "stderr",
     "output_type": "stream",
     "text": [
      " 66%|██████▌   | 238/363 [6:48:02<3:46:26, 108.69s/it]"
     ]
    },
    {
     "name": "stdout",
     "output_type": "stream",
     "text": [
      "[TransNetV2] Processing video frames 29630/29630\n",
      "[TransNetV2] Extracting frames from ../Data/videos\\L08_V024.mp4\n",
      "[TransNetV2] Processing video frames 31100/31136"
     ]
    },
    {
     "name": "stderr",
     "output_type": "stream",
     "text": [
      " 66%|██████▌   | 239/363 [6:49:51<3:45:01, 108.88s/it]"
     ]
    },
    {
     "name": "stdout",
     "output_type": "stream",
     "text": [
      "[TransNetV2] Processing video frames 31136/31136\n",
      "[TransNetV2] Extracting frames from ../Data/videos\\L08_V025.mp4\n",
      "[TransNetV2] Processing video frames 29961/29961\n"
     ]
    },
    {
     "name": "stderr",
     "output_type": "stream",
     "text": [
      " 66%|██████▌   | 240/363 [6:51:36<3:40:58, 107.79s/it]"
     ]
    },
    {
     "name": "stdout",
     "output_type": "stream",
     "text": [
      "[TransNetV2] Extracting frames from ../Data/videos\\L08_V026.mp4\n",
      "[TransNetV2] Processing video frames 31000/31040"
     ]
    },
    {
     "name": "stderr",
     "output_type": "stream",
     "text": [
      " 66%|██████▋   | 241/363 [6:53:26<3:40:17, 108.34s/it]"
     ]
    },
    {
     "name": "stdout",
     "output_type": "stream",
     "text": [
      "[TransNetV2] Processing video frames 31040/31040\n",
      "[TransNetV2] Extracting frames from ../Data/videos\\L08_V027.mp4\n",
      "[TransNetV2] Processing video frames 30684/30684\n"
     ]
    },
    {
     "name": "stderr",
     "output_type": "stream",
     "text": [
      " 67%|██████▋   | 242/363 [6:55:13<3:37:57, 108.08s/it]"
     ]
    },
    {
     "name": "stdout",
     "output_type": "stream",
     "text": [
      "[TransNetV2] Extracting frames from ../Data/videos\\L08_V028.mp4\n",
      "[TransNetV2] Processing video frames 35954/35954\n"
     ]
    },
    {
     "name": "stderr",
     "output_type": "stream",
     "text": [
      " 67%|██████▋   | 243/363 [6:57:19<3:46:56, 113.47s/it]"
     ]
    },
    {
     "name": "stdout",
     "output_type": "stream",
     "text": [
      "[TransNetV2] Extracting frames from ../Data/videos\\L08_V029.mp4\n",
      "[TransNetV2] Processing video frames 34100/34108"
     ]
    },
    {
     "name": "stderr",
     "output_type": "stream",
     "text": [
      " 67%|██████▋   | 244/363 [6:59:19<3:49:02, 115.48s/it]"
     ]
    },
    {
     "name": "stdout",
     "output_type": "stream",
     "text": [
      "[TransNetV2] Processing video frames 34108/34108\n",
      "[TransNetV2] Extracting frames from ../Data/videos\\L08_V030.mp4\n",
      "[TransNetV2] Processing video frames 32800/32808"
     ]
    },
    {
     "name": "stderr",
     "output_type": "stream",
     "text": [
      " 67%|██████▋   | 245/363 [7:01:15<3:47:01, 115.44s/it]"
     ]
    },
    {
     "name": "stdout",
     "output_type": "stream",
     "text": [
      "[TransNetV2] Processing video frames 32808/32808\n",
      "[TransNetV2] Extracting frames from ../Data/videos\\L09_V001.mp4\n",
      "[TransNetV2] Processing video frames 32900/32934"
     ]
    },
    {
     "name": "stderr",
     "output_type": "stream",
     "text": [
      " 68%|██████▊   | 246/363 [7:03:10<3:44:49, 115.29s/it]"
     ]
    },
    {
     "name": "stdout",
     "output_type": "stream",
     "text": [
      "[TransNetV2] Processing video frames 32934/32934\n",
      "[TransNetV2] Extracting frames from ../Data/videos\\L09_V002.mp4\n",
      "[TransNetV2] Processing video frames 30357/30357\n"
     ]
    },
    {
     "name": "stderr",
     "output_type": "stream",
     "text": [
      " 68%|██████▊   | 247/363 [7:04:56<3:37:30, 112.51s/it]"
     ]
    },
    {
     "name": "stdout",
     "output_type": "stream",
     "text": [
      "[TransNetV2] Extracting frames from ../Data/videos\\L09_V003.mp4\n",
      "[TransNetV2] Processing video frames 35800/35827"
     ]
    },
    {
     "name": "stderr",
     "output_type": "stream",
     "text": [
      " 68%|██████▊   | 248/363 [7:07:00<3:42:39, 116.17s/it]"
     ]
    },
    {
     "name": "stdout",
     "output_type": "stream",
     "text": [
      "[TransNetV2] Processing video frames 35827/35827\n",
      "[TransNetV2] Extracting frames from ../Data/videos\\L09_V004.mp4\n",
      "[TransNetV2] Processing video frames 32591/32591\n"
     ]
    },
    {
     "name": "stderr",
     "output_type": "stream",
     "text": [
      " 69%|██████▊   | 249/363 [7:08:54<3:39:27, 115.51s/it]"
     ]
    },
    {
     "name": "stdout",
     "output_type": "stream",
     "text": [
      "[TransNetV2] Extracting frames from ../Data/videos\\L09_V005.mp4\n",
      "[TransNetV2] Processing video frames 29083/29083\n"
     ]
    },
    {
     "name": "stderr",
     "output_type": "stream",
     "text": [
      " 69%|██████▉   | 250/363 [7:10:36<3:29:40, 111.33s/it]"
     ]
    },
    {
     "name": "stdout",
     "output_type": "stream",
     "text": [
      "[TransNetV2] Extracting frames from ../Data/videos\\L09_V006.mp4\n",
      "[TransNetV2] Processing video frames 37099/37099\n"
     ]
    },
    {
     "name": "stderr",
     "output_type": "stream",
     "text": [
      " 69%|██████▉   | 251/363 [7:12:45<3:37:56, 116.75s/it]"
     ]
    },
    {
     "name": "stdout",
     "output_type": "stream",
     "text": [
      "[TransNetV2] Extracting frames from ../Data/videos\\L09_V007.mp4\n",
      "[TransNetV2] Processing video frames 28400/28448"
     ]
    },
    {
     "name": "stderr",
     "output_type": "stream",
     "text": [
      " 69%|██████▉   | 252/363 [7:14:25<3:26:11, 111.45s/it]"
     ]
    },
    {
     "name": "stdout",
     "output_type": "stream",
     "text": [
      "[TransNetV2] Processing video frames 28448/28448\n",
      "[TransNetV2] Extracting frames from ../Data/videos\\L09_V008.mp4\n",
      "[TransNetV2] Processing video frames 33160/33160\n"
     ]
    },
    {
     "name": "stderr",
     "output_type": "stream",
     "text": [
      " 70%|██████▉   | 253/363 [7:16:20<3:26:40, 112.74s/it]"
     ]
    },
    {
     "name": "stdout",
     "output_type": "stream",
     "text": [
      "[TransNetV2] Extracting frames from ../Data/videos\\L09_V009.mp4\n",
      "[TransNetV2] Processing video frames 41100/41104"
     ]
    },
    {
     "name": "stderr",
     "output_type": "stream",
     "text": [
      " 70%|██████▉   | 254/363 [7:18:43<3:41:00, 121.65s/it]"
     ]
    },
    {
     "name": "stdout",
     "output_type": "stream",
     "text": [
      "[TransNetV2] Processing video frames 41104/41104\n",
      "[TransNetV2] Extracting frames from ../Data/videos\\L09_V010.mp4\n",
      "[TransNetV2] Processing video frames 33000/33042"
     ]
    },
    {
     "name": "stderr",
     "output_type": "stream",
     "text": [
      " 70%|███████   | 255/363 [7:20:39<3:35:52, 119.93s/it]"
     ]
    },
    {
     "name": "stdout",
     "output_type": "stream",
     "text": [
      "[TransNetV2] Processing video frames 33042/33042\n",
      "[TransNetV2] Extracting frames from ../Data/videos\\L09_V011.mp4\n",
      "[TransNetV2] Processing video frames 30700/30738"
     ]
    },
    {
     "name": "stderr",
     "output_type": "stream",
     "text": [
      " 71%|███████   | 256/363 [7:22:27<3:27:29, 116.35s/it]"
     ]
    },
    {
     "name": "stdout",
     "output_type": "stream",
     "text": [
      "[TransNetV2] Processing video frames 30738/30738\n",
      "[TransNetV2] Extracting frames from ../Data/videos\\L09_V012.mp4\n",
      "[TransNetV2] Processing video frames 31400/31408"
     ]
    },
    {
     "name": "stderr",
     "output_type": "stream",
     "text": [
      " 71%|███████   | 257/363 [7:24:17<3:22:12, 114.46s/it]"
     ]
    },
    {
     "name": "stdout",
     "output_type": "stream",
     "text": [
      "[TransNetV2] Processing video frames 31408/31408\n",
      "[TransNetV2] Extracting frames from ../Data/videos\\L09_V013.mp4\n",
      "[TransNetV2] Processing video frames 32400/32431"
     ]
    },
    {
     "name": "stderr",
     "output_type": "stream",
     "text": [
      " 71%|███████   | 258/363 [7:26:10<3:19:34, 114.04s/it]"
     ]
    },
    {
     "name": "stdout",
     "output_type": "stream",
     "text": [
      "[TransNetV2] Processing video frames 32431/32431\n",
      "[TransNetV2] Extracting frames from ../Data/videos\\L09_V014.mp4\n",
      "[TransNetV2] Processing video frames 33200/33218"
     ]
    },
    {
     "name": "stderr",
     "output_type": "stream",
     "text": [
      " 71%|███████▏  | 259/363 [7:28:06<3:18:43, 114.65s/it]"
     ]
    },
    {
     "name": "stdout",
     "output_type": "stream",
     "text": [
      "[TransNetV2] Processing video frames 33218/33218\n",
      "[TransNetV2] Extracting frames from ../Data/videos\\L09_V015.mp4\n",
      "[TransNetV2] Processing video frames 38400/38427"
     ]
    },
    {
     "name": "stderr",
     "output_type": "stream",
     "text": [
      " 72%|███████▏  | 260/363 [7:30:19<3:26:29, 120.29s/it]"
     ]
    },
    {
     "name": "stdout",
     "output_type": "stream",
     "text": [
      "[TransNetV2] Processing video frames 38427/38427\n",
      "[TransNetV2] Extracting frames from ../Data/videos\\L09_V016.mp4\n",
      "[TransNetV2] Processing video frames 34070/34070\n"
     ]
    },
    {
     "name": "stderr",
     "output_type": "stream",
     "text": [
      " 72%|███████▏  | 261/363 [7:32:18<3:23:29, 119.70s/it]"
     ]
    },
    {
     "name": "stdout",
     "output_type": "stream",
     "text": [
      "[TransNetV2] Extracting frames from ../Data/videos\\L09_V017.mp4\n",
      "[TransNetV2] Processing video frames 33900/33911"
     ]
    },
    {
     "name": "stderr",
     "output_type": "stream",
     "text": [
      " 72%|███████▏  | 262/363 [7:34:16<3:20:40, 119.21s/it]"
     ]
    },
    {
     "name": "stdout",
     "output_type": "stream",
     "text": [
      "[TransNetV2] Processing video frames 33911/33911\n",
      "[TransNetV2] Extracting frames from ../Data/videos\\L09_V018.mp4\n",
      "[TransNetV2] Processing video frames 32772/32772\n"
     ]
    },
    {
     "name": "stderr",
     "output_type": "stream",
     "text": [
      " 72%|███████▏  | 263/363 [7:36:10<3:16:05, 117.65s/it]"
     ]
    },
    {
     "name": "stdout",
     "output_type": "stream",
     "text": [
      "[TransNetV2] Extracting frames from ../Data/videos\\L09_V019.mp4\n",
      "[TransNetV2] Processing video frames 28453/28453\n"
     ]
    },
    {
     "name": "stderr",
     "output_type": "stream",
     "text": [
      " 73%|███████▎  | 264/363 [7:37:49<3:05:05, 112.18s/it]"
     ]
    },
    {
     "name": "stdout",
     "output_type": "stream",
     "text": [
      "[TransNetV2] Extracting frames from ../Data/videos\\L09_V020.mp4\n",
      "[TransNetV2] Processing video frames 37100/37118"
     ]
    },
    {
     "name": "stderr",
     "output_type": "stream",
     "text": [
      " 73%|███████▎  | 265/363 [7:40:01<3:12:52, 118.08s/it]"
     ]
    },
    {
     "name": "stdout",
     "output_type": "stream",
     "text": [
      "[TransNetV2] Processing video frames 37118/37118\n",
      "[TransNetV2] Extracting frames from ../Data/videos\\L09_V021.mp4\n",
      "[TransNetV2] Processing video frames 29192/29192\n"
     ]
    },
    {
     "name": "stderr",
     "output_type": "stream",
     "text": [
      " 73%|███████▎  | 266/363 [7:41:42<3:02:42, 113.01s/it]"
     ]
    },
    {
     "name": "stdout",
     "output_type": "stream",
     "text": [
      "[TransNetV2] Extracting frames from ../Data/videos\\L09_V022.mp4\n",
      "[TransNetV2] Processing video frames 34600/34612"
     ]
    },
    {
     "name": "stderr",
     "output_type": "stream",
     "text": [
      " 74%|███████▎  | 267/363 [7:43:45<3:05:39, 116.04s/it]"
     ]
    },
    {
     "name": "stdout",
     "output_type": "stream",
     "text": [
      "[TransNetV2] Processing video frames 34612/34612\n",
      "[TransNetV2] Extracting frames from ../Data/videos\\L09_V023.mp4\n",
      "[TransNetV2] Processing video frames 28186/28186\n"
     ]
    },
    {
     "name": "stderr",
     "output_type": "stream",
     "text": [
      " 74%|███████▍  | 268/363 [7:45:26<2:56:16, 111.33s/it]"
     ]
    },
    {
     "name": "stdout",
     "output_type": "stream",
     "text": [
      "[TransNetV2] Extracting frames from ../Data/videos\\L09_V024.mp4\n",
      "[TransNetV2] Processing video frames 28874/28874\n"
     ]
    },
    {
     "name": "stderr",
     "output_type": "stream",
     "text": [
      " 74%|███████▍  | 269/363 [7:47:08<2:50:20, 108.72s/it]"
     ]
    },
    {
     "name": "stdout",
     "output_type": "stream",
     "text": [
      "[TransNetV2] Extracting frames from ../Data/videos\\L09_V025.mp4\n",
      "[TransNetV2] Processing video frames 30500/30502"
     ]
    },
    {
     "name": "stderr",
     "output_type": "stream",
     "text": [
      " 74%|███████▍  | 270/363 [7:48:57<2:48:21, 108.62s/it]"
     ]
    },
    {
     "name": "stdout",
     "output_type": "stream",
     "text": [
      "[TransNetV2] Processing video frames 30502/30502\n",
      "[TransNetV2] Extracting frames from ../Data/videos\\L09_V026.mp4\n",
      "[TransNetV2] Processing video frames 25500/25527"
     ]
    },
    {
     "name": "stderr",
     "output_type": "stream",
     "text": [
      " 75%|███████▍  | 271/363 [7:50:27<2:38:22, 103.28s/it]"
     ]
    },
    {
     "name": "stdout",
     "output_type": "stream",
     "text": [
      "[TransNetV2] Processing video frames 25527/25527\n",
      "[TransNetV2] Extracting frames from ../Data/videos\\L09_V027.mp4\n",
      "[TransNetV2] Processing video frames 27400/27401"
     ]
    },
    {
     "name": "stderr",
     "output_type": "stream",
     "text": [
      " 75%|███████▍  | 272/363 [7:52:05<2:34:02, 101.57s/it]"
     ]
    },
    {
     "name": "stdout",
     "output_type": "stream",
     "text": [
      "[TransNetV2] Processing video frames 27401/27401\n",
      "[TransNetV2] Extracting frames from ../Data/videos\\L09_V028.mp4\n",
      "[TransNetV2] Processing video frames 32054/32054\n"
     ]
    },
    {
     "name": "stderr",
     "output_type": "stream",
     "text": [
      " 75%|███████▌  | 273/363 [7:53:59<2:37:51, 105.24s/it]"
     ]
    },
    {
     "name": "stdout",
     "output_type": "stream",
     "text": [
      "[TransNetV2] Extracting frames from ../Data/videos\\L09_V029.mp4\n",
      "[TransNetV2] Processing video frames 28800/28807"
     ]
    },
    {
     "name": "stderr",
     "output_type": "stream",
     "text": [
      " 75%|███████▌  | 274/363 [7:55:39<2:33:55, 103.77s/it]"
     ]
    },
    {
     "name": "stdout",
     "output_type": "stream",
     "text": [
      "[TransNetV2] Processing video frames 28807/28807\n",
      "[TransNetV2] Extracting frames from ../Data/videos\\L10_V001.mp4\n",
      "[TransNetV2] Processing video frames 34600/34644"
     ]
    },
    {
     "name": "stderr",
     "output_type": "stream",
     "text": [
      " 76%|███████▌  | 275/363 [7:57:40<2:39:54, 109.03s/it]"
     ]
    },
    {
     "name": "stdout",
     "output_type": "stream",
     "text": [
      "[TransNetV2] Processing video frames 34644/34644\n",
      "[TransNetV2] Extracting frames from ../Data/videos\\L10_V002.mp4\n",
      "[TransNetV2] Processing video frames 30475/30475\n"
     ]
    },
    {
     "name": "stderr",
     "output_type": "stream",
     "text": [
      " 76%|███████▌  | 276/363 [7:59:28<2:37:34, 108.67s/it]"
     ]
    },
    {
     "name": "stdout",
     "output_type": "stream",
     "text": [
      "[TransNetV2] Extracting frames from ../Data/videos\\L10_V003.mp4\n",
      "[TransNetV2] Processing video frames 34964/34964\n"
     ]
    },
    {
     "name": "stderr",
     "output_type": "stream",
     "text": [
      " 76%|███████▋  | 277/363 [8:01:33<2:42:43, 113.53s/it]"
     ]
    },
    {
     "name": "stdout",
     "output_type": "stream",
     "text": [
      "[TransNetV2] Extracting frames from ../Data/videos\\L10_V004.mp4\n",
      "[TransNetV2] Processing video frames 32300/32340"
     ]
    },
    {
     "name": "stderr",
     "output_type": "stream",
     "text": [
      " 77%|███████▋  | 278/363 [8:03:29<2:41:39, 114.11s/it]"
     ]
    },
    {
     "name": "stdout",
     "output_type": "stream",
     "text": [
      "[TransNetV2] Processing video frames 32340/32340\n",
      "[TransNetV2] Extracting frames from ../Data/videos\\L10_V005.mp4\n",
      "[TransNetV2] Processing video frames 37771/37771\n"
     ]
    },
    {
     "name": "stderr",
     "output_type": "stream",
     "text": [
      " 77%|███████▋  | 279/363 [8:05:44<2:48:29, 120.35s/it]"
     ]
    },
    {
     "name": "stdout",
     "output_type": "stream",
     "text": [
      "[TransNetV2] Extracting frames from ../Data/videos\\L10_V006.mp4\n",
      "[TransNetV2] Processing video frames 35380/35380\n"
     ]
    },
    {
     "name": "stderr",
     "output_type": "stream",
     "text": [
      " 77%|███████▋  | 280/363 [8:07:50<2:48:52, 122.08s/it]"
     ]
    },
    {
     "name": "stdout",
     "output_type": "stream",
     "text": [
      "[TransNetV2] Extracting frames from ../Data/videos\\L10_V007.mp4\n",
      "[TransNetV2] Processing video frames 31785/31785\n"
     ]
    },
    {
     "name": "stderr",
     "output_type": "stream",
     "text": [
      " 77%|███████▋  | 281/363 [8:09:43<2:43:10, 119.40s/it]"
     ]
    },
    {
     "name": "stdout",
     "output_type": "stream",
     "text": [
      "[TransNetV2] Extracting frames from ../Data/videos\\L10_V008.mp4\n",
      "[TransNetV2] Processing video frames 30573/30573\n"
     ]
    },
    {
     "name": "stderr",
     "output_type": "stream",
     "text": [
      " 78%|███████▊  | 282/363 [8:11:32<2:36:55, 116.24s/it]"
     ]
    },
    {
     "name": "stdout",
     "output_type": "stream",
     "text": [
      "[TransNetV2] Extracting frames from ../Data/videos\\L10_V009.mp4\n",
      "[TransNetV2] Processing video frames 33268/33268\n"
     ]
    },
    {
     "name": "stderr",
     "output_type": "stream",
     "text": [
      " 78%|███████▊  | 283/363 [8:13:30<2:35:57, 116.96s/it]"
     ]
    },
    {
     "name": "stdout",
     "output_type": "stream",
     "text": [
      "[TransNetV2] Extracting frames from ../Data/videos\\L10_V010.mp4\n",
      "[TransNetV2] Processing video frames 30400/30434"
     ]
    },
    {
     "name": "stderr",
     "output_type": "stream",
     "text": [
      " 78%|███████▊  | 284/363 [8:15:19<2:30:42, 114.46s/it]"
     ]
    },
    {
     "name": "stdout",
     "output_type": "stream",
     "text": [
      "[TransNetV2] Processing video frames 30434/30434\n",
      "[TransNetV2] Extracting frames from ../Data/videos\\L10_V011.mp4\n",
      "[TransNetV2] Processing video frames 27698/27698\n"
     ]
    },
    {
     "name": "stderr",
     "output_type": "stream",
     "text": [
      " 79%|███████▊  | 285/363 [8:16:58<2:22:46, 109.83s/it]"
     ]
    },
    {
     "name": "stdout",
     "output_type": "stream",
     "text": [
      "[TransNetV2] Extracting frames from ../Data/videos\\L10_V012.mp4\n",
      "[TransNetV2] Processing video frames 34996/34996\n"
     ]
    },
    {
     "name": "stderr",
     "output_type": "stream",
     "text": [
      " 79%|███████▉  | 286/363 [8:19:03<2:26:45, 114.36s/it]"
     ]
    },
    {
     "name": "stdout",
     "output_type": "stream",
     "text": [
      "[TransNetV2] Extracting frames from ../Data/videos\\L10_V013.mp4\n",
      "[TransNetV2] Processing video frames 30300/30323"
     ]
    },
    {
     "name": "stderr",
     "output_type": "stream",
     "text": [
      " 79%|███████▉  | 287/363 [8:20:51<2:22:28, 112.48s/it]"
     ]
    },
    {
     "name": "stdout",
     "output_type": "stream",
     "text": [
      "[TransNetV2] Processing video frames 30323/30323\n",
      "[TransNetV2] Extracting frames from ../Data/videos\\L10_V014.mp4\n",
      "[TransNetV2] Processing video frames 35200/35202"
     ]
    },
    {
     "name": "stderr",
     "output_type": "stream",
     "text": [
      " 79%|███████▉  | 288/363 [8:22:54<2:24:32, 115.63s/it]"
     ]
    },
    {
     "name": "stdout",
     "output_type": "stream",
     "text": [
      "[TransNetV2] Processing video frames 35202/35202\n",
      "[TransNetV2] Extracting frames from ../Data/videos\\L10_V015.mp4\n",
      "[TransNetV2] Processing video frames 31400/31400\n"
     ]
    },
    {
     "name": "stderr",
     "output_type": "stream",
     "text": [
      " 80%|███████▉  | 289/363 [8:24:43<2:20:20, 113.79s/it]"
     ]
    },
    {
     "name": "stdout",
     "output_type": "stream",
     "text": [
      "[TransNetV2] Extracting frames from ../Data/videos\\L10_V016.mp4\n",
      "[TransNetV2] Processing video frames 34392/34392\n"
     ]
    },
    {
     "name": "stderr",
     "output_type": "stream",
     "text": [
      " 80%|███████▉  | 290/363 [8:26:44<2:20:46, 115.71s/it]"
     ]
    },
    {
     "name": "stdout",
     "output_type": "stream",
     "text": [
      "[TransNetV2] Extracting frames from ../Data/videos\\L10_V017.mp4\n",
      "[TransNetV2] Processing video frames 29264/29264\n"
     ]
    },
    {
     "name": "stderr",
     "output_type": "stream",
     "text": [
      " 80%|████████  | 291/363 [8:28:27<2:14:13, 111.86s/it]"
     ]
    },
    {
     "name": "stdout",
     "output_type": "stream",
     "text": [
      "[TransNetV2] Extracting frames from ../Data/videos\\L10_V018.mp4\n",
      "[TransNetV2] Processing video frames 30700/30734"
     ]
    },
    {
     "name": "stderr",
     "output_type": "stream",
     "text": [
      " 80%|████████  | 292/363 [8:30:15<2:11:04, 110.77s/it]"
     ]
    },
    {
     "name": "stdout",
     "output_type": "stream",
     "text": [
      "[TransNetV2] Processing video frames 30734/30734\n",
      "[TransNetV2] Extracting frames from ../Data/videos\\L10_V019.mp4\n",
      "[TransNetV2] Processing video frames 27787/27787\n"
     ]
    },
    {
     "name": "stderr",
     "output_type": "stream",
     "text": [
      " 81%|████████  | 293/363 [8:31:52<2:04:38, 106.83s/it]"
     ]
    },
    {
     "name": "stdout",
     "output_type": "stream",
     "text": [
      "[TransNetV2] Extracting frames from ../Data/videos\\L10_V020.mp4\n",
      "[TransNetV2] Processing video frames 31500/31501"
     ]
    },
    {
     "name": "stderr",
     "output_type": "stream",
     "text": [
      " 81%|████████  | 294/363 [8:33:43<2:04:17, 108.08s/it]"
     ]
    },
    {
     "name": "stdout",
     "output_type": "stream",
     "text": [
      "[TransNetV2] Processing video frames 31501/31501\n",
      "[TransNetV2] Extracting frames from ../Data/videos\\L10_V021.mp4\n",
      "[TransNetV2] Processing video frames 33900/33939"
     ]
    },
    {
     "name": "stderr",
     "output_type": "stream",
     "text": [
      " 81%|████████▏ | 295/363 [8:35:48<2:08:03, 112.99s/it]"
     ]
    },
    {
     "name": "stdout",
     "output_type": "stream",
     "text": [
      "[TransNetV2] Processing video frames 33939/33939\n",
      "[TransNetV2] Extracting frames from ../Data/videos\\L10_V022.mp4\n",
      "[TransNetV2] Processing video frames 31899/31899\n"
     ]
    },
    {
     "name": "stderr",
     "output_type": "stream",
     "text": [
      " 82%|████████▏ | 296/363 [8:37:45<2:07:27, 114.14s/it]"
     ]
    },
    {
     "name": "stdout",
     "output_type": "stream",
     "text": [
      "[TransNetV2] Extracting frames from ../Data/videos\\L10_V023.mp4\n",
      "[TransNetV2] Processing video frames 34437/34437\n"
     ]
    },
    {
     "name": "stderr",
     "output_type": "stream",
     "text": [
      " 82%|████████▏ | 297/363 [8:39:49<2:08:55, 117.20s/it]"
     ]
    },
    {
     "name": "stdout",
     "output_type": "stream",
     "text": [
      "[TransNetV2] Extracting frames from ../Data/videos\\L10_V024.mp4\n",
      "[TransNetV2] Processing video frames 32300/32332"
     ]
    },
    {
     "name": "stderr",
     "output_type": "stream",
     "text": [
      " 82%|████████▏ | 298/363 [8:41:50<2:08:03, 118.21s/it]"
     ]
    },
    {
     "name": "stdout",
     "output_type": "stream",
     "text": [
      "[TransNetV2] Processing video frames 32332/32332\n",
      "[TransNetV2] Extracting frames from ../Data/videos\\L10_V025.mp4\n",
      "[TransNetV2] Processing video frames 33930/33930\n"
     ]
    },
    {
     "name": "stderr",
     "output_type": "stream",
     "text": [
      " 82%|████████▏ | 299/363 [8:43:55<2:08:21, 120.34s/it]"
     ]
    },
    {
     "name": "stdout",
     "output_type": "stream",
     "text": [
      "[TransNetV2] Extracting frames from ../Data/videos\\L10_V026.mp4\n",
      "[TransNetV2] Processing video frames 32544/32544\n"
     ]
    },
    {
     "name": "stderr",
     "output_type": "stream",
     "text": [
      " 83%|████████▎ | 300/363 [8:45:52<2:05:22, 119.41s/it]"
     ]
    },
    {
     "name": "stdout",
     "output_type": "stream",
     "text": [
      "[TransNetV2] Extracting frames from ../Data/videos\\L10_V027.mp4\n",
      "[TransNetV2] Processing video frames 32560/32560\n"
     ]
    },
    {
     "name": "stderr",
     "output_type": "stream",
     "text": [
      " 83%|████████▎ | 301/363 [8:47:50<2:02:58, 119.01s/it]"
     ]
    },
    {
     "name": "stdout",
     "output_type": "stream",
     "text": [
      "[TransNetV2] Extracting frames from ../Data/videos\\L10_V028.mp4\n",
      "[TransNetV2] Processing video frames 33050/33054"
     ]
    },
    {
     "name": "stderr",
     "output_type": "stream",
     "text": [
      " 83%|████████▎ | 302/363 [8:49:49<2:00:52, 118.89s/it]"
     ]
    },
    {
     "name": "stdout",
     "output_type": "stream",
     "text": [
      "[TransNetV2] Processing video frames 33054/33054\n",
      "[TransNetV2] Extracting frames from ../Data/videos\\L10_V029.mp4\n",
      "[TransNetV2] Processing video frames 29890/29890\n"
     ]
    },
    {
     "name": "stderr",
     "output_type": "stream",
     "text": [
      " 83%|████████▎ | 303/363 [8:51:34<1:54:40, 114.67s/it]"
     ]
    },
    {
     "name": "stdout",
     "output_type": "stream",
     "text": [
      "[TransNetV2] Extracting frames from ../Data/videos\\L11_V001.mp4\n",
      "[TransNetV2] Processing video frames 33000/33047"
     ]
    },
    {
     "name": "stderr",
     "output_type": "stream",
     "text": [
      " 84%|████████▎ | 304/363 [8:53:29<1:52:56, 114.86s/it]"
     ]
    },
    {
     "name": "stdout",
     "output_type": "stream",
     "text": [
      "[TransNetV2] Processing video frames 33047/33047\n",
      "[TransNetV2] Extracting frames from ../Data/videos\\L11_V002.mp4\n",
      "[TransNetV2] Processing video frames 30377/30377\n"
     ]
    },
    {
     "name": "stderr",
     "output_type": "stream",
     "text": [
      " 84%|████████▍ | 305/363 [8:55:15<1:48:28, 112.21s/it]"
     ]
    },
    {
     "name": "stdout",
     "output_type": "stream",
     "text": [
      "[TransNetV2] Extracting frames from ../Data/videos\\L11_V003.mp4\n",
      "[TransNetV2] Processing video frames 32167/32167\n"
     ]
    },
    {
     "name": "stderr",
     "output_type": "stream",
     "text": [
      " 84%|████████▍ | 306/363 [8:57:08<1:46:48, 112.43s/it]"
     ]
    },
    {
     "name": "stdout",
     "output_type": "stream",
     "text": [
      "[TransNetV2] Extracting frames from ../Data/videos\\L11_V004.mp4\n",
      "[TransNetV2] Processing video frames 25200/25227"
     ]
    },
    {
     "name": "stderr",
     "output_type": "stream",
     "text": [
      " 85%|████████▍ | 307/363 [8:58:35<1:37:56, 104.94s/it]"
     ]
    },
    {
     "name": "stdout",
     "output_type": "stream",
     "text": [
      "[TransNetV2] Processing video frames 25227/25227\n",
      "[TransNetV2] Extracting frames from ../Data/videos\\L11_V005.mp4\n",
      "[TransNetV2] Processing video frames 30700/30743"
     ]
    },
    {
     "name": "stderr",
     "output_type": "stream",
     "text": [
      " 85%|████████▍ | 308/363 [9:00:23<1:36:48, 105.61s/it]"
     ]
    },
    {
     "name": "stdout",
     "output_type": "stream",
     "text": [
      "[TransNetV2] Processing video frames 30743/30743\n",
      "[TransNetV2] Extracting frames from ../Data/videos\\L11_V006.mp4\n",
      "[TransNetV2] Processing video frames 28654/28654\n"
     ]
    },
    {
     "name": "stderr",
     "output_type": "stream",
     "text": [
      " 85%|████████▌ | 309/363 [9:02:06<1:34:34, 105.09s/it]"
     ]
    },
    {
     "name": "stdout",
     "output_type": "stream",
     "text": [
      "[TransNetV2] Extracting frames from ../Data/videos\\L11_V007.mp4\n",
      "[TransNetV2] Processing video frames 33600/33619"
     ]
    },
    {
     "name": "stderr",
     "output_type": "stream",
     "text": [
      " 85%|████████▌ | 310/363 [9:04:07<1:36:53, 109.68s/it]"
     ]
    },
    {
     "name": "stdout",
     "output_type": "stream",
     "text": [
      "[TransNetV2] Processing video frames 33619/33619\n",
      "[TransNetV2] Extracting frames from ../Data/videos\\L11_V008.mp4\n",
      "[TransNetV2] Processing video frames 33100/33136"
     ]
    },
    {
     "name": "stderr",
     "output_type": "stream",
     "text": [
      " 86%|████████▌ | 311/363 [9:06:02<1:36:35, 111.46s/it]"
     ]
    },
    {
     "name": "stdout",
     "output_type": "stream",
     "text": [
      "[TransNetV2] Processing video frames 33136/33136\n",
      "[TransNetV2] Extracting frames from ../Data/videos\\L11_V009.mp4\n",
      "[TransNetV2] Processing video frames 33400/33441"
     ]
    },
    {
     "name": "stderr",
     "output_type": "stream",
     "text": [
      " 86%|████████▌ | 312/363 [9:08:00<1:36:11, 113.16s/it]"
     ]
    },
    {
     "name": "stdout",
     "output_type": "stream",
     "text": [
      "[TransNetV2] Processing video frames 33441/33441\n",
      "[TransNetV2] Extracting frames from ../Data/videos\\L11_V010.mp4\n",
      "[TransNetV2] Processing video frames 26997/26997\n"
     ]
    },
    {
     "name": "stderr",
     "output_type": "stream",
     "text": [
      " 86%|████████▌ | 313/363 [9:09:33<1:29:24, 107.30s/it]"
     ]
    },
    {
     "name": "stdout",
     "output_type": "stream",
     "text": [
      "[TransNetV2] Extracting frames from ../Data/videos\\L11_V011.mp4\n",
      "[TransNetV2] Processing video frames 27064/27064\n"
     ]
    },
    {
     "name": "stderr",
     "output_type": "stream",
     "text": [
      " 87%|████████▋ | 314/363 [9:11:08<1:24:28, 103.44s/it]"
     ]
    },
    {
     "name": "stdout",
     "output_type": "stream",
     "text": [
      "[TransNetV2] Extracting frames from ../Data/videos\\L11_V012.mp4\n",
      "[TransNetV2] Processing video frames 28900/28923"
     ]
    },
    {
     "name": "stderr",
     "output_type": "stream",
     "text": [
      " 87%|████████▋ | 315/363 [9:12:49<1:22:16, 102.85s/it]"
     ]
    },
    {
     "name": "stdout",
     "output_type": "stream",
     "text": [
      "[TransNetV2] Processing video frames 28923/28923\n",
      "[TransNetV2] Extracting frames from ../Data/videos\\L11_V013.mp4\n",
      "[TransNetV2] Processing video frames 29765/29765\n"
     ]
    },
    {
     "name": "stderr",
     "output_type": "stream",
     "text": [
      " 87%|████████▋ | 316/363 [9:14:33<1:20:51, 103.23s/it]"
     ]
    },
    {
     "name": "stdout",
     "output_type": "stream",
     "text": [
      "[TransNetV2] Extracting frames from ../Data/videos\\L11_V014.mp4\n",
      "[TransNetV2] Processing video frames 27600/27640"
     ]
    },
    {
     "name": "stderr",
     "output_type": "stream",
     "text": [
      " 87%|████████▋ | 317/363 [9:16:10<1:17:35, 101.21s/it]"
     ]
    },
    {
     "name": "stdout",
     "output_type": "stream",
     "text": [
      "[TransNetV2] Processing video frames 27640/27640\n",
      "[TransNetV2] Extracting frames from ../Data/videos\\L11_V015.mp4\n",
      "[TransNetV2] Processing video frames 25800/25841"
     ]
    },
    {
     "name": "stderr",
     "output_type": "stream",
     "text": [
      " 88%|████████▊ | 318/363 [9:17:40<1:13:21, 97.80s/it] "
     ]
    },
    {
     "name": "stdout",
     "output_type": "stream",
     "text": [
      "[TransNetV2] Processing video frames 25841/25841\n",
      "[TransNetV2] Extracting frames from ../Data/videos\\L11_V016.mp4\n",
      "[TransNetV2] Processing video frames 29279/29279\n"
     ]
    },
    {
     "name": "stderr",
     "output_type": "stream",
     "text": [
      " 88%|████████▊ | 319/363 [9:19:22<1:12:41, 99.12s/it]"
     ]
    },
    {
     "name": "stdout",
     "output_type": "stream",
     "text": [
      "[TransNetV2] Extracting frames from ../Data/videos\\L11_V017.mp4\n",
      "[TransNetV2] Processing video frames 29100/29100\n"
     ]
    },
    {
     "name": "stderr",
     "output_type": "stream",
     "text": [
      " 88%|████████▊ | 320/363 [9:21:04<1:11:36, 99.93s/it]"
     ]
    },
    {
     "name": "stdout",
     "output_type": "stream",
     "text": [
      "[TransNetV2] Extracting frames from ../Data/videos\\L11_V018.mp4\n",
      "[TransNetV2] Processing video frames 34800/34850"
     ]
    },
    {
     "name": "stderr",
     "output_type": "stream",
     "text": [
      " 88%|████████▊ | 321/363 [9:23:05<1:14:32, 106.48s/it]"
     ]
    },
    {
     "name": "stdout",
     "output_type": "stream",
     "text": [
      "[TransNetV2] Processing video frames 34850/34850\n",
      "[TransNetV2] Extracting frames from ../Data/videos\\L11_V019.mp4\n",
      "[TransNetV2] Processing video frames 27591/27591\n"
     ]
    },
    {
     "name": "stderr",
     "output_type": "stream",
     "text": [
      " 89%|████████▊ | 322/363 [9:24:42<1:10:44, 103.52s/it]"
     ]
    },
    {
     "name": "stdout",
     "output_type": "stream",
     "text": [
      "[TransNetV2] Extracting frames from ../Data/videos\\L11_V020.mp4\n",
      "[TransNetV2] Processing video frames 30095/30095\n"
     ]
    },
    {
     "name": "stderr",
     "output_type": "stream",
     "text": [
      " 89%|████████▉ | 323/363 [9:26:29<1:09:45, 104.65s/it]"
     ]
    },
    {
     "name": "stdout",
     "output_type": "stream",
     "text": [
      "[TransNetV2] Extracting frames from ../Data/videos\\L11_V021.mp4\n",
      "[TransNetV2] Processing video frames 33000/33046"
     ]
    },
    {
     "name": "stderr",
     "output_type": "stream",
     "text": [
      " 89%|████████▉ | 324/363 [9:28:25<1:10:12, 108.01s/it]"
     ]
    },
    {
     "name": "stdout",
     "output_type": "stream",
     "text": [
      "[TransNetV2] Processing video frames 33046/33046\n",
      "[TransNetV2] Extracting frames from ../Data/videos\\L11_V022.mp4\n",
      "[TransNetV2] Processing video frames 25900/25947"
     ]
    },
    {
     "name": "stderr",
     "output_type": "stream",
     "text": [
      " 90%|████████▉ | 325/363 [9:29:55<1:05:00, 102.63s/it]"
     ]
    },
    {
     "name": "stdout",
     "output_type": "stream",
     "text": [
      "[TransNetV2] Processing video frames 25947/25947\n",
      "[TransNetV2] Extracting frames from ../Data/videos\\L11_V023.mp4\n",
      "[TransNetV2] Processing video frames 31097/31097\n"
     ]
    },
    {
     "name": "stderr",
     "output_type": "stream",
     "text": [
      " 90%|████████▉ | 326/363 [9:31:44<1:04:22, 104.38s/it]"
     ]
    },
    {
     "name": "stdout",
     "output_type": "stream",
     "text": [
      "[TransNetV2] Extracting frames from ../Data/videos\\L11_V024.mp4\n",
      "[TransNetV2] Processing video frames 30600/30600\n"
     ]
    },
    {
     "name": "stderr",
     "output_type": "stream",
     "text": [
      " 90%|█████████ | 327/363 [9:33:31<1:03:11, 105.31s/it]"
     ]
    },
    {
     "name": "stdout",
     "output_type": "stream",
     "text": [
      "[TransNetV2] Extracting frames from ../Data/videos\\L11_V025.mp4\n",
      "[TransNetV2] Processing video frames 26600/26606"
     ]
    },
    {
     "name": "stderr",
     "output_type": "stream",
     "text": [
      " 90%|█████████ | 328/363 [9:35:04<59:13, 101.52s/it]  "
     ]
    },
    {
     "name": "stdout",
     "output_type": "stream",
     "text": [
      "[TransNetV2] Processing video frames 26606/26606\n",
      "[TransNetV2] Extracting frames from ../Data/videos\\L11_V026.mp4\n",
      "[TransNetV2] Processing video frames 30864/30864\n"
     ]
    },
    {
     "name": "stderr",
     "output_type": "stream",
     "text": [
      " 91%|█████████ | 329/363 [9:36:52<58:39, 103.51s/it]"
     ]
    },
    {
     "name": "stdout",
     "output_type": "stream",
     "text": [
      "[TransNetV2] Extracting frames from ../Data/videos\\L11_V027.mp4\n",
      "[TransNetV2] Processing video frames 30100/30117"
     ]
    },
    {
     "name": "stderr",
     "output_type": "stream",
     "text": [
      " 91%|█████████ | 330/363 [9:38:37<57:14, 104.07s/it]"
     ]
    },
    {
     "name": "stdout",
     "output_type": "stream",
     "text": [
      "[TransNetV2] Processing video frames 30117/30117\n",
      "[TransNetV2] Extracting frames from ../Data/videos\\L11_V028.mp4\n",
      "[TransNetV2] Processing video frames 33364/33364\n"
     ]
    },
    {
     "name": "stderr",
     "output_type": "stream",
     "text": [
      " 91%|█████████ | 331/363 [9:40:34<57:29, 107.81s/it]"
     ]
    },
    {
     "name": "stdout",
     "output_type": "stream",
     "text": [
      "[TransNetV2] Extracting frames from ../Data/videos\\L11_V029.mp4\n",
      "[TransNetV2] Processing video frames 30300/30349"
     ]
    },
    {
     "name": "stderr",
     "output_type": "stream",
     "text": [
      " 91%|█████████▏| 332/363 [9:42:20<55:25, 107.28s/it]"
     ]
    },
    {
     "name": "stdout",
     "output_type": "stream",
     "text": [
      "[TransNetV2] Processing video frames 30349/30349\n",
      "[TransNetV2] Extracting frames from ../Data/videos\\L11_V030.mp4\n",
      "[TransNetV2] Processing video frames 29174/29174\n"
     ]
    },
    {
     "name": "stderr",
     "output_type": "stream",
     "text": [
      " 92%|█████████▏| 333/363 [9:44:02<52:56, 105.87s/it]"
     ]
    },
    {
     "name": "stdout",
     "output_type": "stream",
     "text": [
      "[TransNetV2] Extracting frames from ../Data/videos\\L12_V001.mp4\n",
      "[TransNetV2] Processing video frames 33800/33847"
     ]
    },
    {
     "name": "stderr",
     "output_type": "stream",
     "text": [
      " 92%|█████████▏| 334/363 [9:46:01<52:57, 109.57s/it]"
     ]
    },
    {
     "name": "stdout",
     "output_type": "stream",
     "text": [
      "[TransNetV2] Processing video frames 33847/33847\n",
      "[TransNetV2] Extracting frames from ../Data/videos\\L12_V002.mp4\n",
      "[TransNetV2] Processing video frames 29100/29144"
     ]
    },
    {
     "name": "stderr",
     "output_type": "stream",
     "text": [
      " 92%|█████████▏| 335/363 [9:47:42<49:58, 107.08s/it]"
     ]
    },
    {
     "name": "stdout",
     "output_type": "stream",
     "text": [
      "[TransNetV2] Processing video frames 29144/29144\n",
      "[TransNetV2] Extracting frames from ../Data/videos\\L12_V003.mp4\n",
      "[TransNetV2] Processing video frames 31800/31812"
     ]
    },
    {
     "name": "stderr",
     "output_type": "stream",
     "text": [
      " 93%|█████████▎| 336/363 [9:49:35<49:03, 109.00s/it]"
     ]
    },
    {
     "name": "stdout",
     "output_type": "stream",
     "text": [
      "[TransNetV2] Processing video frames 31812/31812\n",
      "[TransNetV2] Extracting frames from ../Data/videos\\L12_V004.mp4\n",
      "[TransNetV2] Processing video frames 32754/32754\n"
     ]
    },
    {
     "name": "stderr",
     "output_type": "stream",
     "text": [
      " 93%|█████████▎| 337/363 [9:51:30<47:59, 110.74s/it]"
     ]
    },
    {
     "name": "stdout",
     "output_type": "stream",
     "text": [
      "[TransNetV2] Extracting frames from ../Data/videos\\L12_V005.mp4\n",
      "[TransNetV2] Processing video frames 37600/37601"
     ]
    },
    {
     "name": "stderr",
     "output_type": "stream",
     "text": [
      " 93%|█████████▎| 338/363 [9:53:42<48:44, 116.98s/it]"
     ]
    },
    {
     "name": "stdout",
     "output_type": "stream",
     "text": [
      "[TransNetV2] Processing video frames 37601/37601\n",
      "[TransNetV2] Extracting frames from ../Data/videos\\L12_V006.mp4\n",
      "[TransNetV2] Processing video frames 35383/35383\n"
     ]
    },
    {
     "name": "stderr",
     "output_type": "stream",
     "text": [
      " 93%|█████████▎| 339/363 [9:55:48<47:53, 119.71s/it]"
     ]
    },
    {
     "name": "stdout",
     "output_type": "stream",
     "text": [
      "[TransNetV2] Extracting frames from ../Data/videos\\L12_V007.mp4\n",
      "[TransNetV2] Processing video frames 32200/32235"
     ]
    },
    {
     "name": "stderr",
     "output_type": "stream",
     "text": [
      " 94%|█████████▎| 340/363 [9:57:41<45:05, 117.62s/it]"
     ]
    },
    {
     "name": "stdout",
     "output_type": "stream",
     "text": [
      "[TransNetV2] Processing video frames 32235/32235\n",
      "[TransNetV2] Extracting frames from ../Data/videos\\L12_V008.mp4\n",
      "[TransNetV2] Processing video frames 30466/30466\n"
     ]
    },
    {
     "name": "stderr",
     "output_type": "stream",
     "text": [
      " 94%|█████████▍| 341/363 [9:59:27<41:53, 114.27s/it]"
     ]
    },
    {
     "name": "stdout",
     "output_type": "stream",
     "text": [
      "[TransNetV2] Extracting frames from ../Data/videos\\L12_V009.mp4\n",
      "[TransNetV2] Processing video frames 34100/34103"
     ]
    },
    {
     "name": "stderr",
     "output_type": "stream",
     "text": [
      " 94%|█████████▍| 342/363 [10:01:26<40:31, 115.80s/it]"
     ]
    },
    {
     "name": "stdout",
     "output_type": "stream",
     "text": [
      "[TransNetV2] Processing video frames 34103/34103\n",
      "[TransNetV2] Extracting frames from ../Data/videos\\L12_V010.mp4\n",
      "[TransNetV2] Processing video frames 31951/31951\n"
     ]
    },
    {
     "name": "stderr",
     "output_type": "stream",
     "text": [
      " 94%|█████████▍| 343/363 [10:03:18<38:09, 114.48s/it]"
     ]
    },
    {
     "name": "stdout",
     "output_type": "stream",
     "text": [
      "[TransNetV2] Extracting frames from ../Data/videos\\L12_V011.mp4\n",
      "[TransNetV2] Processing video frames 30796/30796\n"
     ]
    },
    {
     "name": "stderr",
     "output_type": "stream",
     "text": [
      " 95%|█████████▍| 344/363 [10:05:08<35:48, 113.10s/it]"
     ]
    },
    {
     "name": "stdout",
     "output_type": "stream",
     "text": [
      "[TransNetV2] Extracting frames from ../Data/videos\\L12_V012.mp4\n",
      "[TransNetV2] Processing video frames 30400/30441"
     ]
    },
    {
     "name": "stderr",
     "output_type": "stream",
     "text": [
      " 95%|█████████▌| 345/363 [10:06:54<33:21, 111.19s/it]"
     ]
    },
    {
     "name": "stdout",
     "output_type": "stream",
     "text": [
      "[TransNetV2] Processing video frames 30441/30441\n",
      "[TransNetV2] Extracting frames from ../Data/videos\\L12_V013.mp4\n",
      "[TransNetV2] Processing video frames 29965/29965\n"
     ]
    },
    {
     "name": "stderr",
     "output_type": "stream",
     "text": [
      " 95%|█████████▌| 346/363 [10:08:40<31:00, 109.46s/it]"
     ]
    },
    {
     "name": "stdout",
     "output_type": "stream",
     "text": [
      "[TransNetV2] Extracting frames from ../Data/videos\\L12_V014.mp4\n",
      "[TransNetV2] Processing video frames 35600/35646"
     ]
    },
    {
     "name": "stderr",
     "output_type": "stream",
     "text": [
      " 96%|█████████▌| 347/363 [10:10:45<30:24, 114.06s/it]"
     ]
    },
    {
     "name": "stdout",
     "output_type": "stream",
     "text": [
      "[TransNetV2] Processing video frames 35646/35646\n",
      "[TransNetV2] Extracting frames from ../Data/videos\\L12_V015.mp4\n",
      "[TransNetV2] Processing video frames 32000/32021"
     ]
    },
    {
     "name": "stderr",
     "output_type": "stream",
     "text": [
      " 96%|█████████▌| 348/363 [10:12:37<28:22, 113.53s/it]"
     ]
    },
    {
     "name": "stdout",
     "output_type": "stream",
     "text": [
      "[TransNetV2] Processing video frames 32021/32021\n",
      "[TransNetV2] Extracting frames from ../Data/videos\\L12_V016.mp4\n",
      "[TransNetV2] Processing video frames 29764/29764\n"
     ]
    },
    {
     "name": "stderr",
     "output_type": "stream",
     "text": [
      " 96%|█████████▌| 349/363 [10:14:21<25:50, 110.72s/it]"
     ]
    },
    {
     "name": "stdout",
     "output_type": "stream",
     "text": [
      "[TransNetV2] Extracting frames from ../Data/videos\\L12_V017.mp4\n",
      "[TransNetV2] Processing video frames 30268/30268\n"
     ]
    },
    {
     "name": "stderr",
     "output_type": "stream",
     "text": [
      " 96%|█████████▋| 350/363 [10:16:07<23:41, 109.37s/it]"
     ]
    },
    {
     "name": "stdout",
     "output_type": "stream",
     "text": [
      "[TransNetV2] Extracting frames from ../Data/videos\\L12_V018.mp4\n",
      "[TransNetV2] Processing video frames 33082/33082\n"
     ]
    },
    {
     "name": "stderr",
     "output_type": "stream",
     "text": [
      " 97%|█████████▋| 351/363 [10:18:06<22:25, 112.12s/it]"
     ]
    },
    {
     "name": "stdout",
     "output_type": "stream",
     "text": [
      "[TransNetV2] Extracting frames from ../Data/videos\\L12_V019.mp4\n",
      "[TransNetV2] Processing video frames 30881/30881\n"
     ]
    },
    {
     "name": "stderr",
     "output_type": "stream",
     "text": [
      " 97%|█████████▋| 352/363 [10:19:54<20:20, 110.93s/it]"
     ]
    },
    {
     "name": "stdout",
     "output_type": "stream",
     "text": [
      "[TransNetV2] Extracting frames from ../Data/videos\\L12_V020.mp4\n",
      "[TransNetV2] Processing video frames 28100/28142"
     ]
    },
    {
     "name": "stderr",
     "output_type": "stream",
     "text": [
      " 97%|█████████▋| 353/363 [10:21:32<17:51, 107.18s/it]"
     ]
    },
    {
     "name": "stdout",
     "output_type": "stream",
     "text": [
      "[TransNetV2] Processing video frames 28142/28142\n",
      "[TransNetV2] Extracting frames from ../Data/videos\\L12_V021.mp4\n",
      "[TransNetV2] Processing video frames 33486/33486\n"
     ]
    },
    {
     "name": "stderr",
     "output_type": "stream",
     "text": [
      " 98%|█████████▊| 354/363 [10:23:30<16:31, 110.20s/it]"
     ]
    },
    {
     "name": "stdout",
     "output_type": "stream",
     "text": [
      "[TransNetV2] Extracting frames from ../Data/videos\\L12_V022.mp4\n",
      "[TransNetV2] Processing video frames 31790/31790\n"
     ]
    },
    {
     "name": "stderr",
     "output_type": "stream",
     "text": [
      " 98%|█████████▊| 355/363 [10:25:21<14:43, 110.45s/it]"
     ]
    },
    {
     "name": "stdout",
     "output_type": "stream",
     "text": [
      "[TransNetV2] Extracting frames from ../Data/videos\\L12_V023.mp4\n",
      "[TransNetV2] Processing video frames 29963/29963\n"
     ]
    },
    {
     "name": "stderr",
     "output_type": "stream",
     "text": [
      " 98%|█████████▊| 356/363 [10:27:06<12:41, 108.80s/it]"
     ]
    },
    {
     "name": "stdout",
     "output_type": "stream",
     "text": [
      "[TransNetV2] Extracting frames from ../Data/videos\\L12_V024.mp4\n",
      "[TransNetV2] Processing video frames 30080/30080\n"
     ]
    },
    {
     "name": "stderr",
     "output_type": "stream",
     "text": [
      " 98%|█████████▊| 357/363 [10:28:51<10:46, 107.69s/it]"
     ]
    },
    {
     "name": "stdout",
     "output_type": "stream",
     "text": [
      "[TransNetV2] Extracting frames from ../Data/videos\\L12_V025.mp4\n",
      "[TransNetV2] Processing video frames 30651/30651\n"
     ]
    },
    {
     "name": "stderr",
     "output_type": "stream",
     "text": [
      " 99%|█████████▊| 358/363 [10:30:38<08:58, 107.62s/it]"
     ]
    },
    {
     "name": "stdout",
     "output_type": "stream",
     "text": [
      "[TransNetV2] Extracting frames from ../Data/videos\\L12_V026.mp4\n",
      "[TransNetV2] Processing video frames 25100/25140"
     ]
    },
    {
     "name": "stderr",
     "output_type": "stream",
     "text": [
      " 99%|█████████▉| 359/363 [10:32:08<06:49, 102.28s/it]"
     ]
    },
    {
     "name": "stdout",
     "output_type": "stream",
     "text": [
      "[TransNetV2] Processing video frames 25140/25140\n",
      "[TransNetV2] Extracting frames from ../Data/videos\\L12_V027.mp4\n",
      "[TransNetV2] Processing video frames 31100/31102"
     ]
    },
    {
     "name": "stderr",
     "output_type": "stream",
     "text": [
      " 99%|█████████▉| 360/363 [10:33:57<05:13, 104.37s/it]"
     ]
    },
    {
     "name": "stdout",
     "output_type": "stream",
     "text": [
      "[TransNetV2] Processing video frames 31102/31102\n",
      "[TransNetV2] Extracting frames from ../Data/videos\\L12_V028.mp4\n",
      "[TransNetV2] Processing video frames 32800/32845"
     ]
    },
    {
     "name": "stderr",
     "output_type": "stream",
     "text": [
      " 99%|█████████▉| 361/363 [10:35:55<03:36, 108.25s/it]"
     ]
    },
    {
     "name": "stdout",
     "output_type": "stream",
     "text": [
      "[TransNetV2] Processing video frames 32845/32845\n",
      "[TransNetV2] Extracting frames from ../Data/videos\\L12_V029.mp4\n",
      "[TransNetV2] Processing video frames 32988/32988\n"
     ]
    },
    {
     "name": "stderr",
     "output_type": "stream",
     "text": [
      "100%|█████████▉| 362/363 [10:37:51<01:50, 110.63s/it]"
     ]
    },
    {
     "name": "stdout",
     "output_type": "stream",
     "text": [
      "[TransNetV2] Extracting frames from ../Data/videos\\L12_V030.mp4\n",
      "[TransNetV2] Processing video frames 31269/31269\n"
     ]
    },
    {
     "name": "stderr",
     "output_type": "stream",
     "text": [
      "100%|██████████| 363/363 [10:39:40<00:00, 105.73s/it]\n"
     ]
    }
   ],
   "source": [
    "for video_filename in os.listdir(video_dir):\n",
    "    if video_filename.endswith(\".mp4\"):\n",
    "        video_path = os.path.join(video_dir, video_filename)\n",
    "\n",
    "        _, single_frame_predictions, _ = model.predict_video(video_path)\n",
    "\n",
    "        scenes = model.predictions_to_scenes(single_frame_predictions)\n",
    "\n",
    "        scenes_filename = video_filename.replace(\".mp4\", \".json\")\n",
    "        scenes_path = os.path.join(scenes_dir, scenes_filename)\n",
    "\n",
    "        with open(scenes_path, 'w') as json_file:\n",
    "            json.dump(scenes.tolist(), json_file)\n",
    "    \n"
   ]
  }
 ],
 "metadata": {
  "kernelspec": {
   "display_name": ".venv",
   "language": "python",
   "name": "python3"
  },
  "language_info": {
   "codemirror_mode": {
    "name": "ipython",
    "version": 3
   },
   "file_extension": ".py",
   "mimetype": "text/x-python",
   "name": "python",
   "nbconvert_exporter": "python",
   "pygments_lexer": "ipython3",
   "version": "3.12.3"
  }
 },
 "nbformat": 4,
 "nbformat_minor": 2
}
