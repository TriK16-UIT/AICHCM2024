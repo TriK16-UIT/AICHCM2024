{
 "cells": [
  {
   "cell_type": "code",
   "execution_count": 16,
   "metadata": {},
   "outputs": [],
   "source": [
    "import os\n",
    "import glob\n",
    "from tqdm import tqdm\n",
    "import numpy as np\n",
    "import sys\n",
    "import json\n",
    "import re\n",
    "import tensorflow as tf"
   ]
  },
  {
   "cell_type": "code",
   "execution_count": 6,
   "metadata": {},
   "outputs": [
    {
     "name": "stdout",
     "output_type": "stream",
     "text": [
      "e:\\AICHCM2024\\DataPreprocessing\\TransNetV2\\inference\n"
     ]
    },
    {
     "name": "stderr",
     "output_type": "stream",
     "text": [
      "Cloning into 'TransNetV2'...\n",
      "Filtering content:  66% (2/3)\n",
      "Filtering content: 100% (3/3), 5.66 MiB | 61.00 KiB/s\n",
      "Filtering content: 100% (3/3), 34.77 MiB | 122.00 KiB/s, done.\n",
      "e:\\AICHCM2024\\.venv\\Lib\\site-packages\\IPython\\core\\magics\\osm.py:417: UserWarning: This is now an optional IPython functionality, setting dhist requires you to install the `pickleshare` library.\n",
      "  self.shell.db['dhist'] = compress_dhist(dhist)[-100:]\n"
     ]
    }
   ],
   "source": [
    "# !git clone https://github.com/soCzech/TransNetV2.git"
   ]
  },
  {
   "cell_type": "code",
   "execution_count": 2,
   "metadata": {},
   "outputs": [],
   "source": [
    "from TransNetV2.inference.transnetv2 import TransNetV2"
   ]
  },
  {
   "cell_type": "code",
   "execution_count": 4,
   "metadata": {},
   "outputs": [],
   "source": [
    "sys.path.append('..')"
   ]
  },
  {
   "cell_type": "code",
   "execution_count": 5,
   "metadata": {},
   "outputs": [],
   "source": [
    "from config import SCENES_PATH, VIDEOS_PATH"
   ]
  },
  {
   "cell_type": "code",
   "execution_count": 22,
   "metadata": {},
   "outputs": [
    {
     "name": "stdout",
     "output_type": "stream",
     "text": [
      "[TransNetV2] Using weights from e:\\AICHCM2024\\DataPreprocessing\\TransNetV2\\inference\\transnetv2-weights/.\n"
     ]
    }
   ],
   "source": [
    "scenes_dir = \"../\" + SCENES_PATH\n",
    "video_dir = \"../\" + VIDEOS_PATH\n",
    "\n",
    "model =  TransNetV2()"
   ]
  },
  {
   "cell_type": "code",
   "execution_count": 18,
   "metadata": {},
   "outputs": [],
   "source": [
    "def get_video_number(filename):\n",
    "    match = re.search(r'L(\\d+)', filename)\n",
    "    return int(match.group(1)) if match else 0"
   ]
  },
  {
   "cell_type": "code",
   "execution_count": 20,
   "metadata": {},
   "outputs": [],
   "source": [
    "video_files = [f for f in os.listdir(video_dir) if f.endswith('.mp4')]\n",
    "video_files.sort(key=get_video_number)\n",
    "video_files_to_process = [f for f in video_files if get_video_number(f) >= 25]"
   ]
  },
  {
   "cell_type": "code",
   "execution_count": 21,
   "metadata": {},
   "outputs": [
    {
     "data": {
      "text/plain": [
       "745"
      ]
     },
     "execution_count": 21,
     "metadata": {},
     "output_type": "execute_result"
    }
   ],
   "source": [
    "len(video_files_to_process)"
   ]
  },
  {
   "cell_type": "code",
   "execution_count": 23,
   "metadata": {},
   "outputs": [
    {
     "name": "stderr",
     "output_type": "stream",
     "text": [
      "  0%|          | 0/745 [00:00<?, ?it/s]"
     ]
    },
    {
     "name": "stdout",
     "output_type": "stream",
     "text": [
      "[TransNetV2] Extracting frames from ../Data/videos\\L25_V001.mp4\n",
      "[TransNetV2] Processing video frames 40050/40064"
     ]
    },
    {
     "name": "stderr",
     "output_type": "stream",
     "text": [
      "  0%|          | 1/745 [02:25<30:06:09, 145.66s/it]"
     ]
    },
    {
     "name": "stdout",
     "output_type": "stream",
     "text": [
      "[TransNetV2] Processing video frames 40064/40064\n",
      "[TransNetV2] Extracting frames from ../Data/videos\\L25_V002.mp4\n",
      "[TransNetV2] Processing video frames 28496/28496\n"
     ]
    },
    {
     "name": "stderr",
     "output_type": "stream",
     "text": [
      "  0%|          | 2/745 [04:11<25:17:01, 122.51s/it]"
     ]
    },
    {
     "name": "stdout",
     "output_type": "stream",
     "text": [
      "[TransNetV2] Extracting frames from ../Data/videos\\L25_V003.mp4\n",
      "[TransNetV2] Processing video frames 29050/29054"
     ]
    },
    {
     "name": "stderr",
     "output_type": "stream",
     "text": [
      "  0%|          | 3/745 [05:57<23:37:20, 114.61s/it]"
     ]
    },
    {
     "name": "stdout",
     "output_type": "stream",
     "text": [
      "[TransNetV2] Processing video frames 29054/29054\n",
      "[TransNetV2] Extracting frames from ../Data/videos\\L25_V004.mp4\n",
      "[TransNetV2] Processing video frames 29912/29912\n"
     ]
    },
    {
     "name": "stderr",
     "output_type": "stream",
     "text": [
      "  1%|          | 4/745 [07:47<23:14:10, 112.89s/it]"
     ]
    },
    {
     "name": "stdout",
     "output_type": "stream",
     "text": [
      "[TransNetV2] Extracting frames from ../Data/videos\\L25_V005.mp4\n",
      "[TransNetV2] Processing video frames 57199/57199\n"
     ]
    },
    {
     "name": "stderr",
     "output_type": "stream",
     "text": [
      "  1%|          | 5/745 [11:18<30:30:03, 148.38s/it]"
     ]
    },
    {
     "name": "stdout",
     "output_type": "stream",
     "text": [
      "[TransNetV2] Extracting frames from ../Data/videos\\L25_V006.mp4\n",
      "[TransNetV2] Processing video frames 28063/28063\n"
     ]
    },
    {
     "name": "stderr",
     "output_type": "stream",
     "text": [
      "  1%|          | 6/745 [13:02<27:21:58, 133.31s/it]"
     ]
    },
    {
     "name": "stdout",
     "output_type": "stream",
     "text": [
      "[TransNetV2] Extracting frames from ../Data/videos\\L25_V007.mp4\n",
      "[TransNetV2] Processing video frames 68367/68367\n"
     ]
    },
    {
     "name": "stderr",
     "output_type": "stream",
     "text": [
      "  1%|          | 7/745 [17:21<35:44:47, 174.37s/it]"
     ]
    },
    {
     "name": "stdout",
     "output_type": "stream",
     "text": [
      "[TransNetV2] Extracting frames from ../Data/videos\\L25_V008.mp4\n",
      "[TransNetV2] Processing video frames 36324/36324\n"
     ]
    },
    {
     "name": "stderr",
     "output_type": "stream",
     "text": [
      "  1%|          | 8/745 [19:35<33:03:27, 161.48s/it]"
     ]
    },
    {
     "name": "stdout",
     "output_type": "stream",
     "text": [
      "[TransNetV2] Extracting frames from ../Data/videos\\L25_V009.mp4\n",
      "[TransNetV2] Processing video frames 21100/21141"
     ]
    },
    {
     "name": "stderr",
     "output_type": "stream",
     "text": [
      "  1%|          | 9/745 [20:53<27:40:02, 135.33s/it]"
     ]
    },
    {
     "name": "stdout",
     "output_type": "stream",
     "text": [
      "[TransNetV2] Processing video frames 21141/21141\n",
      "[TransNetV2] Extracting frames from ../Data/videos\\L25_V010.mp4\n",
      "[TransNetV2] Processing video frames 55100/55116"
     ]
    },
    {
     "name": "stderr",
     "output_type": "stream",
     "text": [
      "  1%|▏         | 10/745 [24:20<32:09:00, 157.47s/it]"
     ]
    },
    {
     "name": "stdout",
     "output_type": "stream",
     "text": [
      "[TransNetV2] Processing video frames 55116/55116\n",
      "[TransNetV2] Extracting frames from ../Data/videos\\L25_V011.mp4\n",
      "[TransNetV2] Processing video frames 22350/22364"
     ]
    },
    {
     "name": "stderr",
     "output_type": "stream",
     "text": [
      "  1%|▏         | 11/745 [25:44<27:31:33, 135.01s/it]"
     ]
    },
    {
     "name": "stdout",
     "output_type": "stream",
     "text": [
      "[TransNetV2] Processing video frames 22364/22364\n",
      "[TransNetV2] Extracting frames from ../Data/videos\\L25_V012.mp4\n",
      "[TransNetV2] Processing video frames 31000/31020"
     ]
    },
    {
     "name": "stderr",
     "output_type": "stream",
     "text": [
      "  2%|▏         | 12/745 [27:39<26:15:21, 128.95s/it]"
     ]
    },
    {
     "name": "stdout",
     "output_type": "stream",
     "text": [
      "[TransNetV2] Processing video frames 31020/31020\n",
      "[TransNetV2] Extracting frames from ../Data/videos\\L25_V013.mp4\n",
      "[TransNetV2] Processing video frames 35728/35728\n"
     ]
    },
    {
     "name": "stderr",
     "output_type": "stream",
     "text": [
      "  2%|▏         | 13/745 [29:49<26:15:16, 129.12s/it]"
     ]
    },
    {
     "name": "stdout",
     "output_type": "stream",
     "text": [
      "[TransNetV2] Extracting frames from ../Data/videos\\L25_V014.mp4\n",
      "[TransNetV2] Processing video frames 47689/47689\n"
     ]
    },
    {
     "name": "stderr",
     "output_type": "stream",
     "text": [
      "  2%|▏         | 14/745 [32:40<28:48:29, 141.87s/it]"
     ]
    },
    {
     "name": "stdout",
     "output_type": "stream",
     "text": [
      "[TransNetV2] Extracting frames from ../Data/videos\\L25_V015.mp4\n",
      "[TransNetV2] Processing video frames 33200/33216"
     ]
    },
    {
     "name": "stderr",
     "output_type": "stream",
     "text": [
      "  2%|▏         | 15/745 [34:43<27:37:18, 136.22s/it]"
     ]
    },
    {
     "name": "stdout",
     "output_type": "stream",
     "text": [
      "[TransNetV2] Processing video frames 33216/33216\n",
      "[TransNetV2] Extracting frames from ../Data/videos\\L25_V016.mp4\n",
      "[TransNetV2] Processing video frames 39800/39809"
     ]
    },
    {
     "name": "stderr",
     "output_type": "stream",
     "text": [
      "  2%|▏         | 16/745 [37:07<28:03:17, 138.54s/it]"
     ]
    },
    {
     "name": "stdout",
     "output_type": "stream",
     "text": [
      "[TransNetV2] Processing video frames 39809/39809\n",
      "[TransNetV2] Extracting frames from ../Data/videos\\L25_V017.mp4\n",
      "[TransNetV2] Processing video frames 34050/34073"
     ]
    },
    {
     "name": "stderr",
     "output_type": "stream",
     "text": [
      "  2%|▏         | 17/745 [39:16<27:27:43, 135.80s/it]"
     ]
    },
    {
     "name": "stdout",
     "output_type": "stream",
     "text": [
      "[TransNetV2] Processing video frames 34073/34073\n",
      "[TransNetV2] Extracting frames from ../Data/videos\\L25_V018.mp4\n",
      "[TransNetV2] Processing video frames 41559/41559\n"
     ]
    },
    {
     "name": "stderr",
     "output_type": "stream",
     "text": [
      "  2%|▏         | 18/745 [41:47<28:17:33, 140.10s/it]"
     ]
    },
    {
     "name": "stdout",
     "output_type": "stream",
     "text": [
      "[TransNetV2] Extracting frames from ../Data/videos\\L25_V019.mp4\n",
      "[TransNetV2] Processing video frames 22250/22296"
     ]
    },
    {
     "name": "stderr",
     "output_type": "stream",
     "text": [
      "  3%|▎         | 19/745 [43:07<24:40:03, 122.32s/it]"
     ]
    },
    {
     "name": "stdout",
     "output_type": "stream",
     "text": [
      "[TransNetV2] Processing video frames 22296/22296\n",
      "[TransNetV2] Extracting frames from ../Data/videos\\L25_V020.mp4\n",
      "[TransNetV2] Processing video frames 29876/29876\n"
     ]
    },
    {
     "name": "stderr",
     "output_type": "stream",
     "text": [
      "  3%|▎         | 20/745 [44:53<23:36:50, 117.26s/it]"
     ]
    },
    {
     "name": "stdout",
     "output_type": "stream",
     "text": [
      "[TransNetV2] Extracting frames from ../Data/videos\\L25_V021.mp4\n",
      "[TransNetV2] Processing video frames 34845/34845\n"
     ]
    },
    {
     "name": "stderr",
     "output_type": "stream",
     "text": [
      "  3%|▎         | 21/745 [47:04<24:25:26, 121.44s/it]"
     ]
    },
    {
     "name": "stdout",
     "output_type": "stream",
     "text": [
      "[TransNetV2] Extracting frames from ../Data/videos\\L25_V022.mp4\n",
      "[TransNetV2] Processing video frames 49100/49144"
     ]
    },
    {
     "name": "stderr",
     "output_type": "stream",
     "text": [
      "  3%|▎         | 22/745 [49:58<27:33:07, 137.19s/it]"
     ]
    },
    {
     "name": "stdout",
     "output_type": "stream",
     "text": [
      "[TransNetV2] Processing video frames 49144/49144\n",
      "[TransNetV2] Extracting frames from ../Data/videos\\L25_V023.mp4\n",
      "[TransNetV2] Processing video frames 36958/36958\n"
     ]
    },
    {
     "name": "stderr",
     "output_type": "stream",
     "text": [
      "  3%|▎         | 23/745 [52:10<27:12:59, 135.71s/it]"
     ]
    },
    {
     "name": "stdout",
     "output_type": "stream",
     "text": [
      "[TransNetV2] Extracting frames from ../Data/videos\\L25_V024.mp4\n",
      "[TransNetV2] Processing video frames 35862/35862\n"
     ]
    },
    {
     "name": "stderr",
     "output_type": "stream",
     "text": [
      "  3%|▎         | 24/745 [54:22<26:57:41, 134.62s/it]"
     ]
    },
    {
     "name": "stdout",
     "output_type": "stream",
     "text": [
      "[TransNetV2] Extracting frames from ../Data/videos\\L25_V025.mp4\n",
      "[TransNetV2] Processing video frames 50550/50551"
     ]
    },
    {
     "name": "stderr",
     "output_type": "stream",
     "text": [
      "  3%|▎         | 25/745 [57:21<29:34:12, 147.85s/it]"
     ]
    },
    {
     "name": "stdout",
     "output_type": "stream",
     "text": [
      "[TransNetV2] Processing video frames 50551/50551\n",
      "[TransNetV2] Extracting frames from ../Data/videos\\L25_V026.mp4\n",
      "[TransNetV2] Processing video frames 41254/41254\n"
     ]
    },
    {
     "name": "stderr",
     "output_type": "stream",
     "text": [
      "  3%|▎         | 26/745 [59:47<29:23:13, 147.14s/it]"
     ]
    },
    {
     "name": "stdout",
     "output_type": "stream",
     "text": [
      "[TransNetV2] Extracting frames from ../Data/videos\\L25_V027.mp4\n",
      "[TransNetV2] Processing video frames 44477/44477\n"
     ]
    },
    {
     "name": "stderr",
     "output_type": "stream",
     "text": [
      "  4%|▎         | 27/745 [1:02:28<30:13:10, 151.52s/it]"
     ]
    },
    {
     "name": "stdout",
     "output_type": "stream",
     "text": [
      "[TransNetV2] Extracting frames from ../Data/videos\\L25_V028.mp4\n",
      "[TransNetV2] Processing video frames 21939/21939\n"
     ]
    },
    {
     "name": "stderr",
     "output_type": "stream",
     "text": [
      "  4%|▍         | 28/745 [1:03:48<25:54:02, 130.05s/it]"
     ]
    },
    {
     "name": "stdout",
     "output_type": "stream",
     "text": [
      "[TransNetV2] Extracting frames from ../Data/videos\\L25_V029.mp4\n",
      "[TransNetV2] Processing video frames 33871/33871\n"
     ]
    },
    {
     "name": "stderr",
     "output_type": "stream",
     "text": [
      "  4%|▍         | 29/745 [1:05:49<25:19:10, 127.31s/it]"
     ]
    },
    {
     "name": "stdout",
     "output_type": "stream",
     "text": [
      "[TransNetV2] Extracting frames from ../Data/videos\\L25_V030.mp4\n",
      "[TransNetV2] Processing video frames 38560/38560\n"
     ]
    },
    {
     "name": "stderr",
     "output_type": "stream",
     "text": [
      "  4%|▍         | 30/745 [1:08:10<26:04:47, 131.31s/it]"
     ]
    },
    {
     "name": "stdout",
     "output_type": "stream",
     "text": [
      "[TransNetV2] Extracting frames from ../Data/videos\\L25_V031.mp4\n",
      "[TransNetV2] Processing video frames 37788/37788\n"
     ]
    },
    {
     "name": "stderr",
     "output_type": "stream",
     "text": [
      "  4%|▍         | 31/745 [1:10:29<26:29:36, 133.58s/it]"
     ]
    },
    {
     "name": "stdout",
     "output_type": "stream",
     "text": [
      "[TransNetV2] Extracting frames from ../Data/videos\\L25_V032.mp4\n",
      "[TransNetV2] Processing video frames 41528/41528\n"
     ]
    },
    {
     "name": "stderr",
     "output_type": "stream",
     "text": [
      "  4%|▍         | 32/745 [1:13:03<27:40:51, 139.76s/it]"
     ]
    },
    {
     "name": "stdout",
     "output_type": "stream",
     "text": [
      "[TransNetV2] Extracting frames from ../Data/videos\\L25_V033.mp4\n",
      "[TransNetV2] Processing video frames 48230/48230\n"
     ]
    },
    {
     "name": "stderr",
     "output_type": "stream",
     "text": [
      "  4%|▍         | 33/745 [1:16:01<29:56:41, 151.41s/it]"
     ]
    },
    {
     "name": "stdout",
     "output_type": "stream",
     "text": [
      "[TransNetV2] Extracting frames from ../Data/videos\\L25_V034.mp4\n",
      "[TransNetV2] Processing video frames 41151/41151\n"
     ]
    },
    {
     "name": "stderr",
     "output_type": "stream",
     "text": [
      "  5%|▍         | 34/745 [1:18:31<29:46:01, 150.72s/it]"
     ]
    },
    {
     "name": "stdout",
     "output_type": "stream",
     "text": [
      "[TransNetV2] Extracting frames from ../Data/videos\\L25_V035.mp4\n",
      "[TransNetV2] Processing video frames 32493/32493\n"
     ]
    },
    {
     "name": "stderr",
     "output_type": "stream",
     "text": [
      "  5%|▍         | 35/745 [1:20:27<27:42:01, 140.45s/it]"
     ]
    },
    {
     "name": "stdout",
     "output_type": "stream",
     "text": [
      "[TransNetV2] Extracting frames from ../Data/videos\\L25_V036.mp4\n",
      "[TransNetV2] Processing video frames 45160/45160\n"
     ]
    },
    {
     "name": "stderr",
     "output_type": "stream",
     "text": [
      "  5%|▍         | 36/745 [1:23:10<29:00:20, 147.28s/it]"
     ]
    },
    {
     "name": "stdout",
     "output_type": "stream",
     "text": [
      "[TransNetV2] Extracting frames from ../Data/videos\\L25_V037.mp4\n",
      "[TransNetV2] Processing video frames 21984/21984\n"
     ]
    },
    {
     "name": "stderr",
     "output_type": "stream",
     "text": [
      "  5%|▍         | 37/745 [1:24:30<25:00:25, 127.16s/it]"
     ]
    },
    {
     "name": "stdout",
     "output_type": "stream",
     "text": [
      "[TransNetV2] Extracting frames from ../Data/videos\\L25_V038.mp4\n",
      "[TransNetV2] Processing video frames 34145/34145\n"
     ]
    },
    {
     "name": "stderr",
     "output_type": "stream",
     "text": [
      "  5%|▌         | 38/745 [1:26:34<24:46:06, 126.12s/it]"
     ]
    },
    {
     "name": "stdout",
     "output_type": "stream",
     "text": [
      "[TransNetV2] Extracting frames from ../Data/videos\\L25_V039.mp4\n",
      "[TransNetV2] Processing video frames 45900/45947"
     ]
    },
    {
     "name": "stderr",
     "output_type": "stream",
     "text": [
      "  5%|▌         | 39/745 [1:29:17<26:52:50, 137.07s/it]"
     ]
    },
    {
     "name": "stdout",
     "output_type": "stream",
     "text": [
      "[TransNetV2] Processing video frames 45947/45947\n",
      "[TransNetV2] Extracting frames from ../Data/videos\\L25_V040.mp4\n",
      "[TransNetV2] Processing video frames 34871/34871\n"
     ]
    },
    {
     "name": "stderr",
     "output_type": "stream",
     "text": [
      "  5%|▌         | 40/745 [1:31:22<26:07:59, 133.45s/it]"
     ]
    },
    {
     "name": "stdout",
     "output_type": "stream",
     "text": [
      "[TransNetV2] Extracting frames from ../Data/videos\\L25_V041.mp4\n",
      "[TransNetV2] Processing video frames 35700/35707"
     ]
    },
    {
     "name": "stderr",
     "output_type": "stream",
     "text": [
      "  6%|▌         | 41/745 [1:33:31<25:49:23, 132.05s/it]"
     ]
    },
    {
     "name": "stdout",
     "output_type": "stream",
     "text": [
      "[TransNetV2] Processing video frames 35707/35707\n",
      "[TransNetV2] Extracting frames from ../Data/videos\\L25_V042.mp4\n",
      "[TransNetV2] Processing video frames 48200/48230"
     ]
    },
    {
     "name": "stderr",
     "output_type": "stream",
     "text": [
      "  6%|▌         | 42/745 [1:36:23<28:10:06, 144.25s/it]"
     ]
    },
    {
     "name": "stdout",
     "output_type": "stream",
     "text": [
      "[TransNetV2] Processing video frames 48230/48230\n",
      "[TransNetV2] Extracting frames from ../Data/videos\\L25_V043.mp4\n",
      "[TransNetV2] Processing video frames 50800/50807"
     ]
    },
    {
     "name": "stderr",
     "output_type": "stream",
     "text": [
      "  6%|▌         | 43/745 [1:39:22<30:08:33, 154.58s/it]"
     ]
    },
    {
     "name": "stdout",
     "output_type": "stream",
     "text": [
      "[TransNetV2] Processing video frames 50807/50807\n",
      "[TransNetV2] Extracting frames from ../Data/videos\\L25_V044.mp4\n",
      "[TransNetV2] Processing video frames 30300/30320"
     ]
    },
    {
     "name": "stderr",
     "output_type": "stream",
     "text": [
      "  6%|▌         | 44/745 [1:41:10<27:22:29, 140.58s/it]"
     ]
    },
    {
     "name": "stdout",
     "output_type": "stream",
     "text": [
      "[TransNetV2] Processing video frames 30320/30320\n",
      "[TransNetV2] Extracting frames from ../Data/videos\\L25_V045.mp4\n",
      "[TransNetV2] Processing video frames 34531/34531\n"
     ]
    },
    {
     "name": "stderr",
     "output_type": "stream",
     "text": [
      "  6%|▌         | 45/745 [1:43:13<26:17:47, 135.24s/it]"
     ]
    },
    {
     "name": "stdout",
     "output_type": "stream",
     "text": [
      "[TransNetV2] Extracting frames from ../Data/videos\\L25_V046.mp4\n",
      "[TransNetV2] Processing video frames 25161/25161\n"
     ]
    },
    {
     "name": "stderr",
     "output_type": "stream",
     "text": [
      "  6%|▌         | 46/745 [1:44:43<23:38:37, 121.77s/it]"
     ]
    },
    {
     "name": "stdout",
     "output_type": "stream",
     "text": [
      "[TransNetV2] Extracting frames from ../Data/videos\\L25_V047.mp4\n",
      "[TransNetV2] Processing video frames 33100/33146"
     ]
    },
    {
     "name": "stderr",
     "output_type": "stream",
     "text": [
      "  6%|▋         | 47/745 [1:46:41<23:22:05, 120.52s/it]"
     ]
    },
    {
     "name": "stdout",
     "output_type": "stream",
     "text": [
      "[TransNetV2] Processing video frames 33146/33146\n",
      "[TransNetV2] Extracting frames from ../Data/videos\\L25_V048.mp4\n",
      "[TransNetV2] Processing video frames 62057/62057\n"
     ]
    },
    {
     "name": "stderr",
     "output_type": "stream",
     "text": [
      "  6%|▋         | 48/745 [1:50:26<29:27:03, 152.11s/it]"
     ]
    },
    {
     "name": "stdout",
     "output_type": "stream",
     "text": [
      "[TransNetV2] Extracting frames from ../Data/videos\\L25_V049.mp4\n",
      "[TransNetV2] Processing video frames 56200/56212"
     ]
    },
    {
     "name": "stderr",
     "output_type": "stream",
     "text": [
      "  7%|▋         | 49/745 [1:53:50<32:25:07, 167.68s/it]"
     ]
    },
    {
     "name": "stdout",
     "output_type": "stream",
     "text": [
      "[TransNetV2] Processing video frames 56212/56212\n",
      "[TransNetV2] Extracting frames from ../Data/videos\\L25_V050.mp4\n",
      "[TransNetV2] Processing video frames 40850/40866"
     ]
    },
    {
     "name": "stderr",
     "output_type": "stream",
     "text": [
      "  7%|▋         | 50/745 [1:56:17<31:09:34, 161.40s/it]"
     ]
    },
    {
     "name": "stdout",
     "output_type": "stream",
     "text": [
      "[TransNetV2] Processing video frames 40866/40866\n",
      "[TransNetV2] Extracting frames from ../Data/videos\\L25_V051.mp4\n",
      "[TransNetV2] Processing video frames 50430/50430\n"
     ]
    },
    {
     "name": "stderr",
     "output_type": "stream",
     "text": [
      "  7%|▋         | 51/745 [1:59:20<32:21:40, 167.87s/it]"
     ]
    },
    {
     "name": "stdout",
     "output_type": "stream",
     "text": [
      "[TransNetV2] Extracting frames from ../Data/videos\\L25_V052.mp4\n",
      "[TransNetV2] Processing video frames 56756/56756\n"
     ]
    },
    {
     "name": "stderr",
     "output_type": "stream",
     "text": [
      "  7%|▋         | 52/745 [2:02:36<33:55:30, 176.23s/it]"
     ]
    },
    {
     "name": "stdout",
     "output_type": "stream",
     "text": [
      "[TransNetV2] Extracting frames from ../Data/videos\\L25_V053.mp4\n",
      "[TransNetV2] Processing video frames 25400/25428"
     ]
    },
    {
     "name": "stderr",
     "output_type": "stream",
     "text": [
      "  7%|▋         | 53/745 [2:04:03<28:44:17, 149.51s/it]"
     ]
    },
    {
     "name": "stdout",
     "output_type": "stream",
     "text": [
      "[TransNetV2] Processing video frames 25428/25428\n",
      "[TransNetV2] Extracting frames from ../Data/videos\\L25_V054.mp4\n",
      "[TransNetV2] Processing video frames 62954/62954\n"
     ]
    },
    {
     "name": "stderr",
     "output_type": "stream",
     "text": [
      "  7%|▋         | 54/745 [2:07:39<32:32:33, 169.54s/it]"
     ]
    },
    {
     "name": "stdout",
     "output_type": "stream",
     "text": [
      "[TransNetV2] Extracting frames from ../Data/videos\\L25_V055.mp4\n",
      "[TransNetV2] Processing video frames 26055/26055\n"
     ]
    },
    {
     "name": "stderr",
     "output_type": "stream",
     "text": [
      "  7%|▋         | 55/745 [2:09:09<27:54:39, 145.62s/it]"
     ]
    },
    {
     "name": "stdout",
     "output_type": "stream",
     "text": [
      "[TransNetV2] Extracting frames from ../Data/videos\\L25_V056.mp4\n",
      "[TransNetV2] Processing video frames 35777/35777\n"
     ]
    },
    {
     "name": "stderr",
     "output_type": "stream",
     "text": [
      "  8%|▊         | 56/745 [2:11:11<26:31:40, 138.61s/it]"
     ]
    },
    {
     "name": "stdout",
     "output_type": "stream",
     "text": [
      "[TransNetV2] Extracting frames from ../Data/videos\\L25_V057.mp4\n",
      "[TransNetV2] Processing video frames 34999/34999\n"
     ]
    },
    {
     "name": "stderr",
     "output_type": "stream",
     "text": [
      "  8%|▊         | 57/745 [2:13:11<25:24:38, 132.96s/it]"
     ]
    },
    {
     "name": "stdout",
     "output_type": "stream",
     "text": [
      "[TransNetV2] Extracting frames from ../Data/videos\\L25_V058.mp4\n",
      "[TransNetV2] Processing video frames 44987/44987\n"
     ]
    },
    {
     "name": "stderr",
     "output_type": "stream",
     "text": [
      "  8%|▊         | 58/745 [2:15:45<26:34:23, 139.25s/it]"
     ]
    },
    {
     "name": "stdout",
     "output_type": "stream",
     "text": [
      "[TransNetV2] Extracting frames from ../Data/videos\\L25_V059.mp4\n",
      "[TransNetV2] Processing video frames 32996/32996\n"
     ]
    },
    {
     "name": "stderr",
     "output_type": "stream",
     "text": [
      "  8%|▊         | 59/745 [2:17:38<25:01:55, 131.36s/it]"
     ]
    },
    {
     "name": "stdout",
     "output_type": "stream",
     "text": [
      "[TransNetV2] Extracting frames from ../Data/videos\\L25_V060.mp4\n",
      "[TransNetV2] Processing video frames 39569/39569\n"
     ]
    },
    {
     "name": "stderr",
     "output_type": "stream",
     "text": [
      "  8%|▊         | 60/745 [2:19:54<25:16:41, 132.85s/it]"
     ]
    },
    {
     "name": "stdout",
     "output_type": "stream",
     "text": [
      "[TransNetV2] Extracting frames from ../Data/videos\\L25_V061.mp4\n",
      "[TransNetV2] Processing video frames 46587/46587\n"
     ]
    },
    {
     "name": "stderr",
     "output_type": "stream",
     "text": [
      "  8%|▊         | 61/745 [2:22:33<26:43:09, 140.63s/it]"
     ]
    },
    {
     "name": "stdout",
     "output_type": "stream",
     "text": [
      "[TransNetV2] Extracting frames from ../Data/videos\\L25_V062.mp4\n",
      "[TransNetV2] Processing video frames 31286/31286\n"
     ]
    },
    {
     "name": "stderr",
     "output_type": "stream",
     "text": [
      "  8%|▊         | 62/745 [2:24:20<24:45:27, 130.49s/it]"
     ]
    },
    {
     "name": "stdout",
     "output_type": "stream",
     "text": [
      "[TransNetV2] Extracting frames from ../Data/videos\\L25_V063.mp4\n",
      "[TransNetV2] Processing video frames 35374/35374\n"
     ]
    },
    {
     "name": "stderr",
     "output_type": "stream",
     "text": [
      "  8%|▊         | 63/745 [2:26:21<24:12:01, 127.74s/it]"
     ]
    },
    {
     "name": "stdout",
     "output_type": "stream",
     "text": [
      "[TransNetV2] Extracting frames from ../Data/videos\\L25_V064.mp4\n",
      "[TransNetV2] Processing video frames 30363/30363\n"
     ]
    },
    {
     "name": "stderr",
     "output_type": "stream",
     "text": [
      "  9%|▊         | 64/745 [2:28:06<22:52:04, 120.89s/it]"
     ]
    },
    {
     "name": "stdout",
     "output_type": "stream",
     "text": [
      "[TransNetV2] Extracting frames from ../Data/videos\\L25_V065.mp4\n",
      "[TransNetV2] Processing video frames 28600/28622"
     ]
    },
    {
     "name": "stderr",
     "output_type": "stream",
     "text": [
      "  9%|▊         | 65/745 [2:29:44<21:31:51, 113.99s/it]"
     ]
    },
    {
     "name": "stdout",
     "output_type": "stream",
     "text": [
      "[TransNetV2] Processing video frames 28622/28622\n",
      "[TransNetV2] Extracting frames from ../Data/videos\\L25_V066.mp4\n",
      "[TransNetV2] Processing video frames 36986/36986\n"
     ]
    },
    {
     "name": "stderr",
     "output_type": "stream",
     "text": [
      "  9%|▉         | 66/745 [2:31:51<22:12:57, 117.79s/it]"
     ]
    },
    {
     "name": "stdout",
     "output_type": "stream",
     "text": [
      "[TransNetV2] Extracting frames from ../Data/videos\\L25_V067.mp4\n",
      "[TransNetV2] Processing video frames 48700/48712"
     ]
    },
    {
     "name": "stderr",
     "output_type": "stream",
     "text": [
      "  9%|▉         | 67/745 [2:34:37<24:54:56, 132.30s/it]"
     ]
    },
    {
     "name": "stdout",
     "output_type": "stream",
     "text": [
      "[TransNetV2] Processing video frames 48712/48712\n",
      "[TransNetV2] Extracting frames from ../Data/videos\\L25_V068.mp4\n",
      "[TransNetV2] Processing video frames 43883/43883\n"
     ]
    },
    {
     "name": "stderr",
     "output_type": "stream",
     "text": [
      "  9%|▉         | 68/745 [2:37:07<25:51:17, 137.49s/it]"
     ]
    },
    {
     "name": "stdout",
     "output_type": "stream",
     "text": [
      "[TransNetV2] Extracting frames from ../Data/videos\\L25_V069.mp4\n",
      "[TransNetV2] Processing video frames 48462/48462\n"
     ]
    },
    {
     "name": "stderr",
     "output_type": "stream",
     "text": [
      "  9%|▉         | 69/745 [2:39:54<27:29:22, 146.39s/it]"
     ]
    },
    {
     "name": "stdout",
     "output_type": "stream",
     "text": [
      "[TransNetV2] Extracting frames from ../Data/videos\\L25_V070.mp4\n",
      "[TransNetV2] Processing video frames 43400/43400\n"
     ]
    },
    {
     "name": "stderr",
     "output_type": "stream",
     "text": [
      "  9%|▉         | 70/745 [2:42:21<27:29:22, 146.61s/it]"
     ]
    },
    {
     "name": "stdout",
     "output_type": "stream",
     "text": [
      "[TransNetV2] Extracting frames from ../Data/videos\\L25_V071.mp4\n",
      "[TransNetV2] Processing video frames 24700/24702"
     ]
    },
    {
     "name": "stderr",
     "output_type": "stream",
     "text": [
      " 10%|▉         | 71/745 [2:43:45<23:57:41, 127.98s/it]"
     ]
    },
    {
     "name": "stdout",
     "output_type": "stream",
     "text": [
      "[TransNetV2] Processing video frames 24702/24702\n",
      "[TransNetV2] Extracting frames from ../Data/videos\\L25_V072.mp4\n",
      "[TransNetV2] Processing video frames 24400/24412"
     ]
    },
    {
     "name": "stderr",
     "output_type": "stream",
     "text": [
      " 10%|▉         | 72/745 [2:45:10<21:29:34, 114.97s/it]"
     ]
    },
    {
     "name": "stdout",
     "output_type": "stream",
     "text": [
      "[TransNetV2] Processing video frames 24412/24412\n",
      "[TransNetV2] Extracting frames from ../Data/videos\\L25_V073.mp4\n",
      "[TransNetV2] Processing video frames 33398/33398\n"
     ]
    },
    {
     "name": "stderr",
     "output_type": "stream",
     "text": [
      " 10%|▉         | 73/745 [2:47:04<21:24:47, 114.71s/it]"
     ]
    },
    {
     "name": "stdout",
     "output_type": "stream",
     "text": [
      "[TransNetV2] Extracting frames from ../Data/videos\\L25_V074.mp4\n",
      "[TransNetV2] Processing video frames 57491/57491\n"
     ]
    },
    {
     "name": "stderr",
     "output_type": "stream",
     "text": [
      " 10%|▉         | 74/745 [2:50:20<25:56:16, 139.16s/it]"
     ]
    },
    {
     "name": "stdout",
     "output_type": "stream",
     "text": [
      "[TransNetV2] Extracting frames from ../Data/videos\\L25_V075.mp4\n",
      "[TransNetV2] Processing video frames 43400/43403"
     ]
    },
    {
     "name": "stderr",
     "output_type": "stream",
     "text": [
      " 10%|█         | 75/745 [2:52:48<26:24:20, 141.88s/it]"
     ]
    },
    {
     "name": "stdout",
     "output_type": "stream",
     "text": [
      "[TransNetV2] Processing video frames 43403/43403\n",
      "[TransNetV2] Extracting frames from ../Data/videos\\L25_V076.mp4\n",
      "[TransNetV2] Processing video frames 38200/38216"
     ]
    },
    {
     "name": "stderr",
     "output_type": "stream",
     "text": [
      " 10%|█         | 76/745 [2:55:01<25:49:45, 138.99s/it]"
     ]
    },
    {
     "name": "stdout",
     "output_type": "stream",
     "text": [
      "[TransNetV2] Processing video frames 38216/38216\n",
      "[TransNetV2] Extracting frames from ../Data/videos\\L25_V077.mp4\n",
      "[TransNetV2] Processing video frames 54200/54233"
     ]
    },
    {
     "name": "stderr",
     "output_type": "stream",
     "text": [
      " 10%|█         | 77/745 [2:58:06<28:21:28, 152.83s/it]"
     ]
    },
    {
     "name": "stdout",
     "output_type": "stream",
     "text": [
      "[TransNetV2] Processing video frames 54233/54233\n",
      "[TransNetV2] Extracting frames from ../Data/videos\\L25_V078.mp4\n",
      "[TransNetV2] Processing video frames 45400/45447"
     ]
    },
    {
     "name": "stderr",
     "output_type": "stream",
     "text": [
      " 10%|█         | 78/745 [3:00:40<28:24:35, 153.34s/it]"
     ]
    },
    {
     "name": "stdout",
     "output_type": "stream",
     "text": [
      "[TransNetV2] Processing video frames 45447/45447\n",
      "[TransNetV2] Extracting frames from ../Data/videos\\L25_V079.mp4\n",
      "[TransNetV2] Processing video frames 26000/26028"
     ]
    },
    {
     "name": "stderr",
     "output_type": "stream",
     "text": [
      " 11%|█         | 79/745 [3:02:09<24:47:57, 134.05s/it]"
     ]
    },
    {
     "name": "stdout",
     "output_type": "stream",
     "text": [
      "[TransNetV2] Processing video frames 26028/26028\n",
      "[TransNetV2] Extracting frames from ../Data/videos\\L25_V080.mp4\n",
      "[TransNetV2] Processing video frames 35458/35458\n"
     ]
    },
    {
     "name": "stderr",
     "output_type": "stream",
     "text": [
      " 11%|█         | 80/745 [3:04:11<24:05:06, 130.39s/it]"
     ]
    },
    {
     "name": "stdout",
     "output_type": "stream",
     "text": [
      "[TransNetV2] Extracting frames from ../Data/videos\\L25_V081.mp4\n",
      "[TransNetV2] Processing video frames 56678/56678\n"
     ]
    },
    {
     "name": "stderr",
     "output_type": "stream",
     "text": [
      " 11%|█         | 81/745 [3:07:27<27:39:25, 149.95s/it]"
     ]
    },
    {
     "name": "stdout",
     "output_type": "stream",
     "text": [
      "[TransNetV2] Extracting frames from ../Data/videos\\L25_V082.mp4\n",
      "[TransNetV2] Processing video frames 29465/29465\n"
     ]
    },
    {
     "name": "stderr",
     "output_type": "stream",
     "text": [
      " 11%|█         | 82/745 [3:09:09<24:58:41, 135.63s/it]"
     ]
    },
    {
     "name": "stdout",
     "output_type": "stream",
     "text": [
      "[TransNetV2] Extracting frames from ../Data/videos\\L25_V083.mp4\n",
      "[TransNetV2] Processing video frames 27181/27181\n"
     ]
    },
    {
     "name": "stderr",
     "output_type": "stream",
     "text": [
      " 11%|█         | 83/745 [3:10:42<22:34:59, 122.81s/it]"
     ]
    },
    {
     "name": "stdout",
     "output_type": "stream",
     "text": [
      "[TransNetV2] Extracting frames from ../Data/videos\\L25_V084.mp4\n",
      "[TransNetV2] Processing video frames 65616/65616\n"
     ]
    },
    {
     "name": "stderr",
     "output_type": "stream",
     "text": [
      " 11%|█▏        | 84/745 [3:14:25<28:05:09, 152.96s/it]"
     ]
    },
    {
     "name": "stdout",
     "output_type": "stream",
     "text": [
      "[TransNetV2] Extracting frames from ../Data/videos\\L25_V085.mp4\n",
      "[TransNetV2] Processing video frames 68674/68674\n"
     ]
    },
    {
     "name": "stderr",
     "output_type": "stream",
     "text": [
      " 11%|█▏        | 85/745 [3:18:19<32:30:19, 177.30s/it]"
     ]
    },
    {
     "name": "stdout",
     "output_type": "stream",
     "text": [
      "[TransNetV2] Extracting frames from ../Data/videos\\L25_V086.mp4\n",
      "[TransNetV2] Processing video frames 54097/54097\n"
     ]
    },
    {
     "name": "stderr",
     "output_type": "stream",
     "text": [
      " 12%|█▏        | 86/745 [3:21:24<32:50:23, 179.40s/it]"
     ]
    },
    {
     "name": "stdout",
     "output_type": "stream",
     "text": [
      "[TransNetV2] Extracting frames from ../Data/videos\\L25_V087.mp4\n",
      "[TransNetV2] Processing video frames 40700/40736"
     ]
    },
    {
     "name": "stderr",
     "output_type": "stream",
     "text": [
      " 12%|█▏        | 87/745 [3:23:44<30:40:02, 167.78s/it]"
     ]
    },
    {
     "name": "stdout",
     "output_type": "stream",
     "text": [
      "[TransNetV2] Processing video frames 40736/40736\n",
      "[TransNetV2] Extracting frames from ../Data/videos\\L25_V088.mp4\n",
      "[TransNetV2] Processing video frames 43367/43367\n"
     ]
    },
    {
     "name": "stderr",
     "output_type": "stream",
     "text": [
      " 12%|█▏        | 88/745 [3:26:12<29:30:05, 161.65s/it]"
     ]
    },
    {
     "name": "stdout",
     "output_type": "stream",
     "text": [
      "[TransNetV2] Extracting frames from ../Data/videos\\L26_V001.mp4\n",
      "[TransNetV2] Processing video frames 7300/7396"
     ]
    },
    {
     "name": "stderr",
     "output_type": "stream",
     "text": [
      " 12%|█▏        | 89/745 [3:26:38<22:02:08, 120.93s/it]"
     ]
    },
    {
     "name": "stdout",
     "output_type": "stream",
     "text": [
      "[TransNetV2] Processing video frames 7396/7396\n",
      "[TransNetV2] Extracting frames from ../Data/videos\\L26_V002.mp4\n",
      "[TransNetV2] Processing video frames 7400/7447"
     ]
    },
    {
     "name": "stderr",
     "output_type": "stream",
     "text": [
      " 12%|█▏        | 90/745 [3:27:04<16:49:15, 92.45s/it] "
     ]
    },
    {
     "name": "stdout",
     "output_type": "stream",
     "text": [
      "[TransNetV2] Processing video frames 7447/7447\n",
      "[TransNetV2] Extracting frames from ../Data/videos\\L26_V003.mp4\n",
      "[TransNetV2] Processing video frames 7300/7348"
     ]
    },
    {
     "name": "stderr",
     "output_type": "stream",
     "text": [
      " 12%|█▏        | 91/745 [3:27:29<13:09:08, 72.40s/it]"
     ]
    },
    {
     "name": "stdout",
     "output_type": "stream",
     "text": [
      "[TransNetV2] Processing video frames 7348/7348\n",
      "[TransNetV2] Extracting frames from ../Data/videos\\L26_V004.mp4\n",
      "[TransNetV2] Processing video frames 7300/7359"
     ]
    },
    {
     "name": "stderr",
     "output_type": "stream",
     "text": [
      " 12%|█▏        | 92/745 [3:27:55<10:35:18, 58.37s/it]"
     ]
    },
    {
     "name": "stdout",
     "output_type": "stream",
     "text": [
      "[TransNetV2] Processing video frames 7359/7359\n",
      "[TransNetV2] Extracting frames from ../Data/videos\\L26_V005.mp4\n",
      "[TransNetV2] Processing video frames 7300/7313"
     ]
    },
    {
     "name": "stderr",
     "output_type": "stream",
     "text": [
      " 12%|█▏        | 93/745 [3:28:21<8:47:53, 48.58s/it] "
     ]
    },
    {
     "name": "stdout",
     "output_type": "stream",
     "text": [
      "[TransNetV2] Processing video frames 7313/7313\n",
      "[TransNetV2] Extracting frames from ../Data/videos\\L26_V006.mp4\n",
      "[TransNetV2] Processing video frames 7300/7305"
     ]
    },
    {
     "name": "stderr",
     "output_type": "stream",
     "text": [
      " 13%|█▎        | 94/745 [3:28:46<7:32:53, 41.74s/it]"
     ]
    },
    {
     "name": "stdout",
     "output_type": "stream",
     "text": [
      "[TransNetV2] Processing video frames 7305/7305\n",
      "[TransNetV2] Extracting frames from ../Data/videos\\L26_V007.mp4\n",
      "[TransNetV2] Processing video frames 7800/7815"
     ]
    },
    {
     "name": "stderr",
     "output_type": "stream",
     "text": [
      " 13%|█▎        | 95/745 [3:29:14<6:45:42, 37.45s/it]"
     ]
    },
    {
     "name": "stdout",
     "output_type": "stream",
     "text": [
      "[TransNetV2] Processing video frames 7815/7815\n",
      "[TransNetV2] Extracting frames from ../Data/videos\\L26_V008.mp4\n",
      "[TransNetV2] Processing video frames 8300/8318"
     ]
    },
    {
     "name": "stderr",
     "output_type": "stream",
     "text": [
      " 13%|█▎        | 96/745 [3:29:43<6:18:27, 34.99s/it]"
     ]
    },
    {
     "name": "stdout",
     "output_type": "stream",
     "text": [
      "[TransNetV2] Processing video frames 8318/8318\n",
      "[TransNetV2] Extracting frames from ../Data/videos\\L26_V009.mp4\n",
      "[TransNetV2] Processing video frames 7700/7740"
     ]
    },
    {
     "name": "stderr",
     "output_type": "stream",
     "text": [
      " 13%|█▎        | 97/745 [3:30:10<5:52:19, 32.62s/it]"
     ]
    },
    {
     "name": "stdout",
     "output_type": "stream",
     "text": [
      "[TransNetV2] Processing video frames 7740/7740\n",
      "[TransNetV2] Extracting frames from ../Data/videos\\L26_V010.mp4\n",
      "[TransNetV2] Processing video frames 6900/6938"
     ]
    },
    {
     "name": "stderr",
     "output_type": "stream",
     "text": [
      " 13%|█▎        | 98/745 [3:30:34<5:24:55, 30.13s/it]"
     ]
    },
    {
     "name": "stdout",
     "output_type": "stream",
     "text": [
      "[TransNetV2] Processing video frames 6938/6938\n",
      "[TransNetV2] Extracting frames from ../Data/videos\\L26_V011.mp4\n",
      "[TransNetV2] Processing video frames 7000/7059"
     ]
    },
    {
     "name": "stderr",
     "output_type": "stream",
     "text": [
      " 13%|█▎        | 99/745 [3:30:59<5:07:17, 28.54s/it]"
     ]
    },
    {
     "name": "stdout",
     "output_type": "stream",
     "text": [
      "[TransNetV2] Processing video frames 7059/7059\n",
      "[TransNetV2] Extracting frames from ../Data/videos\\L26_V012.mp4\n",
      "[TransNetV2] Processing video frames 8900/8913"
     ]
    },
    {
     "name": "stderr",
     "output_type": "stream",
     "text": [
      " 13%|█▎        | 100/745 [3:31:31<5:16:16, 29.42s/it]"
     ]
    },
    {
     "name": "stdout",
     "output_type": "stream",
     "text": [
      "[TransNetV2] Processing video frames 8913/8913\n",
      "[TransNetV2] Extracting frames from ../Data/videos\\L26_V013.mp4\n",
      "[TransNetV2] Processing video frames 8470/8470\n"
     ]
    },
    {
     "name": "stderr",
     "output_type": "stream",
     "text": [
      " 14%|█▎        | 101/745 [3:32:00<5:16:40, 29.50s/it]"
     ]
    },
    {
     "name": "stdout",
     "output_type": "stream",
     "text": [
      "[TransNetV2] Extracting frames from ../Data/videos\\L26_V014.mp4\n",
      "[TransNetV2] Processing video frames 7700/7780"
     ]
    },
    {
     "name": "stderr",
     "output_type": "stream",
     "text": [
      " 14%|█▎        | 102/745 [3:32:28<5:08:55, 28.83s/it]"
     ]
    },
    {
     "name": "stdout",
     "output_type": "stream",
     "text": [
      "[TransNetV2] Processing video frames 7780/7780\n",
      "[TransNetV2] Extracting frames from ../Data/videos\\L26_V015.mp4\n",
      "[TransNetV2] Processing video frames 9377/9377\n"
     ]
    },
    {
     "name": "stderr",
     "output_type": "stream",
     "text": [
      " 14%|█▍        | 103/745 [3:33:01<5:21:11, 30.02s/it]"
     ]
    },
    {
     "name": "stdout",
     "output_type": "stream",
     "text": [
      "[TransNetV2] Extracting frames from ../Data/videos\\L26_V016.mp4\n",
      "[TransNetV2] Processing video frames 8296/8296\n"
     ]
    },
    {
     "name": "stderr",
     "output_type": "stream",
     "text": [
      " 14%|█▍        | 104/745 [3:33:30<5:17:32, 29.72s/it]"
     ]
    },
    {
     "name": "stdout",
     "output_type": "stream",
     "text": [
      "[TransNetV2] Extracting frames from ../Data/videos\\L26_V017.mp4\n",
      "[TransNetV2] Processing video frames 7400/7495"
     ]
    },
    {
     "name": "stderr",
     "output_type": "stream",
     "text": [
      " 14%|█▍        | 105/745 [3:33:56<5:06:18, 28.72s/it]"
     ]
    },
    {
     "name": "stdout",
     "output_type": "stream",
     "text": [
      "[TransNetV2] Processing video frames 7495/7495\n",
      "[TransNetV2] Extracting frames from ../Data/videos\\L26_V018.mp4\n",
      "[TransNetV2] Processing video frames 7400/7433"
     ]
    },
    {
     "name": "stderr",
     "output_type": "stream",
     "text": [
      " 14%|█▍        | 106/745 [3:34:22<4:57:01, 27.89s/it]"
     ]
    },
    {
     "name": "stdout",
     "output_type": "stream",
     "text": [
      "[TransNetV2] Processing video frames 7433/7433\n",
      "[TransNetV2] Extracting frames from ../Data/videos\\L26_V019.mp4\n",
      "[TransNetV2] Processing video frames 7300/7374"
     ]
    },
    {
     "name": "stderr",
     "output_type": "stream",
     "text": [
      " 14%|█▍        | 107/745 [3:34:48<4:50:07, 27.28s/it]"
     ]
    },
    {
     "name": "stdout",
     "output_type": "stream",
     "text": [
      "[TransNetV2] Processing video frames 7374/7374\n",
      "[TransNetV2] Extracting frames from ../Data/videos\\L26_V020.mp4\n",
      "[TransNetV2] Processing video frames 7500/7577"
     ]
    },
    {
     "name": "stderr",
     "output_type": "stream",
     "text": [
      " 14%|█▍        | 108/745 [3:35:14<4:47:18, 27.06s/it]"
     ]
    },
    {
     "name": "stdout",
     "output_type": "stream",
     "text": [
      "[TransNetV2] Processing video frames 7577/7577\n",
      "[TransNetV2] Extracting frames from ../Data/videos\\L26_V021.mp4\n",
      "[TransNetV2] Processing video frames 8753/8753\n"
     ]
    },
    {
     "name": "stderr",
     "output_type": "stream",
     "text": [
      " 15%|█▍        | 109/745 [3:35:45<4:58:44, 28.18s/it]"
     ]
    },
    {
     "name": "stdout",
     "output_type": "stream",
     "text": [
      "[TransNetV2] Extracting frames from ../Data/videos\\L26_V022.mp4\n",
      "[TransNetV2] Processing video frames 7200/7225"
     ]
    },
    {
     "name": "stderr",
     "output_type": "stream",
     "text": [
      " 15%|█▍        | 110/745 [3:36:11<4:49:25, 27.35s/it]"
     ]
    },
    {
     "name": "stdout",
     "output_type": "stream",
     "text": [
      "[TransNetV2] Processing video frames 7225/7225\n",
      "[TransNetV2] Extracting frames from ../Data/videos\\L26_V023.mp4\n",
      "[TransNetV2] Processing video frames 6869/6869\n"
     ]
    },
    {
     "name": "stderr",
     "output_type": "stream",
     "text": [
      " 15%|█▍        | 111/745 [3:36:35<4:38:38, 26.37s/it]"
     ]
    },
    {
     "name": "stdout",
     "output_type": "stream",
     "text": [
      "[TransNetV2] Extracting frames from ../Data/videos\\L26_V024.mp4\n",
      "[TransNetV2] Processing video frames 8172/8172\n"
     ]
    },
    {
     "name": "stderr",
     "output_type": "stream",
     "text": [
      " 15%|█▌        | 112/745 [3:37:03<4:45:14, 27.04s/it]"
     ]
    },
    {
     "name": "stdout",
     "output_type": "stream",
     "text": [
      "[TransNetV2] Extracting frames from ../Data/videos\\L26_V025.mp4\n",
      "[TransNetV2] Processing video frames 7900/7912"
     ]
    },
    {
     "name": "stderr",
     "output_type": "stream",
     "text": [
      " 15%|█▌        | 113/745 [3:37:31<4:47:02, 27.25s/it]"
     ]
    },
    {
     "name": "stdout",
     "output_type": "stream",
     "text": [
      "[TransNetV2] Processing video frames 7912/7912\n",
      "[TransNetV2] Extracting frames from ../Data/videos\\L26_V026.mp4\n",
      "[TransNetV2] Processing video frames 7400/7408"
     ]
    },
    {
     "name": "stderr",
     "output_type": "stream",
     "text": [
      " 15%|█▌        | 114/745 [3:37:57<4:42:43, 26.88s/it]"
     ]
    },
    {
     "name": "stdout",
     "output_type": "stream",
     "text": [
      "[TransNetV2] Processing video frames 7408/7408\n",
      "[TransNetV2] Extracting frames from ../Data/videos\\L26_V027.mp4\n",
      "[TransNetV2] Processing video frames 8169/8169\n"
     ]
    },
    {
     "name": "stderr",
     "output_type": "stream",
     "text": [
      " 15%|█▌        | 115/745 [3:38:26<4:47:37, 27.39s/it]"
     ]
    },
    {
     "name": "stdout",
     "output_type": "stream",
     "text": [
      "[TransNetV2] Extracting frames from ../Data/videos\\L26_V028.mp4\n",
      "[TransNetV2] Processing video frames 7200/7216"
     ]
    },
    {
     "name": "stderr",
     "output_type": "stream",
     "text": [
      " 16%|█▌        | 116/745 [3:38:51<4:40:39, 26.77s/it]"
     ]
    },
    {
     "name": "stdout",
     "output_type": "stream",
     "text": [
      "[TransNetV2] Processing video frames 7216/7216\n",
      "[TransNetV2] Extracting frames from ../Data/videos\\L26_V029.mp4\n",
      "[TransNetV2] Processing video frames 7700/7727"
     ]
    },
    {
     "name": "stderr",
     "output_type": "stream",
     "text": [
      " 16%|█▌        | 117/745 [3:39:18<4:41:05, 26.86s/it]"
     ]
    },
    {
     "name": "stdout",
     "output_type": "stream",
     "text": [
      "[TransNetV2] Processing video frames 7727/7727\n",
      "[TransNetV2] Extracting frames from ../Data/videos\\L26_V030.mp4\n",
      "[TransNetV2] Processing video frames 6800/6822"
     ]
    },
    {
     "name": "stderr",
     "output_type": "stream",
     "text": [
      " 16%|█▌        | 118/745 [3:39:42<4:31:37, 25.99s/it]"
     ]
    },
    {
     "name": "stdout",
     "output_type": "stream",
     "text": [
      "[TransNetV2] Processing video frames 6822/6822\n",
      "[TransNetV2] Extracting frames from ../Data/videos\\L26_V031.mp4\n",
      "[TransNetV2] Processing video frames 7900/7928"
     ]
    },
    {
     "name": "stderr",
     "output_type": "stream",
     "text": [
      " 16%|█▌        | 119/745 [3:40:10<4:36:56, 26.54s/it]"
     ]
    },
    {
     "name": "stdout",
     "output_type": "stream",
     "text": [
      "[TransNetV2] Processing video frames 7928/7928\n",
      "[TransNetV2] Extracting frames from ../Data/videos\\L26_V032.mp4\n",
      "[TransNetV2] Processing video frames 8796/8796\n"
     ]
    },
    {
     "name": "stderr",
     "output_type": "stream",
     "text": [
      " 16%|█▌        | 120/745 [3:40:40<4:49:23, 27.78s/it]"
     ]
    },
    {
     "name": "stdout",
     "output_type": "stream",
     "text": [
      "[TransNetV2] Extracting frames from ../Data/videos\\L26_V033.mp4\n",
      "[TransNetV2] Processing video frames 8500/8521"
     ]
    },
    {
     "name": "stderr",
     "output_type": "stream",
     "text": [
      " 16%|█▌        | 121/745 [3:41:10<4:55:36, 28.42s/it]"
     ]
    },
    {
     "name": "stdout",
     "output_type": "stream",
     "text": [
      "[TransNetV2] Processing video frames 8521/8521\n",
      "[TransNetV2] Extracting frames from ../Data/videos\\L26_V034.mp4\n",
      "[TransNetV2] Processing video frames 8500/8513"
     ]
    },
    {
     "name": "stderr",
     "output_type": "stream",
     "text": [
      " 16%|█▋        | 122/745 [3:41:40<4:59:43, 28.87s/it]"
     ]
    },
    {
     "name": "stdout",
     "output_type": "stream",
     "text": [
      "[TransNetV2] Processing video frames 8513/8513\n",
      "[TransNetV2] Extracting frames from ../Data/videos\\L26_V035.mp4\n",
      "[TransNetV2] Processing video frames 8100/8122"
     ]
    },
    {
     "name": "stderr",
     "output_type": "stream",
     "text": [
      " 17%|█▋        | 123/745 [3:42:09<4:58:31, 28.80s/it]"
     ]
    },
    {
     "name": "stdout",
     "output_type": "stream",
     "text": [
      "[TransNetV2] Processing video frames 8122/8122\n",
      "[TransNetV2] Extracting frames from ../Data/videos\\L26_V036.mp4\n",
      "[TransNetV2] Processing video frames 7900/7934"
     ]
    },
    {
     "name": "stderr",
     "output_type": "stream",
     "text": [
      " 17%|█▋        | 124/745 [3:42:37<4:55:16, 28.53s/it]"
     ]
    },
    {
     "name": "stdout",
     "output_type": "stream",
     "text": [
      "[TransNetV2] Processing video frames 7934/7934\n",
      "[TransNetV2] Extracting frames from ../Data/videos\\L26_V037.mp4\n",
      "[TransNetV2] Processing video frames 8000/8091"
     ]
    },
    {
     "name": "stderr",
     "output_type": "stream",
     "text": [
      " 17%|█▋        | 125/745 [3:43:05<4:54:22, 28.49s/it]"
     ]
    },
    {
     "name": "stdout",
     "output_type": "stream",
     "text": [
      "[TransNetV2] Processing video frames 8091/8091\n",
      "[TransNetV2] Extracting frames from ../Data/videos\\L26_V038.mp4\n",
      "[TransNetV2] Processing video frames 7900/7949"
     ]
    },
    {
     "name": "stderr",
     "output_type": "stream",
     "text": [
      " 17%|█▋        | 126/745 [3:43:33<4:51:24, 28.25s/it]"
     ]
    },
    {
     "name": "stdout",
     "output_type": "stream",
     "text": [
      "[TransNetV2] Processing video frames 7949/7949\n",
      "[TransNetV2] Extracting frames from ../Data/videos\\L26_V039.mp4\n",
      "[TransNetV2] Processing video frames 8964/8964\n"
     ]
    },
    {
     "name": "stderr",
     "output_type": "stream",
     "text": [
      " 17%|█▋        | 127/745 [3:44:04<5:00:52, 29.21s/it]"
     ]
    },
    {
     "name": "stdout",
     "output_type": "stream",
     "text": [
      "[TransNetV2] Extracting frames from ../Data/videos\\L26_V040.mp4\n",
      "[TransNetV2] Processing video frames 7900/7981"
     ]
    },
    {
     "name": "stderr",
     "output_type": "stream",
     "text": [
      " 17%|█▋        | 128/745 [3:44:32<4:56:58, 28.88s/it]"
     ]
    },
    {
     "name": "stdout",
     "output_type": "stream",
     "text": [
      "[TransNetV2] Processing video frames 7981/7981\n",
      "[TransNetV2] Extracting frames from ../Data/videos\\L26_V041.mp4\n",
      "[TransNetV2] Processing video frames 8200/8237"
     ]
    },
    {
     "name": "stderr",
     "output_type": "stream",
     "text": [
      " 17%|█▋        | 129/745 [3:45:01<4:56:11, 28.85s/it]"
     ]
    },
    {
     "name": "stdout",
     "output_type": "stream",
     "text": [
      "[TransNetV2] Processing video frames 8237/8237\n",
      "[TransNetV2] Extracting frames from ../Data/videos\\L26_V042.mp4\n",
      "[TransNetV2] Processing video frames 7300/7303"
     ]
    },
    {
     "name": "stderr",
     "output_type": "stream",
     "text": [
      " 17%|█▋        | 130/745 [3:45:27<4:46:21, 27.94s/it]"
     ]
    },
    {
     "name": "stdout",
     "output_type": "stream",
     "text": [
      "[TransNetV2] Processing video frames 7303/7303\n",
      "[TransNetV2] Extracting frames from ../Data/videos\\L26_V043.mp4\n",
      "[TransNetV2] Processing video frames 7700/7780"
     ]
    },
    {
     "name": "stderr",
     "output_type": "stream",
     "text": [
      " 18%|█▊        | 131/745 [3:45:54<4:43:56, 27.75s/it]"
     ]
    },
    {
     "name": "stdout",
     "output_type": "stream",
     "text": [
      "[TransNetV2] Processing video frames 7780/7780\n",
      "[TransNetV2] Extracting frames from ../Data/videos\\L26_V044.mp4\n",
      "[TransNetV2] Processing video frames 8000/8097"
     ]
    },
    {
     "name": "stderr",
     "output_type": "stream",
     "text": [
      " 18%|█▊        | 132/745 [3:46:22<4:44:46, 27.87s/it]"
     ]
    },
    {
     "name": "stdout",
     "output_type": "stream",
     "text": [
      "[TransNetV2] Processing video frames 8097/8097\n",
      "[TransNetV2] Extracting frames from ../Data/videos\\L26_V045.mp4\n",
      "[TransNetV2] Processing video frames 8200/8233"
     ]
    },
    {
     "name": "stderr",
     "output_type": "stream",
     "text": [
      " 18%|█▊        | 133/745 [3:46:52<4:48:03, 28.24s/it]"
     ]
    },
    {
     "name": "stdout",
     "output_type": "stream",
     "text": [
      "[TransNetV2] Processing video frames 8233/8233\n",
      "[TransNetV2] Extracting frames from ../Data/videos\\L26_V046.mp4\n",
      "[TransNetV2] Processing video frames 8000/8051"
     ]
    },
    {
     "name": "stderr",
     "output_type": "stream",
     "text": [
      " 18%|█▊        | 134/745 [3:47:20<4:48:01, 28.28s/it]"
     ]
    },
    {
     "name": "stdout",
     "output_type": "stream",
     "text": [
      "[TransNetV2] Processing video frames 8051/8051\n",
      "[TransNetV2] Extracting frames from ../Data/videos\\L26_V047.mp4\n",
      "[TransNetV2] Processing video frames 8200/8256"
     ]
    },
    {
     "name": "stderr",
     "output_type": "stream",
     "text": [
      " 18%|█▊        | 135/745 [3:47:49<4:49:55, 28.52s/it]"
     ]
    },
    {
     "name": "stdout",
     "output_type": "stream",
     "text": [
      "[TransNetV2] Processing video frames 8256/8256\n",
      "[TransNetV2] Extracting frames from ../Data/videos\\L26_V048.mp4\n",
      "[TransNetV2] Processing video frames 8100/8185"
     ]
    },
    {
     "name": "stderr",
     "output_type": "stream",
     "text": [
      " 18%|█▊        | 136/745 [3:48:18<4:49:56, 28.57s/it]"
     ]
    },
    {
     "name": "stdout",
     "output_type": "stream",
     "text": [
      "[TransNetV2] Processing video frames 8185/8185\n",
      "[TransNetV2] Extracting frames from ../Data/videos\\L26_V049.mp4\n",
      "[TransNetV2] Processing video frames 8200/8246"
     ]
    },
    {
     "name": "stderr",
     "output_type": "stream",
     "text": [
      " 18%|█▊        | 137/745 [3:48:47<4:50:13, 28.64s/it]"
     ]
    },
    {
     "name": "stdout",
     "output_type": "stream",
     "text": [
      "[TransNetV2] Processing video frames 8246/8246\n",
      "[TransNetV2] Extracting frames from ../Data/videos\\L26_V050.mp4\n",
      "[TransNetV2] Processing video frames 8200/8257"
     ]
    },
    {
     "name": "stderr",
     "output_type": "stream",
     "text": [
      " 19%|█▊        | 138/745 [3:49:15<4:50:37, 28.73s/it]"
     ]
    },
    {
     "name": "stdout",
     "output_type": "stream",
     "text": [
      "[TransNetV2] Processing video frames 8257/8257\n",
      "[TransNetV2] Extracting frames from ../Data/videos\\L26_V051.mp4\n",
      "[TransNetV2] Processing video frames 7700/7764"
     ]
    },
    {
     "name": "stderr",
     "output_type": "stream",
     "text": [
      " 19%|█▊        | 139/745 [3:49:43<4:46:07, 28.33s/it]"
     ]
    },
    {
     "name": "stdout",
     "output_type": "stream",
     "text": [
      "[TransNetV2] Processing video frames 7764/7764\n",
      "[TransNetV2] Extracting frames from ../Data/videos\\L26_V052.mp4\n",
      "[TransNetV2] Processing video frames 8200/8293"
     ]
    },
    {
     "name": "stderr",
     "output_type": "stream",
     "text": [
      " 19%|█▉        | 140/745 [3:50:12<4:47:55, 28.55s/it]"
     ]
    },
    {
     "name": "stdout",
     "output_type": "stream",
     "text": [
      "[TransNetV2] Processing video frames 8293/8293\n",
      "[TransNetV2] Extracting frames from ../Data/videos\\L26_V053.mp4\n",
      "[TransNetV2] Processing video frames 7884/7884\n"
     ]
    },
    {
     "name": "stderr",
     "output_type": "stream",
     "text": [
      " 19%|█▉        | 141/745 [3:50:40<4:44:34, 28.27s/it]"
     ]
    },
    {
     "name": "stdout",
     "output_type": "stream",
     "text": [
      "[TransNetV2] Extracting frames from ../Data/videos\\L26_V054.mp4\n",
      "[TransNetV2] Processing video frames 8200/8227"
     ]
    },
    {
     "name": "stderr",
     "output_type": "stream",
     "text": [
      " 19%|█▉        | 142/745 [3:51:08<4:46:07, 28.47s/it]"
     ]
    },
    {
     "name": "stdout",
     "output_type": "stream",
     "text": [
      "[TransNetV2] Processing video frames 8227/8227\n",
      "[TransNetV2] Extracting frames from ../Data/videos\\L26_V055.mp4\n",
      "[TransNetV2] Processing video frames 8100/8161"
     ]
    },
    {
     "name": "stderr",
     "output_type": "stream",
     "text": [
      " 19%|█▉        | 143/745 [3:51:37<4:46:37, 28.57s/it]"
     ]
    },
    {
     "name": "stdout",
     "output_type": "stream",
     "text": [
      "[TransNetV2] Processing video frames 8161/8161\n",
      "[TransNetV2] Extracting frames from ../Data/videos\\L26_V056.mp4\n",
      "[TransNetV2] Processing video frames 8067/8067\n"
     ]
    },
    {
     "name": "stderr",
     "output_type": "stream",
     "text": [
      " 19%|█▉        | 144/745 [3:52:06<4:45:32, 28.51s/it]"
     ]
    },
    {
     "name": "stdout",
     "output_type": "stream",
     "text": [
      "[TransNetV2] Extracting frames from ../Data/videos\\L26_V057.mp4\n",
      "[TransNetV2] Processing video frames 8200/8229"
     ]
    },
    {
     "name": "stderr",
     "output_type": "stream",
     "text": [
      " 19%|█▉        | 145/745 [3:52:35<4:46:27, 28.65s/it]"
     ]
    },
    {
     "name": "stdout",
     "output_type": "stream",
     "text": [
      "[TransNetV2] Processing video frames 8229/8229\n",
      "[TransNetV2] Extracting frames from ../Data/videos\\L26_V058.mp4\n",
      "[TransNetV2] Processing video frames 8200/8277"
     ]
    },
    {
     "name": "stderr",
     "output_type": "stream",
     "text": [
      " 20%|█▉        | 146/745 [3:53:04<4:46:52, 28.74s/it]"
     ]
    },
    {
     "name": "stdout",
     "output_type": "stream",
     "text": [
      "[TransNetV2] Processing video frames 8277/8277\n",
      "[TransNetV2] Extracting frames from ../Data/videos\\L26_V059.mp4\n",
      "[TransNetV2] Processing video frames 8000/8046"
     ]
    },
    {
     "name": "stderr",
     "output_type": "stream",
     "text": [
      " 20%|█▉        | 147/745 [3:53:32<4:44:18, 28.53s/it]"
     ]
    },
    {
     "name": "stdout",
     "output_type": "stream",
     "text": [
      "[TransNetV2] Processing video frames 8046/8046\n",
      "[TransNetV2] Extracting frames from ../Data/videos\\L26_V060.mp4\n",
      "[TransNetV2] Processing video frames 8200/8202"
     ]
    },
    {
     "name": "stderr",
     "output_type": "stream",
     "text": [
      " 20%|█▉        | 148/745 [3:54:00<4:44:59, 28.64s/it]"
     ]
    },
    {
     "name": "stdout",
     "output_type": "stream",
     "text": [
      "[TransNetV2] Processing video frames 8202/8202\n",
      "[TransNetV2] Extracting frames from ../Data/videos\\L26_V061.mp4\n",
      "[TransNetV2] Processing video frames 8097/8097\n"
     ]
    },
    {
     "name": "stderr",
     "output_type": "stream",
     "text": [
      " 20%|██        | 149/745 [3:54:29<4:43:47, 28.57s/it]"
     ]
    },
    {
     "name": "stdout",
     "output_type": "stream",
     "text": [
      "[TransNetV2] Extracting frames from ../Data/videos\\L26_V062.mp4\n",
      "[TransNetV2] Processing video frames 8200/8231"
     ]
    },
    {
     "name": "stderr",
     "output_type": "stream",
     "text": [
      " 20%|██        | 150/745 [3:54:58<4:44:37, 28.70s/it]"
     ]
    },
    {
     "name": "stdout",
     "output_type": "stream",
     "text": [
      "[TransNetV2] Processing video frames 8231/8231\n",
      "[TransNetV2] Extracting frames from ../Data/videos\\L26_V063.mp4\n",
      "[TransNetV2] Processing video frames 8000/8079"
     ]
    },
    {
     "name": "stderr",
     "output_type": "stream",
     "text": [
      " 20%|██        | 151/745 [3:55:26<4:43:12, 28.61s/it]"
     ]
    },
    {
     "name": "stdout",
     "output_type": "stream",
     "text": [
      "[TransNetV2] Processing video frames 8079/8079\n",
      "[TransNetV2] Extracting frames from ../Data/videos\\L26_V064.mp4\n",
      "[TransNetV2] Processing video frames 8000/8031"
     ]
    },
    {
     "name": "stderr",
     "output_type": "stream",
     "text": [
      " 20%|██        | 152/745 [3:55:55<4:41:36, 28.49s/it]"
     ]
    },
    {
     "name": "stdout",
     "output_type": "stream",
     "text": [
      "[TransNetV2] Processing video frames 8031/8031\n",
      "[TransNetV2] Extracting frames from ../Data/videos\\L26_V065.mp4\n",
      "[TransNetV2] Processing video frames 8100/8174"
     ]
    },
    {
     "name": "stderr",
     "output_type": "stream",
     "text": [
      " 21%|██        | 153/745 [3:56:23<4:41:57, 28.58s/it]"
     ]
    },
    {
     "name": "stdout",
     "output_type": "stream",
     "text": [
      "[TransNetV2] Processing video frames 8174/8174\n",
      "[TransNetV2] Extracting frames from ../Data/videos\\L26_V066.mp4\n",
      "[TransNetV2] Processing video frames 8200/8207"
     ]
    },
    {
     "name": "stderr",
     "output_type": "stream",
     "text": [
      " 21%|██        | 154/745 [3:56:52<4:42:39, 28.70s/it]"
     ]
    },
    {
     "name": "stdout",
     "output_type": "stream",
     "text": [
      "[TransNetV2] Processing video frames 8207/8207\n",
      "[TransNetV2] Extracting frames from ../Data/videos\\L26_V067.mp4\n",
      "[TransNetV2] Processing video frames 8200/8238"
     ]
    },
    {
     "name": "stderr",
     "output_type": "stream",
     "text": [
      " 21%|██        | 155/745 [3:57:21<4:42:22, 28.72s/it]"
     ]
    },
    {
     "name": "stdout",
     "output_type": "stream",
     "text": [
      "[TransNetV2] Processing video frames 8238/8238\n",
      "[TransNetV2] Extracting frames from ../Data/videos\\L26_V068.mp4\n",
      "[TransNetV2] Processing video frames 8200/8236"
     ]
    },
    {
     "name": "stderr",
     "output_type": "stream",
     "text": [
      " 21%|██        | 156/745 [3:57:50<4:42:58, 28.83s/it]"
     ]
    },
    {
     "name": "stdout",
     "output_type": "stream",
     "text": [
      "[TransNetV2] Processing video frames 8236/8236\n",
      "[TransNetV2] Extracting frames from ../Data/videos\\L26_V069.mp4\n",
      "[TransNetV2] Processing video frames 8274/8274\n"
     ]
    },
    {
     "name": "stderr",
     "output_type": "stream",
     "text": [
      " 21%|██        | 157/745 [3:58:19<4:43:17, 28.91s/it]"
     ]
    },
    {
     "name": "stdout",
     "output_type": "stream",
     "text": [
      "[TransNetV2] Extracting frames from ../Data/videos\\L26_V070.mp4\n",
      "[TransNetV2] Processing video frames 7900/7982"
     ]
    },
    {
     "name": "stderr",
     "output_type": "stream",
     "text": [
      " 21%|██        | 158/745 [3:58:47<4:40:46, 28.70s/it]"
     ]
    },
    {
     "name": "stdout",
     "output_type": "stream",
     "text": [
      "[TransNetV2] Processing video frames 7982/7982\n",
      "[TransNetV2] Extracting frames from ../Data/videos\\L26_V071.mp4\n",
      "[TransNetV2] Processing video frames 8000/8073"
     ]
    },
    {
     "name": "stderr",
     "output_type": "stream",
     "text": [
      " 21%|██▏       | 159/745 [3:59:16<4:39:12, 28.59s/it]"
     ]
    },
    {
     "name": "stdout",
     "output_type": "stream",
     "text": [
      "[TransNetV2] Processing video frames 8073/8073\n",
      "[TransNetV2] Extracting frames from ../Data/videos\\L26_V072.mp4\n",
      "[TransNetV2] Processing video frames 8174/8174\n"
     ]
    },
    {
     "name": "stderr",
     "output_type": "stream",
     "text": [
      " 21%|██▏       | 160/745 [3:59:45<4:39:40, 28.68s/it]"
     ]
    },
    {
     "name": "stdout",
     "output_type": "stream",
     "text": [
      "[TransNetV2] Extracting frames from ../Data/videos\\L26_V073.mp4\n",
      "[TransNetV2] Processing video frames 8200/8244"
     ]
    },
    {
     "name": "stderr",
     "output_type": "stream",
     "text": [
      " 22%|██▏       | 161/745 [4:00:14<4:40:01, 28.77s/it]"
     ]
    },
    {
     "name": "stdout",
     "output_type": "stream",
     "text": [
      "[TransNetV2] Processing video frames 8244/8244\n",
      "[TransNetV2] Extracting frames from ../Data/videos\\L26_V074.mp4\n",
      "[TransNetV2] Processing video frames 8171/8171\n"
     ]
    },
    {
     "name": "stderr",
     "output_type": "stream",
     "text": [
      " 22%|██▏       | 162/745 [4:00:42<4:39:40, 28.78s/it]"
     ]
    },
    {
     "name": "stdout",
     "output_type": "stream",
     "text": [
      "[TransNetV2] Extracting frames from ../Data/videos\\L26_V075.mp4\n",
      "[TransNetV2] Processing video frames 8200/8236"
     ]
    },
    {
     "name": "stderr",
     "output_type": "stream",
     "text": [
      " 22%|██▏       | 163/745 [4:01:11<4:39:59, 28.87s/it]"
     ]
    },
    {
     "name": "stdout",
     "output_type": "stream",
     "text": [
      "[TransNetV2] Processing video frames 8236/8236\n",
      "[TransNetV2] Extracting frames from ../Data/videos\\L26_V076.mp4\n",
      "[TransNetV2] Processing video frames 8100/8110"
     ]
    },
    {
     "name": "stderr",
     "output_type": "stream",
     "text": [
      " 22%|██▏       | 164/745 [4:01:40<4:38:59, 28.81s/it]"
     ]
    },
    {
     "name": "stdout",
     "output_type": "stream",
     "text": [
      "[TransNetV2] Processing video frames 8110/8110\n",
      "[TransNetV2] Extracting frames from ../Data/videos\\L26_V077.mp4\n",
      "[TransNetV2] Processing video frames 8200/8223"
     ]
    },
    {
     "name": "stderr",
     "output_type": "stream",
     "text": [
      " 22%|██▏       | 165/745 [4:02:09<4:39:16, 28.89s/it]"
     ]
    },
    {
     "name": "stdout",
     "output_type": "stream",
     "text": [
      "[TransNetV2] Processing video frames 8223/8223\n",
      "[TransNetV2] Extracting frames from ../Data/videos\\L26_V078.mp4\n",
      "[TransNetV2] Processing video frames 8000/8066"
     ]
    },
    {
     "name": "stderr",
     "output_type": "stream",
     "text": [
      " 22%|██▏       | 166/745 [4:02:38<4:37:23, 28.74s/it]"
     ]
    },
    {
     "name": "stdout",
     "output_type": "stream",
     "text": [
      "[TransNetV2] Processing video frames 8066/8066\n",
      "[TransNetV2] Extracting frames from ../Data/videos\\L26_V079.mp4\n",
      "[TransNetV2] Processing video frames 8200/8268"
     ]
    },
    {
     "name": "stderr",
     "output_type": "stream",
     "text": [
      " 22%|██▏       | 167/745 [4:03:07<4:37:34, 28.81s/it]"
     ]
    },
    {
     "name": "stdout",
     "output_type": "stream",
     "text": [
      "[TransNetV2] Processing video frames 8268/8268\n",
      "[TransNetV2] Extracting frames from ../Data/videos\\L26_V080.mp4\n",
      "[TransNetV2] Processing video frames 7600/7615"
     ]
    },
    {
     "name": "stderr",
     "output_type": "stream",
     "text": [
      " 23%|██▎       | 168/745 [4:03:33<4:31:03, 28.19s/it]"
     ]
    },
    {
     "name": "stdout",
     "output_type": "stream",
     "text": [
      "[TransNetV2] Processing video frames 7615/7615\n",
      "[TransNetV2] Extracting frames from ../Data/videos\\L26_V081.mp4\n",
      "[TransNetV2] Processing video frames 8000/8017"
     ]
    },
    {
     "name": "stderr",
     "output_type": "stream",
     "text": [
      " 23%|██▎       | 169/745 [4:04:02<4:30:34, 28.18s/it]"
     ]
    },
    {
     "name": "stdout",
     "output_type": "stream",
     "text": [
      "[TransNetV2] Processing video frames 8017/8017\n",
      "[TransNetV2] Extracting frames from ../Data/videos\\L26_V082.mp4\n",
      "[TransNetV2] Processing video frames 8100/8173"
     ]
    },
    {
     "name": "stderr",
     "output_type": "stream",
     "text": [
      " 23%|██▎       | 170/745 [4:04:30<4:32:14, 28.41s/it]"
     ]
    },
    {
     "name": "stdout",
     "output_type": "stream",
     "text": [
      "[TransNetV2] Processing video frames 8173/8173\n",
      "[TransNetV2] Extracting frames from ../Data/videos\\L26_V083.mp4\n",
      "[TransNetV2] Processing video frames 8200/8214"
     ]
    },
    {
     "name": "stderr",
     "output_type": "stream",
     "text": [
      " 23%|██▎       | 171/745 [4:04:59<4:33:05, 28.55s/it]"
     ]
    },
    {
     "name": "stdout",
     "output_type": "stream",
     "text": [
      "[TransNetV2] Processing video frames 8214/8214\n",
      "[TransNetV2] Extracting frames from ../Data/videos\\L26_V084.mp4\n",
      "[TransNetV2] Processing video frames 8100/8199"
     ]
    },
    {
     "name": "stderr",
     "output_type": "stream",
     "text": [
      " 23%|██▎       | 172/745 [4:05:28<4:33:04, 28.60s/it]"
     ]
    },
    {
     "name": "stdout",
     "output_type": "stream",
     "text": [
      "[TransNetV2] Processing video frames 8199/8199\n",
      "[TransNetV2] Extracting frames from ../Data/videos\\L26_V085.mp4\n",
      "[TransNetV2] Processing video frames 7800/7871"
     ]
    },
    {
     "name": "stderr",
     "output_type": "stream",
     "text": [
      " 23%|██▎       | 173/745 [4:05:56<4:29:40, 28.29s/it]"
     ]
    },
    {
     "name": "stdout",
     "output_type": "stream",
     "text": [
      "[TransNetV2] Processing video frames 7871/7871\n",
      "[TransNetV2] Extracting frames from ../Data/videos\\L26_V086.mp4\n",
      "[TransNetV2] Processing video frames 8100/8185"
     ]
    },
    {
     "name": "stderr",
     "output_type": "stream",
     "text": [
      " 23%|██▎       | 174/745 [4:06:24<4:30:51, 28.46s/it]"
     ]
    },
    {
     "name": "stdout",
     "output_type": "stream",
     "text": [
      "[TransNetV2] Processing video frames 8185/8185\n",
      "[TransNetV2] Extracting frames from ../Data/videos\\L26_V087.mp4\n",
      "[TransNetV2] Processing video frames 7900/7969"
     ]
    },
    {
     "name": "stderr",
     "output_type": "stream",
     "text": [
      " 23%|██▎       | 175/745 [4:06:53<4:29:17, 28.35s/it]"
     ]
    },
    {
     "name": "stdout",
     "output_type": "stream",
     "text": [
      "[TransNetV2] Processing video frames 7969/7969\n",
      "[TransNetV2] Extracting frames from ../Data/videos\\L26_V088.mp4\n",
      "[TransNetV2] Processing video frames 8000/8055"
     ]
    },
    {
     "name": "stderr",
     "output_type": "stream",
     "text": [
      " 24%|██▎       | 176/745 [4:07:21<4:28:52, 28.35s/it]"
     ]
    },
    {
     "name": "stdout",
     "output_type": "stream",
     "text": [
      "[TransNetV2] Processing video frames 8055/8055\n",
      "[TransNetV2] Extracting frames from ../Data/videos\\L26_V089.mp4\n",
      "[TransNetV2] Processing video frames 7600/7699"
     ]
    },
    {
     "name": "stderr",
     "output_type": "stream",
     "text": [
      " 24%|██▍       | 177/745 [4:07:48<4:24:37, 27.95s/it]"
     ]
    },
    {
     "name": "stdout",
     "output_type": "stream",
     "text": [
      "[TransNetV2] Processing video frames 7699/7699\n",
      "[TransNetV2] Extracting frames from ../Data/videos\\L26_V090.mp4\n",
      "[TransNetV2] Processing video frames 7700/7734"
     ]
    },
    {
     "name": "stderr",
     "output_type": "stream",
     "text": [
      " 24%|██▍       | 178/745 [4:08:15<4:21:19, 27.65s/it]"
     ]
    },
    {
     "name": "stdout",
     "output_type": "stream",
     "text": [
      "[TransNetV2] Processing video frames 7734/7734\n",
      "[TransNetV2] Extracting frames from ../Data/videos\\L26_V091.mp4\n",
      "[TransNetV2] Processing video frames 8200/8217"
     ]
    },
    {
     "name": "stderr",
     "output_type": "stream",
     "text": [
      " 24%|██▍       | 179/745 [4:08:44<4:24:25, 28.03s/it]"
     ]
    },
    {
     "name": "stdout",
     "output_type": "stream",
     "text": [
      "[TransNetV2] Processing video frames 8217/8217\n",
      "[TransNetV2] Extracting frames from ../Data/videos\\L26_V092.mp4\n",
      "[TransNetV2] Processing video frames 8100/8116"
     ]
    },
    {
     "name": "stderr",
     "output_type": "stream",
     "text": [
      " 24%|██▍       | 180/745 [4:09:12<4:25:39, 28.21s/it]"
     ]
    },
    {
     "name": "stdout",
     "output_type": "stream",
     "text": [
      "[TransNetV2] Processing video frames 8116/8116\n",
      "[TransNetV2] Extracting frames from ../Data/videos\\L26_V093.mp4\n",
      "[TransNetV2] Processing video frames 8100/8189"
     ]
    },
    {
     "name": "stderr",
     "output_type": "stream",
     "text": [
      " 24%|██▍       | 181/745 [4:09:41<4:26:42, 28.37s/it]"
     ]
    },
    {
     "name": "stdout",
     "output_type": "stream",
     "text": [
      "[TransNetV2] Processing video frames 8189/8189\n",
      "[TransNetV2] Extracting frames from ../Data/videos\\L26_V094.mp4\n",
      "[TransNetV2] Processing video frames 8000/8083"
     ]
    },
    {
     "name": "stderr",
     "output_type": "stream",
     "text": [
      " 24%|██▍       | 182/745 [4:10:10<4:26:16, 28.38s/it]"
     ]
    },
    {
     "name": "stdout",
     "output_type": "stream",
     "text": [
      "[TransNetV2] Processing video frames 8083/8083\n",
      "[TransNetV2] Extracting frames from ../Data/videos\\L26_V095.mp4\n",
      "[TransNetV2] Processing video frames 8100/8197"
     ]
    },
    {
     "name": "stderr",
     "output_type": "stream",
     "text": [
      " 25%|██▍       | 183/745 [4:10:38<4:27:02, 28.51s/it]"
     ]
    },
    {
     "name": "stdout",
     "output_type": "stream",
     "text": [
      "[TransNetV2] Processing video frames 8197/8197\n",
      "[TransNetV2] Extracting frames from ../Data/videos\\L26_V096.mp4\n",
      "[TransNetV2] Processing video frames 8200/8210"
     ]
    },
    {
     "name": "stderr",
     "output_type": "stream",
     "text": [
      " 25%|██▍       | 184/745 [4:11:07<4:27:33, 28.62s/it]"
     ]
    },
    {
     "name": "stdout",
     "output_type": "stream",
     "text": [
      "[TransNetV2] Processing video frames 8210/8210\n",
      "[TransNetV2] Extracting frames from ../Data/videos\\L26_V097.mp4\n",
      "[TransNetV2] Processing video frames 8200/8225"
     ]
    },
    {
     "name": "stderr",
     "output_type": "stream",
     "text": [
      " 25%|██▍       | 185/745 [4:11:36<4:27:39, 28.68s/it]"
     ]
    },
    {
     "name": "stdout",
     "output_type": "stream",
     "text": [
      "[TransNetV2] Processing video frames 8225/8225\n",
      "[TransNetV2] Extracting frames from ../Data/videos\\L26_V098.mp4\n",
      "[TransNetV2] Processing video frames 8100/8127"
     ]
    },
    {
     "name": "stderr",
     "output_type": "stream",
     "text": [
      " 25%|██▍       | 186/745 [4:12:05<4:26:43, 28.63s/it]"
     ]
    },
    {
     "name": "stdout",
     "output_type": "stream",
     "text": [
      "[TransNetV2] Processing video frames 8127/8127\n",
      "[TransNetV2] Extracting frames from ../Data/videos\\L26_V099.mp4\n",
      "[TransNetV2] Processing video frames 8166/8166\n"
     ]
    },
    {
     "name": "stderr",
     "output_type": "stream",
     "text": [
      " 25%|██▌       | 187/745 [4:12:33<4:26:34, 28.66s/it]"
     ]
    },
    {
     "name": "stdout",
     "output_type": "stream",
     "text": [
      "[TransNetV2] Extracting frames from ../Data/videos\\L26_V100.mp4\n",
      "[TransNetV2] Processing video frames 8100/8135"
     ]
    },
    {
     "name": "stderr",
     "output_type": "stream",
     "text": [
      " 25%|██▌       | 188/745 [4:13:02<4:25:49, 28.64s/it]"
     ]
    },
    {
     "name": "stdout",
     "output_type": "stream",
     "text": [
      "[TransNetV2] Processing video frames 8135/8135\n",
      "[TransNetV2] Extracting frames from ../Data/videos\\L26_V101.mp4\n",
      "[TransNetV2] Processing video frames 8000/8091"
     ]
    },
    {
     "name": "stderr",
     "output_type": "stream",
     "text": [
      " 25%|██▌       | 189/745 [4:13:30<4:24:42, 28.57s/it]"
     ]
    },
    {
     "name": "stdout",
     "output_type": "stream",
     "text": [
      "[TransNetV2] Processing video frames 8091/8091\n",
      "[TransNetV2] Extracting frames from ../Data/videos\\L26_V102.mp4\n",
      "[TransNetV2] Processing video frames 8200/8204"
     ]
    },
    {
     "name": "stderr",
     "output_type": "stream",
     "text": [
      " 26%|██▌       | 190/745 [4:13:59<4:24:50, 28.63s/it]"
     ]
    },
    {
     "name": "stdout",
     "output_type": "stream",
     "text": [
      "[TransNetV2] Processing video frames 8204/8204\n",
      "[TransNetV2] Extracting frames from ../Data/videos\\L26_V103.mp4\n",
      "[TransNetV2] Processing video frames 8000/8045"
     ]
    },
    {
     "name": "stderr",
     "output_type": "stream",
     "text": [
      " 26%|██▌       | 191/745 [4:14:27<4:23:07, 28.50s/it]"
     ]
    },
    {
     "name": "stdout",
     "output_type": "stream",
     "text": [
      "[TransNetV2] Processing video frames 8045/8045\n",
      "[TransNetV2] Extracting frames from ../Data/videos\\L26_V104.mp4\n",
      "[TransNetV2] Processing video frames 8200/8237"
     ]
    },
    {
     "name": "stderr",
     "output_type": "stream",
     "text": [
      " 26%|██▌       | 192/745 [4:14:56<4:24:01, 28.65s/it]"
     ]
    },
    {
     "name": "stdout",
     "output_type": "stream",
     "text": [
      "[TransNetV2] Processing video frames 8237/8237\n",
      "[TransNetV2] Extracting frames from ../Data/videos\\L26_V105.mp4\n",
      "[TransNetV2] Processing video frames 8000/8014"
     ]
    },
    {
     "name": "stderr",
     "output_type": "stream",
     "text": [
      " 26%|██▌       | 193/745 [4:15:25<4:22:37, 28.55s/it]"
     ]
    },
    {
     "name": "stdout",
     "output_type": "stream",
     "text": [
      "[TransNetV2] Processing video frames 8014/8014\n",
      "[TransNetV2] Extracting frames from ../Data/videos\\L26_V106.mp4\n",
      "[TransNetV2] Processing video frames 7700/7796"
     ]
    },
    {
     "name": "stderr",
     "output_type": "stream",
     "text": [
      " 26%|██▌       | 194/745 [4:15:52<4:18:48, 28.18s/it]"
     ]
    },
    {
     "name": "stdout",
     "output_type": "stream",
     "text": [
      "[TransNetV2] Processing video frames 7796/7796\n",
      "[TransNetV2] Extracting frames from ../Data/videos\\L26_V107.mp4\n",
      "[TransNetV2] Processing video frames 7500/7505"
     ]
    },
    {
     "name": "stderr",
     "output_type": "stream",
     "text": [
      " 26%|██▌       | 195/745 [4:16:18<4:13:46, 27.69s/it]"
     ]
    },
    {
     "name": "stdout",
     "output_type": "stream",
     "text": [
      "[TransNetV2] Processing video frames 7505/7505\n",
      "[TransNetV2] Extracting frames from ../Data/videos\\L26_V108.mp4\n",
      "[TransNetV2] Processing video frames 8000/8006"
     ]
    },
    {
     "name": "stderr",
     "output_type": "stream",
     "text": [
      " 26%|██▋       | 196/745 [4:16:47<4:14:34, 27.82s/it]"
     ]
    },
    {
     "name": "stdout",
     "output_type": "stream",
     "text": [
      "[TransNetV2] Processing video frames 8006/8006\n",
      "[TransNetV2] Extracting frames from ../Data/videos\\L26_V109.mp4\n",
      "[TransNetV2] Processing video frames 8159/8159\n"
     ]
    },
    {
     "name": "stderr",
     "output_type": "stream",
     "text": [
      " 26%|██▋       | 197/745 [4:17:16<4:17:07, 28.15s/it]"
     ]
    },
    {
     "name": "stdout",
     "output_type": "stream",
     "text": [
      "[TransNetV2] Extracting frames from ../Data/videos\\L26_V110.mp4\n",
      "[TransNetV2] Processing video frames 7500/7593"
     ]
    },
    {
     "name": "stderr",
     "output_type": "stream",
     "text": [
      " 27%|██▋       | 198/745 [4:17:42<4:12:37, 27.71s/it]"
     ]
    },
    {
     "name": "stdout",
     "output_type": "stream",
     "text": [
      "[TransNetV2] Processing video frames 7593/7593\n",
      "[TransNetV2] Extracting frames from ../Data/videos\\L26_V111.mp4\n",
      "[TransNetV2] Processing video frames 7800/7823"
     ]
    },
    {
     "name": "stderr",
     "output_type": "stream",
     "text": [
      " 27%|██▋       | 199/745 [4:18:10<4:11:37, 27.65s/it]"
     ]
    },
    {
     "name": "stdout",
     "output_type": "stream",
     "text": [
      "[TransNetV2] Processing video frames 7823/7823\n",
      "[TransNetV2] Extracting frames from ../Data/videos\\L26_V112.mp4\n",
      "[TransNetV2] Processing video frames 7800/7831"
     ]
    },
    {
     "name": "stderr",
     "output_type": "stream",
     "text": [
      " 27%|██▋       | 200/745 [4:18:37<4:10:32, 27.58s/it]"
     ]
    },
    {
     "name": "stdout",
     "output_type": "stream",
     "text": [
      "[TransNetV2] Processing video frames 7831/7831\n",
      "[TransNetV2] Extracting frames from ../Data/videos\\L26_V113.mp4\n",
      "[TransNetV2] Processing video frames 8200/8263"
     ]
    },
    {
     "name": "stderr",
     "output_type": "stream",
     "text": [
      " 27%|██▋       | 201/745 [4:19:06<4:13:54, 28.00s/it]"
     ]
    },
    {
     "name": "stdout",
     "output_type": "stream",
     "text": [
      "[TransNetV2] Processing video frames 8263/8263\n",
      "[TransNetV2] Extracting frames from ../Data/videos\\L26_V114.mp4\n",
      "[TransNetV2] Processing video frames 8100/8146"
     ]
    },
    {
     "name": "stderr",
     "output_type": "stream",
     "text": [
      " 27%|██▋       | 202/745 [4:19:34<4:14:29, 28.12s/it]"
     ]
    },
    {
     "name": "stdout",
     "output_type": "stream",
     "text": [
      "[TransNetV2] Processing video frames 8146/8146\n",
      "[TransNetV2] Extracting frames from ../Data/videos\\L26_V115.mp4\n",
      "[TransNetV2] Processing video frames 8065/8065\n"
     ]
    },
    {
     "name": "stderr",
     "output_type": "stream",
     "text": [
      " 27%|██▋       | 203/745 [4:20:03<4:14:38, 28.19s/it]"
     ]
    },
    {
     "name": "stdout",
     "output_type": "stream",
     "text": [
      "[TransNetV2] Extracting frames from ../Data/videos\\L26_V116.mp4\n",
      "[TransNetV2] Processing video frames 8000/8019"
     ]
    },
    {
     "name": "stderr",
     "output_type": "stream",
     "text": [
      " 27%|██▋       | 204/745 [4:20:31<4:14:23, 28.21s/it]"
     ]
    },
    {
     "name": "stdout",
     "output_type": "stream",
     "text": [
      "[TransNetV2] Processing video frames 8019/8019\n",
      "[TransNetV2] Extracting frames from ../Data/videos\\L26_V117.mp4\n",
      "[TransNetV2] Processing video frames 8186/8186\n"
     ]
    },
    {
     "name": "stderr",
     "output_type": "stream",
     "text": [
      " 28%|██▊       | 205/745 [4:21:00<4:15:17, 28.37s/it]"
     ]
    },
    {
     "name": "stdout",
     "output_type": "stream",
     "text": [
      "[TransNetV2] Extracting frames from ../Data/videos\\L26_V118.mp4\n",
      "[TransNetV2] Processing video frames 8200/8213"
     ]
    },
    {
     "name": "stderr",
     "output_type": "stream",
     "text": [
      " 28%|██▊       | 206/745 [4:21:29<4:16:19, 28.53s/it]"
     ]
    },
    {
     "name": "stdout",
     "output_type": "stream",
     "text": [
      "[TransNetV2] Processing video frames 8213/8213\n",
      "[TransNetV2] Extracting frames from ../Data/videos\\L26_V119.mp4\n",
      "[TransNetV2] Processing video frames 8172/8172\n"
     ]
    },
    {
     "name": "stderr",
     "output_type": "stream",
     "text": [
      " 28%|██▊       | 207/745 [4:21:58<4:17:09, 28.68s/it]"
     ]
    },
    {
     "name": "stdout",
     "output_type": "stream",
     "text": [
      "[TransNetV2] Extracting frames from ../Data/videos\\L26_V120.mp4\n",
      "[TransNetV2] Processing video frames 8000/8064"
     ]
    },
    {
     "name": "stderr",
     "output_type": "stream",
     "text": [
      " 28%|██▊       | 208/745 [4:22:26<4:15:55, 28.60s/it]"
     ]
    },
    {
     "name": "stdout",
     "output_type": "stream",
     "text": [
      "[TransNetV2] Processing video frames 8064/8064\n",
      "[TransNetV2] Extracting frames from ../Data/videos\\L26_V121.mp4\n",
      "[TransNetV2] Processing video frames 8100/8102"
     ]
    },
    {
     "name": "stderr",
     "output_type": "stream",
     "text": [
      " 28%|██▊       | 209/745 [4:22:55<4:15:40, 28.62s/it]"
     ]
    },
    {
     "name": "stdout",
     "output_type": "stream",
     "text": [
      "[TransNetV2] Processing video frames 8102/8102\n",
      "[TransNetV2] Extracting frames from ../Data/videos\\L26_V122.mp4\n",
      "[TransNetV2] Processing video frames 8200/8231"
     ]
    },
    {
     "name": "stderr",
     "output_type": "stream",
     "text": [
      " 28%|██▊       | 210/745 [4:23:24<4:16:04, 28.72s/it]"
     ]
    },
    {
     "name": "stdout",
     "output_type": "stream",
     "text": [
      "[TransNetV2] Processing video frames 8231/8231\n",
      "[TransNetV2] Extracting frames from ../Data/videos\\L26_V123.mp4\n",
      "[TransNetV2] Processing video frames 8200/8202"
     ]
    },
    {
     "name": "stderr",
     "output_type": "stream",
     "text": [
      " 28%|██▊       | 211/745 [4:23:53<4:16:53, 28.86s/it]"
     ]
    },
    {
     "name": "stdout",
     "output_type": "stream",
     "text": [
      "[TransNetV2] Processing video frames 8202/8202\n",
      "[TransNetV2] Extracting frames from ../Data/videos\\L26_V124.mp4\n",
      "[TransNetV2] Processing video frames 8200/8256"
     ]
    },
    {
     "name": "stderr",
     "output_type": "stream",
     "text": [
      " 28%|██▊       | 212/745 [4:24:22<4:17:13, 28.96s/it]"
     ]
    },
    {
     "name": "stdout",
     "output_type": "stream",
     "text": [
      "[TransNetV2] Processing video frames 8256/8256\n",
      "[TransNetV2] Extracting frames from ../Data/videos\\L26_V125.mp4\n",
      "[TransNetV2] Processing video frames 8100/8155"
     ]
    },
    {
     "name": "stderr",
     "output_type": "stream",
     "text": [
      " 29%|██▊       | 213/745 [4:24:51<4:16:26, 28.92s/it]"
     ]
    },
    {
     "name": "stdout",
     "output_type": "stream",
     "text": [
      "[TransNetV2] Processing video frames 8155/8155\n",
      "[TransNetV2] Extracting frames from ../Data/videos\\L26_V126.mp4\n",
      "[TransNetV2] Processing video frames 8000/8035"
     ]
    },
    {
     "name": "stderr",
     "output_type": "stream",
     "text": [
      " 29%|██▊       | 214/745 [4:25:19<4:14:30, 28.76s/it]"
     ]
    },
    {
     "name": "stdout",
     "output_type": "stream",
     "text": [
      "[TransNetV2] Processing video frames 8035/8035\n",
      "[TransNetV2] Extracting frames from ../Data/videos\\L26_V127.mp4\n",
      "[TransNetV2] Processing video frames 8185/8185\n"
     ]
    },
    {
     "name": "stderr",
     "output_type": "stream",
     "text": [
      " 29%|██▉       | 215/745 [4:25:48<4:14:15, 28.78s/it]"
     ]
    },
    {
     "name": "stdout",
     "output_type": "stream",
     "text": [
      "[TransNetV2] Extracting frames from ../Data/videos\\L26_V128.mp4\n",
      "[TransNetV2] Processing video frames 8000/8097"
     ]
    },
    {
     "name": "stderr",
     "output_type": "stream",
     "text": [
      " 29%|██▉       | 216/745 [4:26:17<4:13:02, 28.70s/it]"
     ]
    },
    {
     "name": "stdout",
     "output_type": "stream",
     "text": [
      "[TransNetV2] Processing video frames 8097/8097\n",
      "[TransNetV2] Extracting frames from ../Data/videos\\L26_V129.mp4\n",
      "[TransNetV2] Processing video frames 8100/8131"
     ]
    },
    {
     "name": "stderr",
     "output_type": "stream",
     "text": [
      " 29%|██▉       | 217/745 [4:26:45<4:12:04, 28.65s/it]"
     ]
    },
    {
     "name": "stdout",
     "output_type": "stream",
     "text": [
      "[TransNetV2] Processing video frames 8131/8131\n",
      "[TransNetV2] Extracting frames from ../Data/videos\\L26_V130.mp4\n",
      "[TransNetV2] Processing video frames 7900/7993"
     ]
    },
    {
     "name": "stderr",
     "output_type": "stream",
     "text": [
      " 29%|██▉       | 218/745 [4:27:13<4:10:17, 28.50s/it]"
     ]
    },
    {
     "name": "stdout",
     "output_type": "stream",
     "text": [
      "[TransNetV2] Processing video frames 7993/7993\n",
      "[TransNetV2] Extracting frames from ../Data/videos\\L26_V131.mp4\n",
      "[TransNetV2] Processing video frames 8000/8088"
     ]
    },
    {
     "name": "stderr",
     "output_type": "stream",
     "text": [
      " 29%|██▉       | 219/745 [4:27:42<4:09:40, 28.48s/it]"
     ]
    },
    {
     "name": "stdout",
     "output_type": "stream",
     "text": [
      "[TransNetV2] Processing video frames 8088/8088\n",
      "[TransNetV2] Extracting frames from ../Data/videos\\L26_V132.mp4\n",
      "[TransNetV2] Processing video frames 8100/8151"
     ]
    },
    {
     "name": "stderr",
     "output_type": "stream",
     "text": [
      " 30%|██▉       | 220/745 [4:28:11<4:10:02, 28.58s/it]"
     ]
    },
    {
     "name": "stdout",
     "output_type": "stream",
     "text": [
      "[TransNetV2] Processing video frames 8151/8151\n",
      "[TransNetV2] Extracting frames from ../Data/videos\\L26_V133.mp4\n",
      "[TransNetV2] Processing video frames 8200/8231"
     ]
    },
    {
     "name": "stderr",
     "output_type": "stream",
     "text": [
      " 30%|██▉       | 221/745 [4:28:40<4:10:40, 28.70s/it]"
     ]
    },
    {
     "name": "stdout",
     "output_type": "stream",
     "text": [
      "[TransNetV2] Processing video frames 8231/8231\n",
      "[TransNetV2] Extracting frames from ../Data/videos\\L26_V134.mp4\n",
      "[TransNetV2] Processing video frames 8100/8123"
     ]
    },
    {
     "name": "stderr",
     "output_type": "stream",
     "text": [
      " 30%|██▉       | 222/745 [4:29:08<4:10:15, 28.71s/it]"
     ]
    },
    {
     "name": "stdout",
     "output_type": "stream",
     "text": [
      "[TransNetV2] Processing video frames 8123/8123\n",
      "[TransNetV2] Extracting frames from ../Data/videos\\L26_V135.mp4\n",
      "[TransNetV2] Processing video frames 8184/8184\n"
     ]
    },
    {
     "name": "stderr",
     "output_type": "stream",
     "text": [
      " 30%|██▉       | 223/745 [4:29:37<4:10:09, 28.75s/it]"
     ]
    },
    {
     "name": "stdout",
     "output_type": "stream",
     "text": [
      "[TransNetV2] Extracting frames from ../Data/videos\\L26_V136.mp4\n",
      "[TransNetV2] Processing video frames 8100/8189"
     ]
    },
    {
     "name": "stderr",
     "output_type": "stream",
     "text": [
      " 30%|███       | 224/745 [4:30:06<4:09:54, 28.78s/it]"
     ]
    },
    {
     "name": "stdout",
     "output_type": "stream",
     "text": [
      "[TransNetV2] Processing video frames 8189/8189\n",
      "[TransNetV2] Extracting frames from ../Data/videos\\L26_V137.mp4\n",
      "[TransNetV2] Processing video frames 8100/8140"
     ]
    },
    {
     "name": "stderr",
     "output_type": "stream",
     "text": [
      " 30%|███       | 225/745 [4:30:35<4:08:56, 28.72s/it]"
     ]
    },
    {
     "name": "stdout",
     "output_type": "stream",
     "text": [
      "[TransNetV2] Processing video frames 8140/8140\n",
      "[TransNetV2] Extracting frames from ../Data/videos\\L26_V138.mp4\n",
      "[TransNetV2] Processing video frames 8000/8034"
     ]
    },
    {
     "name": "stderr",
     "output_type": "stream",
     "text": [
      " 30%|███       | 226/745 [4:31:03<4:07:06, 28.57s/it]"
     ]
    },
    {
     "name": "stdout",
     "output_type": "stream",
     "text": [
      "[TransNetV2] Processing video frames 8034/8034\n",
      "[TransNetV2] Extracting frames from ../Data/videos\\L26_V139.mp4\n",
      "[TransNetV2] Processing video frames 8174/8174\n"
     ]
    },
    {
     "name": "stderr",
     "output_type": "stream",
     "text": [
      " 30%|███       | 227/745 [4:31:32<4:07:38, 28.68s/it]"
     ]
    },
    {
     "name": "stdout",
     "output_type": "stream",
     "text": [
      "[TransNetV2] Extracting frames from ../Data/videos\\L26_V140.mp4\n",
      "[TransNetV2] Processing video frames 8000/8003"
     ]
    },
    {
     "name": "stderr",
     "output_type": "stream",
     "text": [
      " 31%|███       | 228/745 [4:32:00<4:06:17, 28.58s/it]"
     ]
    },
    {
     "name": "stdout",
     "output_type": "stream",
     "text": [
      "[TransNetV2] Processing video frames 8003/8003\n",
      "[TransNetV2] Extracting frames from ../Data/videos\\L26_V141.mp4\n",
      "[TransNetV2] Processing video frames 8100/8123"
     ]
    },
    {
     "name": "stderr",
     "output_type": "stream",
     "text": [
      " 31%|███       | 229/745 [4:32:29<4:06:03, 28.61s/it]"
     ]
    },
    {
     "name": "stdout",
     "output_type": "stream",
     "text": [
      "[TransNetV2] Processing video frames 8123/8123\n",
      "[TransNetV2] Extracting frames from ../Data/videos\\L26_V142.mp4\n",
      "[TransNetV2] Processing video frames 8200/8249"
     ]
    },
    {
     "name": "stderr",
     "output_type": "stream",
     "text": [
      " 31%|███       | 230/745 [4:32:58<4:06:19, 28.70s/it]"
     ]
    },
    {
     "name": "stdout",
     "output_type": "stream",
     "text": [
      "[TransNetV2] Processing video frames 8249/8249\n",
      "[TransNetV2] Extracting frames from ../Data/videos\\L26_V143.mp4\n",
      "[TransNetV2] Processing video frames 8200/8295"
     ]
    },
    {
     "name": "stderr",
     "output_type": "stream",
     "text": [
      " 31%|███       | 231/745 [4:33:27<4:06:52, 28.82s/it]"
     ]
    },
    {
     "name": "stdout",
     "output_type": "stream",
     "text": [
      "[TransNetV2] Processing video frames 8295/8295\n",
      "[TransNetV2] Extracting frames from ../Data/videos\\L26_V144.mp4\n",
      "[TransNetV2] Processing video frames 8100/8156"
     ]
    },
    {
     "name": "stderr",
     "output_type": "stream",
     "text": [
      " 31%|███       | 232/745 [4:33:56<4:06:10, 28.79s/it]"
     ]
    },
    {
     "name": "stdout",
     "output_type": "stream",
     "text": [
      "[TransNetV2] Processing video frames 8156/8156\n",
      "[TransNetV2] Extracting frames from ../Data/videos\\L26_V145.mp4\n",
      "[TransNetV2] Processing video frames 8167/8167\n"
     ]
    },
    {
     "name": "stderr",
     "output_type": "stream",
     "text": [
      " 31%|███▏      | 233/745 [4:34:25<4:06:02, 28.83s/it]"
     ]
    },
    {
     "name": "stdout",
     "output_type": "stream",
     "text": [
      "[TransNetV2] Extracting frames from ../Data/videos\\L26_V146.mp4\n",
      "[TransNetV2] Processing video frames 8300/8322"
     ]
    },
    {
     "name": "stderr",
     "output_type": "stream",
     "text": [
      " 31%|███▏      | 234/745 [4:34:55<4:09:17, 29.27s/it]"
     ]
    },
    {
     "name": "stdout",
     "output_type": "stream",
     "text": [
      "[TransNetV2] Processing video frames 8322/8322\n",
      "[TransNetV2] Extracting frames from ../Data/videos\\L26_V147.mp4\n",
      "[TransNetV2] Processing video frames 8100/8160"
     ]
    },
    {
     "name": "stderr",
     "output_type": "stream",
     "text": [
      " 32%|███▏      | 235/745 [4:35:24<4:07:40, 29.14s/it]"
     ]
    },
    {
     "name": "stdout",
     "output_type": "stream",
     "text": [
      "[TransNetV2] Processing video frames 8160/8160\n",
      "[TransNetV2] Extracting frames from ../Data/videos\\L26_V148.mp4\n",
      "[TransNetV2] Processing video frames 8200/8203"
     ]
    },
    {
     "name": "stderr",
     "output_type": "stream",
     "text": [
      " 32%|███▏      | 236/745 [4:35:53<4:06:35, 29.07s/it]"
     ]
    },
    {
     "name": "stdout",
     "output_type": "stream",
     "text": [
      "[TransNetV2] Processing video frames 8203/8203\n",
      "[TransNetV2] Extracting frames from ../Data/videos\\L26_V149.mp4\n",
      "[TransNetV2] Processing video frames 7900/7999"
     ]
    },
    {
     "name": "stderr",
     "output_type": "stream",
     "text": [
      " 32%|███▏      | 237/745 [4:36:20<4:03:06, 28.71s/it]"
     ]
    },
    {
     "name": "stdout",
     "output_type": "stream",
     "text": [
      "[TransNetV2] Processing video frames 7999/7999\n",
      "[TransNetV2] Extracting frames from ../Data/videos\\L26_V150.mp4\n",
      "[TransNetV2] Processing video frames 7600/7698"
     ]
    },
    {
     "name": "stderr",
     "output_type": "stream",
     "text": [
      " 32%|███▏      | 238/745 [4:36:47<3:57:39, 28.13s/it]"
     ]
    },
    {
     "name": "stdout",
     "output_type": "stream",
     "text": [
      "[TransNetV2] Processing video frames 7698/7698\n",
      "[TransNetV2] Extracting frames from ../Data/videos\\L26_V151.mp4\n",
      "[TransNetV2] Processing video frames 8200/8276"
     ]
    },
    {
     "name": "stderr",
     "output_type": "stream",
     "text": [
      " 32%|███▏      | 239/745 [4:37:16<3:59:52, 28.44s/it]"
     ]
    },
    {
     "name": "stdout",
     "output_type": "stream",
     "text": [
      "[TransNetV2] Processing video frames 8276/8276\n",
      "[TransNetV2] Extracting frames from ../Data/videos\\L26_V152.mp4\n",
      "[TransNetV2] Processing video frames 8200/8244"
     ]
    },
    {
     "name": "stderr",
     "output_type": "stream",
     "text": [
      " 32%|███▏      | 240/745 [4:37:45<4:00:24, 28.56s/it]"
     ]
    },
    {
     "name": "stdout",
     "output_type": "stream",
     "text": [
      "[TransNetV2] Processing video frames 8244/8244\n",
      "[TransNetV2] Extracting frames from ../Data/videos\\L26_V153.mp4\n",
      "[TransNetV2] Processing video frames 8200/8207"
     ]
    },
    {
     "name": "stderr",
     "output_type": "stream",
     "text": [
      " 32%|███▏      | 241/745 [4:38:14<4:00:56, 28.68s/it]"
     ]
    },
    {
     "name": "stdout",
     "output_type": "stream",
     "text": [
      "[TransNetV2] Processing video frames 8207/8207\n",
      "[TransNetV2] Extracting frames from ../Data/videos\\L26_V154.mp4\n",
      "[TransNetV2] Processing video frames 8100/8151"
     ]
    },
    {
     "name": "stderr",
     "output_type": "stream",
     "text": [
      " 32%|███▏      | 242/745 [4:38:43<4:00:39, 28.71s/it]"
     ]
    },
    {
     "name": "stdout",
     "output_type": "stream",
     "text": [
      "[TransNetV2] Processing video frames 8151/8151\n",
      "[TransNetV2] Extracting frames from ../Data/videos\\L26_V155.mp4\n",
      "[TransNetV2] Processing video frames 8100/8129"
     ]
    },
    {
     "name": "stderr",
     "output_type": "stream",
     "text": [
      " 33%|███▎      | 243/745 [4:39:12<3:59:58, 28.68s/it]"
     ]
    },
    {
     "name": "stdout",
     "output_type": "stream",
     "text": [
      "[TransNetV2] Processing video frames 8129/8129\n",
      "[TransNetV2] Extracting frames from ../Data/videos\\L26_V156.mp4\n",
      "[TransNetV2] Processing video frames 8195/8195\n"
     ]
    },
    {
     "name": "stderr",
     "output_type": "stream",
     "text": [
      " 33%|███▎      | 244/745 [4:39:40<3:59:45, 28.71s/it]"
     ]
    },
    {
     "name": "stdout",
     "output_type": "stream",
     "text": [
      "[TransNetV2] Extracting frames from ../Data/videos\\L26_V157.mp4\n",
      "[TransNetV2] Processing video frames 8100/8166"
     ]
    },
    {
     "name": "stderr",
     "output_type": "stream",
     "text": [
      " 33%|███▎      | 245/745 [4:40:09<3:59:42, 28.76s/it]"
     ]
    },
    {
     "name": "stdout",
     "output_type": "stream",
     "text": [
      "[TransNetV2] Processing video frames 8166/8166\n",
      "[TransNetV2] Extracting frames from ../Data/videos\\L26_V158.mp4\n",
      "[TransNetV2] Processing video frames 8198/8198\n"
     ]
    },
    {
     "name": "stderr",
     "output_type": "stream",
     "text": [
      " 33%|███▎      | 246/745 [4:40:38<3:59:07, 28.75s/it]"
     ]
    },
    {
     "name": "stdout",
     "output_type": "stream",
     "text": [
      "[TransNetV2] Extracting frames from ../Data/videos\\L26_V159.mp4\n",
      "[TransNetV2] Processing video frames 8000/8039"
     ]
    },
    {
     "name": "stderr",
     "output_type": "stream",
     "text": [
      " 33%|███▎      | 247/745 [4:41:06<3:57:22, 28.60s/it]"
     ]
    },
    {
     "name": "stdout",
     "output_type": "stream",
     "text": [
      "[TransNetV2] Processing video frames 8039/8039\n",
      "[TransNetV2] Extracting frames from ../Data/videos\\L26_V160.mp4\n",
      "[TransNetV2] Processing video frames 8000/8030"
     ]
    },
    {
     "name": "stderr",
     "output_type": "stream",
     "text": [
      " 33%|███▎      | 248/745 [4:41:34<3:56:05, 28.50s/it]"
     ]
    },
    {
     "name": "stdout",
     "output_type": "stream",
     "text": [
      "[TransNetV2] Processing video frames 8030/8030\n",
      "[TransNetV2] Extracting frames from ../Data/videos\\L26_V161.mp4\n",
      "[TransNetV2] Processing video frames 8095/8095\n"
     ]
    },
    {
     "name": "stderr",
     "output_type": "stream",
     "text": [
      " 33%|███▎      | 249/745 [4:42:03<3:55:54, 28.54s/it]"
     ]
    },
    {
     "name": "stdout",
     "output_type": "stream",
     "text": [
      "[TransNetV2] Extracting frames from ../Data/videos\\L26_V162.mp4\n",
      "[TransNetV2] Processing video frames 8100/8180"
     ]
    },
    {
     "name": "stderr",
     "output_type": "stream",
     "text": [
      " 34%|███▎      | 250/745 [4:42:32<3:55:55, 28.60s/it]"
     ]
    },
    {
     "name": "stdout",
     "output_type": "stream",
     "text": [
      "[TransNetV2] Processing video frames 8180/8180\n",
      "[TransNetV2] Extracting frames from ../Data/videos\\L26_V163.mp4\n",
      "[TransNetV2] Processing video frames 8100/8137"
     ]
    },
    {
     "name": "stderr",
     "output_type": "stream",
     "text": [
      " 34%|███▎      | 251/745 [4:43:00<3:55:32, 28.61s/it]"
     ]
    },
    {
     "name": "stdout",
     "output_type": "stream",
     "text": [
      "[TransNetV2] Processing video frames 8137/8137\n",
      "[TransNetV2] Extracting frames from ../Data/videos\\L26_V164.mp4\n",
      "[TransNetV2] Processing video frames 8000/8084"
     ]
    },
    {
     "name": "stderr",
     "output_type": "stream",
     "text": [
      " 34%|███▍      | 252/745 [4:43:29<3:54:29, 28.54s/it]"
     ]
    },
    {
     "name": "stdout",
     "output_type": "stream",
     "text": [
      "[TransNetV2] Processing video frames 8084/8084\n",
      "[TransNetV2] Extracting frames from ../Data/videos\\L26_V165.mp4\n",
      "[TransNetV2] Processing video frames 7895/7895\n"
     ]
    },
    {
     "name": "stderr",
     "output_type": "stream",
     "text": [
      " 34%|███▍      | 253/745 [4:43:57<3:52:12, 28.32s/it]"
     ]
    },
    {
     "name": "stdout",
     "output_type": "stream",
     "text": [
      "[TransNetV2] Extracting frames from ../Data/videos\\L26_V166.mp4\n",
      "[TransNetV2] Processing video frames 8100/8161"
     ]
    },
    {
     "name": "stderr",
     "output_type": "stream",
     "text": [
      " 34%|███▍      | 254/745 [4:44:25<3:52:35, 28.42s/it]"
     ]
    },
    {
     "name": "stdout",
     "output_type": "stream",
     "text": [
      "[TransNetV2] Processing video frames 8161/8161\n",
      "[TransNetV2] Extracting frames from ../Data/videos\\L26_V167.mp4\n",
      "[TransNetV2] Processing video frames 8154/8154\n"
     ]
    },
    {
     "name": "stderr",
     "output_type": "stream",
     "text": [
      " 34%|███▍      | 255/745 [4:44:54<3:52:39, 28.49s/it]"
     ]
    },
    {
     "name": "stdout",
     "output_type": "stream",
     "text": [
      "[TransNetV2] Extracting frames from ../Data/videos\\L26_V168.mp4\n",
      "[TransNetV2] Processing video frames 7900/7922"
     ]
    },
    {
     "name": "stderr",
     "output_type": "stream",
     "text": [
      " 34%|███▍      | 256/745 [4:45:22<3:50:30, 28.28s/it]"
     ]
    },
    {
     "name": "stdout",
     "output_type": "stream",
     "text": [
      "[TransNetV2] Processing video frames 7922/7922\n",
      "[TransNetV2] Extracting frames from ../Data/videos\\L26_V169.mp4\n",
      "[TransNetV2] Processing video frames 8000/8035"
     ]
    },
    {
     "name": "stderr",
     "output_type": "stream",
     "text": [
      " 34%|███▍      | 257/745 [4:45:50<3:50:00, 28.28s/it]"
     ]
    },
    {
     "name": "stdout",
     "output_type": "stream",
     "text": [
      "[TransNetV2] Processing video frames 8035/8035\n",
      "[TransNetV2] Extracting frames from ../Data/videos\\L26_V170.mp4\n",
      "[TransNetV2] Processing video frames 8000/8058"
     ]
    },
    {
     "name": "stderr",
     "output_type": "stream",
     "text": [
      " 35%|███▍      | 258/745 [4:46:18<3:49:35, 28.29s/it]"
     ]
    },
    {
     "name": "stdout",
     "output_type": "stream",
     "text": [
      "[TransNetV2] Processing video frames 8058/8058\n",
      "[TransNetV2] Extracting frames from ../Data/videos\\L26_V171.mp4\n",
      "[TransNetV2] Processing video frames 8000/8034"
     ]
    },
    {
     "name": "stderr",
     "output_type": "stream",
     "text": [
      " 35%|███▍      | 259/745 [4:46:47<3:48:59, 28.27s/it]"
     ]
    },
    {
     "name": "stdout",
     "output_type": "stream",
     "text": [
      "[TransNetV2] Processing video frames 8034/8034\n",
      "[TransNetV2] Extracting frames from ../Data/videos\\L26_V172.mp4\n",
      "[TransNetV2] Processing video frames 8000/8080"
     ]
    },
    {
     "name": "stderr",
     "output_type": "stream",
     "text": [
      " 35%|███▍      | 260/745 [4:47:15<3:48:54, 28.32s/it]"
     ]
    },
    {
     "name": "stdout",
     "output_type": "stream",
     "text": [
      "[TransNetV2] Processing video frames 8080/8080\n",
      "[TransNetV2] Extracting frames from ../Data/videos\\L26_V173.mp4\n",
      "[TransNetV2] Processing video frames 8000/8035"
     ]
    },
    {
     "name": "stderr",
     "output_type": "stream",
     "text": [
      " 35%|███▌      | 261/745 [4:47:43<3:48:29, 28.32s/it]"
     ]
    },
    {
     "name": "stdout",
     "output_type": "stream",
     "text": [
      "[TransNetV2] Processing video frames 8035/8035\n",
      "[TransNetV2] Extracting frames from ../Data/videos\\L26_V174.mp4\n",
      "[TransNetV2] Processing video frames 8093/8093\n"
     ]
    },
    {
     "name": "stderr",
     "output_type": "stream",
     "text": [
      " 35%|███▌      | 262/745 [4:48:12<3:48:10, 28.34s/it]"
     ]
    },
    {
     "name": "stdout",
     "output_type": "stream",
     "text": [
      "[TransNetV2] Extracting frames from ../Data/videos\\L26_V175.mp4\n",
      "[TransNetV2] Processing video frames 8000/8008"
     ]
    },
    {
     "name": "stderr",
     "output_type": "stream",
     "text": [
      " 35%|███▌      | 263/745 [4:48:40<3:47:43, 28.35s/it]"
     ]
    },
    {
     "name": "stdout",
     "output_type": "stream",
     "text": [
      "[TransNetV2] Processing video frames 8008/8008\n",
      "[TransNetV2] Extracting frames from ../Data/videos\\L26_V176.mp4\n",
      "[TransNetV2] Processing video frames 8000/8071"
     ]
    },
    {
     "name": "stderr",
     "output_type": "stream",
     "text": [
      " 35%|███▌      | 264/745 [4:49:08<3:47:10, 28.34s/it]"
     ]
    },
    {
     "name": "stdout",
     "output_type": "stream",
     "text": [
      "[TransNetV2] Processing video frames 8071/8071\n",
      "[TransNetV2] Extracting frames from ../Data/videos\\L26_V177.mp4\n",
      "[TransNetV2] Processing video frames 8000/8048"
     ]
    },
    {
     "name": "stderr",
     "output_type": "stream",
     "text": [
      " 36%|███▌      | 265/745 [4:49:37<3:46:36, 28.33s/it]"
     ]
    },
    {
     "name": "stdout",
     "output_type": "stream",
     "text": [
      "[TransNetV2] Processing video frames 8048/8048\n",
      "[TransNetV2] Extracting frames from ../Data/videos\\L26_V178.mp4\n",
      "[TransNetV2] Processing video frames 8268/8268\n"
     ]
    },
    {
     "name": "stderr",
     "output_type": "stream",
     "text": [
      " 36%|███▌      | 266/745 [4:50:06<3:47:58, 28.56s/it]"
     ]
    },
    {
     "name": "stdout",
     "output_type": "stream",
     "text": [
      "[TransNetV2] Extracting frames from ../Data/videos\\L26_V179.mp4\n",
      "[TransNetV2] Processing video frames 8000/8073"
     ]
    },
    {
     "name": "stderr",
     "output_type": "stream",
     "text": [
      " 36%|███▌      | 267/745 [4:50:34<3:47:11, 28.52s/it]"
     ]
    },
    {
     "name": "stdout",
     "output_type": "stream",
     "text": [
      "[TransNetV2] Processing video frames 8073/8073\n",
      "[TransNetV2] Extracting frames from ../Data/videos\\L26_V180.mp4\n",
      "[TransNetV2] Processing video frames 7800/7823"
     ]
    },
    {
     "name": "stderr",
     "output_type": "stream",
     "text": [
      " 36%|███▌      | 268/745 [4:51:02<3:44:31, 28.24s/it]"
     ]
    },
    {
     "name": "stdout",
     "output_type": "stream",
     "text": [
      "[TransNetV2] Processing video frames 7823/7823\n",
      "[TransNetV2] Extracting frames from ../Data/videos\\L26_V181.mp4\n",
      "[TransNetV2] Processing video frames 8000/8066"
     ]
    },
    {
     "name": "stderr",
     "output_type": "stream",
     "text": [
      " 36%|███▌      | 269/745 [4:51:30<3:44:21, 28.28s/it]"
     ]
    },
    {
     "name": "stdout",
     "output_type": "stream",
     "text": [
      "[TransNetV2] Processing video frames 8066/8066\n",
      "[TransNetV2] Extracting frames from ../Data/videos\\L26_V182.mp4\n",
      "[TransNetV2] Processing video frames 7500/7505"
     ]
    },
    {
     "name": "stderr",
     "output_type": "stream",
     "text": [
      " 36%|███▌      | 270/745 [4:51:57<3:39:18, 27.70s/it]"
     ]
    },
    {
     "name": "stdout",
     "output_type": "stream",
     "text": [
      "[TransNetV2] Processing video frames 7505/7505\n",
      "[TransNetV2] Extracting frames from ../Data/videos\\L26_V183.mp4\n",
      "[TransNetV2] Processing video frames 8100/8185"
     ]
    },
    {
     "name": "stderr",
     "output_type": "stream",
     "text": [
      " 36%|███▋      | 271/745 [4:52:25<3:41:34, 28.05s/it]"
     ]
    },
    {
     "name": "stdout",
     "output_type": "stream",
     "text": [
      "[TransNetV2] Processing video frames 8185/8185\n",
      "[TransNetV2] Extracting frames from ../Data/videos\\L26_V184.mp4\n",
      "[TransNetV2] Processing video frames 7900/8000"
     ]
    },
    {
     "name": "stderr",
     "output_type": "stream",
     "text": [
      " 37%|███▋      | 272/745 [4:52:53<3:41:07, 28.05s/it]"
     ]
    },
    {
     "name": "stdout",
     "output_type": "stream",
     "text": [
      "[TransNetV2] Processing video frames 8000/8000\n",
      "[TransNetV2] Extracting frames from ../Data/videos\\L26_V185.mp4\n",
      "[TransNetV2] Processing video frames 8052/8052\n"
     ]
    },
    {
     "name": "stderr",
     "output_type": "stream",
     "text": [
      " 37%|███▋      | 273/745 [4:53:22<3:41:36, 28.17s/it]"
     ]
    },
    {
     "name": "stdout",
     "output_type": "stream",
     "text": [
      "[TransNetV2] Extracting frames from ../Data/videos\\L26_V186.mp4\n",
      "[TransNetV2] Processing video frames 8087/8087\n"
     ]
    },
    {
     "name": "stderr",
     "output_type": "stream",
     "text": [
      " 37%|███▋      | 274/745 [4:53:50<3:41:50, 28.26s/it]"
     ]
    },
    {
     "name": "stdout",
     "output_type": "stream",
     "text": [
      "[TransNetV2] Extracting frames from ../Data/videos\\L26_V187.mp4\n",
      "[TransNetV2] Processing video frames 8000/8006"
     ]
    },
    {
     "name": "stderr",
     "output_type": "stream",
     "text": [
      " 37%|███▋      | 275/745 [4:54:19<3:41:13, 28.24s/it]"
     ]
    },
    {
     "name": "stdout",
     "output_type": "stream",
     "text": [
      "[TransNetV2] Processing video frames 8006/8006\n",
      "[TransNetV2] Extracting frames from ../Data/videos\\L26_V188.mp4\n",
      "[TransNetV2] Processing video frames 8000/8033"
     ]
    },
    {
     "name": "stderr",
     "output_type": "stream",
     "text": [
      " 37%|███▋      | 276/745 [4:54:47<3:40:44, 28.24s/it]"
     ]
    },
    {
     "name": "stdout",
     "output_type": "stream",
     "text": [
      "[TransNetV2] Processing video frames 8033/8033\n",
      "[TransNetV2] Extracting frames from ../Data/videos\\L26_V189.mp4\n",
      "[TransNetV2] Processing video frames 7300/7375"
     ]
    },
    {
     "name": "stderr",
     "output_type": "stream",
     "text": [
      " 37%|███▋      | 277/745 [4:55:13<3:34:44, 27.53s/it]"
     ]
    },
    {
     "name": "stdout",
     "output_type": "stream",
     "text": [
      "[TransNetV2] Processing video frames 7375/7375\n",
      "[TransNetV2] Extracting frames from ../Data/videos\\L26_V190.mp4\n",
      "[TransNetV2] Processing video frames 7700/7740"
     ]
    },
    {
     "name": "stderr",
     "output_type": "stream",
     "text": [
      " 37%|███▋      | 278/745 [4:55:40<3:33:34, 27.44s/it]"
     ]
    },
    {
     "name": "stdout",
     "output_type": "stream",
     "text": [
      "[TransNetV2] Processing video frames 7740/7740\n",
      "[TransNetV2] Extracting frames from ../Data/videos\\L26_V191.mp4\n",
      "[TransNetV2] Processing video frames 7300/7359"
     ]
    },
    {
     "name": "stderr",
     "output_type": "stream",
     "text": [
      " 37%|███▋      | 279/745 [4:56:06<3:29:28, 26.97s/it]"
     ]
    },
    {
     "name": "stdout",
     "output_type": "stream",
     "text": [
      "[TransNetV2] Processing video frames 7359/7359\n",
      "[TransNetV2] Extracting frames from ../Data/videos\\L26_V192.mp4\n",
      "[TransNetV2] Processing video frames 7900/7970"
     ]
    },
    {
     "name": "stderr",
     "output_type": "stream",
     "text": [
      " 38%|███▊      | 280/745 [4:56:34<3:31:47, 27.33s/it]"
     ]
    },
    {
     "name": "stdout",
     "output_type": "stream",
     "text": [
      "[TransNetV2] Processing video frames 7970/7970\n",
      "[TransNetV2] Extracting frames from ../Data/videos\\L26_V193.mp4\n",
      "[TransNetV2] Processing video frames 7800/7823"
     ]
    },
    {
     "name": "stderr",
     "output_type": "stream",
     "text": [
      " 38%|███▊      | 281/745 [4:57:01<3:31:47, 27.39s/it]"
     ]
    },
    {
     "name": "stdout",
     "output_type": "stream",
     "text": [
      "[TransNetV2] Processing video frames 7823/7823\n",
      "[TransNetV2] Extracting frames from ../Data/videos\\L26_V194.mp4\n",
      "[TransNetV2] Processing video frames 7900/7949"
     ]
    },
    {
     "name": "stderr",
     "output_type": "stream",
     "text": [
      " 38%|███▊      | 282/745 [4:57:29<3:32:24, 27.53s/it]"
     ]
    },
    {
     "name": "stdout",
     "output_type": "stream",
     "text": [
      "[TransNetV2] Processing video frames 7949/7949\n",
      "[TransNetV2] Extracting frames from ../Data/videos\\L26_V195.mp4\n",
      "[TransNetV2] Processing video frames 8100/8112"
     ]
    },
    {
     "name": "stderr",
     "output_type": "stream",
     "text": [
      " 38%|███▊      | 283/745 [4:57:58<3:34:44, 27.89s/it]"
     ]
    },
    {
     "name": "stdout",
     "output_type": "stream",
     "text": [
      "[TransNetV2] Processing video frames 8112/8112\n",
      "[TransNetV2] Extracting frames from ../Data/videos\\L26_V196.mp4\n",
      "[TransNetV2] Processing video frames 7760/7760\n"
     ]
    },
    {
     "name": "stderr",
     "output_type": "stream",
     "text": [
      " 38%|███▊      | 284/745 [4:58:25<3:32:44, 27.69s/it]"
     ]
    },
    {
     "name": "stdout",
     "output_type": "stream",
     "text": [
      "[TransNetV2] Extracting frames from ../Data/videos\\L26_V197.mp4\n",
      "[TransNetV2] Processing video frames 7900/7951"
     ]
    },
    {
     "name": "stderr",
     "output_type": "stream",
     "text": [
      " 38%|███▊      | 285/745 [4:58:53<3:32:59, 27.78s/it]"
     ]
    },
    {
     "name": "stdout",
     "output_type": "stream",
     "text": [
      "[TransNetV2] Processing video frames 7951/7951\n",
      "[TransNetV2] Extracting frames from ../Data/videos\\L26_V198.mp4\n",
      "[TransNetV2] Processing video frames 7900/7941"
     ]
    },
    {
     "name": "stderr",
     "output_type": "stream",
     "text": [
      " 38%|███▊      | 286/745 [4:59:21<3:32:52, 27.83s/it]"
     ]
    },
    {
     "name": "stdout",
     "output_type": "stream",
     "text": [
      "[TransNetV2] Processing video frames 7941/7941\n",
      "[TransNetV2] Extracting frames from ../Data/videos\\L26_V199.mp4\n",
      "[TransNetV2] Processing video frames 8000/8059"
     ]
    },
    {
     "name": "stderr",
     "output_type": "stream",
     "text": [
      " 39%|███▊      | 287/745 [4:59:50<3:33:48, 28.01s/it]"
     ]
    },
    {
     "name": "stdout",
     "output_type": "stream",
     "text": [
      "[TransNetV2] Processing video frames 8059/8059\n",
      "[TransNetV2] Extracting frames from ../Data/videos\\L26_V200.mp4\n",
      "[TransNetV2] Processing video frames 8000/8043"
     ]
    },
    {
     "name": "stderr",
     "output_type": "stream",
     "text": [
      " 39%|███▊      | 288/745 [5:00:18<3:33:36, 28.04s/it]"
     ]
    },
    {
     "name": "stdout",
     "output_type": "stream",
     "text": [
      "[TransNetV2] Processing video frames 8043/8043\n",
      "[TransNetV2] Extracting frames from ../Data/videos\\L26_V201.mp4\n",
      "[TransNetV2] Processing video frames 7963/7963\n"
     ]
    },
    {
     "name": "stderr",
     "output_type": "stream",
     "text": [
      " 39%|███▉      | 289/745 [5:00:46<3:33:11, 28.05s/it]"
     ]
    },
    {
     "name": "stdout",
     "output_type": "stream",
     "text": [
      "[TransNetV2] Extracting frames from ../Data/videos\\L26_V202.mp4\n",
      "[TransNetV2] Processing video frames 8000/8016"
     ]
    },
    {
     "name": "stderr",
     "output_type": "stream",
     "text": [
      " 39%|███▉      | 290/745 [5:01:14<3:32:39, 28.04s/it]"
     ]
    },
    {
     "name": "stdout",
     "output_type": "stream",
     "text": [
      "[TransNetV2] Processing video frames 8016/8016\n",
      "[TransNetV2] Extracting frames from ../Data/videos\\L26_V203.mp4\n",
      "[TransNetV2] Processing video frames 8100/8164"
     ]
    },
    {
     "name": "stderr",
     "output_type": "stream",
     "text": [
      " 39%|███▉      | 291/745 [5:01:43<3:33:52, 28.27s/it]"
     ]
    },
    {
     "name": "stdout",
     "output_type": "stream",
     "text": [
      "[TransNetV2] Processing video frames 8164/8164\n",
      "[TransNetV2] Extracting frames from ../Data/videos\\L26_V204.mp4\n",
      "[TransNetV2] Processing video frames 8100/8115"
     ]
    },
    {
     "name": "stderr",
     "output_type": "stream",
     "text": [
      " 39%|███▉      | 292/745 [5:02:11<3:34:14, 28.38s/it]"
     ]
    },
    {
     "name": "stdout",
     "output_type": "stream",
     "text": [
      "[TransNetV2] Processing video frames 8115/8115\n",
      "[TransNetV2] Extracting frames from ../Data/videos\\L26_V205.mp4\n",
      "[TransNetV2] Processing video frames 7900/7973"
     ]
    },
    {
     "name": "stderr",
     "output_type": "stream",
     "text": [
      " 39%|███▉      | 293/745 [5:02:39<3:33:00, 28.27s/it]"
     ]
    },
    {
     "name": "stdout",
     "output_type": "stream",
     "text": [
      "[TransNetV2] Processing video frames 7973/7973\n",
      "[TransNetV2] Extracting frames from ../Data/videos\\L26_V206.mp4\n",
      "[TransNetV2] Processing video frames 7900/7978"
     ]
    },
    {
     "name": "stderr",
     "output_type": "stream",
     "text": [
      " 39%|███▉      | 294/745 [5:03:07<3:31:56, 28.20s/it]"
     ]
    },
    {
     "name": "stdout",
     "output_type": "stream",
     "text": [
      "[TransNetV2] Processing video frames 7978/7978\n",
      "[TransNetV2] Extracting frames from ../Data/videos\\L26_V207.mp4\n",
      "[TransNetV2] Processing video frames 7900/7904"
     ]
    },
    {
     "name": "stderr",
     "output_type": "stream",
     "text": [
      " 40%|███▉      | 295/745 [5:03:35<3:30:32, 28.07s/it]"
     ]
    },
    {
     "name": "stdout",
     "output_type": "stream",
     "text": [
      "[TransNetV2] Processing video frames 7904/7904\n",
      "[TransNetV2] Extracting frames from ../Data/videos\\L26_V208.mp4\n",
      "[TransNetV2] Processing video frames 8000/8087"
     ]
    },
    {
     "name": "stderr",
     "output_type": "stream",
     "text": [
      " 40%|███▉      | 296/745 [5:04:04<3:30:49, 28.17s/it]"
     ]
    },
    {
     "name": "stdout",
     "output_type": "stream",
     "text": [
      "[TransNetV2] Processing video frames 8087/8087\n",
      "[TransNetV2] Extracting frames from ../Data/videos\\L26_V209.mp4\n",
      "[TransNetV2] Processing video frames 7900/7968"
     ]
    },
    {
     "name": "stderr",
     "output_type": "stream",
     "text": [
      " 40%|███▉      | 297/745 [5:04:32<3:30:12, 28.15s/it]"
     ]
    },
    {
     "name": "stdout",
     "output_type": "stream",
     "text": [
      "[TransNetV2] Processing video frames 7968/7968\n",
      "[TransNetV2] Extracting frames from ../Data/videos\\L26_V210.mp4\n",
      "[TransNetV2] Processing video frames 7900/7976"
     ]
    },
    {
     "name": "stderr",
     "output_type": "stream",
     "text": [
      " 40%|████      | 298/745 [5:05:00<3:29:38, 28.14s/it]"
     ]
    },
    {
     "name": "stdout",
     "output_type": "stream",
     "text": [
      "[TransNetV2] Processing video frames 7976/7976\n",
      "[TransNetV2] Extracting frames from ../Data/videos\\L26_V211.mp4\n",
      "[TransNetV2] Processing video frames 7993/7993\n"
     ]
    },
    {
     "name": "stderr",
     "output_type": "stream",
     "text": [
      " 40%|████      | 299/745 [5:05:28<3:28:59, 28.12s/it]"
     ]
    },
    {
     "name": "stdout",
     "output_type": "stream",
     "text": [
      "[TransNetV2] Extracting frames from ../Data/videos\\L26_V212.mp4\n",
      "[TransNetV2] Processing video frames 8100/8119"
     ]
    },
    {
     "name": "stderr",
     "output_type": "stream",
     "text": [
      " 40%|████      | 300/745 [5:05:56<3:29:27, 28.24s/it]"
     ]
    },
    {
     "name": "stdout",
     "output_type": "stream",
     "text": [
      "[TransNetV2] Processing video frames 8119/8119\n",
      "[TransNetV2] Extracting frames from ../Data/videos\\L26_V213.mp4\n",
      "[TransNetV2] Processing video frames 7700/7792"
     ]
    },
    {
     "name": "stderr",
     "output_type": "stream",
     "text": [
      " 40%|████      | 301/745 [5:06:24<3:27:07, 27.99s/it]"
     ]
    },
    {
     "name": "stdout",
     "output_type": "stream",
     "text": [
      "[TransNetV2] Processing video frames 7792/7792\n",
      "[TransNetV2] Extracting frames from ../Data/videos\\L26_V214.mp4\n",
      "[TransNetV2] Processing video frames 8090/8090\n"
     ]
    },
    {
     "name": "stderr",
     "output_type": "stream",
     "text": [
      " 41%|████      | 302/745 [5:06:52<3:27:38, 28.12s/it]"
     ]
    },
    {
     "name": "stdout",
     "output_type": "stream",
     "text": [
      "[TransNetV2] Extracting frames from ../Data/videos\\L26_V215.mp4\n",
      "[TransNetV2] Processing video frames 7400/7497"
     ]
    },
    {
     "name": "stderr",
     "output_type": "stream",
     "text": [
      " 41%|████      | 303/745 [5:07:18<3:23:05, 27.57s/it]"
     ]
    },
    {
     "name": "stdout",
     "output_type": "stream",
     "text": [
      "[TransNetV2] Processing video frames 7497/7497\n",
      "[TransNetV2] Extracting frames from ../Data/videos\\L26_V216.mp4\n",
      "[TransNetV2] Processing video frames 7956/7956\n"
     ]
    },
    {
     "name": "stderr",
     "output_type": "stream",
     "text": [
      " 41%|████      | 304/745 [5:07:47<3:23:48, 27.73s/it]"
     ]
    },
    {
     "name": "stdout",
     "output_type": "stream",
     "text": [
      "[TransNetV2] Extracting frames from ../Data/videos\\L26_V217.mp4\n",
      "[TransNetV2] Processing video frames 8100/8142"
     ]
    },
    {
     "name": "stderr",
     "output_type": "stream",
     "text": [
      " 41%|████      | 305/745 [5:08:15<3:25:15, 27.99s/it]"
     ]
    },
    {
     "name": "stdout",
     "output_type": "stream",
     "text": [
      "[TransNetV2] Processing video frames 8142/8142\n",
      "[TransNetV2] Extracting frames from ../Data/videos\\L26_V218.mp4\n",
      "[TransNetV2] Processing video frames 7900/7912"
     ]
    },
    {
     "name": "stderr",
     "output_type": "stream",
     "text": [
      " 41%|████      | 306/745 [5:08:43<3:24:39, 27.97s/it]"
     ]
    },
    {
     "name": "stdout",
     "output_type": "stream",
     "text": [
      "[TransNetV2] Processing video frames 7912/7912\n",
      "[TransNetV2] Extracting frames from ../Data/videos\\L26_V219.mp4\n",
      "[TransNetV2] Processing video frames 7980/7980\n"
     ]
    },
    {
     "name": "stderr",
     "output_type": "stream",
     "text": [
      " 41%|████      | 307/745 [5:09:11<3:24:18, 27.99s/it]"
     ]
    },
    {
     "name": "stdout",
     "output_type": "stream",
     "text": [
      "[TransNetV2] Extracting frames from ../Data/videos\\L26_V220.mp4\n",
      "[TransNetV2] Processing video frames 8100/8106"
     ]
    },
    {
     "name": "stderr",
     "output_type": "stream",
     "text": [
      " 41%|████▏     | 308/745 [5:09:40<3:24:59, 28.14s/it]"
     ]
    },
    {
     "name": "stdout",
     "output_type": "stream",
     "text": [
      "[TransNetV2] Processing video frames 8106/8106\n",
      "[TransNetV2] Extracting frames from ../Data/videos\\L26_V221.mp4\n",
      "[TransNetV2] Processing video frames 7467/7467\n"
     ]
    },
    {
     "name": "stderr",
     "output_type": "stream",
     "text": [
      " 41%|████▏     | 309/745 [5:10:06<3:20:25, 27.58s/it]"
     ]
    },
    {
     "name": "stdout",
     "output_type": "stream",
     "text": [
      "[TransNetV2] Extracting frames from ../Data/videos\\L26_V222.mp4\n",
      "[TransNetV2] Processing video frames 7800/7889"
     ]
    },
    {
     "name": "stderr",
     "output_type": "stream",
     "text": [
      " 42%|████▏     | 310/745 [5:10:34<3:20:25, 27.64s/it]"
     ]
    },
    {
     "name": "stdout",
     "output_type": "stream",
     "text": [
      "[TransNetV2] Processing video frames 7889/7889\n",
      "[TransNetV2] Extracting frames from ../Data/videos\\L26_V223.mp4\n",
      "[TransNetV2] Processing video frames 7700/7781"
     ]
    },
    {
     "name": "stderr",
     "output_type": "stream",
     "text": [
      " 42%|████▏     | 311/745 [5:11:01<3:19:39, 27.60s/it]"
     ]
    },
    {
     "name": "stdout",
     "output_type": "stream",
     "text": [
      "[TransNetV2] Processing video frames 7781/7781\n",
      "[TransNetV2] Extracting frames from ../Data/videos\\L26_V224.mp4\n",
      "[TransNetV2] Processing video frames 8054/8054\n"
     ]
    },
    {
     "name": "stderr",
     "output_type": "stream",
     "text": [
      " 42%|████▏     | 312/745 [5:11:30<3:21:02, 27.86s/it]"
     ]
    },
    {
     "name": "stdout",
     "output_type": "stream",
     "text": [
      "[TransNetV2] Extracting frames from ../Data/videos\\L26_V225.mp4\n",
      "[TransNetV2] Processing video frames 8000/8074"
     ]
    },
    {
     "name": "stderr",
     "output_type": "stream",
     "text": [
      " 42%|████▏     | 313/745 [5:11:58<3:21:42, 28.02s/it]"
     ]
    },
    {
     "name": "stdout",
     "output_type": "stream",
     "text": [
      "[TransNetV2] Processing video frames 8074/8074\n",
      "[TransNetV2] Extracting frames from ../Data/videos\\L26_V226.mp4\n",
      "[TransNetV2] Processing video frames 8200/8207"
     ]
    },
    {
     "name": "stderr",
     "output_type": "stream",
     "text": [
      " 42%|████▏     | 314/745 [5:12:27<3:23:17, 28.30s/it]"
     ]
    },
    {
     "name": "stdout",
     "output_type": "stream",
     "text": [
      "[TransNetV2] Processing video frames 8207/8207\n",
      "[TransNetV2] Extracting frames from ../Data/videos\\L26_V227.mp4\n",
      "[TransNetV2] Processing video frames 8100/8130"
     ]
    },
    {
     "name": "stderr",
     "output_type": "stream",
     "text": [
      " 42%|████▏     | 315/745 [5:12:56<3:23:26, 28.39s/it]"
     ]
    },
    {
     "name": "stdout",
     "output_type": "stream",
     "text": [
      "[TransNetV2] Processing video frames 8130/8130\n",
      "[TransNetV2] Extracting frames from ../Data/videos\\L26_V228.mp4\n",
      "[TransNetV2] Processing video frames 7271/7271\n"
     ]
    },
    {
     "name": "stderr",
     "output_type": "stream",
     "text": [
      " 42%|████▏     | 316/745 [5:13:21<3:17:02, 27.56s/it]"
     ]
    },
    {
     "name": "stdout",
     "output_type": "stream",
     "text": [
      "[TransNetV2] Extracting frames from ../Data/videos\\L26_V229.mp4\n",
      "[TransNetV2] Processing video frames 7900/7979"
     ]
    },
    {
     "name": "stderr",
     "output_type": "stream",
     "text": [
      " 43%|████▎     | 317/745 [5:13:49<3:17:53, 27.74s/it]"
     ]
    },
    {
     "name": "stdout",
     "output_type": "stream",
     "text": [
      "[TransNetV2] Processing video frames 7979/7979\n",
      "[TransNetV2] Extracting frames from ../Data/videos\\L26_V230.mp4\n",
      "[TransNetV2] Processing video frames 7900/7930"
     ]
    },
    {
     "name": "stderr",
     "output_type": "stream",
     "text": [
      " 43%|████▎     | 318/745 [5:14:17<3:17:46, 27.79s/it]"
     ]
    },
    {
     "name": "stdout",
     "output_type": "stream",
     "text": [
      "[TransNetV2] Processing video frames 7930/7930\n",
      "[TransNetV2] Extracting frames from ../Data/videos\\L26_V231.mp4\n",
      "[TransNetV2] Processing video frames 8000/8036"
     ]
    },
    {
     "name": "stderr",
     "output_type": "stream",
     "text": [
      " 43%|████▎     | 319/745 [5:14:45<3:18:14, 27.92s/it]"
     ]
    },
    {
     "name": "stdout",
     "output_type": "stream",
     "text": [
      "[TransNetV2] Processing video frames 8036/8036\n",
      "[TransNetV2] Extracting frames from ../Data/videos\\L26_V232.mp4\n",
      "[TransNetV2] Processing video frames 8100/8115"
     ]
    },
    {
     "name": "stderr",
     "output_type": "stream",
     "text": [
      " 43%|████▎     | 320/745 [5:15:14<3:19:06, 28.11s/it]"
     ]
    },
    {
     "name": "stdout",
     "output_type": "stream",
     "text": [
      "[TransNetV2] Processing video frames 8115/8115\n",
      "[TransNetV2] Extracting frames from ../Data/videos\\L26_V233.mp4\n",
      "[TransNetV2] Processing video frames 7393/7393\n"
     ]
    },
    {
     "name": "stderr",
     "output_type": "stream",
     "text": [
      " 43%|████▎     | 321/745 [5:15:40<3:13:55, 27.44s/it]"
     ]
    },
    {
     "name": "stdout",
     "output_type": "stream",
     "text": [
      "[TransNetV2] Extracting frames from ../Data/videos\\L26_V234.mp4\n",
      "[TransNetV2] Processing video frames 8100/8159"
     ]
    },
    {
     "name": "stderr",
     "output_type": "stream",
     "text": [
      " 43%|████▎     | 322/745 [5:16:09<3:16:21, 27.85s/it]"
     ]
    },
    {
     "name": "stdout",
     "output_type": "stream",
     "text": [
      "[TransNetV2] Processing video frames 8159/8159\n",
      "[TransNetV2] Extracting frames from ../Data/videos\\L26_V235.mp4\n",
      "[TransNetV2] Processing video frames 7700/7723"
     ]
    },
    {
     "name": "stderr",
     "output_type": "stream",
     "text": [
      " 43%|████▎     | 323/745 [5:16:36<3:14:36, 27.67s/it]"
     ]
    },
    {
     "name": "stdout",
     "output_type": "stream",
     "text": [
      "[TransNetV2] Processing video frames 7723/7723\n",
      "[TransNetV2] Extracting frames from ../Data/videos\\L26_V236.mp4\n",
      "[TransNetV2] Processing video frames 7500/7536"
     ]
    },
    {
     "name": "stderr",
     "output_type": "stream",
     "text": [
      " 43%|████▎     | 324/745 [5:17:03<3:11:57, 27.36s/it]"
     ]
    },
    {
     "name": "stdout",
     "output_type": "stream",
     "text": [
      "[TransNetV2] Processing video frames 7536/7536\n",
      "[TransNetV2] Extracting frames from ../Data/videos\\L26_V237.mp4\n",
      "[TransNetV2] Processing video frames 7900/7911"
     ]
    },
    {
     "name": "stderr",
     "output_type": "stream",
     "text": [
      " 44%|████▎     | 325/745 [5:17:31<3:12:42, 27.53s/it]"
     ]
    },
    {
     "name": "stdout",
     "output_type": "stream",
     "text": [
      "[TransNetV2] Processing video frames 7911/7911\n",
      "[TransNetV2] Extracting frames from ../Data/videos\\L26_V238.mp4\n",
      "[TransNetV2] Processing video frames 7700/7716"
     ]
    },
    {
     "name": "stderr",
     "output_type": "stream",
     "text": [
      " 44%|████▍     | 326/745 [5:17:58<3:11:49, 27.47s/it]"
     ]
    },
    {
     "name": "stdout",
     "output_type": "stream",
     "text": [
      "[TransNetV2] Processing video frames 7716/7716\n",
      "[TransNetV2] Extracting frames from ../Data/videos\\L26_V239.mp4\n",
      "[TransNetV2] Processing video frames 7900/7981"
     ]
    },
    {
     "name": "stderr",
     "output_type": "stream",
     "text": [
      " 44%|████▍     | 327/745 [5:18:26<3:12:41, 27.66s/it]"
     ]
    },
    {
     "name": "stdout",
     "output_type": "stream",
     "text": [
      "[TransNetV2] Processing video frames 7981/7981\n",
      "[TransNetV2] Extracting frames from ../Data/videos\\L26_V240.mp4\n",
      "[TransNetV2] Processing video frames 7300/7342"
     ]
    },
    {
     "name": "stderr",
     "output_type": "stream",
     "text": [
      " 44%|████▍     | 328/745 [5:18:52<3:08:28, 27.12s/it]"
     ]
    },
    {
     "name": "stdout",
     "output_type": "stream",
     "text": [
      "[TransNetV2] Processing video frames 7342/7342\n",
      "[TransNetV2] Extracting frames from ../Data/videos\\L26_V241.mp4\n",
      "[TransNetV2] Processing video frames 7700/7740"
     ]
    },
    {
     "name": "stderr",
     "output_type": "stream",
     "text": [
      " 44%|████▍     | 329/745 [5:19:19<3:08:09, 27.14s/it]"
     ]
    },
    {
     "name": "stdout",
     "output_type": "stream",
     "text": [
      "[TransNetV2] Processing video frames 7740/7740\n",
      "[TransNetV2] Extracting frames from ../Data/videos\\L26_V242.mp4\n",
      "[TransNetV2] Processing video frames 7900/7916"
     ]
    },
    {
     "name": "stderr",
     "output_type": "stream",
     "text": [
      " 44%|████▍     | 330/745 [5:19:47<3:09:25, 27.39s/it]"
     ]
    },
    {
     "name": "stdout",
     "output_type": "stream",
     "text": [
      "[TransNetV2] Processing video frames 7916/7916\n",
      "[TransNetV2] Extracting frames from ../Data/videos\\L26_V243.mp4\n",
      "[TransNetV2] Processing video frames 7900/7945"
     ]
    },
    {
     "name": "stderr",
     "output_type": "stream",
     "text": [
      " 44%|████▍     | 331/745 [5:20:15<3:09:56, 27.53s/it]"
     ]
    },
    {
     "name": "stdout",
     "output_type": "stream",
     "text": [
      "[TransNetV2] Processing video frames 7945/7945\n",
      "[TransNetV2] Extracting frames from ../Data/videos\\L26_V244.mp4\n",
      "[TransNetV2] Processing video frames 8000/8040"
     ]
    },
    {
     "name": "stderr",
     "output_type": "stream",
     "text": [
      " 45%|████▍     | 332/745 [5:20:43<3:10:38, 27.70s/it]"
     ]
    },
    {
     "name": "stdout",
     "output_type": "stream",
     "text": [
      "[TransNetV2] Processing video frames 8040/8040\n",
      "[TransNetV2] Extracting frames from ../Data/videos\\L26_V245.mp4\n",
      "[TransNetV2] Processing video frames 7975/7975\n"
     ]
    },
    {
     "name": "stderr",
     "output_type": "stream",
     "text": [
      " 45%|████▍     | 333/745 [5:21:11<3:11:10, 27.84s/it]"
     ]
    },
    {
     "name": "stdout",
     "output_type": "stream",
     "text": [
      "[TransNetV2] Extracting frames from ../Data/videos\\L26_V246.mp4\n",
      "[TransNetV2] Processing video frames 7900/7968"
     ]
    },
    {
     "name": "stderr",
     "output_type": "stream",
     "text": [
      " 45%|████▍     | 334/745 [5:21:39<3:11:07, 27.90s/it]"
     ]
    },
    {
     "name": "stdout",
     "output_type": "stream",
     "text": [
      "[TransNetV2] Processing video frames 7968/7968\n",
      "[TransNetV2] Extracting frames from ../Data/videos\\L26_V247.mp4\n",
      "[TransNetV2] Processing video frames 7900/7978"
     ]
    },
    {
     "name": "stderr",
     "output_type": "stream",
     "text": [
      " 45%|████▍     | 335/745 [5:22:07<3:11:03, 27.96s/it]"
     ]
    },
    {
     "name": "stdout",
     "output_type": "stream",
     "text": [
      "[TransNetV2] Processing video frames 7978/7978\n",
      "[TransNetV2] Extracting frames from ../Data/videos\\L26_V248.mp4\n",
      "[TransNetV2] Processing video frames 7900/7983"
     ]
    },
    {
     "name": "stderr",
     "output_type": "stream",
     "text": [
      " 45%|████▌     | 336/745 [5:22:35<3:11:00, 28.02s/it]"
     ]
    },
    {
     "name": "stdout",
     "output_type": "stream",
     "text": [
      "[TransNetV2] Processing video frames 7983/7983\n",
      "[TransNetV2] Extracting frames from ../Data/videos\\L26_V249.mp4\n",
      "[TransNetV2] Processing video frames 7900/7943"
     ]
    },
    {
     "name": "stderr",
     "output_type": "stream",
     "text": [
      " 45%|████▌     | 337/745 [5:23:03<3:10:15, 27.98s/it]"
     ]
    },
    {
     "name": "stdout",
     "output_type": "stream",
     "text": [
      "[TransNetV2] Processing video frames 7943/7943\n",
      "[TransNetV2] Extracting frames from ../Data/videos\\L26_V250.mp4\n",
      "[TransNetV2] Processing video frames 7900/7995"
     ]
    },
    {
     "name": "stderr",
     "output_type": "stream",
     "text": [
      " 45%|████▌     | 338/745 [5:23:31<3:10:01, 28.01s/it]"
     ]
    },
    {
     "name": "stdout",
     "output_type": "stream",
     "text": [
      "[TransNetV2] Processing video frames 7995/7995\n",
      "[TransNetV2] Extracting frames from ../Data/videos\\L26_V251.mp4\n",
      "[TransNetV2] Processing video frames 7900/7971"
     ]
    },
    {
     "name": "stderr",
     "output_type": "stream",
     "text": [
      " 46%|████▌     | 339/745 [5:24:00<3:09:50, 28.06s/it]"
     ]
    },
    {
     "name": "stdout",
     "output_type": "stream",
     "text": [
      "[TransNetV2] Processing video frames 7971/7971\n",
      "[TransNetV2] Extracting frames from ../Data/videos\\L26_V252.mp4\n",
      "[TransNetV2] Processing video frames 7900/7982"
     ]
    },
    {
     "name": "stderr",
     "output_type": "stream",
     "text": [
      " 46%|████▌     | 340/745 [5:24:28<3:09:22, 28.05s/it]"
     ]
    },
    {
     "name": "stdout",
     "output_type": "stream",
     "text": [
      "[TransNetV2] Processing video frames 7982/7982\n",
      "[TransNetV2] Extracting frames from ../Data/videos\\L26_V253.mp4\n",
      "[TransNetV2] Processing video frames 7900/7937"
     ]
    },
    {
     "name": "stderr",
     "output_type": "stream",
     "text": [
      " 46%|████▌     | 341/745 [5:24:55<3:08:37, 28.01s/it]"
     ]
    },
    {
     "name": "stdout",
     "output_type": "stream",
     "text": [
      "[TransNetV2] Processing video frames 7937/7937\n",
      "[TransNetV2] Extracting frames from ../Data/videos\\L26_V254.mp4\n",
      "[TransNetV2] Processing video frames 7800/7809"
     ]
    },
    {
     "name": "stderr",
     "output_type": "stream",
     "text": [
      " 46%|████▌     | 342/745 [5:25:23<3:07:07, 27.86s/it]"
     ]
    },
    {
     "name": "stdout",
     "output_type": "stream",
     "text": [
      "[TransNetV2] Processing video frames 7809/7809\n",
      "[TransNetV2] Extracting frames from ../Data/videos\\L26_V255.mp4\n",
      "[TransNetV2] Processing video frames 7800/7810"
     ]
    },
    {
     "name": "stderr",
     "output_type": "stream",
     "text": [
      " 46%|████▌     | 343/745 [5:25:51<3:06:15, 27.80s/it]"
     ]
    },
    {
     "name": "stdout",
     "output_type": "stream",
     "text": [
      "[TransNetV2] Processing video frames 7810/7810\n",
      "[TransNetV2] Extracting frames from ../Data/videos\\L26_V256.mp4\n",
      "[TransNetV2] Processing video frames 7993/7993\n"
     ]
    },
    {
     "name": "stderr",
     "output_type": "stream",
     "text": [
      " 46%|████▌     | 344/745 [5:26:19<3:06:38, 27.93s/it]"
     ]
    },
    {
     "name": "stdout",
     "output_type": "stream",
     "text": [
      "[TransNetV2] Extracting frames from ../Data/videos\\L26_V257.mp4\n",
      "[TransNetV2] Processing video frames 8090/8090\n"
     ]
    },
    {
     "name": "stderr",
     "output_type": "stream",
     "text": [
      " 46%|████▋     | 345/745 [5:26:47<3:07:23, 28.11s/it]"
     ]
    },
    {
     "name": "stdout",
     "output_type": "stream",
     "text": [
      "[TransNetV2] Extracting frames from ../Data/videos\\L26_V258.mp4\n",
      "[TransNetV2] Processing video frames 8072/8072\n"
     ]
    },
    {
     "name": "stderr",
     "output_type": "stream",
     "text": [
      " 46%|████▋     | 346/745 [5:27:16<3:07:38, 28.22s/it]"
     ]
    },
    {
     "name": "stdout",
     "output_type": "stream",
     "text": [
      "[TransNetV2] Extracting frames from ../Data/videos\\L26_V259.mp4\n",
      "[TransNetV2] Processing video frames 8000/8059"
     ]
    },
    {
     "name": "stderr",
     "output_type": "stream",
     "text": [
      " 47%|████▋     | 347/745 [5:27:44<3:07:51, 28.32s/it]"
     ]
    },
    {
     "name": "stdout",
     "output_type": "stream",
     "text": [
      "[TransNetV2] Processing video frames 8059/8059\n",
      "[TransNetV2] Extracting frames from ../Data/videos\\L26_V260.mp4\n",
      "[TransNetV2] Processing video frames 8000/8038"
     ]
    },
    {
     "name": "stderr",
     "output_type": "stream",
     "text": [
      " 47%|████▋     | 348/745 [5:28:13<3:07:15, 28.30s/it]"
     ]
    },
    {
     "name": "stdout",
     "output_type": "stream",
     "text": [
      "[TransNetV2] Processing video frames 8038/8038\n",
      "[TransNetV2] Extracting frames from ../Data/videos\\L26_V261.mp4\n",
      "[TransNetV2] Processing video frames 8100/8196"
     ]
    },
    {
     "name": "stderr",
     "output_type": "stream",
     "text": [
      " 47%|████▋     | 349/745 [5:28:41<3:07:46, 28.45s/it]"
     ]
    },
    {
     "name": "stdout",
     "output_type": "stream",
     "text": [
      "[TransNetV2] Processing video frames 8196/8196\n",
      "[TransNetV2] Extracting frames from ../Data/videos\\L26_V262.mp4\n",
      "[TransNetV2] Processing video frames 8000/8007"
     ]
    },
    {
     "name": "stderr",
     "output_type": "stream",
     "text": [
      " 47%|████▋     | 350/745 [5:29:10<3:07:01, 28.41s/it]"
     ]
    },
    {
     "name": "stdout",
     "output_type": "stream",
     "text": [
      "[TransNetV2] Processing video frames 8007/8007\n",
      "[TransNetV2] Extracting frames from ../Data/videos\\L26_V263.mp4\n",
      "[TransNetV2] Processing video frames 8088/8088\n"
     ]
    },
    {
     "name": "stderr",
     "output_type": "stream",
     "text": [
      " 47%|████▋     | 351/745 [5:29:38<3:06:45, 28.44s/it]"
     ]
    },
    {
     "name": "stdout",
     "output_type": "stream",
     "text": [
      "[TransNetV2] Extracting frames from ../Data/videos\\L26_V264.mp4\n",
      "[TransNetV2] Processing video frames 8100/8112"
     ]
    },
    {
     "name": "stderr",
     "output_type": "stream",
     "text": [
      " 47%|████▋     | 352/745 [5:30:07<3:06:29, 28.47s/it]"
     ]
    },
    {
     "name": "stdout",
     "output_type": "stream",
     "text": [
      "[TransNetV2] Processing video frames 8112/8112\n",
      "[TransNetV2] Extracting frames from ../Data/videos\\L26_V265.mp4\n",
      "[TransNetV2] Processing video frames 8100/8133"
     ]
    },
    {
     "name": "stderr",
     "output_type": "stream",
     "text": [
      " 47%|████▋     | 353/745 [5:30:36<3:06:22, 28.53s/it]"
     ]
    },
    {
     "name": "stdout",
     "output_type": "stream",
     "text": [
      "[TransNetV2] Processing video frames 8133/8133\n",
      "[TransNetV2] Extracting frames from ../Data/videos\\L26_V266.mp4\n",
      "[TransNetV2] Processing video frames 8100/8136"
     ]
    },
    {
     "name": "stderr",
     "output_type": "stream",
     "text": [
      " 48%|████▊     | 354/745 [5:31:04<3:06:18, 28.59s/it]"
     ]
    },
    {
     "name": "stdout",
     "output_type": "stream",
     "text": [
      "[TransNetV2] Processing video frames 8136/8136\n",
      "[TransNetV2] Extracting frames from ../Data/videos\\L26_V267.mp4\n",
      "[TransNetV2] Processing video frames 8000/8029"
     ]
    },
    {
     "name": "stderr",
     "output_type": "stream",
     "text": [
      " 48%|████▊     | 355/745 [5:31:32<3:05:04, 28.47s/it]"
     ]
    },
    {
     "name": "stdout",
     "output_type": "stream",
     "text": [
      "[TransNetV2] Processing video frames 8029/8029\n",
      "[TransNetV2] Extracting frames from ../Data/videos\\L26_V268.mp4\n",
      "[TransNetV2] Processing video frames 8100/8138"
     ]
    },
    {
     "name": "stderr",
     "output_type": "stream",
     "text": [
      " 48%|████▊     | 356/745 [5:32:01<3:05:01, 28.54s/it]"
     ]
    },
    {
     "name": "stdout",
     "output_type": "stream",
     "text": [
      "[TransNetV2] Processing video frames 8138/8138\n",
      "[TransNetV2] Extracting frames from ../Data/videos\\L26_V269.mp4\n",
      "[TransNetV2] Processing video frames 8100/8131"
     ]
    },
    {
     "name": "stderr",
     "output_type": "stream",
     "text": [
      " 48%|████▊     | 357/745 [5:32:30<3:04:34, 28.54s/it]"
     ]
    },
    {
     "name": "stdout",
     "output_type": "stream",
     "text": [
      "[TransNetV2] Processing video frames 8131/8131\n",
      "[TransNetV2] Extracting frames from ../Data/videos\\L26_V270.mp4\n",
      "[TransNetV2] Processing video frames 8000/8015"
     ]
    },
    {
     "name": "stderr",
     "output_type": "stream",
     "text": [
      " 48%|████▊     | 358/745 [5:32:58<3:03:52, 28.51s/it]"
     ]
    },
    {
     "name": "stdout",
     "output_type": "stream",
     "text": [
      "[TransNetV2] Processing video frames 8015/8015\n",
      "[TransNetV2] Extracting frames from ../Data/videos\\L26_V271.mp4\n",
      "[TransNetV2] Processing video frames 8000/8060"
     ]
    },
    {
     "name": "stderr",
     "output_type": "stream",
     "text": [
      " 48%|████▊     | 359/745 [5:33:27<3:03:23, 28.51s/it]"
     ]
    },
    {
     "name": "stdout",
     "output_type": "stream",
     "text": [
      "[TransNetV2] Processing video frames 8060/8060\n",
      "[TransNetV2] Extracting frames from ../Data/videos\\L26_V272.mp4\n",
      "[TransNetV2] Processing video frames 8100/8166"
     ]
    },
    {
     "name": "stderr",
     "output_type": "stream",
     "text": [
      " 48%|████▊     | 360/745 [5:33:55<3:03:30, 28.60s/it]"
     ]
    },
    {
     "name": "stdout",
     "output_type": "stream",
     "text": [
      "[TransNetV2] Processing video frames 8166/8166\n",
      "[TransNetV2] Extracting frames from ../Data/videos\\L26_V273.mp4\n",
      "[TransNetV2] Processing video frames 8000/8010"
     ]
    },
    {
     "name": "stderr",
     "output_type": "stream",
     "text": [
      " 48%|████▊     | 361/745 [5:34:24<3:02:05, 28.45s/it]"
     ]
    },
    {
     "name": "stdout",
     "output_type": "stream",
     "text": [
      "[TransNetV2] Processing video frames 8010/8010\n",
      "[TransNetV2] Extracting frames from ../Data/videos\\L26_V274.mp4\n",
      "[TransNetV2] Processing video frames 8100/8130"
     ]
    },
    {
     "name": "stderr",
     "output_type": "stream",
     "text": [
      " 49%|████▊     | 362/745 [5:34:52<3:01:53, 28.50s/it]"
     ]
    },
    {
     "name": "stdout",
     "output_type": "stream",
     "text": [
      "[TransNetV2] Processing video frames 8130/8130\n",
      "[TransNetV2] Extracting frames from ../Data/videos\\L26_V275.mp4\n",
      "[TransNetV2] Processing video frames 8100/8126"
     ]
    },
    {
     "name": "stderr",
     "output_type": "stream",
     "text": [
      " 49%|████▊     | 363/745 [5:35:21<3:01:39, 28.53s/it]"
     ]
    },
    {
     "name": "stdout",
     "output_type": "stream",
     "text": [
      "[TransNetV2] Processing video frames 8126/8126\n",
      "[TransNetV2] Extracting frames from ../Data/videos\\L26_V276.mp4\n",
      "[TransNetV2] Processing video frames 8100/8181"
     ]
    },
    {
     "name": "stderr",
     "output_type": "stream",
     "text": [
      " 49%|████▉     | 364/745 [5:35:50<3:01:46, 28.63s/it]"
     ]
    },
    {
     "name": "stdout",
     "output_type": "stream",
     "text": [
      "[TransNetV2] Processing video frames 8181/8181\n",
      "[TransNetV2] Extracting frames from ../Data/videos\\L26_V277.mp4\n",
      "[TransNetV2] Processing video frames 8100/8119"
     ]
    },
    {
     "name": "stderr",
     "output_type": "stream",
     "text": [
      " 49%|████▉     | 365/745 [5:36:18<3:00:55, 28.57s/it]"
     ]
    },
    {
     "name": "stdout",
     "output_type": "stream",
     "text": [
      "[TransNetV2] Processing video frames 8119/8119\n",
      "[TransNetV2] Extracting frames from ../Data/videos\\L26_V278.mp4\n",
      "[TransNetV2] Processing video frames 8100/8173"
     ]
    },
    {
     "name": "stderr",
     "output_type": "stream",
     "text": [
      " 49%|████▉     | 366/745 [5:36:47<3:00:44, 28.61s/it]"
     ]
    },
    {
     "name": "stdout",
     "output_type": "stream",
     "text": [
      "[TransNetV2] Processing video frames 8173/8173\n",
      "[TransNetV2] Extracting frames from ../Data/videos\\L26_V279.mp4\n",
      "[TransNetV2] Processing video frames 7800/7863"
     ]
    },
    {
     "name": "stderr",
     "output_type": "stream",
     "text": [
      " 49%|████▉     | 367/745 [5:37:14<2:58:06, 28.27s/it]"
     ]
    },
    {
     "name": "stdout",
     "output_type": "stream",
     "text": [
      "[TransNetV2] Processing video frames 7863/7863\n",
      "[TransNetV2] Extracting frames from ../Data/videos\\L26_V280.mp4\n",
      "[TransNetV2] Processing video frames 7980/7980\n"
     ]
    },
    {
     "name": "stderr",
     "output_type": "stream",
     "text": [
      " 49%|████▉     | 368/745 [5:37:42<2:57:15, 28.21s/it]"
     ]
    },
    {
     "name": "stdout",
     "output_type": "stream",
     "text": [
      "[TransNetV2] Extracting frames from ../Data/videos\\L26_V281.mp4\n",
      "[TransNetV2] Processing video frames 8000/8081"
     ]
    },
    {
     "name": "stderr",
     "output_type": "stream",
     "text": [
      " 50%|████▉     | 369/745 [5:38:11<2:57:10, 28.27s/it]"
     ]
    },
    {
     "name": "stdout",
     "output_type": "stream",
     "text": [
      "[TransNetV2] Processing video frames 8081/8081\n",
      "[TransNetV2] Extracting frames from ../Data/videos\\L26_V282.mp4\n",
      "[TransNetV2] Processing video frames 7800/7881"
     ]
    },
    {
     "name": "stderr",
     "output_type": "stream",
     "text": [
      " 50%|████▉     | 370/745 [5:38:39<2:56:09, 28.19s/it]"
     ]
    },
    {
     "name": "stdout",
     "output_type": "stream",
     "text": [
      "[TransNetV2] Processing video frames 7881/7881\n",
      "[TransNetV2] Extracting frames from ../Data/videos\\L26_V283.mp4\n",
      "[TransNetV2] Processing video frames 8100/8173"
     ]
    },
    {
     "name": "stderr",
     "output_type": "stream",
     "text": [
      " 50%|████▉     | 371/745 [5:39:08<2:56:58, 28.39s/it]"
     ]
    },
    {
     "name": "stdout",
     "output_type": "stream",
     "text": [
      "[TransNetV2] Processing video frames 8173/8173\n",
      "[TransNetV2] Extracting frames from ../Data/videos\\L26_V284.mp4\n",
      "[TransNetV2] Processing video frames 8100/8125"
     ]
    },
    {
     "name": "stderr",
     "output_type": "stream",
     "text": [
      " 50%|████▉     | 372/745 [5:39:36<2:57:09, 28.50s/it]"
     ]
    },
    {
     "name": "stdout",
     "output_type": "stream",
     "text": [
      "[TransNetV2] Processing video frames 8125/8125\n",
      "[TransNetV2] Extracting frames from ../Data/videos\\L26_V285.mp4\n",
      "[TransNetV2] Processing video frames 8000/8093"
     ]
    },
    {
     "name": "stderr",
     "output_type": "stream",
     "text": [
      " 50%|█████     | 373/745 [5:40:05<2:56:46, 28.51s/it]"
     ]
    },
    {
     "name": "stdout",
     "output_type": "stream",
     "text": [
      "[TransNetV2] Processing video frames 8093/8093\n",
      "[TransNetV2] Extracting frames from ../Data/videos\\L26_V286.mp4\n",
      "[TransNetV2] Processing video frames 8100/8164"
     ]
    },
    {
     "name": "stderr",
     "output_type": "stream",
     "text": [
      " 50%|█████     | 374/745 [5:40:34<2:56:56, 28.62s/it]"
     ]
    },
    {
     "name": "stdout",
     "output_type": "stream",
     "text": [
      "[TransNetV2] Processing video frames 8164/8164\n",
      "[TransNetV2] Extracting frames from ../Data/videos\\L26_V287.mp4\n",
      "[TransNetV2] Processing video frames 7900/7946"
     ]
    },
    {
     "name": "stderr",
     "output_type": "stream",
     "text": [
      " 50%|█████     | 375/745 [5:41:02<2:55:24, 28.45s/it]"
     ]
    },
    {
     "name": "stdout",
     "output_type": "stream",
     "text": [
      "[TransNetV2] Processing video frames 7946/7946\n",
      "[TransNetV2] Extracting frames from ../Data/videos\\L26_V288.mp4\n",
      "[TransNetV2] Processing video frames 8100/8169"
     ]
    },
    {
     "name": "stderr",
     "output_type": "stream",
     "text": [
      " 50%|█████     | 376/745 [5:41:30<2:55:06, 28.47s/it]"
     ]
    },
    {
     "name": "stdout",
     "output_type": "stream",
     "text": [
      "[TransNetV2] Processing video frames 8169/8169\n",
      "[TransNetV2] Extracting frames from ../Data/videos\\L26_V289.mp4\n",
      "[TransNetV2] Processing video frames 7600/7603"
     ]
    },
    {
     "name": "stderr",
     "output_type": "stream",
     "text": [
      " 51%|█████     | 377/745 [5:41:57<2:51:17, 27.93s/it]"
     ]
    },
    {
     "name": "stdout",
     "output_type": "stream",
     "text": [
      "[TransNetV2] Processing video frames 7603/7603\n",
      "[TransNetV2] Extracting frames from ../Data/videos\\L26_V290.mp4\n",
      "[TransNetV2] Processing video frames 7900/7932"
     ]
    },
    {
     "name": "stderr",
     "output_type": "stream",
     "text": [
      " 51%|█████     | 378/745 [5:42:25<2:51:03, 27.97s/it]"
     ]
    },
    {
     "name": "stdout",
     "output_type": "stream",
     "text": [
      "[TransNetV2] Processing video frames 7932/7932\n",
      "[TransNetV2] Extracting frames from ../Data/videos\\L26_V291.mp4\n",
      "[TransNetV2] Processing video frames 7400/7443"
     ]
    },
    {
     "name": "stderr",
     "output_type": "stream",
     "text": [
      " 51%|█████     | 379/745 [5:42:51<2:47:12, 27.41s/it]"
     ]
    },
    {
     "name": "stdout",
     "output_type": "stream",
     "text": [
      "[TransNetV2] Processing video frames 7443/7443\n",
      "[TransNetV2] Extracting frames from ../Data/videos\\L26_V292.mp4\n",
      "[TransNetV2] Processing video frames 8200/8244"
     ]
    },
    {
     "name": "stderr",
     "output_type": "stream",
     "text": [
      " 51%|█████     | 380/745 [5:43:20<2:49:39, 27.89s/it]"
     ]
    },
    {
     "name": "stdout",
     "output_type": "stream",
     "text": [
      "[TransNetV2] Processing video frames 8244/8244\n",
      "[TransNetV2] Extracting frames from ../Data/videos\\L26_V293.mp4\n",
      "[TransNetV2] Processing video frames 7968/7968\n"
     ]
    },
    {
     "name": "stderr",
     "output_type": "stream",
     "text": [
      " 51%|█████     | 381/745 [5:43:48<2:49:39, 27.97s/it]"
     ]
    },
    {
     "name": "stdout",
     "output_type": "stream",
     "text": [
      "[TransNetV2] Extracting frames from ../Data/videos\\L26_V294.mp4\n",
      "[TransNetV2] Processing video frames 7900/7995"
     ]
    },
    {
     "name": "stderr",
     "output_type": "stream",
     "text": [
      " 51%|█████▏    | 382/745 [5:44:17<2:49:40, 28.04s/it]"
     ]
    },
    {
     "name": "stdout",
     "output_type": "stream",
     "text": [
      "[TransNetV2] Processing video frames 7995/7995\n",
      "[TransNetV2] Extracting frames from ../Data/videos\\L26_V295.mp4\n",
      "[TransNetV2] Processing video frames 8000/8044"
     ]
    },
    {
     "name": "stderr",
     "output_type": "stream",
     "text": [
      " 51%|█████▏    | 383/745 [5:44:45<2:49:43, 28.13s/it]"
     ]
    },
    {
     "name": "stdout",
     "output_type": "stream",
     "text": [
      "[TransNetV2] Processing video frames 8044/8044\n",
      "[TransNetV2] Extracting frames from ../Data/videos\\L26_V296.mp4\n",
      "[TransNetV2] Processing video frames 7700/7705"
     ]
    },
    {
     "name": "stderr",
     "output_type": "stream",
     "text": [
      " 52%|█████▏    | 384/745 [5:45:12<2:47:28, 27.84s/it]"
     ]
    },
    {
     "name": "stdout",
     "output_type": "stream",
     "text": [
      "[TransNetV2] Processing video frames 7705/7705\n",
      "[TransNetV2] Extracting frames from ../Data/videos\\L26_V297.mp4\n",
      "[TransNetV2] Processing video frames 7700/7725"
     ]
    },
    {
     "name": "stderr",
     "output_type": "stream",
     "text": [
      " 52%|█████▏    | 385/745 [5:45:39<2:45:44, 27.62s/it]"
     ]
    },
    {
     "name": "stdout",
     "output_type": "stream",
     "text": [
      "[TransNetV2] Processing video frames 7725/7725\n",
      "[TransNetV2] Extracting frames from ../Data/videos\\L26_V298.mp4\n",
      "[TransNetV2] Processing video frames 7600/7693"
     ]
    },
    {
     "name": "stderr",
     "output_type": "stream",
     "text": [
      " 52%|█████▏    | 386/745 [5:46:06<2:44:28, 27.49s/it]"
     ]
    },
    {
     "name": "stdout",
     "output_type": "stream",
     "text": [
      "[TransNetV2] Processing video frames 7693/7693\n",
      "[TransNetV2] Extracting frames from ../Data/videos\\L26_V299.mp4\n",
      "[TransNetV2] Processing video frames 7600/7682"
     ]
    },
    {
     "name": "stderr",
     "output_type": "stream",
     "text": [
      " 52%|█████▏    | 387/745 [5:46:33<2:43:08, 27.34s/it]"
     ]
    },
    {
     "name": "stdout",
     "output_type": "stream",
     "text": [
      "[TransNetV2] Processing video frames 7682/7682\n",
      "[TransNetV2] Extracting frames from ../Data/videos\\L26_V300.mp4\n",
      "[TransNetV2] Processing video frames 7800/7834"
     ]
    },
    {
     "name": "stderr",
     "output_type": "stream",
     "text": [
      " 52%|█████▏    | 388/745 [5:47:01<2:43:11, 27.43s/it]"
     ]
    },
    {
     "name": "stdout",
     "output_type": "stream",
     "text": [
      "[TransNetV2] Processing video frames 7834/7834\n",
      "[TransNetV2] Extracting frames from ../Data/videos\\L26_V301.mp4\n",
      "[TransNetV2] Processing video frames 7600/7655"
     ]
    },
    {
     "name": "stderr",
     "output_type": "stream",
     "text": [
      " 52%|█████▏    | 389/745 [5:47:28<2:42:16, 27.35s/it]"
     ]
    },
    {
     "name": "stdout",
     "output_type": "stream",
     "text": [
      "[TransNetV2] Processing video frames 7655/7655\n",
      "[TransNetV2] Extracting frames from ../Data/videos\\L26_V302.mp4\n",
      "[TransNetV2] Processing video frames 7700/7753"
     ]
    },
    {
     "name": "stderr",
     "output_type": "stream",
     "text": [
      " 52%|█████▏    | 390/745 [5:47:55<2:41:50, 27.35s/it]"
     ]
    },
    {
     "name": "stdout",
     "output_type": "stream",
     "text": [
      "[TransNetV2] Processing video frames 7753/7753\n",
      "[TransNetV2] Extracting frames from ../Data/videos\\L26_V303.mp4\n",
      "[TransNetV2] Processing video frames 7900/7927"
     ]
    },
    {
     "name": "stderr",
     "output_type": "stream",
     "text": [
      " 52%|█████▏    | 391/745 [5:48:23<2:42:21, 27.52s/it]"
     ]
    },
    {
     "name": "stdout",
     "output_type": "stream",
     "text": [
      "[TransNetV2] Processing video frames 7927/7927\n",
      "[TransNetV2] Extracting frames from ../Data/videos\\L26_V304.mp4\n",
      "[TransNetV2] Processing video frames 7700/7798"
     ]
    },
    {
     "name": "stderr",
     "output_type": "stream",
     "text": [
      " 53%|█████▎    | 392/745 [5:48:51<2:41:21, 27.43s/it]"
     ]
    },
    {
     "name": "stdout",
     "output_type": "stream",
     "text": [
      "[TransNetV2] Processing video frames 7798/7798\n",
      "[TransNetV2] Extracting frames from ../Data/videos\\L26_V305.mp4\n",
      "[TransNetV2] Processing video frames 7984/7984\n"
     ]
    },
    {
     "name": "stderr",
     "output_type": "stream",
     "text": [
      " 53%|█████▎    | 393/745 [5:49:19<2:42:06, 27.63s/it]"
     ]
    },
    {
     "name": "stdout",
     "output_type": "stream",
     "text": [
      "[TransNetV2] Extracting frames from ../Data/videos\\L26_V306.mp4\n",
      "[TransNetV2] Processing video frames 7900/7916"
     ]
    },
    {
     "name": "stderr",
     "output_type": "stream",
     "text": [
      " 53%|█████▎    | 394/745 [5:49:47<2:42:07, 27.71s/it]"
     ]
    },
    {
     "name": "stdout",
     "output_type": "stream",
     "text": [
      "[TransNetV2] Processing video frames 7916/7916\n",
      "[TransNetV2] Extracting frames from ../Data/videos\\L26_V307.mp4\n",
      "[TransNetV2] Processing video frames 8100/8110"
     ]
    },
    {
     "name": "stderr",
     "output_type": "stream",
     "text": [
      " 53%|█████▎    | 395/745 [5:50:15<2:43:15, 27.99s/it]"
     ]
    },
    {
     "name": "stdout",
     "output_type": "stream",
     "text": [
      "[TransNetV2] Processing video frames 8110/8110\n",
      "[TransNetV2] Extracting frames from ../Data/videos\\L26_V308.mp4\n",
      "[TransNetV2] Processing video frames 7999/7999\n"
     ]
    },
    {
     "name": "stderr",
     "output_type": "stream",
     "text": [
      " 53%|█████▎    | 396/745 [5:50:44<2:43:26, 28.10s/it]"
     ]
    },
    {
     "name": "stdout",
     "output_type": "stream",
     "text": [
      "[TransNetV2] Extracting frames from ../Data/videos\\L26_V309.mp4\n",
      "[TransNetV2] Processing video frames 7796/7796\n"
     ]
    },
    {
     "name": "stderr",
     "output_type": "stream",
     "text": [
      " 53%|█████▎    | 397/745 [5:51:11<2:41:34, 27.86s/it]"
     ]
    },
    {
     "name": "stdout",
     "output_type": "stream",
     "text": [
      "[TransNetV2] Extracting frames from ../Data/videos\\L26_V310.mp4\n",
      "[TransNetV2] Processing video frames 7300/7303"
     ]
    },
    {
     "name": "stderr",
     "output_type": "stream",
     "text": [
      " 53%|█████▎    | 398/745 [5:51:37<2:37:36, 27.25s/it]"
     ]
    },
    {
     "name": "stdout",
     "output_type": "stream",
     "text": [
      "[TransNetV2] Processing video frames 7303/7303\n",
      "[TransNetV2] Extracting frames from ../Data/videos\\L26_V311.mp4\n",
      "[TransNetV2] Processing video frames 8000/8023"
     ]
    },
    {
     "name": "stderr",
     "output_type": "stream",
     "text": [
      " 54%|█████▎    | 399/745 [5:52:05<2:39:04, 27.58s/it]"
     ]
    },
    {
     "name": "stdout",
     "output_type": "stream",
     "text": [
      "[TransNetV2] Processing video frames 8023/8023\n",
      "[TransNetV2] Extracting frames from ../Data/videos\\L26_V312.mp4\n",
      "[TransNetV2] Processing video frames 8000/8029"
     ]
    },
    {
     "name": "stderr",
     "output_type": "stream",
     "text": [
      " 54%|█████▎    | 400/745 [5:52:33<2:39:51, 27.80s/it]"
     ]
    },
    {
     "name": "stdout",
     "output_type": "stream",
     "text": [
      "[TransNetV2] Processing video frames 8029/8029\n",
      "[TransNetV2] Extracting frames from ../Data/videos\\L26_V313.mp4\n",
      "[TransNetV2] Processing video frames 8000/8087"
     ]
    },
    {
     "name": "stderr",
     "output_type": "stream",
     "text": [
      " 54%|█████▍    | 401/745 [5:53:02<2:40:26, 27.98s/it]"
     ]
    },
    {
     "name": "stdout",
     "output_type": "stream",
     "text": [
      "[TransNetV2] Processing video frames 8087/8087\n",
      "[TransNetV2] Extracting frames from ../Data/videos\\L26_V314.mp4\n",
      "[TransNetV2] Processing video frames 8000/8028"
     ]
    },
    {
     "name": "stderr",
     "output_type": "stream",
     "text": [
      " 54%|█████▍    | 402/745 [5:53:30<2:40:32, 28.08s/it]"
     ]
    },
    {
     "name": "stdout",
     "output_type": "stream",
     "text": [
      "[TransNetV2] Processing video frames 8028/8028\n",
      "[TransNetV2] Extracting frames from ../Data/videos\\L26_V315.mp4\n",
      "[TransNetV2] Processing video frames 7665/7665\n"
     ]
    },
    {
     "name": "stderr",
     "output_type": "stream",
     "text": [
      " 54%|█████▍    | 403/745 [5:53:57<2:38:26, 27.80s/it]"
     ]
    },
    {
     "name": "stdout",
     "output_type": "stream",
     "text": [
      "[TransNetV2] Extracting frames from ../Data/videos\\L26_V316.mp4\n",
      "[TransNetV2] Processing video frames 8100/8113"
     ]
    },
    {
     "name": "stderr",
     "output_type": "stream",
     "text": [
      " 54%|█████▍    | 404/745 [5:54:26<2:39:36, 28.08s/it]"
     ]
    },
    {
     "name": "stdout",
     "output_type": "stream",
     "text": [
      "[TransNetV2] Processing video frames 8113/8113\n",
      "[TransNetV2] Extracting frames from ../Data/videos\\L26_V317.mp4\n",
      "[TransNetV2] Processing video frames 7899/7899\n"
     ]
    },
    {
     "name": "stderr",
     "output_type": "stream",
     "text": [
      " 54%|█████▍    | 405/745 [5:54:54<2:38:31, 27.97s/it]"
     ]
    },
    {
     "name": "stdout",
     "output_type": "stream",
     "text": [
      "[TransNetV2] Extracting frames from ../Data/videos\\L26_V318.mp4\n",
      "[TransNetV2] Processing video frames 7700/7726"
     ]
    },
    {
     "name": "stderr",
     "output_type": "stream",
     "text": [
      " 54%|█████▍    | 406/745 [5:55:21<2:36:59, 27.79s/it]"
     ]
    },
    {
     "name": "stdout",
     "output_type": "stream",
     "text": [
      "[TransNetV2] Processing video frames 7726/7726\n",
      "[TransNetV2] Extracting frames from ../Data/videos\\L26_V319.mp4\n",
      "[TransNetV2] Processing video frames 7700/7715"
     ]
    },
    {
     "name": "stderr",
     "output_type": "stream",
     "text": [
      " 55%|█████▍    | 407/745 [5:55:48<2:35:49, 27.66s/it]"
     ]
    },
    {
     "name": "stdout",
     "output_type": "stream",
     "text": [
      "[TransNetV2] Processing video frames 7715/7715\n",
      "[TransNetV2] Extracting frames from ../Data/videos\\L26_V320.mp4\n",
      "[TransNetV2] Processing video frames 7600/7660"
     ]
    },
    {
     "name": "stderr",
     "output_type": "stream",
     "text": [
      " 55%|█████▍    | 408/745 [5:56:15<2:34:19, 27.48s/it]"
     ]
    },
    {
     "name": "stdout",
     "output_type": "stream",
     "text": [
      "[TransNetV2] Processing video frames 7660/7660\n",
      "[TransNetV2] Extracting frames from ../Data/videos\\L26_V321.mp4\n",
      "[TransNetV2] Processing video frames 7600/7697"
     ]
    },
    {
     "name": "stderr",
     "output_type": "stream",
     "text": [
      " 55%|█████▍    | 409/745 [5:56:42<2:33:05, 27.34s/it]"
     ]
    },
    {
     "name": "stdout",
     "output_type": "stream",
     "text": [
      "[TransNetV2] Processing video frames 7697/7697\n",
      "[TransNetV2] Extracting frames from ../Data/videos\\L26_V322.mp4\n",
      "[TransNetV2] Processing video frames 7600/7681"
     ]
    },
    {
     "name": "stderr",
     "output_type": "stream",
     "text": [
      " 55%|█████▌    | 410/745 [5:57:10<2:32:25, 27.30s/it]"
     ]
    },
    {
     "name": "stdout",
     "output_type": "stream",
     "text": [
      "[TransNetV2] Processing video frames 7681/7681\n",
      "[TransNetV2] Extracting frames from ../Data/videos\\L26_V323.mp4\n",
      "[TransNetV2] Processing video frames 7600/7615"
     ]
    },
    {
     "name": "stderr",
     "output_type": "stream",
     "text": [
      " 55%|█████▌    | 411/745 [5:57:37<2:31:27, 27.21s/it]"
     ]
    },
    {
     "name": "stdout",
     "output_type": "stream",
     "text": [
      "[TransNetV2] Processing video frames 7615/7615\n",
      "[TransNetV2] Extracting frames from ../Data/videos\\L26_V324.mp4\n",
      "[TransNetV2] Processing video frames 7600/7688"
     ]
    },
    {
     "name": "stderr",
     "output_type": "stream",
     "text": [
      " 55%|█████▌    | 412/745 [5:58:04<2:30:46, 27.17s/it]"
     ]
    },
    {
     "name": "stdout",
     "output_type": "stream",
     "text": [
      "[TransNetV2] Processing video frames 7688/7688\n",
      "[TransNetV2] Extracting frames from ../Data/videos\\L26_V325.mp4\n",
      "[TransNetV2] Processing video frames 7700/7709"
     ]
    },
    {
     "name": "stderr",
     "output_type": "stream",
     "text": [
      " 55%|█████▌    | 413/745 [5:58:31<2:30:39, 27.23s/it]"
     ]
    },
    {
     "name": "stdout",
     "output_type": "stream",
     "text": [
      "[TransNetV2] Processing video frames 7709/7709\n",
      "[TransNetV2] Extracting frames from ../Data/videos\\L26_V326.mp4\n",
      "[TransNetV2] Processing video frames 7600/7605"
     ]
    },
    {
     "name": "stderr",
     "output_type": "stream",
     "text": [
      " 56%|█████▌    | 414/745 [5:58:58<2:29:48, 27.15s/it]"
     ]
    },
    {
     "name": "stdout",
     "output_type": "stream",
     "text": [
      "[TransNetV2] Processing video frames 7605/7605\n",
      "[TransNetV2] Extracting frames from ../Data/videos\\L26_V327.mp4\n",
      "[TransNetV2] Processing video frames 7700/7706"
     ]
    },
    {
     "name": "stderr",
     "output_type": "stream",
     "text": [
      " 56%|█████▌    | 415/745 [5:59:25<2:29:35, 27.20s/it]"
     ]
    },
    {
     "name": "stdout",
     "output_type": "stream",
     "text": [
      "[TransNetV2] Processing video frames 7706/7706\n",
      "[TransNetV2] Extracting frames from ../Data/videos\\L26_V328.mp4\n",
      "[TransNetV2] Processing video frames 7700/7730"
     ]
    },
    {
     "name": "stderr",
     "output_type": "stream",
     "text": [
      " 56%|█████▌    | 416/745 [5:59:53<2:29:03, 27.18s/it]"
     ]
    },
    {
     "name": "stdout",
     "output_type": "stream",
     "text": [
      "[TransNetV2] Processing video frames 7730/7730\n",
      "[TransNetV2] Extracting frames from ../Data/videos\\L26_V329.mp4\n",
      "[TransNetV2] Processing video frames 7700/7740"
     ]
    },
    {
     "name": "stderr",
     "output_type": "stream",
     "text": [
      " 56%|█████▌    | 417/745 [6:00:20<2:28:50, 27.23s/it]"
     ]
    },
    {
     "name": "stdout",
     "output_type": "stream",
     "text": [
      "[TransNetV2] Processing video frames 7740/7740\n",
      "[TransNetV2] Extracting frames from ../Data/videos\\L26_V330.mp4\n",
      "[TransNetV2] Processing video frames 7600/7700"
     ]
    },
    {
     "name": "stderr",
     "output_type": "stream",
     "text": [
      " 56%|█████▌    | 418/745 [6:00:47<2:28:14, 27.20s/it]"
     ]
    },
    {
     "name": "stdout",
     "output_type": "stream",
     "text": [
      "[TransNetV2] Processing video frames 7700/7700\n",
      "[TransNetV2] Extracting frames from ../Data/videos\\L26_V331.mp4\n",
      "[TransNetV2] Processing video frames 7600/7608"
     ]
    },
    {
     "name": "stderr",
     "output_type": "stream",
     "text": [
      " 56%|█████▌    | 419/745 [6:01:14<2:26:49, 27.02s/it]"
     ]
    },
    {
     "name": "stdout",
     "output_type": "stream",
     "text": [
      "[TransNetV2] Processing video frames 7608/7608\n",
      "[TransNetV2] Extracting frames from ../Data/videos\\L26_V332.mp4\n",
      "[TransNetV2] Processing video frames 7600/7699"
     ]
    },
    {
     "name": "stderr",
     "output_type": "stream",
     "text": [
      " 56%|█████▋    | 420/745 [6:01:41<2:26:27, 27.04s/it]"
     ]
    },
    {
     "name": "stdout",
     "output_type": "stream",
     "text": [
      "[TransNetV2] Processing video frames 7699/7699\n",
      "[TransNetV2] Extracting frames from ../Data/videos\\L26_V333.mp4\n",
      "[TransNetV2] Processing video frames 7700/7745"
     ]
    },
    {
     "name": "stderr",
     "output_type": "stream",
     "text": [
      " 57%|█████▋    | 421/745 [6:02:08<2:26:24, 27.11s/it]"
     ]
    },
    {
     "name": "stdout",
     "output_type": "stream",
     "text": [
      "[TransNetV2] Processing video frames 7745/7745\n",
      "[TransNetV2] Extracting frames from ../Data/videos\\L26_V334.mp4\n",
      "[TransNetV2] Processing video frames 7700/7723"
     ]
    },
    {
     "name": "stderr",
     "output_type": "stream",
     "text": [
      " 57%|█████▋    | 422/745 [6:02:35<2:26:08, 27.15s/it]"
     ]
    },
    {
     "name": "stdout",
     "output_type": "stream",
     "text": [
      "[TransNetV2] Processing video frames 7723/7723\n",
      "[TransNetV2] Extracting frames from ../Data/videos\\L26_V335.mp4\n",
      "[TransNetV2] Processing video frames 7700/7723"
     ]
    },
    {
     "name": "stderr",
     "output_type": "stream",
     "text": [
      " 57%|█████▋    | 423/745 [6:03:02<2:25:48, 27.17s/it]"
     ]
    },
    {
     "name": "stdout",
     "output_type": "stream",
     "text": [
      "[TransNetV2] Processing video frames 7723/7723\n",
      "[TransNetV2] Extracting frames from ../Data/videos\\L26_V336.mp4\n",
      "[TransNetV2] Processing video frames 7600/7649"
     ]
    },
    {
     "name": "stderr",
     "output_type": "stream",
     "text": [
      " 57%|█████▋    | 424/745 [6:03:29<2:24:53, 27.08s/it]"
     ]
    },
    {
     "name": "stdout",
     "output_type": "stream",
     "text": [
      "[TransNetV2] Processing video frames 7649/7649\n",
      "[TransNetV2] Extracting frames from ../Data/videos\\L26_V337.mp4\n",
      "[TransNetV2] Processing video frames 7600/7646"
     ]
    },
    {
     "name": "stderr",
     "output_type": "stream",
     "text": [
      " 57%|█████▋    | 425/745 [6:03:56<2:24:06, 27.02s/it]"
     ]
    },
    {
     "name": "stdout",
     "output_type": "stream",
     "text": [
      "[TransNetV2] Processing video frames 7646/7646\n",
      "[TransNetV2] Extracting frames from ../Data/videos\\L26_V338.mp4\n",
      "[TransNetV2] Processing video frames 7600/7682"
     ]
    },
    {
     "name": "stderr",
     "output_type": "stream",
     "text": [
      " 57%|█████▋    | 426/745 [6:04:23<2:23:50, 27.06s/it]"
     ]
    },
    {
     "name": "stdout",
     "output_type": "stream",
     "text": [
      "[TransNetV2] Processing video frames 7682/7682\n",
      "[TransNetV2] Extracting frames from ../Data/videos\\L26_V339.mp4\n",
      "[TransNetV2] Processing video frames 7700/7700\n"
     ]
    },
    {
     "name": "stderr",
     "output_type": "stream",
     "text": [
      " 57%|█████▋    | 427/745 [6:04:50<2:23:15, 27.03s/it]"
     ]
    },
    {
     "name": "stdout",
     "output_type": "stream",
     "text": [
      "[TransNetV2] Extracting frames from ../Data/videos\\L26_V340.mp4\n",
      "[TransNetV2] Processing video frames 7700/7727"
     ]
    },
    {
     "name": "stderr",
     "output_type": "stream",
     "text": [
      " 57%|█████▋    | 428/745 [6:05:18<2:23:11, 27.10s/it]"
     ]
    },
    {
     "name": "stdout",
     "output_type": "stream",
     "text": [
      "[TransNetV2] Processing video frames 7727/7727\n",
      "[TransNetV2] Extracting frames from ../Data/videos\\L26_V341.mp4\n",
      "[TransNetV2] Processing video frames 7700/7731"
     ]
    },
    {
     "name": "stderr",
     "output_type": "stream",
     "text": [
      " 58%|█████▊    | 429/745 [6:05:45<2:22:51, 27.12s/it]"
     ]
    },
    {
     "name": "stdout",
     "output_type": "stream",
     "text": [
      "[TransNetV2] Processing video frames 7731/7731\n",
      "[TransNetV2] Extracting frames from ../Data/videos\\L26_V342.mp4\n",
      "[TransNetV2] Processing video frames 7700/7731"
     ]
    },
    {
     "name": "stderr",
     "output_type": "stream",
     "text": [
      " 58%|█████▊    | 430/745 [6:06:12<2:22:32, 27.15s/it]"
     ]
    },
    {
     "name": "stdout",
     "output_type": "stream",
     "text": [
      "[TransNetV2] Processing video frames 7731/7731\n",
      "[TransNetV2] Extracting frames from ../Data/videos\\L26_V343.mp4\n",
      "[TransNetV2] Processing video frames 7700/7738"
     ]
    },
    {
     "name": "stderr",
     "output_type": "stream",
     "text": [
      " 58%|█████▊    | 431/745 [6:06:39<2:22:12, 27.17s/it]"
     ]
    },
    {
     "name": "stdout",
     "output_type": "stream",
     "text": [
      "[TransNetV2] Processing video frames 7738/7738\n",
      "[TransNetV2] Extracting frames from ../Data/videos\\L26_V344.mp4\n",
      "[TransNetV2] Processing video frames 7557/7557\n"
     ]
    },
    {
     "name": "stderr",
     "output_type": "stream",
     "text": [
      " 58%|█████▊    | 432/745 [6:07:06<2:21:14, 27.08s/it]"
     ]
    },
    {
     "name": "stdout",
     "output_type": "stream",
     "text": [
      "[TransNetV2] Extracting frames from ../Data/videos\\L26_V345.mp4\n",
      "[TransNetV2] Processing video frames 7700/7725"
     ]
    },
    {
     "name": "stderr",
     "output_type": "stream",
     "text": [
      " 58%|█████▊    | 433/745 [6:07:34<2:21:24, 27.19s/it]"
     ]
    },
    {
     "name": "stdout",
     "output_type": "stream",
     "text": [
      "[TransNetV2] Processing video frames 7725/7725\n",
      "[TransNetV2] Extracting frames from ../Data/videos\\L26_V346.mp4\n",
      "[TransNetV2] Processing video frames 7700/7713"
     ]
    },
    {
     "name": "stderr",
     "output_type": "stream",
     "text": [
      " 58%|█████▊    | 434/745 [6:08:01<2:21:03, 27.21s/it]"
     ]
    },
    {
     "name": "stdout",
     "output_type": "stream",
     "text": [
      "[TransNetV2] Processing video frames 7713/7713\n",
      "[TransNetV2] Extracting frames from ../Data/videos\\L26_V347.mp4\n",
      "[TransNetV2] Processing video frames 7600/7699"
     ]
    },
    {
     "name": "stderr",
     "output_type": "stream",
     "text": [
      " 58%|█████▊    | 435/745 [6:08:28<2:20:17, 27.15s/it]"
     ]
    },
    {
     "name": "stdout",
     "output_type": "stream",
     "text": [
      "[TransNetV2] Processing video frames 7699/7699\n",
      "[TransNetV2] Extracting frames from ../Data/videos\\L26_V348.mp4\n",
      "[TransNetV2] Processing video frames 7600/7673"
     ]
    },
    {
     "name": "stderr",
     "output_type": "stream",
     "text": [
      " 59%|█████▊    | 436/745 [6:08:55<2:19:34, 27.10s/it]"
     ]
    },
    {
     "name": "stdout",
     "output_type": "stream",
     "text": [
      "[TransNetV2] Processing video frames 7673/7673\n",
      "[TransNetV2] Extracting frames from ../Data/videos\\L26_V349.mp4\n",
      "[TransNetV2] Processing video frames 7700/7702"
     ]
    },
    {
     "name": "stderr",
     "output_type": "stream",
     "text": [
      " 59%|█████▊    | 437/745 [6:09:22<2:19:14, 27.12s/it]"
     ]
    },
    {
     "name": "stdout",
     "output_type": "stream",
     "text": [
      "[TransNetV2] Processing video frames 7702/7702\n",
      "[TransNetV2] Extracting frames from ../Data/videos\\L26_V350.mp4\n",
      "[TransNetV2] Processing video frames 7700/7702"
     ]
    },
    {
     "name": "stderr",
     "output_type": "stream",
     "text": [
      " 59%|█████▉    | 438/745 [6:09:49<2:18:59, 27.17s/it]"
     ]
    },
    {
     "name": "stdout",
     "output_type": "stream",
     "text": [
      "[TransNetV2] Processing video frames 7702/7702\n",
      "[TransNetV2] Extracting frames from ../Data/videos\\L26_V351.mp4\n",
      "[TransNetV2] Processing video frames 7700/7705"
     ]
    },
    {
     "name": "stderr",
     "output_type": "stream",
     "text": [
      " 59%|█████▉    | 439/745 [6:10:16<2:18:24, 27.14s/it]"
     ]
    },
    {
     "name": "stdout",
     "output_type": "stream",
     "text": [
      "[TransNetV2] Processing video frames 7705/7705\n",
      "[TransNetV2] Extracting frames from ../Data/videos\\L26_V352.mp4\n",
      "[TransNetV2] Processing video frames 7700/7731"
     ]
    },
    {
     "name": "stderr",
     "output_type": "stream",
     "text": [
      " 59%|█████▉    | 440/745 [6:10:43<2:18:04, 27.16s/it]"
     ]
    },
    {
     "name": "stdout",
     "output_type": "stream",
     "text": [
      "[TransNetV2] Processing video frames 7731/7731\n",
      "[TransNetV2] Extracting frames from ../Data/videos\\L26_V353.mp4\n",
      "[TransNetV2] Processing video frames 7600/7671"
     ]
    },
    {
     "name": "stderr",
     "output_type": "stream",
     "text": [
      " 59%|█████▉    | 441/745 [6:11:11<2:17:24, 27.12s/it]"
     ]
    },
    {
     "name": "stdout",
     "output_type": "stream",
     "text": [
      "[TransNetV2] Processing video frames 7671/7671\n",
      "[TransNetV2] Extracting frames from ../Data/videos\\L26_V354.mp4\n",
      "[TransNetV2] Processing video frames 7600/7698"
     ]
    },
    {
     "name": "stderr",
     "output_type": "stream",
     "text": [
      " 59%|█████▉    | 442/745 [6:11:38<2:16:59, 27.13s/it]"
     ]
    },
    {
     "name": "stdout",
     "output_type": "stream",
     "text": [
      "[TransNetV2] Processing video frames 7698/7698\n",
      "[TransNetV2] Extracting frames from ../Data/videos\\L26_V355.mp4\n",
      "[TransNetV2] Processing video frames 7600/7664"
     ]
    },
    {
     "name": "stderr",
     "output_type": "stream",
     "text": [
      " 59%|█████▉    | 443/745 [6:12:05<2:16:19, 27.08s/it]"
     ]
    },
    {
     "name": "stdout",
     "output_type": "stream",
     "text": [
      "[TransNetV2] Processing video frames 7664/7664\n",
      "[TransNetV2] Extracting frames from ../Data/videos\\L26_V356.mp4\n",
      "[TransNetV2] Processing video frames 7700/7720"
     ]
    },
    {
     "name": "stderr",
     "output_type": "stream",
     "text": [
      " 60%|█████▉    | 444/745 [6:12:32<2:16:09, 27.14s/it]"
     ]
    },
    {
     "name": "stdout",
     "output_type": "stream",
     "text": [
      "[TransNetV2] Processing video frames 7720/7720\n",
      "[TransNetV2] Extracting frames from ../Data/videos\\L26_V357.mp4\n",
      "[TransNetV2] Processing video frames 7500/7516"
     ]
    },
    {
     "name": "stderr",
     "output_type": "stream",
     "text": [
      " 60%|█████▉    | 445/745 [6:12:58<2:14:47, 26.96s/it]"
     ]
    },
    {
     "name": "stdout",
     "output_type": "stream",
     "text": [
      "[TransNetV2] Processing video frames 7516/7516\n",
      "[TransNetV2] Extracting frames from ../Data/videos\\L26_V358.mp4\n",
      "[TransNetV2] Processing video frames 7600/7687"
     ]
    },
    {
     "name": "stderr",
     "output_type": "stream",
     "text": [
      " 60%|█████▉    | 446/745 [6:13:25<2:14:22, 26.97s/it]"
     ]
    },
    {
     "name": "stdout",
     "output_type": "stream",
     "text": [
      "[TransNetV2] Processing video frames 7687/7687\n",
      "[TransNetV2] Extracting frames from ../Data/videos\\L26_V359.mp4\n",
      "[TransNetV2] Processing video frames 7700/7739"
     ]
    },
    {
     "name": "stderr",
     "output_type": "stream",
     "text": [
      " 60%|██████    | 447/745 [6:13:53<2:14:19, 27.05s/it]"
     ]
    },
    {
     "name": "stdout",
     "output_type": "stream",
     "text": [
      "[TransNetV2] Processing video frames 7739/7739\n",
      "[TransNetV2] Extracting frames from ../Data/videos\\L26_V360.mp4\n",
      "[TransNetV2] Processing video frames 7500/7560"
     ]
    },
    {
     "name": "stderr",
     "output_type": "stream",
     "text": [
      " 60%|██████    | 448/745 [6:14:19<2:13:24, 26.95s/it]"
     ]
    },
    {
     "name": "stdout",
     "output_type": "stream",
     "text": [
      "[TransNetV2] Processing video frames 7560/7560\n",
      "[TransNetV2] Extracting frames from ../Data/videos\\L26_V361.mp4\n",
      "[TransNetV2] Processing video frames 7600/7627"
     ]
    },
    {
     "name": "stderr",
     "output_type": "stream",
     "text": [
      " 60%|██████    | 449/745 [6:14:46<2:12:51, 26.93s/it]"
     ]
    },
    {
     "name": "stdout",
     "output_type": "stream",
     "text": [
      "[TransNetV2] Processing video frames 7627/7627\n",
      "[TransNetV2] Extracting frames from ../Data/videos\\L26_V362.mp4\n",
      "[TransNetV2] Processing video frames 7500/7527"
     ]
    },
    {
     "name": "stderr",
     "output_type": "stream",
     "text": [
      " 60%|██████    | 450/745 [6:15:13<2:12:00, 26.85s/it]"
     ]
    },
    {
     "name": "stdout",
     "output_type": "stream",
     "text": [
      "[TransNetV2] Processing video frames 7527/7527\n",
      "[TransNetV2] Extracting frames from ../Data/videos\\L26_V363.mp4\n",
      "[TransNetV2] Processing video frames 7500/7502"
     ]
    },
    {
     "name": "stderr",
     "output_type": "stream",
     "text": [
      " 61%|██████    | 451/745 [6:15:39<2:10:59, 26.73s/it]"
     ]
    },
    {
     "name": "stdout",
     "output_type": "stream",
     "text": [
      "[TransNetV2] Processing video frames 7502/7502\n",
      "[TransNetV2] Extracting frames from ../Data/videos\\L26_V364.mp4\n",
      "[TransNetV2] Processing video frames 7500/7564"
     ]
    },
    {
     "name": "stderr",
     "output_type": "stream",
     "text": [
      " 61%|██████    | 452/745 [6:16:06<2:10:40, 26.76s/it]"
     ]
    },
    {
     "name": "stdout",
     "output_type": "stream",
     "text": [
      "[TransNetV2] Processing video frames 7564/7564\n",
      "[TransNetV2] Extracting frames from ../Data/videos\\L26_V365.mp4\n",
      "[TransNetV2] Processing video frames 7654/7654\n"
     ]
    },
    {
     "name": "stderr",
     "output_type": "stream",
     "text": [
      " 61%|██████    | 453/745 [6:16:33<2:10:45, 26.87s/it]"
     ]
    },
    {
     "name": "stdout",
     "output_type": "stream",
     "text": [
      "[TransNetV2] Extracting frames from ../Data/videos\\L26_V366.mp4\n",
      "[TransNetV2] Processing video frames 7700/7740"
     ]
    },
    {
     "name": "stderr",
     "output_type": "stream",
     "text": [
      " 61%|██████    | 454/745 [6:17:00<2:10:43, 26.95s/it]"
     ]
    },
    {
     "name": "stdout",
     "output_type": "stream",
     "text": [
      "[TransNetV2] Processing video frames 7740/7740\n",
      "[TransNetV2] Extracting frames from ../Data/videos\\L26_V367.mp4\n",
      "[TransNetV2] Processing video frames 7600/7698"
     ]
    },
    {
     "name": "stderr",
     "output_type": "stream",
     "text": [
      " 61%|██████    | 455/745 [6:17:28<2:10:40, 27.04s/it]"
     ]
    },
    {
     "name": "stdout",
     "output_type": "stream",
     "text": [
      "[TransNetV2] Processing video frames 7698/7698\n",
      "[TransNetV2] Extracting frames from ../Data/videos\\L26_V368.mp4\n",
      "[TransNetV2] Processing video frames 7700/7710"
     ]
    },
    {
     "name": "stderr",
     "output_type": "stream",
     "text": [
      " 61%|██████    | 456/745 [6:17:55<2:10:34, 27.11s/it]"
     ]
    },
    {
     "name": "stdout",
     "output_type": "stream",
     "text": [
      "[TransNetV2] Processing video frames 7710/7710\n",
      "[TransNetV2] Extracting frames from ../Data/videos\\L26_V369.mp4\n",
      "[TransNetV2] Processing video frames 7600/7679"
     ]
    },
    {
     "name": "stderr",
     "output_type": "stream",
     "text": [
      " 61%|██████▏   | 457/745 [6:18:22<2:10:01, 27.09s/it]"
     ]
    },
    {
     "name": "stdout",
     "output_type": "stream",
     "text": [
      "[TransNetV2] Processing video frames 7679/7679\n",
      "[TransNetV2] Extracting frames from ../Data/videos\\L26_V370.mp4\n",
      "[TransNetV2] Processing video frames 7700/7763"
     ]
    },
    {
     "name": "stderr",
     "output_type": "stream",
     "text": [
      " 61%|██████▏   | 458/745 [6:18:49<2:09:54, 27.16s/it]"
     ]
    },
    {
     "name": "stdout",
     "output_type": "stream",
     "text": [
      "[TransNetV2] Processing video frames 7763/7763\n",
      "[TransNetV2] Extracting frames from ../Data/videos\\L26_V371.mp4\n",
      "[TransNetV2] Processing video frames 7600/7671"
     ]
    },
    {
     "name": "stderr",
     "output_type": "stream",
     "text": [
      " 62%|██████▏   | 459/745 [6:19:16<2:09:20, 27.14s/it]"
     ]
    },
    {
     "name": "stdout",
     "output_type": "stream",
     "text": [
      "[TransNetV2] Processing video frames 7671/7671\n",
      "[TransNetV2] Extracting frames from ../Data/videos\\L26_V372.mp4\n",
      "[TransNetV2] Processing video frames 7700/7748"
     ]
    },
    {
     "name": "stderr",
     "output_type": "stream",
     "text": [
      " 62%|██████▏   | 460/745 [6:19:44<2:09:10, 27.19s/it]"
     ]
    },
    {
     "name": "stdout",
     "output_type": "stream",
     "text": [
      "[TransNetV2] Processing video frames 7748/7748\n",
      "[TransNetV2] Extracting frames from ../Data/videos\\L26_V373.mp4\n",
      "[TransNetV2] Processing video frames 7700/7748"
     ]
    },
    {
     "name": "stderr",
     "output_type": "stream",
     "text": [
      " 62%|██████▏   | 461/745 [6:20:11<2:08:29, 27.15s/it]"
     ]
    },
    {
     "name": "stdout",
     "output_type": "stream",
     "text": [
      "[TransNetV2] Processing video frames 7748/7748\n",
      "[TransNetV2] Extracting frames from ../Data/videos\\L26_V374.mp4\n",
      "[TransNetV2] Processing video frames 7600/7691"
     ]
    },
    {
     "name": "stderr",
     "output_type": "stream",
     "text": [
      " 62%|██████▏   | 462/745 [6:20:38<2:07:49, 27.10s/it]"
     ]
    },
    {
     "name": "stdout",
     "output_type": "stream",
     "text": [
      "[TransNetV2] Processing video frames 7691/7691\n",
      "[TransNetV2] Extracting frames from ../Data/videos\\L26_V375.mp4\n",
      "[TransNetV2] Processing video frames 7677/7677\n"
     ]
    },
    {
     "name": "stderr",
     "output_type": "stream",
     "text": [
      " 62%|██████▏   | 463/745 [6:21:05<2:07:15, 27.08s/it]"
     ]
    },
    {
     "name": "stdout",
     "output_type": "stream",
     "text": [
      "[TransNetV2] Extracting frames from ../Data/videos\\L26_V376.mp4\n",
      "[TransNetV2] Processing video frames 7600/7647"
     ]
    },
    {
     "name": "stderr",
     "output_type": "stream",
     "text": [
      " 62%|██████▏   | 464/745 [6:21:32<2:07:07, 27.15s/it]"
     ]
    },
    {
     "name": "stdout",
     "output_type": "stream",
     "text": [
      "[TransNetV2] Processing video frames 7647/7647\n",
      "[TransNetV2] Extracting frames from ../Data/videos\\L26_V377.mp4\n",
      "[TransNetV2] Processing video frames 7685/7685\n"
     ]
    },
    {
     "name": "stderr",
     "output_type": "stream",
     "text": [
      " 62%|██████▏   | 465/745 [6:22:00<2:07:18, 27.28s/it]"
     ]
    },
    {
     "name": "stdout",
     "output_type": "stream",
     "text": [
      "[TransNetV2] Extracting frames from ../Data/videos\\L26_V378.mp4\n",
      "[TransNetV2] Processing video frames 7700/7728"
     ]
    },
    {
     "name": "stderr",
     "output_type": "stream",
     "text": [
      " 63%|██████▎   | 466/745 [6:22:28<2:07:36, 27.44s/it]"
     ]
    },
    {
     "name": "stdout",
     "output_type": "stream",
     "text": [
      "[TransNetV2] Processing video frames 7728/7728\n",
      "[TransNetV2] Extracting frames from ../Data/videos\\L26_V379.mp4\n",
      "[TransNetV2] Processing video frames 7600/7650"
     ]
    },
    {
     "name": "stderr",
     "output_type": "stream",
     "text": [
      " 63%|██████▎   | 467/745 [6:22:55<2:06:45, 27.36s/it]"
     ]
    },
    {
     "name": "stdout",
     "output_type": "stream",
     "text": [
      "[TransNetV2] Processing video frames 7650/7650\n",
      "[TransNetV2] Extracting frames from ../Data/videos\\L26_V380.mp4\n",
      "[TransNetV2] Processing video frames 7600/7648"
     ]
    },
    {
     "name": "stderr",
     "output_type": "stream",
     "text": [
      " 63%|██████▎   | 468/745 [6:23:22<2:05:36, 27.21s/it]"
     ]
    },
    {
     "name": "stdout",
     "output_type": "stream",
     "text": [
      "[TransNetV2] Processing video frames 7648/7648\n",
      "[TransNetV2] Extracting frames from ../Data/videos\\L26_V381.mp4\n",
      "[TransNetV2] Processing video frames 7600/7694"
     ]
    },
    {
     "name": "stderr",
     "output_type": "stream",
     "text": [
      " 63%|██████▎   | 469/745 [6:23:49<2:05:09, 27.21s/it]"
     ]
    },
    {
     "name": "stdout",
     "output_type": "stream",
     "text": [
      "[TransNetV2] Processing video frames 7694/7694\n",
      "[TransNetV2] Extracting frames from ../Data/videos\\L26_V382.mp4\n",
      "[TransNetV2] Processing video frames 7700/7710"
     ]
    },
    {
     "name": "stderr",
     "output_type": "stream",
     "text": [
      " 63%|██████▎   | 470/745 [6:24:16<2:04:42, 27.21s/it]"
     ]
    },
    {
     "name": "stdout",
     "output_type": "stream",
     "text": [
      "[TransNetV2] Processing video frames 7710/7710\n",
      "[TransNetV2] Extracting frames from ../Data/videos\\L26_V383.mp4\n",
      "[TransNetV2] Processing video frames 7600/7672"
     ]
    },
    {
     "name": "stderr",
     "output_type": "stream",
     "text": [
      " 63%|██████▎   | 471/745 [6:24:43<2:04:03, 27.17s/it]"
     ]
    },
    {
     "name": "stdout",
     "output_type": "stream",
     "text": [
      "[TransNetV2] Processing video frames 7672/7672\n",
      "[TransNetV2] Extracting frames from ../Data/videos\\L26_V384.mp4\n",
      "[TransNetV2] Processing video frames 7700/7741"
     ]
    },
    {
     "name": "stderr",
     "output_type": "stream",
     "text": [
      " 63%|██████▎   | 472/745 [6:25:10<2:03:46, 27.20s/it]"
     ]
    },
    {
     "name": "stdout",
     "output_type": "stream",
     "text": [
      "[TransNetV2] Processing video frames 7741/7741\n",
      "[TransNetV2] Extracting frames from ../Data/videos\\L26_V385.mp4\n",
      "[TransNetV2] Processing video frames 7700/7734"
     ]
    },
    {
     "name": "stderr",
     "output_type": "stream",
     "text": [
      " 63%|██████▎   | 473/745 [6:25:38<2:03:27, 27.23s/it]"
     ]
    },
    {
     "name": "stdout",
     "output_type": "stream",
     "text": [
      "[TransNetV2] Processing video frames 7734/7734\n",
      "[TransNetV2] Extracting frames from ../Data/videos\\L26_V386.mp4\n",
      "[TransNetV2] Processing video frames 7600/7694"
     ]
    },
    {
     "name": "stderr",
     "output_type": "stream",
     "text": [
      " 64%|██████▎   | 474/745 [6:26:05<2:02:52, 27.20s/it]"
     ]
    },
    {
     "name": "stdout",
     "output_type": "stream",
     "text": [
      "[TransNetV2] Processing video frames 7694/7694\n",
      "[TransNetV2] Extracting frames from ../Data/videos\\L26_V387.mp4\n",
      "[TransNetV2] Processing video frames 7500/7522"
     ]
    },
    {
     "name": "stderr",
     "output_type": "stream",
     "text": [
      " 64%|██████▍   | 475/745 [6:26:31<2:01:26, 26.99s/it]"
     ]
    },
    {
     "name": "stdout",
     "output_type": "stream",
     "text": [
      "[TransNetV2] Processing video frames 7522/7522\n",
      "[TransNetV2] Extracting frames from ../Data/videos\\L26_V388.mp4\n",
      "[TransNetV2] Processing video frames 7700/7704"
     ]
    },
    {
     "name": "stderr",
     "output_type": "stream",
     "text": [
      " 64%|██████▍   | 476/745 [6:26:58<2:01:15, 27.05s/it]"
     ]
    },
    {
     "name": "stdout",
     "output_type": "stream",
     "text": [
      "[TransNetV2] Processing video frames 7704/7704\n",
      "[TransNetV2] Extracting frames from ../Data/videos\\L26_V389.mp4\n",
      "[TransNetV2] Processing video frames 7600/7648"
     ]
    },
    {
     "name": "stderr",
     "output_type": "stream",
     "text": [
      " 64%|██████▍   | 477/745 [6:27:25<2:00:36, 27.00s/it]"
     ]
    },
    {
     "name": "stdout",
     "output_type": "stream",
     "text": [
      "[TransNetV2] Processing video frames 7648/7648\n",
      "[TransNetV2] Extracting frames from ../Data/videos\\L26_V390.mp4\n",
      "[TransNetV2] Processing video frames 7600/7606"
     ]
    },
    {
     "name": "stderr",
     "output_type": "stream",
     "text": [
      " 64%|██████▍   | 478/745 [6:27:52<2:00:07, 26.99s/it]"
     ]
    },
    {
     "name": "stdout",
     "output_type": "stream",
     "text": [
      "[TransNetV2] Processing video frames 7606/7606\n",
      "[TransNetV2] Extracting frames from ../Data/videos\\L26_V391.mp4\n",
      "[TransNetV2] Processing video frames 7600/7686"
     ]
    },
    {
     "name": "stderr",
     "output_type": "stream",
     "text": [
      " 64%|██████▍   | 479/745 [6:28:19<1:59:50, 27.03s/it]"
     ]
    },
    {
     "name": "stdout",
     "output_type": "stream",
     "text": [
      "[TransNetV2] Processing video frames 7686/7686\n",
      "[TransNetV2] Extracting frames from ../Data/videos\\L26_V392.mp4\n",
      "[TransNetV2] Processing video frames 7600/7673"
     ]
    },
    {
     "name": "stderr",
     "output_type": "stream",
     "text": [
      " 64%|██████▍   | 480/745 [6:28:46<1:59:26, 27.04s/it]"
     ]
    },
    {
     "name": "stdout",
     "output_type": "stream",
     "text": [
      "[TransNetV2] Processing video frames 7673/7673\n",
      "[TransNetV2] Extracting frames from ../Data/videos\\L26_V393.mp4\n",
      "[TransNetV2] Processing video frames 7600/7686"
     ]
    },
    {
     "name": "stderr",
     "output_type": "stream",
     "text": [
      " 65%|██████▍   | 481/745 [6:29:14<1:59:12, 27.09s/it]"
     ]
    },
    {
     "name": "stdout",
     "output_type": "stream",
     "text": [
      "[TransNetV2] Processing video frames 7686/7686\n",
      "[TransNetV2] Extracting frames from ../Data/videos\\L26_V394.mp4\n",
      "[TransNetV2] Processing video frames 7690/7690\n"
     ]
    },
    {
     "name": "stderr",
     "output_type": "stream",
     "text": [
      " 65%|██████▍   | 482/745 [6:29:41<1:58:40, 27.07s/it]"
     ]
    },
    {
     "name": "stdout",
     "output_type": "stream",
     "text": [
      "[TransNetV2] Extracting frames from ../Data/videos\\L26_V395.mp4\n",
      "[TransNetV2] Processing video frames 7600/7671"
     ]
    },
    {
     "name": "stderr",
     "output_type": "stream",
     "text": [
      " 65%|██████▍   | 483/745 [6:30:08<1:58:16, 27.09s/it]"
     ]
    },
    {
     "name": "stdout",
     "output_type": "stream",
     "text": [
      "[TransNetV2] Processing video frames 7671/7671\n",
      "[TransNetV2] Extracting frames from ../Data/videos\\L26_V396.mp4\n",
      "[TransNetV2] Processing video frames 7600/7658"
     ]
    },
    {
     "name": "stderr",
     "output_type": "stream",
     "text": [
      " 65%|██████▍   | 484/745 [6:30:35<1:57:44, 27.07s/it]"
     ]
    },
    {
     "name": "stdout",
     "output_type": "stream",
     "text": [
      "[TransNetV2] Processing video frames 7658/7658\n",
      "[TransNetV2] Extracting frames from ../Data/videos\\L26_V397.mp4\n",
      "[TransNetV2] Processing video frames 7700/7710"
     ]
    },
    {
     "name": "stderr",
     "output_type": "stream",
     "text": [
      " 65%|██████▌   | 485/745 [6:31:02<1:57:28, 27.11s/it]"
     ]
    },
    {
     "name": "stdout",
     "output_type": "stream",
     "text": [
      "[TransNetV2] Processing video frames 7710/7710\n",
      "[TransNetV2] Extracting frames from ../Data/videos\\L26_V398.mp4\n",
      "[TransNetV2] Processing video frames 7700/7747"
     ]
    },
    {
     "name": "stderr",
     "output_type": "stream",
     "text": [
      " 65%|██████▌   | 486/745 [6:31:29<1:57:07, 27.13s/it]"
     ]
    },
    {
     "name": "stdout",
     "output_type": "stream",
     "text": [
      "[TransNetV2] Processing video frames 7747/7747\n",
      "[TransNetV2] Extracting frames from ../Data/videos\\L26_V399.mp4\n",
      "[TransNetV2] Processing video frames 7600/7685"
     ]
    },
    {
     "name": "stderr",
     "output_type": "stream",
     "text": [
      " 65%|██████▌   | 487/745 [6:31:56<1:56:37, 27.12s/it]"
     ]
    },
    {
     "name": "stdout",
     "output_type": "stream",
     "text": [
      "[TransNetV2] Processing video frames 7685/7685\n",
      "[TransNetV2] Extracting frames from ../Data/videos\\L26_V400.mp4\n",
      "[TransNetV2] Processing video frames 7500/7532"
     ]
    },
    {
     "name": "stderr",
     "output_type": "stream",
     "text": [
      " 66%|██████▌   | 488/745 [6:32:23<1:55:28, 26.96s/it]"
     ]
    },
    {
     "name": "stdout",
     "output_type": "stream",
     "text": [
      "[TransNetV2] Processing video frames 7532/7532\n",
      "[TransNetV2] Extracting frames from ../Data/videos\\L26_V401.mp4\n",
      "[TransNetV2] Processing video frames 7700/7711"
     ]
    },
    {
     "name": "stderr",
     "output_type": "stream",
     "text": [
      " 66%|██████▌   | 489/745 [6:32:50<1:55:19, 27.03s/it]"
     ]
    },
    {
     "name": "stdout",
     "output_type": "stream",
     "text": [
      "[TransNetV2] Processing video frames 7711/7711\n",
      "[TransNetV2] Extracting frames from ../Data/videos\\L26_V402.mp4\n",
      "[TransNetV2] Processing video frames 7500/7527"
     ]
    },
    {
     "name": "stderr",
     "output_type": "stream",
     "text": [
      " 66%|██████▌   | 490/745 [6:33:17<1:54:16, 26.89s/it]"
     ]
    },
    {
     "name": "stdout",
     "output_type": "stream",
     "text": [
      "[TransNetV2] Processing video frames 7527/7527\n",
      "[TransNetV2] Extracting frames from ../Data/videos\\L26_V403.mp4\n",
      "[TransNetV2] Processing video frames 7682/7682\n"
     ]
    },
    {
     "name": "stderr",
     "output_type": "stream",
     "text": [
      " 66%|██████▌   | 491/745 [6:33:44<1:54:07, 26.96s/it]"
     ]
    },
    {
     "name": "stdout",
     "output_type": "stream",
     "text": [
      "[TransNetV2] Extracting frames from ../Data/videos\\L26_V404.mp4\n",
      "[TransNetV2] Processing video frames 7700/7726"
     ]
    },
    {
     "name": "stderr",
     "output_type": "stream",
     "text": [
      " 66%|██████▌   | 492/745 [6:34:11<1:54:02, 27.05s/it]"
     ]
    },
    {
     "name": "stdout",
     "output_type": "stream",
     "text": [
      "[TransNetV2] Processing video frames 7726/7726\n",
      "[TransNetV2] Extracting frames from ../Data/videos\\L26_V405.mp4\n",
      "[TransNetV2] Processing video frames 7700/7738"
     ]
    },
    {
     "name": "stderr",
     "output_type": "stream",
     "text": [
      " 66%|██████▌   | 493/745 [6:34:38<1:53:48, 27.10s/it]"
     ]
    },
    {
     "name": "stdout",
     "output_type": "stream",
     "text": [
      "[TransNetV2] Processing video frames 7738/7738\n",
      "[TransNetV2] Extracting frames from ../Data/videos\\L26_V406.mp4\n",
      "[TransNetV2] Processing video frames 7700/7713"
     ]
    },
    {
     "name": "stderr",
     "output_type": "stream",
     "text": [
      " 66%|██████▋   | 494/745 [6:35:05<1:53:23, 27.11s/it]"
     ]
    },
    {
     "name": "stdout",
     "output_type": "stream",
     "text": [
      "[TransNetV2] Processing video frames 7713/7713\n",
      "[TransNetV2] Extracting frames from ../Data/videos\\L26_V407.mp4\n",
      "[TransNetV2] Processing video frames 7700/7728"
     ]
    },
    {
     "name": "stderr",
     "output_type": "stream",
     "text": [
      " 66%|██████▋   | 495/745 [6:35:32<1:52:53, 27.09s/it]"
     ]
    },
    {
     "name": "stdout",
     "output_type": "stream",
     "text": [
      "[TransNetV2] Processing video frames 7728/7728\n",
      "[TransNetV2] Extracting frames from ../Data/videos\\L26_V408.mp4\n",
      "[TransNetV2] Processing video frames 7700/7735"
     ]
    },
    {
     "name": "stderr",
     "output_type": "stream",
     "text": [
      " 67%|██████▋   | 496/745 [6:36:00<1:52:40, 27.15s/it]"
     ]
    },
    {
     "name": "stdout",
     "output_type": "stream",
     "text": [
      "[TransNetV2] Processing video frames 7735/7735\n",
      "[TransNetV2] Extracting frames from ../Data/videos\\L26_V409.mp4\n",
      "[TransNetV2] Processing video frames 7558/7558\n"
     ]
    },
    {
     "name": "stderr",
     "output_type": "stream",
     "text": [
      " 67%|██████▋   | 497/745 [6:36:26<1:51:40, 27.02s/it]"
     ]
    },
    {
     "name": "stdout",
     "output_type": "stream",
     "text": [
      "[TransNetV2] Extracting frames from ../Data/videos\\L26_V410.mp4\n",
      "[TransNetV2] Processing video frames 7600/7681"
     ]
    },
    {
     "name": "stderr",
     "output_type": "stream",
     "text": [
      " 67%|██████▋   | 498/745 [6:36:53<1:51:10, 27.01s/it]"
     ]
    },
    {
     "name": "stdout",
     "output_type": "stream",
     "text": [
      "[TransNetV2] Processing video frames 7681/7681\n",
      "[TransNetV2] Extracting frames from ../Data/videos\\L26_V411.mp4\n",
      "[TransNetV2] Processing video frames 7600/7690"
     ]
    },
    {
     "name": "stderr",
     "output_type": "stream",
     "text": [
      " 67%|██████▋   | 499/745 [6:37:21<1:50:49, 27.03s/it]"
     ]
    },
    {
     "name": "stdout",
     "output_type": "stream",
     "text": [
      "[TransNetV2] Processing video frames 7690/7690\n",
      "[TransNetV2] Extracting frames from ../Data/videos\\L26_V412.mp4\n",
      "[TransNetV2] Processing video frames 7600/7636"
     ]
    },
    {
     "name": "stderr",
     "output_type": "stream",
     "text": [
      " 67%|██████▋   | 500/745 [6:37:48<1:50:19, 27.02s/it]"
     ]
    },
    {
     "name": "stdout",
     "output_type": "stream",
     "text": [
      "[TransNetV2] Processing video frames 7636/7636\n",
      "[TransNetV2] Extracting frames from ../Data/videos\\L26_V413.mp4\n",
      "[TransNetV2] Processing video frames 7200/7287"
     ]
    },
    {
     "name": "stderr",
     "output_type": "stream",
     "text": [
      " 67%|██████▋   | 501/745 [6:38:13<1:48:10, 26.60s/it]"
     ]
    },
    {
     "name": "stdout",
     "output_type": "stream",
     "text": [
      "[TransNetV2] Processing video frames 7287/7287\n",
      "[TransNetV2] Extracting frames from ../Data/videos\\L26_V414.mp4\n",
      "[TransNetV2] Processing video frames 7700/7710"
     ]
    },
    {
     "name": "stderr",
     "output_type": "stream",
     "text": [
      " 67%|██████▋   | 502/745 [6:38:40<1:48:32, 26.80s/it]"
     ]
    },
    {
     "name": "stdout",
     "output_type": "stream",
     "text": [
      "[TransNetV2] Processing video frames 7710/7710\n",
      "[TransNetV2] Extracting frames from ../Data/videos\\L26_V415.mp4\n",
      "[TransNetV2] Processing video frames 7600/7616"
     ]
    },
    {
     "name": "stderr",
     "output_type": "stream",
     "text": [
      " 68%|██████▊   | 503/745 [6:39:07<1:48:12, 26.83s/it]"
     ]
    },
    {
     "name": "stdout",
     "output_type": "stream",
     "text": [
      "[TransNetV2] Processing video frames 7616/7616\n",
      "[TransNetV2] Extracting frames from ../Data/videos\\L26_V416.mp4\n",
      "[TransNetV2] Processing video frames 7700/7725"
     ]
    },
    {
     "name": "stderr",
     "output_type": "stream",
     "text": [
      " 68%|██████▊   | 504/745 [6:39:35<1:48:14, 26.95s/it]"
     ]
    },
    {
     "name": "stdout",
     "output_type": "stream",
     "text": [
      "[TransNetV2] Processing video frames 7725/7725\n",
      "[TransNetV2] Extracting frames from ../Data/videos\\L26_V418.mp4\n",
      "[TransNetV2] Processing video frames 7500/7586"
     ]
    },
    {
     "name": "stderr",
     "output_type": "stream",
     "text": [
      " 68%|██████▊   | 505/745 [6:40:01<1:47:32, 26.89s/it]"
     ]
    },
    {
     "name": "stdout",
     "output_type": "stream",
     "text": [
      "[TransNetV2] Processing video frames 7586/7586\n",
      "[TransNetV2] Extracting frames from ../Data/videos\\L26_V419.mp4\n",
      "[TransNetV2] Processing video frames 7600/7690"
     ]
    },
    {
     "name": "stderr",
     "output_type": "stream",
     "text": [
      " 68%|██████▊   | 506/745 [6:40:28<1:47:09, 26.90s/it]"
     ]
    },
    {
     "name": "stdout",
     "output_type": "stream",
     "text": [
      "[TransNetV2] Processing video frames 7690/7690\n",
      "[TransNetV2] Extracting frames from ../Data/videos\\L26_V420.mp4\n",
      "[TransNetV2] Processing video frames 7600/7657"
     ]
    },
    {
     "name": "stderr",
     "output_type": "stream",
     "text": [
      " 68%|██████▊   | 507/745 [6:40:55<1:47:02, 26.99s/it]"
     ]
    },
    {
     "name": "stdout",
     "output_type": "stream",
     "text": [
      "[TransNetV2] Processing video frames 7657/7657\n",
      "[TransNetV2] Extracting frames from ../Data/videos\\L26_V421.mp4\n",
      "[TransNetV2] Processing video frames 7700/7713"
     ]
    },
    {
     "name": "stderr",
     "output_type": "stream",
     "text": [
      " 68%|██████▊   | 508/745 [6:41:23<1:46:54, 27.07s/it]"
     ]
    },
    {
     "name": "stdout",
     "output_type": "stream",
     "text": [
      "[TransNetV2] Processing video frames 7713/7713\n",
      "[TransNetV2] Extracting frames from ../Data/videos\\L26_V422.mp4\n",
      "[TransNetV2] Processing video frames 7700/7707"
     ]
    },
    {
     "name": "stderr",
     "output_type": "stream",
     "text": [
      " 68%|██████▊   | 509/745 [6:41:50<1:46:47, 27.15s/it]"
     ]
    },
    {
     "name": "stdout",
     "output_type": "stream",
     "text": [
      "[TransNetV2] Processing video frames 7707/7707\n",
      "[TransNetV2] Extracting frames from ../Data/videos\\L26_V423.mp4\n",
      "[TransNetV2] Processing video frames 7500/7518"
     ]
    },
    {
     "name": "stderr",
     "output_type": "stream",
     "text": [
      " 68%|██████▊   | 510/745 [6:42:17<1:45:47, 27.01s/it]"
     ]
    },
    {
     "name": "stdout",
     "output_type": "stream",
     "text": [
      "[TransNetV2] Processing video frames 7518/7518\n",
      "[TransNetV2] Extracting frames from ../Data/videos\\L26_V424.mp4\n",
      "[TransNetV2] Processing video frames 7700/7700\n"
     ]
    },
    {
     "name": "stderr",
     "output_type": "stream",
     "text": [
      " 69%|██████▊   | 511/745 [6:42:44<1:45:25, 27.03s/it]"
     ]
    },
    {
     "name": "stdout",
     "output_type": "stream",
     "text": [
      "[TransNetV2] Extracting frames from ../Data/videos\\L26_V425.mp4\n",
      "[TransNetV2] Processing video frames 7500/7553"
     ]
    },
    {
     "name": "stderr",
     "output_type": "stream",
     "text": [
      " 69%|██████▊   | 512/745 [6:43:10<1:44:34, 26.93s/it]"
     ]
    },
    {
     "name": "stdout",
     "output_type": "stream",
     "text": [
      "[TransNetV2] Processing video frames 7553/7553\n",
      "[TransNetV2] Extracting frames from ../Data/videos\\L26_V426.mp4\n",
      "[TransNetV2] Processing video frames 7700/7718"
     ]
    },
    {
     "name": "stderr",
     "output_type": "stream",
     "text": [
      " 69%|██████▉   | 513/745 [6:43:38<1:44:32, 27.04s/it]"
     ]
    },
    {
     "name": "stdout",
     "output_type": "stream",
     "text": [
      "[TransNetV2] Processing video frames 7718/7718\n",
      "[TransNetV2] Extracting frames from ../Data/videos\\L26_V427.mp4\n",
      "[TransNetV2] Processing video frames 7700/7723"
     ]
    },
    {
     "name": "stderr",
     "output_type": "stream",
     "text": [
      " 69%|██████▉   | 514/745 [6:44:05<1:44:17, 27.09s/it]"
     ]
    },
    {
     "name": "stdout",
     "output_type": "stream",
     "text": [
      "[TransNetV2] Processing video frames 7723/7723\n",
      "[TransNetV2] Extracting frames from ../Data/videos\\L26_V428.mp4\n",
      "[TransNetV2] Processing video frames 8300/8317"
     ]
    },
    {
     "name": "stderr",
     "output_type": "stream",
     "text": [
      " 69%|██████▉   | 515/745 [6:44:34<1:46:16, 27.72s/it]"
     ]
    },
    {
     "name": "stdout",
     "output_type": "stream",
     "text": [
      "[TransNetV2] Processing video frames 8317/8317\n",
      "[TransNetV2] Extracting frames from ../Data/videos\\L26_V429.mp4\n",
      "[TransNetV2] Processing video frames 8300/8362"
     ]
    },
    {
     "name": "stderr",
     "output_type": "stream",
     "text": [
      " 69%|██████▉   | 516/745 [6:45:04<1:47:54, 28.27s/it]"
     ]
    },
    {
     "name": "stdout",
     "output_type": "stream",
     "text": [
      "[TransNetV2] Processing video frames 8362/8362\n",
      "[TransNetV2] Extracting frames from ../Data/videos\\L26_V430.mp4\n",
      "[TransNetV2] Processing video frames 8400/8410"
     ]
    },
    {
     "name": "stderr",
     "output_type": "stream",
     "text": [
      " 69%|██████▉   | 517/745 [6:45:33<1:48:53, 28.65s/it]"
     ]
    },
    {
     "name": "stdout",
     "output_type": "stream",
     "text": [
      "[TransNetV2] Processing video frames 8410/8410\n",
      "[TransNetV2] Extracting frames from ../Data/videos\\L26_V431.mp4\n",
      "[TransNetV2] Processing video frames 8183/8183\n"
     ]
    },
    {
     "name": "stderr",
     "output_type": "stream",
     "text": [
      " 70%|██████▉   | 518/745 [6:46:02<1:48:31, 28.68s/it]"
     ]
    },
    {
     "name": "stdout",
     "output_type": "stream",
     "text": [
      "[TransNetV2] Extracting frames from ../Data/videos\\L26_V432.mp4\n",
      "[TransNetV2] Processing video frames 8100/8151"
     ]
    },
    {
     "name": "stderr",
     "output_type": "stream",
     "text": [
      " 70%|██████▉   | 519/745 [6:46:31<1:48:10, 28.72s/it]"
     ]
    },
    {
     "name": "stdout",
     "output_type": "stream",
     "text": [
      "[TransNetV2] Processing video frames 8151/8151\n",
      "[TransNetV2] Extracting frames from ../Data/videos\\L26_V433.mp4\n",
      "[TransNetV2] Processing video frames 8400/8450"
     ]
    },
    {
     "name": "stderr",
     "output_type": "stream",
     "text": [
      " 70%|██████▉   | 520/745 [6:47:00<1:48:38, 28.97s/it]"
     ]
    },
    {
     "name": "stdout",
     "output_type": "stream",
     "text": [
      "[TransNetV2] Processing video frames 8450/8450\n",
      "[TransNetV2] Extracting frames from ../Data/videos\\L26_V434.mp4\n",
      "[TransNetV2] Processing video frames 8300/8374"
     ]
    },
    {
     "name": "stderr",
     "output_type": "stream",
     "text": [
      " 70%|██████▉   | 521/745 [6:47:30<1:48:39, 29.11s/it]"
     ]
    },
    {
     "name": "stdout",
     "output_type": "stream",
     "text": [
      "[TransNetV2] Processing video frames 8374/8374\n",
      "[TransNetV2] Extracting frames from ../Data/videos\\L26_V435.mp4\n",
      "[TransNetV2] Processing video frames 8478/8478\n"
     ]
    },
    {
     "name": "stderr",
     "output_type": "stream",
     "text": [
      " 70%|███████   | 522/745 [6:48:00<1:48:56, 29.31s/it]"
     ]
    },
    {
     "name": "stdout",
     "output_type": "stream",
     "text": [
      "[TransNetV2] Extracting frames from ../Data/videos\\L26_V436.mp4\n",
      "[TransNetV2] Processing video frames 8300/8315"
     ]
    },
    {
     "name": "stderr",
     "output_type": "stream",
     "text": [
      " 70%|███████   | 523/745 [6:48:29<1:48:30, 29.33s/it]"
     ]
    },
    {
     "name": "stdout",
     "output_type": "stream",
     "text": [
      "[TransNetV2] Processing video frames 8315/8315\n",
      "[TransNetV2] Extracting frames from ../Data/videos\\L26_V437.mp4\n",
      "[TransNetV2] Processing video frames 8100/8142"
     ]
    },
    {
     "name": "stderr",
     "output_type": "stream",
     "text": [
      " 70%|███████   | 524/745 [6:48:58<1:47:11, 29.10s/it]"
     ]
    },
    {
     "name": "stdout",
     "output_type": "stream",
     "text": [
      "[TransNetV2] Processing video frames 8142/8142\n",
      "[TransNetV2] Extracting frames from ../Data/videos\\L26_V438.mp4\n",
      "[TransNetV2] Processing video frames 8000/8099"
     ]
    },
    {
     "name": "stderr",
     "output_type": "stream",
     "text": [
      " 70%|███████   | 525/745 [6:49:26<1:45:55, 28.89s/it]"
     ]
    },
    {
     "name": "stdout",
     "output_type": "stream",
     "text": [
      "[TransNetV2] Processing video frames 8099/8099\n",
      "[TransNetV2] Extracting frames from ../Data/videos\\L26_V439.mp4\n",
      "[TransNetV2] Processing video frames 8300/8367"
     ]
    },
    {
     "name": "stderr",
     "output_type": "stream",
     "text": [
      " 71%|███████   | 526/745 [6:49:55<1:46:03, 29.06s/it]"
     ]
    },
    {
     "name": "stdout",
     "output_type": "stream",
     "text": [
      "[TransNetV2] Processing video frames 8367/8367\n",
      "[TransNetV2] Extracting frames from ../Data/videos\\L26_V440.mp4\n",
      "[TransNetV2] Processing video frames 8400/8434"
     ]
    },
    {
     "name": "stderr",
     "output_type": "stream",
     "text": [
      " 71%|███████   | 527/745 [6:50:25<1:46:15, 29.24s/it]"
     ]
    },
    {
     "name": "stdout",
     "output_type": "stream",
     "text": [
      "[TransNetV2] Processing video frames 8434/8434\n",
      "[TransNetV2] Extracting frames from ../Data/videos\\L26_V441.mp4\n",
      "[TransNetV2] Processing video frames 8000/8082"
     ]
    },
    {
     "name": "stderr",
     "output_type": "stream",
     "text": [
      " 71%|███████   | 528/745 [6:50:54<1:44:55, 29.01s/it]"
     ]
    },
    {
     "name": "stdout",
     "output_type": "stream",
     "text": [
      "[TransNetV2] Processing video frames 8082/8082\n",
      "[TransNetV2] Extracting frames from ../Data/videos\\L26_V442.mp4\n",
      "[TransNetV2] Processing video frames 8400/8421"
     ]
    },
    {
     "name": "stderr",
     "output_type": "stream",
     "text": [
      " 71%|███████   | 529/745 [6:51:23<1:45:02, 29.18s/it]"
     ]
    },
    {
     "name": "stdout",
     "output_type": "stream",
     "text": [
      "[TransNetV2] Processing video frames 8421/8421\n",
      "[TransNetV2] Extracting frames from ../Data/videos\\L26_V443.mp4\n",
      "[TransNetV2] Processing video frames 8353/8353\n"
     ]
    },
    {
     "name": "stderr",
     "output_type": "stream",
     "text": [
      " 71%|███████   | 530/745 [6:51:53<1:44:58, 29.29s/it]"
     ]
    },
    {
     "name": "stdout",
     "output_type": "stream",
     "text": [
      "[TransNetV2] Extracting frames from ../Data/videos\\L26_V444.mp4\n",
      "[TransNetV2] Processing video frames 8200/8241"
     ]
    },
    {
     "name": "stderr",
     "output_type": "stream",
     "text": [
      " 71%|███████▏  | 531/745 [6:52:22<1:44:09, 29.20s/it]"
     ]
    },
    {
     "name": "stdout",
     "output_type": "stream",
     "text": [
      "[TransNetV2] Processing video frames 8241/8241\n",
      "[TransNetV2] Extracting frames from ../Data/videos\\L26_V445.mp4\n",
      "[TransNetV2] Processing video frames 8385/8385\n"
     ]
    },
    {
     "name": "stderr",
     "output_type": "stream",
     "text": [
      " 71%|███████▏  | 532/745 [6:52:51<1:43:56, 29.28s/it]"
     ]
    },
    {
     "name": "stdout",
     "output_type": "stream",
     "text": [
      "[TransNetV2] Extracting frames from ../Data/videos\\L26_V446.mp4\n",
      "[TransNetV2] Processing video frames 8200/8206"
     ]
    },
    {
     "name": "stderr",
     "output_type": "stream",
     "text": [
      " 72%|███████▏  | 533/745 [6:53:20<1:43:01, 29.16s/it]"
     ]
    },
    {
     "name": "stdout",
     "output_type": "stream",
     "text": [
      "[TransNetV2] Processing video frames 8206/8206\n",
      "[TransNetV2] Extracting frames from ../Data/videos\\L26_V447.mp4\n",
      "[TransNetV2] Processing video frames 8000/8018"
     ]
    },
    {
     "name": "stderr",
     "output_type": "stream",
     "text": [
      " 72%|███████▏  | 534/745 [6:53:48<1:41:30, 28.86s/it]"
     ]
    },
    {
     "name": "stdout",
     "output_type": "stream",
     "text": [
      "[TransNetV2] Processing video frames 8018/8018\n",
      "[TransNetV2] Extracting frames from ../Data/videos\\L26_V448.mp4\n",
      "[TransNetV2] Processing video frames 8081/8081\n"
     ]
    },
    {
     "name": "stderr",
     "output_type": "stream",
     "text": [
      " 72%|███████▏  | 535/745 [6:54:17<1:40:40, 28.77s/it]"
     ]
    },
    {
     "name": "stdout",
     "output_type": "stream",
     "text": [
      "[TransNetV2] Extracting frames from ../Data/videos\\L26_V449.mp4\n",
      "[TransNetV2] Processing video frames 8200/8228"
     ]
    },
    {
     "name": "stderr",
     "output_type": "stream",
     "text": [
      " 72%|███████▏  | 536/745 [6:54:46<1:40:25, 28.83s/it]"
     ]
    },
    {
     "name": "stdout",
     "output_type": "stream",
     "text": [
      "[TransNetV2] Processing video frames 8228/8228\n",
      "[TransNetV2] Extracting frames from ../Data/videos\\L26_V450.mp4\n",
      "[TransNetV2] Processing video frames 8400/8446"
     ]
    },
    {
     "name": "stderr",
     "output_type": "stream",
     "text": [
      " 72%|███████▏  | 537/745 [6:55:15<1:40:49, 29.08s/it]"
     ]
    },
    {
     "name": "stdout",
     "output_type": "stream",
     "text": [
      "[TransNetV2] Processing video frames 8446/8446\n",
      "[TransNetV2] Extracting frames from ../Data/videos\\L26_V451.mp4\n",
      "[TransNetV2] Processing video frames 8200/8225"
     ]
    },
    {
     "name": "stderr",
     "output_type": "stream",
     "text": [
      " 72%|███████▏  | 538/745 [6:55:44<1:40:09, 29.03s/it]"
     ]
    },
    {
     "name": "stdout",
     "output_type": "stream",
     "text": [
      "[TransNetV2] Processing video frames 8225/8225\n",
      "[TransNetV2] Extracting frames from ../Data/videos\\L26_V452.mp4\n",
      "[TransNetV2] Processing video frames 8100/8144"
     ]
    },
    {
     "name": "stderr",
     "output_type": "stream",
     "text": [
      " 72%|███████▏  | 539/745 [6:56:13<1:39:09, 28.88s/it]"
     ]
    },
    {
     "name": "stdout",
     "output_type": "stream",
     "text": [
      "[TransNetV2] Processing video frames 8144/8144\n",
      "[TransNetV2] Extracting frames from ../Data/videos\\L26_V453.mp4\n",
      "[TransNetV2] Processing video frames 8400/8426"
     ]
    },
    {
     "name": "stderr",
     "output_type": "stream",
     "text": [
      " 72%|███████▏  | 540/745 [6:56:42<1:39:26, 29.10s/it]"
     ]
    },
    {
     "name": "stdout",
     "output_type": "stream",
     "text": [
      "[TransNetV2] Processing video frames 8426/8426\n",
      "[TransNetV2] Extracting frames from ../Data/videos\\L26_V454.mp4\n",
      "[TransNetV2] Processing video frames 7900/7987"
     ]
    },
    {
     "name": "stderr",
     "output_type": "stream",
     "text": [
      " 73%|███████▎  | 541/745 [6:57:10<1:37:51, 28.78s/it]"
     ]
    },
    {
     "name": "stdout",
     "output_type": "stream",
     "text": [
      "[TransNetV2] Processing video frames 7987/7987\n",
      "[TransNetV2] Extracting frames from ../Data/videos\\L26_V455.mp4\n",
      "[TransNetV2] Processing video frames 8376/8376\n"
     ]
    },
    {
     "name": "stderr",
     "output_type": "stream",
     "text": [
      " 73%|███████▎  | 542/745 [6:57:40<1:38:08, 29.01s/it]"
     ]
    },
    {
     "name": "stdout",
     "output_type": "stream",
     "text": [
      "[TransNetV2] Extracting frames from ../Data/videos\\L26_V456.mp4\n",
      "[TransNetV2] Processing video frames 8300/8327"
     ]
    },
    {
     "name": "stderr",
     "output_type": "stream",
     "text": [
      " 73%|███████▎  | 543/745 [6:58:09<1:37:50, 29.06s/it]"
     ]
    },
    {
     "name": "stdout",
     "output_type": "stream",
     "text": [
      "[TransNetV2] Processing video frames 8327/8327\n",
      "[TransNetV2] Extracting frames from ../Data/videos\\L26_V457.mp4\n",
      "[TransNetV2] Processing video frames 8392/8392\n"
     ]
    },
    {
     "name": "stderr",
     "output_type": "stream",
     "text": [
      " 73%|███████▎  | 544/745 [6:58:39<1:37:47, 29.19s/it]"
     ]
    },
    {
     "name": "stdout",
     "output_type": "stream",
     "text": [
      "[TransNetV2] Extracting frames from ../Data/videos\\L26_V458.mp4\n",
      "[TransNetV2] Processing video frames 7200/7215"
     ]
    },
    {
     "name": "stderr",
     "output_type": "stream",
     "text": [
      " 73%|███████▎  | 545/745 [6:59:04<1:33:38, 28.09s/it]"
     ]
    },
    {
     "name": "stdout",
     "output_type": "stream",
     "text": [
      "[TransNetV2] Processing video frames 7215/7215\n",
      "[TransNetV2] Extracting frames from ../Data/videos\\L26_V459.mp4\n",
      "[TransNetV2] Processing video frames 7400/7429"
     ]
    },
    {
     "name": "stderr",
     "output_type": "stream",
     "text": [
      " 73%|███████▎  | 546/745 [6:59:30<1:31:23, 27.55s/it]"
     ]
    },
    {
     "name": "stdout",
     "output_type": "stream",
     "text": [
      "[TransNetV2] Processing video frames 7429/7429\n",
      "[TransNetV2] Extracting frames from ../Data/videos\\L26_V460.mp4\n",
      "[TransNetV2] Processing video frames 7200/7287"
     ]
    },
    {
     "name": "stderr",
     "output_type": "stream",
     "text": [
      " 73%|███████▎  | 547/745 [6:59:56<1:28:51, 26.93s/it]"
     ]
    },
    {
     "name": "stdout",
     "output_type": "stream",
     "text": [
      "[TransNetV2] Processing video frames 7287/7287\n",
      "[TransNetV2] Extracting frames from ../Data/videos\\L26_V461.mp4\n",
      "[TransNetV2] Processing video frames 7200/7291"
     ]
    },
    {
     "name": "stderr",
     "output_type": "stream",
     "text": [
      " 74%|███████▎  | 548/745 [7:00:22<1:27:15, 26.58s/it]"
     ]
    },
    {
     "name": "stdout",
     "output_type": "stream",
     "text": [
      "[TransNetV2] Processing video frames 7291/7291\n",
      "[TransNetV2] Extracting frames from ../Data/videos\\L26_V462.mp4\n",
      "[TransNetV2] Processing video frames 7500/7558"
     ]
    },
    {
     "name": "stderr",
     "output_type": "stream",
     "text": [
      " 74%|███████▎  | 549/745 [7:00:48<1:26:57, 26.62s/it]"
     ]
    },
    {
     "name": "stdout",
     "output_type": "stream",
     "text": [
      "[TransNetV2] Processing video frames 7558/7558\n",
      "[TransNetV2] Extracting frames from ../Data/videos\\L26_V463.mp4\n",
      "[TransNetV2] Processing video frames 7500/7573"
     ]
    },
    {
     "name": "stderr",
     "output_type": "stream",
     "text": [
      " 74%|███████▍  | 550/745 [7:01:15<1:26:29, 26.61s/it]"
     ]
    },
    {
     "name": "stdout",
     "output_type": "stream",
     "text": [
      "[TransNetV2] Processing video frames 7573/7573\n",
      "[TransNetV2] Extracting frames from ../Data/videos\\L26_V464.mp4\n",
      "[TransNetV2] Processing video frames 7500/7594"
     ]
    },
    {
     "name": "stderr",
     "output_type": "stream",
     "text": [
      " 74%|███████▍  | 551/745 [7:01:42<1:26:10, 26.65s/it]"
     ]
    },
    {
     "name": "stdout",
     "output_type": "stream",
     "text": [
      "[TransNetV2] Processing video frames 7594/7594\n",
      "[TransNetV2] Extracting frames from ../Data/videos\\L26_V465.mp4\n",
      "[TransNetV2] Processing video frames 7600/7648"
     ]
    },
    {
     "name": "stderr",
     "output_type": "stream",
     "text": [
      " 74%|███████▍  | 552/745 [7:02:09<1:25:57, 26.72s/it]"
     ]
    },
    {
     "name": "stdout",
     "output_type": "stream",
     "text": [
      "[TransNetV2] Processing video frames 7648/7648\n",
      "[TransNetV2] Extracting frames from ../Data/videos\\L26_V466.mp4\n",
      "[TransNetV2] Processing video frames 7600/7671"
     ]
    },
    {
     "name": "stderr",
     "output_type": "stream",
     "text": [
      " 74%|███████▍  | 553/745 [7:02:36<1:26:08, 26.92s/it]"
     ]
    },
    {
     "name": "stdout",
     "output_type": "stream",
     "text": [
      "[TransNetV2] Processing video frames 7671/7671\n",
      "[TransNetV2] Extracting frames from ../Data/videos\\L26_V467.mp4\n",
      "[TransNetV2] Processing video frames 7668/7668\n"
     ]
    },
    {
     "name": "stderr",
     "output_type": "stream",
     "text": [
      " 74%|███████▍  | 554/745 [7:03:03<1:25:53, 26.98s/it]"
     ]
    },
    {
     "name": "stdout",
     "output_type": "stream",
     "text": [
      "[TransNetV2] Extracting frames from ../Data/videos\\L26_V468.mp4\n",
      "[TransNetV2] Processing video frames 7700/7714"
     ]
    },
    {
     "name": "stderr",
     "output_type": "stream",
     "text": [
      " 74%|███████▍  | 555/745 [7:03:30<1:25:43, 27.07s/it]"
     ]
    },
    {
     "name": "stdout",
     "output_type": "stream",
     "text": [
      "[TransNetV2] Processing video frames 7714/7714\n",
      "[TransNetV2] Extracting frames from ../Data/videos\\L26_V469.mp4\n",
      "[TransNetV2] Processing video frames 7600/7700"
     ]
    },
    {
     "name": "stderr",
     "output_type": "stream",
     "text": [
      " 75%|███████▍  | 556/745 [7:03:58<1:25:24, 27.11s/it]"
     ]
    },
    {
     "name": "stdout",
     "output_type": "stream",
     "text": [
      "[TransNetV2] Processing video frames 7700/7700\n",
      "[TransNetV2] Extracting frames from ../Data/videos\\L26_V470.mp4\n",
      "[TransNetV2] Processing video frames 7700/7745"
     ]
    },
    {
     "name": "stderr",
     "output_type": "stream",
     "text": [
      " 75%|███████▍  | 557/745 [7:04:25<1:25:06, 27.16s/it]"
     ]
    },
    {
     "name": "stdout",
     "output_type": "stream",
     "text": [
      "[TransNetV2] Processing video frames 7745/7745\n",
      "[TransNetV2] Extracting frames from ../Data/videos\\L26_V471.mp4\n",
      "[TransNetV2] Processing video frames 7700/7734"
     ]
    },
    {
     "name": "stderr",
     "output_type": "stream",
     "text": [
      " 75%|███████▍  | 558/745 [7:04:52<1:24:50, 27.22s/it]"
     ]
    },
    {
     "name": "stdout",
     "output_type": "stream",
     "text": [
      "[TransNetV2] Processing video frames 7734/7734\n",
      "[TransNetV2] Extracting frames from ../Data/videos\\L26_V472.mp4\n",
      "[TransNetV2] Processing video frames 7600/7690"
     ]
    },
    {
     "name": "stderr",
     "output_type": "stream",
     "text": [
      " 75%|███████▌  | 559/745 [7:05:19<1:24:16, 27.18s/it]"
     ]
    },
    {
     "name": "stdout",
     "output_type": "stream",
     "text": [
      "[TransNetV2] Processing video frames 7690/7690\n",
      "[TransNetV2] Extracting frames from ../Data/videos\\L26_V473.mp4\n",
      "[TransNetV2] Processing video frames 7300/7390"
     ]
    },
    {
     "name": "stderr",
     "output_type": "stream",
     "text": [
      " 75%|███████▌  | 560/745 [7:05:45<1:22:46, 26.84s/it]"
     ]
    },
    {
     "name": "stdout",
     "output_type": "stream",
     "text": [
      "[TransNetV2] Processing video frames 7390/7390\n",
      "[TransNetV2] Extracting frames from ../Data/videos\\L26_V474.mp4\n",
      "[TransNetV2] Processing video frames 7600/7662"
     ]
    },
    {
     "name": "stderr",
     "output_type": "stream",
     "text": [
      " 75%|███████▌  | 561/745 [7:06:13<1:22:39, 26.96s/it]"
     ]
    },
    {
     "name": "stdout",
     "output_type": "stream",
     "text": [
      "[TransNetV2] Processing video frames 7662/7662\n",
      "[TransNetV2] Extracting frames from ../Data/videos\\L26_V475.mp4\n",
      "[TransNetV2] Processing video frames 7600/7640"
     ]
    },
    {
     "name": "stderr",
     "output_type": "stream",
     "text": [
      " 75%|███████▌  | 562/745 [7:06:40<1:22:12, 26.96s/it]"
     ]
    },
    {
     "name": "stdout",
     "output_type": "stream",
     "text": [
      "[TransNetV2] Processing video frames 7640/7640\n",
      "[TransNetV2] Extracting frames from ../Data/videos\\L26_V476.mp4\n",
      "[TransNetV2] Processing video frames 7600/7604"
     ]
    },
    {
     "name": "stderr",
     "output_type": "stream",
     "text": [
      " 76%|███████▌  | 563/745 [7:07:07<1:21:50, 26.98s/it]"
     ]
    },
    {
     "name": "stdout",
     "output_type": "stream",
     "text": [
      "[TransNetV2] Processing video frames 7604/7604\n",
      "[TransNetV2] Extracting frames from ../Data/videos\\L26_V477.mp4\n",
      "[TransNetV2] Processing video frames 7600/7664"
     ]
    },
    {
     "name": "stderr",
     "output_type": "stream",
     "text": [
      " 76%|███████▌  | 564/745 [7:07:34<1:21:27, 27.00s/it]"
     ]
    },
    {
     "name": "stdout",
     "output_type": "stream",
     "text": [
      "[TransNetV2] Processing video frames 7664/7664\n",
      "[TransNetV2] Extracting frames from ../Data/videos\\L26_V478.mp4\n",
      "[TransNetV2] Processing video frames 7500/7566"
     ]
    },
    {
     "name": "stderr",
     "output_type": "stream",
     "text": [
      " 76%|███████▌  | 565/745 [7:08:01<1:20:50, 26.94s/it]"
     ]
    },
    {
     "name": "stdout",
     "output_type": "stream",
     "text": [
      "[TransNetV2] Processing video frames 7566/7566\n",
      "[TransNetV2] Extracting frames from ../Data/videos\\L26_V479.mp4\n",
      "[TransNetV2] Processing video frames 7600/7693"
     ]
    },
    {
     "name": "stderr",
     "output_type": "stream",
     "text": [
      " 76%|███████▌  | 566/745 [7:08:28<1:20:37, 27.02s/it]"
     ]
    },
    {
     "name": "stdout",
     "output_type": "stream",
     "text": [
      "[TransNetV2] Processing video frames 7693/7693\n",
      "[TransNetV2] Extracting frames from ../Data/videos\\L26_V480.mp4\n",
      "[TransNetV2] Processing video frames 7600/7665"
     ]
    },
    {
     "name": "stderr",
     "output_type": "stream",
     "text": [
      " 76%|███████▌  | 567/745 [7:08:55<1:20:16, 27.06s/it]"
     ]
    },
    {
     "name": "stdout",
     "output_type": "stream",
     "text": [
      "[TransNetV2] Processing video frames 7665/7665\n",
      "[TransNetV2] Extracting frames from ../Data/videos\\L26_V481.mp4\n",
      "[TransNetV2] Processing video frames 7700/7739"
     ]
    },
    {
     "name": "stderr",
     "output_type": "stream",
     "text": [
      " 76%|███████▌  | 568/745 [7:09:22<1:20:07, 27.16s/it]"
     ]
    },
    {
     "name": "stdout",
     "output_type": "stream",
     "text": [
      "[TransNetV2] Processing video frames 7739/7739\n",
      "[TransNetV2] Extracting frames from ../Data/videos\\L26_V482.mp4\n",
      "[TransNetV2] Processing video frames 7600/7680"
     ]
    },
    {
     "name": "stderr",
     "output_type": "stream",
     "text": [
      " 76%|███████▋  | 569/745 [7:09:49<1:19:43, 27.18s/it]"
     ]
    },
    {
     "name": "stdout",
     "output_type": "stream",
     "text": [
      "[TransNetV2] Processing video frames 7680/7680\n",
      "[TransNetV2] Extracting frames from ../Data/videos\\L26_V483.mp4\n",
      "[TransNetV2] Processing video frames 7700/7739"
     ]
    },
    {
     "name": "stderr",
     "output_type": "stream",
     "text": [
      " 77%|███████▋  | 570/745 [7:10:17<1:19:32, 27.27s/it]"
     ]
    },
    {
     "name": "stdout",
     "output_type": "stream",
     "text": [
      "[TransNetV2] Processing video frames 7739/7739\n",
      "[TransNetV2] Extracting frames from ../Data/videos\\L26_V484.mp4\n",
      "[TransNetV2] Processing video frames 7500/7590"
     ]
    },
    {
     "name": "stderr",
     "output_type": "stream",
     "text": [
      " 77%|███████▋  | 571/745 [7:10:44<1:18:44, 27.15s/it]"
     ]
    },
    {
     "name": "stdout",
     "output_type": "stream",
     "text": [
      "[TransNetV2] Processing video frames 7590/7590\n",
      "[TransNetV2] Extracting frames from ../Data/videos\\L26_V485.mp4\n",
      "[TransNetV2] Processing video frames 7600/7624"
     ]
    },
    {
     "name": "stderr",
     "output_type": "stream",
     "text": [
      " 77%|███████▋  | 572/745 [7:11:11<1:18:03, 27.07s/it]"
     ]
    },
    {
     "name": "stdout",
     "output_type": "stream",
     "text": [
      "[TransNetV2] Processing video frames 7624/7624\n",
      "[TransNetV2] Extracting frames from ../Data/videos\\L26_V486.mp4\n",
      "[TransNetV2] Processing video frames 7600/7697"
     ]
    },
    {
     "name": "stderr",
     "output_type": "stream",
     "text": [
      " 77%|███████▋  | 573/745 [7:11:38<1:17:42, 27.11s/it]"
     ]
    },
    {
     "name": "stdout",
     "output_type": "stream",
     "text": [
      "[TransNetV2] Processing video frames 7697/7697\n",
      "[TransNetV2] Extracting frames from ../Data/videos\\L26_V487.mp4\n",
      "[TransNetV2] Processing video frames 7700/7724"
     ]
    },
    {
     "name": "stderr",
     "output_type": "stream",
     "text": [
      " 77%|███████▋  | 574/745 [7:12:05<1:17:27, 27.18s/it]"
     ]
    },
    {
     "name": "stdout",
     "output_type": "stream",
     "text": [
      "[TransNetV2] Processing video frames 7724/7724\n",
      "[TransNetV2] Extracting frames from ../Data/videos\\L26_V488.mp4\n",
      "[TransNetV2] Processing video frames 7700/7731"
     ]
    },
    {
     "name": "stderr",
     "output_type": "stream",
     "text": [
      " 77%|███████▋  | 575/745 [7:12:33<1:17:07, 27.22s/it]"
     ]
    },
    {
     "name": "stdout",
     "output_type": "stream",
     "text": [
      "[TransNetV2] Processing video frames 7731/7731\n",
      "[TransNetV2] Extracting frames from ../Data/videos\\L26_V489.mp4\n",
      "[TransNetV2] Processing video frames 7400/7409"
     ]
    },
    {
     "name": "stderr",
     "output_type": "stream",
     "text": [
      " 77%|███████▋  | 576/745 [7:12:59<1:15:51, 26.93s/it]"
     ]
    },
    {
     "name": "stdout",
     "output_type": "stream",
     "text": [
      "[TransNetV2] Processing video frames 7409/7409\n",
      "[TransNetV2] Extracting frames from ../Data/videos\\L26_V490.mp4\n",
      "[TransNetV2] Processing video frames 7700/7715"
     ]
    },
    {
     "name": "stderr",
     "output_type": "stream",
     "text": [
      " 77%|███████▋  | 577/745 [7:13:26<1:15:39, 27.02s/it]"
     ]
    },
    {
     "name": "stdout",
     "output_type": "stream",
     "text": [
      "[TransNetV2] Processing video frames 7715/7715\n",
      "[TransNetV2] Extracting frames from ../Data/videos\\L26_V491.mp4\n",
      "[TransNetV2] Processing video frames 7700/7713"
     ]
    },
    {
     "name": "stderr",
     "output_type": "stream",
     "text": [
      " 78%|███████▊  | 578/745 [7:13:53<1:15:30, 27.13s/it]"
     ]
    },
    {
     "name": "stdout",
     "output_type": "stream",
     "text": [
      "[TransNetV2] Processing video frames 7713/7713\n",
      "[TransNetV2] Extracting frames from ../Data/videos\\L26_V492.mp4\n",
      "[TransNetV2] Processing video frames 7700/7721"
     ]
    },
    {
     "name": "stderr",
     "output_type": "stream",
     "text": [
      " 78%|███████▊  | 579/745 [7:14:21<1:15:04, 27.14s/it]"
     ]
    },
    {
     "name": "stdout",
     "output_type": "stream",
     "text": [
      "[TransNetV2] Processing video frames 7721/7721\n",
      "[TransNetV2] Extracting frames from ../Data/videos\\L26_V493.mp4\n",
      "[TransNetV2] Processing video frames 7700/7729"
     ]
    },
    {
     "name": "stderr",
     "output_type": "stream",
     "text": [
      " 78%|███████▊  | 580/745 [7:14:48<1:14:52, 27.23s/it]"
     ]
    },
    {
     "name": "stdout",
     "output_type": "stream",
     "text": [
      "[TransNetV2] Processing video frames 7729/7729\n",
      "[TransNetV2] Extracting frames from ../Data/videos\\L26_V494.mp4\n",
      "[TransNetV2] Processing video frames 7600/7659"
     ]
    },
    {
     "name": "stderr",
     "output_type": "stream",
     "text": [
      " 78%|███████▊  | 581/745 [7:15:15<1:14:15, 27.17s/it]"
     ]
    },
    {
     "name": "stdout",
     "output_type": "stream",
     "text": [
      "[TransNetV2] Processing video frames 7659/7659\n",
      "[TransNetV2] Extracting frames from ../Data/videos\\L26_V495.mp4\n",
      "[TransNetV2] Processing video frames 7700/7741"
     ]
    },
    {
     "name": "stderr",
     "output_type": "stream",
     "text": [
      " 78%|███████▊  | 582/745 [7:15:43<1:14:01, 27.25s/it]"
     ]
    },
    {
     "name": "stdout",
     "output_type": "stream",
     "text": [
      "[TransNetV2] Processing video frames 7741/7741\n",
      "[TransNetV2] Extracting frames from ../Data/videos\\L26_V496.mp4\n",
      "[TransNetV2] Processing video frames 7700/7723"
     ]
    },
    {
     "name": "stderr",
     "output_type": "stream",
     "text": [
      " 78%|███████▊  | 583/745 [7:16:10<1:13:42, 27.30s/it]"
     ]
    },
    {
     "name": "stdout",
     "output_type": "stream",
     "text": [
      "[TransNetV2] Processing video frames 7723/7723\n",
      "[TransNetV2] Extracting frames from ../Data/videos\\L26_V497.mp4\n",
      "[TransNetV2] Processing video frames 7653/7653\n"
     ]
    },
    {
     "name": "stderr",
     "output_type": "stream",
     "text": [
      " 78%|███████▊  | 584/745 [7:16:37<1:13:09, 27.26s/it]"
     ]
    },
    {
     "name": "stdout",
     "output_type": "stream",
     "text": [
      "[TransNetV2] Extracting frames from ../Data/videos\\L26_V498.mp4\n",
      "[TransNetV2] Processing video frames 7600/7636"
     ]
    },
    {
     "name": "stderr",
     "output_type": "stream",
     "text": [
      " 79%|███████▊  | 585/745 [7:17:04<1:12:32, 27.20s/it]"
     ]
    },
    {
     "name": "stdout",
     "output_type": "stream",
     "text": [
      "[TransNetV2] Processing video frames 7636/7636\n",
      "[TransNetV2] Extracting frames from ../Data/videos\\L26_V499.mp4\n",
      "[TransNetV2] Processing video frames 7600/7696"
     ]
    },
    {
     "name": "stderr",
     "output_type": "stream",
     "text": [
      " 79%|███████▊  | 586/745 [7:17:31<1:12:06, 27.21s/it]"
     ]
    },
    {
     "name": "stdout",
     "output_type": "stream",
     "text": [
      "[TransNetV2] Processing video frames 7696/7696\n",
      "[TransNetV2] Extracting frames from ../Data/videos\\L27_V001.mp4\n",
      "[TransNetV2] Processing video frames 14962/14962\n"
     ]
    },
    {
     "name": "stderr",
     "output_type": "stream",
     "text": [
      " 79%|███████▉  | 587/745 [7:18:25<1:32:10, 35.00s/it]"
     ]
    },
    {
     "name": "stdout",
     "output_type": "stream",
     "text": [
      "[TransNetV2] Extracting frames from ../Data/videos\\L27_V002.mp4\n",
      "[TransNetV2] Processing video frames 14688/14688\n"
     ]
    },
    {
     "name": "stderr",
     "output_type": "stream",
     "text": [
      " 79%|███████▉  | 588/745 [7:19:17<1:45:11, 40.20s/it]"
     ]
    },
    {
     "name": "stdout",
     "output_type": "stream",
     "text": [
      "[TransNetV2] Extracting frames from ../Data/videos\\L27_V003.mp4\n",
      "[TransNetV2] Processing video frames 14700/14709"
     ]
    },
    {
     "name": "stderr",
     "output_type": "stream",
     "text": [
      " 79%|███████▉  | 589/745 [7:20:09<1:54:09, 43.91s/it]"
     ]
    },
    {
     "name": "stdout",
     "output_type": "stream",
     "text": [
      "[TransNetV2] Processing video frames 14709/14709\n",
      "[TransNetV2] Extracting frames from ../Data/videos\\L27_V004.mp4\n",
      "[TransNetV2] Processing video frames 15000/15014"
     ]
    },
    {
     "name": "stderr",
     "output_type": "stream",
     "text": [
      " 79%|███████▉  | 590/745 [7:21:03<2:00:53, 46.79s/it]"
     ]
    },
    {
     "name": "stdout",
     "output_type": "stream",
     "text": [
      "[TransNetV2] Processing video frames 15014/15014\n",
      "[TransNetV2] Extracting frames from ../Data/videos\\L27_V005.mp4\n",
      "[TransNetV2] Processing video frames 15100/15148"
     ]
    },
    {
     "name": "stderr",
     "output_type": "stream",
     "text": [
      " 79%|███████▉  | 591/745 [7:21:56<2:05:06, 48.75s/it]"
     ]
    },
    {
     "name": "stdout",
     "output_type": "stream",
     "text": [
      "[TransNetV2] Processing video frames 15148/15148\n",
      "[TransNetV2] Extracting frames from ../Data/videos\\L27_V006.mp4\n",
      "[TransNetV2] Processing video frames 14500/14512"
     ]
    },
    {
     "name": "stderr",
     "output_type": "stream",
     "text": [
      " 79%|███████▉  | 592/745 [7:22:48<2:06:22, 49.56s/it]"
     ]
    },
    {
     "name": "stdout",
     "output_type": "stream",
     "text": [
      "[TransNetV2] Processing video frames 14512/14512\n",
      "[TransNetV2] Extracting frames from ../Data/videos\\L27_V007.mp4\n",
      "[TransNetV2] Processing video frames 15066/15066\n"
     ]
    },
    {
     "name": "stderr",
     "output_type": "stream",
     "text": [
      " 80%|███████▉  | 593/745 [7:23:41<2:08:43, 50.81s/it]"
     ]
    },
    {
     "name": "stdout",
     "output_type": "stream",
     "text": [
      "[TransNetV2] Extracting frames from ../Data/videos\\L27_V008.mp4\n",
      "[TransNetV2] Processing video frames 15000/15037"
     ]
    },
    {
     "name": "stderr",
     "output_type": "stream",
     "text": [
      " 80%|███████▉  | 594/745 [7:24:35<2:09:47, 51.58s/it]"
     ]
    },
    {
     "name": "stdout",
     "output_type": "stream",
     "text": [
      "[TransNetV2] Processing video frames 15037/15037\n",
      "[TransNetV2] Extracting frames from ../Data/videos\\L27_V009.mp4\n",
      "[TransNetV2] Processing video frames 14469/14469\n"
     ]
    },
    {
     "name": "stderr",
     "output_type": "stream",
     "text": [
      " 80%|███████▉  | 595/745 [7:25:26<2:08:35, 51.44s/it]"
     ]
    },
    {
     "name": "stdout",
     "output_type": "stream",
     "text": [
      "[TransNetV2] Extracting frames from ../Data/videos\\L27_V010.mp4\n",
      "[TransNetV2] Processing video frames 14600/14612"
     ]
    },
    {
     "name": "stderr",
     "output_type": "stream",
     "text": [
      " 80%|████████  | 596/745 [7:26:18<2:08:21, 51.69s/it]"
     ]
    },
    {
     "name": "stdout",
     "output_type": "stream",
     "text": [
      "[TransNetV2] Processing video frames 14612/14612\n",
      "[TransNetV2] Extracting frames from ../Data/videos\\L27_V011.mp4\n",
      "[TransNetV2] Processing video frames 14800/14849"
     ]
    },
    {
     "name": "stderr",
     "output_type": "stream",
     "text": [
      " 80%|████████  | 597/745 [7:27:11<2:08:39, 52.16s/it]"
     ]
    },
    {
     "name": "stdout",
     "output_type": "stream",
     "text": [
      "[TransNetV2] Processing video frames 14849/14849\n",
      "[TransNetV2] Extracting frames from ../Data/videos\\L27_V012.mp4\n",
      "[TransNetV2] Processing video frames 15000/15021"
     ]
    },
    {
     "name": "stderr",
     "output_type": "stream",
     "text": [
      " 80%|████████  | 598/745 [7:28:05<2:08:54, 52.62s/it]"
     ]
    },
    {
     "name": "stdout",
     "output_type": "stream",
     "text": [
      "[TransNetV2] Processing video frames 15021/15021\n",
      "[TransNetV2] Extracting frames from ../Data/videos\\L27_V013.mp4\n",
      "[TransNetV2] Processing video frames 14295/14295\n"
     ]
    },
    {
     "name": "stderr",
     "output_type": "stream",
     "text": [
      " 80%|████████  | 599/745 [7:28:56<2:06:52, 52.14s/it]"
     ]
    },
    {
     "name": "stdout",
     "output_type": "stream",
     "text": [
      "[TransNetV2] Extracting frames from ../Data/videos\\L27_V014.mp4\n",
      "[TransNetV2] Processing video frames 14490/14490\n"
     ]
    },
    {
     "name": "stderr",
     "output_type": "stream",
     "text": [
      " 81%|████████  | 600/745 [7:29:48<2:05:35, 51.97s/it]"
     ]
    },
    {
     "name": "stdout",
     "output_type": "stream",
     "text": [
      "[TransNetV2] Extracting frames from ../Data/videos\\L27_V015.mp4\n",
      "[TransNetV2] Processing video frames 14684/14684\n"
     ]
    },
    {
     "name": "stderr",
     "output_type": "stream",
     "text": [
      " 81%|████████  | 601/745 [7:30:40<2:04:48, 52.01s/it]"
     ]
    },
    {
     "name": "stdout",
     "output_type": "stream",
     "text": [
      "[TransNetV2] Extracting frames from ../Data/videos\\L27_V016.mp4\n",
      "[TransNetV2] Processing video frames 14200/14232"
     ]
    },
    {
     "name": "stderr",
     "output_type": "stream",
     "text": [
      " 81%|████████  | 602/745 [7:31:30<2:02:54, 51.57s/it]"
     ]
    },
    {
     "name": "stdout",
     "output_type": "stream",
     "text": [
      "[TransNetV2] Processing video frames 14232/14232\n",
      "[TransNetV2] Extracting frames from ../Data/videos\\L28_V001.mp4\n",
      "[TransNetV2] Processing video frames 31676/31676\n"
     ]
    },
    {
     "name": "stderr",
     "output_type": "stream",
     "text": [
      " 81%|████████  | 603/745 [7:33:23<2:45:06, 69.76s/it]"
     ]
    },
    {
     "name": "stdout",
     "output_type": "stream",
     "text": [
      "[TransNetV2] Extracting frames from ../Data/videos\\L28_V002.mp4\n",
      "[TransNetV2] Processing video frames 28769/28769\n"
     ]
    },
    {
     "name": "stderr",
     "output_type": "stream",
     "text": [
      " 81%|████████  | 604/745 [7:35:04<3:06:13, 79.25s/it]"
     ]
    },
    {
     "name": "stdout",
     "output_type": "stream",
     "text": [
      "[TransNetV2] Extracting frames from ../Data/videos\\L28_V003.mp4\n",
      "[TransNetV2] Processing video frames 28778/28778\n"
     ]
    },
    {
     "name": "stderr",
     "output_type": "stream",
     "text": [
      " 81%|████████  | 605/745 [7:36:46<3:20:33, 85.95s/it]"
     ]
    },
    {
     "name": "stdout",
     "output_type": "stream",
     "text": [
      "[TransNetV2] Extracting frames from ../Data/videos\\L28_V004.mp4\n",
      "[TransNetV2] Processing video frames 28067/28067\n"
     ]
    },
    {
     "name": "stderr",
     "output_type": "stream",
     "text": [
      " 81%|████████▏ | 606/745 [7:38:26<3:28:49, 90.14s/it]"
     ]
    },
    {
     "name": "stdout",
     "output_type": "stream",
     "text": [
      "[TransNetV2] Extracting frames from ../Data/videos\\L28_V005.mp4\n",
      "[TransNetV2] Processing video frames 28175/28175\n"
     ]
    },
    {
     "name": "stderr",
     "output_type": "stream",
     "text": [
      " 81%|████████▏ | 607/745 [7:40:05<3:33:29, 92.83s/it]"
     ]
    },
    {
     "name": "stdout",
     "output_type": "stream",
     "text": [
      "[TransNetV2] Extracting frames from ../Data/videos\\L28_V006.mp4\n",
      "[TransNetV2] Processing video frames 28400/28432"
     ]
    },
    {
     "name": "stderr",
     "output_type": "stream",
     "text": [
      " 82%|████████▏ | 608/745 [7:41:46<3:37:33, 95.28s/it]"
     ]
    },
    {
     "name": "stdout",
     "output_type": "stream",
     "text": [
      "[TransNetV2] Processing video frames 28432/28432\n",
      "[TransNetV2] Extracting frames from ../Data/videos\\L28_V007.mp4\n",
      "[TransNetV2] Processing video frames 28259/28259\n"
     ]
    },
    {
     "name": "stderr",
     "output_type": "stream",
     "text": [
      " 82%|████████▏ | 609/745 [7:43:26<3:39:33, 96.86s/it]"
     ]
    },
    {
     "name": "stdout",
     "output_type": "stream",
     "text": [
      "[TransNetV2] Extracting frames from ../Data/videos\\L28_V008.mp4\n",
      "[TransNetV2] Processing video frames 27961/27961\n"
     ]
    },
    {
     "name": "stderr",
     "output_type": "stream",
     "text": [
      " 82%|████████▏ | 610/745 [7:45:05<3:39:28, 97.54s/it]"
     ]
    },
    {
     "name": "stdout",
     "output_type": "stream",
     "text": [
      "[TransNetV2] Extracting frames from ../Data/videos\\L28_V009.mp4\n",
      "[TransNetV2] Processing video frames 28475/28475\n"
     ]
    },
    {
     "name": "stderr",
     "output_type": "stream",
     "text": [
      " 82%|████████▏ | 611/745 [7:46:46<3:40:06, 98.56s/it]"
     ]
    },
    {
     "name": "stdout",
     "output_type": "stream",
     "text": [
      "[TransNetV2] Extracting frames from ../Data/videos\\L28_V010.mp4\n",
      "[TransNetV2] Processing video frames 28000/28017"
     ]
    },
    {
     "name": "stderr",
     "output_type": "stream",
     "text": [
      " 82%|████████▏ | 612/745 [7:48:26<3:38:58, 98.78s/it]"
     ]
    },
    {
     "name": "stdout",
     "output_type": "stream",
     "text": [
      "[TransNetV2] Processing video frames 28017/28017\n",
      "[TransNetV2] Extracting frames from ../Data/videos\\L28_V011.mp4\n",
      "[TransNetV2] Processing video frames 28500/28520"
     ]
    },
    {
     "name": "stderr",
     "output_type": "stream",
     "text": [
      " 82%|████████▏ | 613/745 [7:50:07<3:39:16, 99.67s/it]"
     ]
    },
    {
     "name": "stdout",
     "output_type": "stream",
     "text": [
      "[TransNetV2] Processing video frames 28520/28520\n",
      "[TransNetV2] Extracting frames from ../Data/videos\\L28_V012.mp4\n",
      "[TransNetV2] Processing video frames 28400/28411"
     ]
    },
    {
     "name": "stderr",
     "output_type": "stream",
     "text": [
      " 82%|████████▏ | 614/745 [7:51:49<3:39:10, 100.38s/it]"
     ]
    },
    {
     "name": "stdout",
     "output_type": "stream",
     "text": [
      "[TransNetV2] Processing video frames 28411/28411\n",
      "[TransNetV2] Extracting frames from ../Data/videos\\L28_V013.mp4\n",
      "[TransNetV2] Processing video frames 28200/28250"
     ]
    },
    {
     "name": "stderr",
     "output_type": "stream",
     "text": [
      " 83%|████████▎ | 615/745 [7:53:29<3:37:19, 100.30s/it]"
     ]
    },
    {
     "name": "stdout",
     "output_type": "stream",
     "text": [
      "[TransNetV2] Processing video frames 28250/28250\n",
      "[TransNetV2] Extracting frames from ../Data/videos\\L28_V014.mp4\n",
      "[TransNetV2] Processing video frames 28285/28285\n"
     ]
    },
    {
     "name": "stderr",
     "output_type": "stream",
     "text": [
      " 83%|████████▎ | 616/745 [7:55:09<3:35:13, 100.11s/it]"
     ]
    },
    {
     "name": "stdout",
     "output_type": "stream",
     "text": [
      "[TransNetV2] Extracting frames from ../Data/videos\\L28_V015.mp4\n",
      "[TransNetV2] Processing video frames 28258/28258\n"
     ]
    },
    {
     "name": "stderr",
     "output_type": "stream",
     "text": [
      " 83%|████████▎ | 617/745 [7:56:50<3:33:49, 100.23s/it]"
     ]
    },
    {
     "name": "stdout",
     "output_type": "stream",
     "text": [
      "[TransNetV2] Extracting frames from ../Data/videos\\L28_V016.mp4\n",
      "[TransNetV2] Processing video frames 29200/29230"
     ]
    },
    {
     "name": "stderr",
     "output_type": "stream",
     "text": [
      " 83%|████████▎ | 618/745 [7:58:33<3:34:27, 101.32s/it]"
     ]
    },
    {
     "name": "stdout",
     "output_type": "stream",
     "text": [
      "[TransNetV2] Processing video frames 29230/29230\n",
      "[TransNetV2] Extracting frames from ../Data/videos\\L28_V017.mp4\n",
      "[TransNetV2] Processing video frames 29254/29254\n"
     ]
    },
    {
     "name": "stderr",
     "output_type": "stream",
     "text": [
      " 83%|████████▎ | 619/745 [8:00:18<3:34:53, 102.33s/it]"
     ]
    },
    {
     "name": "stdout",
     "output_type": "stream",
     "text": [
      "[TransNetV2] Extracting frames from ../Data/videos\\L28_V018.mp4\n",
      "[TransNetV2] Processing video frames 28200/28238"
     ]
    },
    {
     "name": "stderr",
     "output_type": "stream",
     "text": [
      " 83%|████████▎ | 620/745 [8:01:59<3:32:04, 101.79s/it]"
     ]
    },
    {
     "name": "stdout",
     "output_type": "stream",
     "text": [
      "[TransNetV2] Processing video frames 28238/28238\n",
      "[TransNetV2] Extracting frames from ../Data/videos\\L28_V019.mp4\n",
      "[TransNetV2] Processing video frames 28300/28339"
     ]
    },
    {
     "name": "stderr",
     "output_type": "stream",
     "text": [
      " 83%|████████▎ | 621/745 [8:03:40<3:30:05, 101.66s/it]"
     ]
    },
    {
     "name": "stdout",
     "output_type": "stream",
     "text": [
      "[TransNetV2] Processing video frames 28339/28339\n",
      "[TransNetV2] Extracting frames from ../Data/videos\\L28_V020.mp4\n",
      "[TransNetV2] Processing video frames 27465/27465\n"
     ]
    },
    {
     "name": "stderr",
     "output_type": "stream",
     "text": [
      " 83%|████████▎ | 622/745 [8:05:19<3:26:31, 100.74s/it]"
     ]
    },
    {
     "name": "stdout",
     "output_type": "stream",
     "text": [
      "[TransNetV2] Extracting frames from ../Data/videos\\L28_V021.mp4\n",
      "[TransNetV2] Processing video frames 28254/28254\n"
     ]
    },
    {
     "name": "stderr",
     "output_type": "stream",
     "text": [
      " 84%|████████▎ | 623/745 [8:06:59<3:24:36, 100.63s/it]"
     ]
    },
    {
     "name": "stdout",
     "output_type": "stream",
     "text": [
      "[TransNetV2] Extracting frames from ../Data/videos\\L28_V022.mp4\n",
      "[TransNetV2] Processing video frames 27653/27653\n"
     ]
    },
    {
     "name": "stderr",
     "output_type": "stream",
     "text": [
      " 84%|████████▍ | 624/745 [8:08:38<3:21:44, 100.04s/it]"
     ]
    },
    {
     "name": "stdout",
     "output_type": "stream",
     "text": [
      "[TransNetV2] Extracting frames from ../Data/videos\\L28_V023.mp4\n",
      "[TransNetV2] Processing video frames 27353/27353\n"
     ]
    },
    {
     "name": "stderr",
     "output_type": "stream",
     "text": [
      " 84%|████████▍ | 625/745 [8:10:16<3:18:45, 99.38s/it] "
     ]
    },
    {
     "name": "stdout",
     "output_type": "stream",
     "text": [
      "[TransNetV2] Extracting frames from ../Data/videos\\L28_V024.mp4\n",
      "[TransNetV2] Processing video frames 28100/28150"
     ]
    },
    {
     "name": "stderr",
     "output_type": "stream",
     "text": [
      " 84%|████████▍ | 626/745 [8:11:55<3:17:15, 99.46s/it]"
     ]
    },
    {
     "name": "stdout",
     "output_type": "stream",
     "text": [
      "[TransNetV2] Processing video frames 28150/28150\n",
      "[TransNetV2] Extracting frames from ../Data/videos\\L29_V001.mp4\n",
      "[TransNetV2] Processing video frames 27076/27076\n"
     ]
    },
    {
     "name": "stderr",
     "output_type": "stream",
     "text": [
      " 84%|████████▍ | 627/745 [8:13:32<3:13:50, 98.56s/it]"
     ]
    },
    {
     "name": "stdout",
     "output_type": "stream",
     "text": [
      "[TransNetV2] Extracting frames from ../Data/videos\\L29_V002.mp4\n",
      "[TransNetV2] Processing video frames 26177/26177\n"
     ]
    },
    {
     "name": "stderr",
     "output_type": "stream",
     "text": [
      " 84%|████████▍ | 628/745 [8:15:05<3:08:55, 96.88s/it]"
     ]
    },
    {
     "name": "stdout",
     "output_type": "stream",
     "text": [
      "[TransNetV2] Extracting frames from ../Data/videos\\L29_V003.mp4\n",
      "[TransNetV2] Processing video frames 26176/26176\n"
     ]
    },
    {
     "name": "stderr",
     "output_type": "stream",
     "text": [
      " 84%|████████▍ | 629/745 [8:16:38<3:05:18, 95.85s/it]"
     ]
    },
    {
     "name": "stdout",
     "output_type": "stream",
     "text": [
      "[TransNetV2] Extracting frames from ../Data/videos\\L29_V004.mp4\n",
      "[TransNetV2] Processing video frames 26800/26813"
     ]
    },
    {
     "name": "stderr",
     "output_type": "stream",
     "text": [
      " 85%|████████▍ | 630/745 [8:18:14<3:03:30, 95.74s/it]"
     ]
    },
    {
     "name": "stdout",
     "output_type": "stream",
     "text": [
      "[TransNetV2] Processing video frames 26813/26813\n",
      "[TransNetV2] Extracting frames from ../Data/videos\\L29_V005.mp4\n",
      "[TransNetV2] Processing video frames 26700/26721"
     ]
    },
    {
     "name": "stderr",
     "output_type": "stream",
     "text": [
      " 85%|████████▍ | 631/745 [8:19:48<3:01:26, 95.50s/it]"
     ]
    },
    {
     "name": "stdout",
     "output_type": "stream",
     "text": [
      "[TransNetV2] Processing video frames 26721/26721\n",
      "[TransNetV2] Extracting frames from ../Data/videos\\L29_V006.mp4\n",
      "[TransNetV2] Processing video frames 26900/26903"
     ]
    },
    {
     "name": "stderr",
     "output_type": "stream",
     "text": [
      " 85%|████████▍ | 632/745 [8:21:24<2:59:51, 95.50s/it]"
     ]
    },
    {
     "name": "stdout",
     "output_type": "stream",
     "text": [
      "[TransNetV2] Processing video frames 26903/26903\n",
      "[TransNetV2] Extracting frames from ../Data/videos\\L29_V007.mp4\n",
      "[TransNetV2] Processing video frames 26800/26821"
     ]
    },
    {
     "name": "stderr",
     "output_type": "stream",
     "text": [
      " 85%|████████▍ | 633/745 [8:23:00<2:58:19, 95.53s/it]"
     ]
    },
    {
     "name": "stdout",
     "output_type": "stream",
     "text": [
      "[TransNetV2] Processing video frames 26821/26821\n",
      "[TransNetV2] Extracting frames from ../Data/videos\\L29_V008.mp4\n",
      "[TransNetV2] Processing video frames 26500/26538"
     ]
    },
    {
     "name": "stderr",
     "output_type": "stream",
     "text": [
      " 85%|████████▌ | 634/745 [8:24:34<2:55:58, 95.12s/it]"
     ]
    },
    {
     "name": "stdout",
     "output_type": "stream",
     "text": [
      "[TransNetV2] Processing video frames 26538/26538\n",
      "[TransNetV2] Extracting frames from ../Data/videos\\L29_V009.mp4\n",
      "[TransNetV2] Processing video frames 26900/26931"
     ]
    },
    {
     "name": "stderr",
     "output_type": "stream",
     "text": [
      " 85%|████████▌ | 635/745 [8:26:10<2:55:02, 95.48s/it]"
     ]
    },
    {
     "name": "stdout",
     "output_type": "stream",
     "text": [
      "[TransNetV2] Processing video frames 26931/26931\n",
      "[TransNetV2] Extracting frames from ../Data/videos\\L29_V010.mp4\n",
      "[TransNetV2] Processing video frames 26375/26375\n"
     ]
    },
    {
     "name": "stderr",
     "output_type": "stream",
     "text": [
      " 85%|████████▌ | 636/745 [8:27:44<2:52:22, 94.89s/it]"
     ]
    },
    {
     "name": "stdout",
     "output_type": "stream",
     "text": [
      "[TransNetV2] Extracting frames from ../Data/videos\\L29_V011.mp4\n",
      "[TransNetV2] Processing video frames 26893/26893\n"
     ]
    },
    {
     "name": "stderr",
     "output_type": "stream",
     "text": [
      " 86%|████████▌ | 637/745 [8:29:19<2:51:06, 95.06s/it]"
     ]
    },
    {
     "name": "stdout",
     "output_type": "stream",
     "text": [
      "[TransNetV2] Extracting frames from ../Data/videos\\L29_V012.mp4\n",
      "[TransNetV2] Processing video frames 26500/26522"
     ]
    },
    {
     "name": "stderr",
     "output_type": "stream",
     "text": [
      " 86%|████████▌ | 638/745 [8:30:53<2:49:13, 94.89s/it]"
     ]
    },
    {
     "name": "stdout",
     "output_type": "stream",
     "text": [
      "[TransNetV2] Processing video frames 26522/26522\n",
      "[TransNetV2] Extracting frames from ../Data/videos\\L29_V013.mp4\n",
      "[TransNetV2] Processing video frames 26800/26829"
     ]
    },
    {
     "name": "stderr",
     "output_type": "stream",
     "text": [
      " 86%|████████▌ | 639/745 [8:32:30<2:48:20, 95.29s/it]"
     ]
    },
    {
     "name": "stdout",
     "output_type": "stream",
     "text": [
      "[TransNetV2] Processing video frames 26829/26829\n",
      "[TransNetV2] Extracting frames from ../Data/videos\\L29_V014.mp4\n",
      "[TransNetV2] Processing video frames 25662/25662\n"
     ]
    },
    {
     "name": "stderr",
     "output_type": "stream",
     "text": [
      " 86%|████████▌ | 640/745 [8:34:01<2:44:38, 94.08s/it]"
     ]
    },
    {
     "name": "stdout",
     "output_type": "stream",
     "text": [
      "[TransNetV2] Extracting frames from ../Data/videos\\L29_V015.mp4\n",
      "[TransNetV2] Processing video frames 27000/27032"
     ]
    },
    {
     "name": "stderr",
     "output_type": "stream",
     "text": [
      " 86%|████████▌ | 641/745 [8:35:37<2:43:58, 94.60s/it]"
     ]
    },
    {
     "name": "stdout",
     "output_type": "stream",
     "text": [
      "[TransNetV2] Processing video frames 27032/27032\n",
      "[TransNetV2] Extracting frames from ../Data/videos\\L29_V016.mp4\n",
      "[TransNetV2] Processing video frames 26600/26625"
     ]
    },
    {
     "name": "stderr",
     "output_type": "stream",
     "text": [
      " 86%|████████▌ | 642/745 [8:37:11<2:42:15, 94.52s/it]"
     ]
    },
    {
     "name": "stdout",
     "output_type": "stream",
     "text": [
      "[TransNetV2] Processing video frames 26625/26625\n",
      "[TransNetV2] Extracting frames from ../Data/videos\\L29_V017.mp4\n",
      "[TransNetV2] Processing video frames 27069/27069\n"
     ]
    },
    {
     "name": "stderr",
     "output_type": "stream",
     "text": [
      " 86%|████████▋ | 643/745 [8:38:48<2:41:47, 95.17s/it]"
     ]
    },
    {
     "name": "stdout",
     "output_type": "stream",
     "text": [
      "[TransNetV2] Extracting frames from ../Data/videos\\L29_V018.mp4\n",
      "[TransNetV2] Processing video frames 27393/27393\n"
     ]
    },
    {
     "name": "stderr",
     "output_type": "stream",
     "text": [
      " 86%|████████▋ | 644/745 [8:40:24<2:40:58, 95.63s/it]"
     ]
    },
    {
     "name": "stdout",
     "output_type": "stream",
     "text": [
      "[TransNetV2] Extracting frames from ../Data/videos\\L29_V019.mp4\n",
      "[TransNetV2] Processing video frames 26600/26633"
     ]
    },
    {
     "name": "stderr",
     "output_type": "stream",
     "text": [
      " 87%|████████▋ | 645/745 [8:41:59<2:38:49, 95.29s/it]"
     ]
    },
    {
     "name": "stdout",
     "output_type": "stream",
     "text": [
      "[TransNetV2] Processing video frames 26633/26633\n",
      "[TransNetV2] Extracting frames from ../Data/videos\\L29_V020.mp4\n",
      "[TransNetV2] Processing video frames 27200/27218"
     ]
    },
    {
     "name": "stderr",
     "output_type": "stream",
     "text": [
      " 87%|████████▋ | 646/745 [8:43:36<2:37:50, 95.67s/it]"
     ]
    },
    {
     "name": "stdout",
     "output_type": "stream",
     "text": [
      "[TransNetV2] Processing video frames 27218/27218\n",
      "[TransNetV2] Extracting frames from ../Data/videos\\L29_V021.mp4\n",
      "[TransNetV2] Processing video frames 27000/27006"
     ]
    },
    {
     "name": "stderr",
     "output_type": "stream",
     "text": [
      " 87%|████████▋ | 647/745 [8:45:11<2:35:56, 95.47s/it]"
     ]
    },
    {
     "name": "stdout",
     "output_type": "stream",
     "text": [
      "[TransNetV2] Processing video frames 27006/27006\n",
      "[TransNetV2] Extracting frames from ../Data/videos\\L29_V022.mp4\n",
      "[TransNetV2] Processing video frames 27200/27243"
     ]
    },
    {
     "name": "stderr",
     "output_type": "stream",
     "text": [
      " 87%|████████▋ | 648/745 [8:46:48<2:35:16, 96.04s/it]"
     ]
    },
    {
     "name": "stdout",
     "output_type": "stream",
     "text": [
      "[TransNetV2] Processing video frames 27243/27243\n",
      "[TransNetV2] Extracting frames from ../Data/videos\\L29_V023.mp4\n",
      "[TransNetV2] Processing video frames 27057/27057\n"
     ]
    },
    {
     "name": "stderr",
     "output_type": "stream",
     "text": [
      " 87%|████████▋ | 649/745 [8:48:25<2:34:00, 96.26s/it]"
     ]
    },
    {
     "name": "stdout",
     "output_type": "stream",
     "text": [
      "[TransNetV2] Extracting frames from ../Data/videos\\L30_V001.mp4\n",
      "[TransNetV2] Processing video frames 3100/3162"
     ]
    },
    {
     "name": "stderr",
     "output_type": "stream",
     "text": [
      " 87%|████████▋ | 650/745 [8:48:36<1:52:03, 70.78s/it]"
     ]
    },
    {
     "name": "stdout",
     "output_type": "stream",
     "text": [
      "[TransNetV2] Processing video frames 3162/3162\n",
      "[TransNetV2] Extracting frames from ../Data/videos\\L30_V002.mp4\n",
      "[TransNetV2] Processing video frames 4100/4117"
     ]
    },
    {
     "name": "stderr",
     "output_type": "stream",
     "text": [
      " 87%|████████▋ | 651/745 [8:48:51<1:24:29, 53.93s/it]"
     ]
    },
    {
     "name": "stdout",
     "output_type": "stream",
     "text": [
      "[TransNetV2] Processing video frames 4117/4117\n",
      "[TransNetV2] Extracting frames from ../Data/videos\\L30_V003.mp4\n",
      "[TransNetV2] Processing video frames 8000/8092"
     ]
    },
    {
     "name": "stderr",
     "output_type": "stream",
     "text": [
      " 88%|████████▊ | 652/745 [8:49:19<1:11:40, 46.24s/it]"
     ]
    },
    {
     "name": "stdout",
     "output_type": "stream",
     "text": [
      "[TransNetV2] Processing video frames 8092/8092\n",
      "[TransNetV2] Extracting frames from ../Data/videos\\L30_V004.mp4\n",
      "[TransNetV2] Processing video frames 6000/6002"
     ]
    },
    {
     "name": "stderr",
     "output_type": "stream",
     "text": [
      " 88%|████████▊ | 653/745 [8:49:40<59:08, 38.57s/it]  "
     ]
    },
    {
     "name": "stdout",
     "output_type": "stream",
     "text": [
      "[TransNetV2] Processing video frames 6002/6002\n",
      "[TransNetV2] Extracting frames from ../Data/videos\\L30_V005.mp4\n",
      "[TransNetV2] Processing video frames 1600/1659"
     ]
    },
    {
     "name": "stderr",
     "output_type": "stream",
     "text": [
      " 88%|████████▊ | 654/745 [8:49:46<43:43, 28.83s/it]"
     ]
    },
    {
     "name": "stdout",
     "output_type": "stream",
     "text": [
      "[TransNetV2] Processing video frames 1659/1659\n",
      "[TransNetV2] Extracting frames from ../Data/videos\\L30_V006.mp4\n",
      "[TransNetV2] Processing video frames 4600/4660"
     ]
    },
    {
     "name": "stderr",
     "output_type": "stream",
     "text": [
      " 88%|████████▊ | 655/745 [8:50:02<37:40, 25.12s/it]"
     ]
    },
    {
     "name": "stdout",
     "output_type": "stream",
     "text": [
      "[TransNetV2] Processing video frames 4660/4660\n",
      "[TransNetV2] Extracting frames from ../Data/videos\\L30_V007.mp4\n",
      "[TransNetV2] Processing video frames 7700/7795"
     ]
    },
    {
     "name": "stderr",
     "output_type": "stream",
     "text": [
      " 88%|████████▊ | 656/745 [8:50:29<38:10, 25.74s/it]"
     ]
    },
    {
     "name": "stdout",
     "output_type": "stream",
     "text": [
      "[TransNetV2] Processing video frames 7795/7795\n",
      "[TransNetV2] Extracting frames from ../Data/videos\\L30_V008.mp4\n",
      "[TransNetV2] Processing video frames 5100/5132"
     ]
    },
    {
     "name": "stderr",
     "output_type": "stream",
     "text": [
      " 88%|████████▊ | 657/745 [8:50:47<34:21, 23.42s/it]"
     ]
    },
    {
     "name": "stdout",
     "output_type": "stream",
     "text": [
      "[TransNetV2] Processing video frames 5132/5132\n",
      "[TransNetV2] Extracting frames from ../Data/videos\\L30_V009.mp4\n",
      "[TransNetV2] Processing video frames 10500/10542"
     ]
    },
    {
     "name": "stderr",
     "output_type": "stream",
     "text": [
      " 88%|████████▊ | 658/745 [8:51:24<39:32, 27.26s/it]"
     ]
    },
    {
     "name": "stdout",
     "output_type": "stream",
     "text": [
      "[TransNetV2] Processing video frames 10542/10542\n",
      "[TransNetV2] Extracting frames from ../Data/videos\\L30_V010.mp4\n",
      "[TransNetV2] Processing video frames 4100/4143"
     ]
    },
    {
     "name": "stderr",
     "output_type": "stream",
     "text": [
      " 88%|████████▊ | 659/745 [8:51:38<33:37, 23.46s/it]"
     ]
    },
    {
     "name": "stdout",
     "output_type": "stream",
     "text": [
      "[TransNetV2] Processing video frames 4143/4143\n",
      "[TransNetV2] Extracting frames from ../Data/videos\\L30_V011.mp4\n",
      "[TransNetV2] Processing video frames 1800/1882"
     ]
    },
    {
     "name": "stderr",
     "output_type": "stream",
     "text": [
      " 89%|████████▊ | 660/745 [8:51:45<26:08, 18.46s/it]"
     ]
    },
    {
     "name": "stdout",
     "output_type": "stream",
     "text": [
      "[TransNetV2] Processing video frames 1882/1882\n",
      "[TransNetV2] Extracting frames from ../Data/videos\\L30_V012.mp4\n",
      "[TransNetV2] Processing video frames 7995/7995\n"
     ]
    },
    {
     "name": "stderr",
     "output_type": "stream",
     "text": [
      " 89%|████████▊ | 661/745 [8:52:13<29:56, 21.39s/it]"
     ]
    },
    {
     "name": "stdout",
     "output_type": "stream",
     "text": [
      "[TransNetV2] Extracting frames from ../Data/videos\\L30_V013.mp4\n",
      "[TransNetV2] Processing video frames 2000/2036"
     ]
    },
    {
     "name": "stderr",
     "output_type": "stream",
     "text": [
      " 89%|████████▉ | 662/745 [8:52:21<23:45, 17.17s/it]"
     ]
    },
    {
     "name": "stdout",
     "output_type": "stream",
     "text": [
      "[TransNetV2] Processing video frames 2036/2036\n",
      "[TransNetV2] Extracting frames from ../Data/videos\\L30_V014.mp4\n",
      "[TransNetV2] Processing video frames 2800/2858"
     ]
    },
    {
     "name": "stderr",
     "output_type": "stream",
     "text": [
      " 89%|████████▉ | 663/745 [8:52:31<20:36, 15.08s/it]"
     ]
    },
    {
     "name": "stdout",
     "output_type": "stream",
     "text": [
      "[TransNetV2] Processing video frames 2858/2858\n",
      "[TransNetV2] Extracting frames from ../Data/videos\\L30_V015.mp4\n",
      "[TransNetV2] Processing video frames 6788/6788\n"
     ]
    },
    {
     "name": "stderr",
     "output_type": "stream",
     "text": [
      " 89%|████████▉ | 664/745 [8:52:55<24:03, 17.82s/it]"
     ]
    },
    {
     "name": "stdout",
     "output_type": "stream",
     "text": [
      "[TransNetV2] Extracting frames from ../Data/videos\\L30_V016.mp4\n",
      "[TransNetV2] Processing video frames 3400/3455"
     ]
    },
    {
     "name": "stderr",
     "output_type": "stream",
     "text": [
      " 89%|████████▉ | 665/745 [8:53:07<21:30, 16.13s/it]"
     ]
    },
    {
     "name": "stdout",
     "output_type": "stream",
     "text": [
      "[TransNetV2] Processing video frames 3455/3455\n",
      "[TransNetV2] Extracting frames from ../Data/videos\\L30_V017.mp4\n",
      "[TransNetV2] Processing video frames 7200/7265"
     ]
    },
    {
     "name": "stderr",
     "output_type": "stream",
     "text": [
      " 89%|████████▉ | 666/745 [8:53:33<25:03, 19.03s/it]"
     ]
    },
    {
     "name": "stdout",
     "output_type": "stream",
     "text": [
      "[TransNetV2] Processing video frames 7265/7265\n",
      "[TransNetV2] Extracting frames from ../Data/videos\\L30_V018.mp4\n",
      "[TransNetV2] Processing video frames 9400/9448"
     ]
    },
    {
     "name": "stderr",
     "output_type": "stream",
     "text": [
      " 90%|████████▉ | 667/745 [8:54:06<30:03, 23.12s/it]"
     ]
    },
    {
     "name": "stdout",
     "output_type": "stream",
     "text": [
      "[TransNetV2] Processing video frames 9448/9448\n",
      "[TransNetV2] Extracting frames from ../Data/videos\\L30_V019.mp4\n",
      "[TransNetV2] Processing video frames 4300/4386"
     ]
    },
    {
     "name": "stderr",
     "output_type": "stream",
     "text": [
      " 90%|████████▉ | 668/745 [8:54:21<26:42, 20.81s/it]"
     ]
    },
    {
     "name": "stdout",
     "output_type": "stream",
     "text": [
      "[TransNetV2] Processing video frames 4386/4386\n",
      "[TransNetV2] Extracting frames from ../Data/videos\\L30_V020.mp4\n",
      "[TransNetV2] Processing video frames 3500/3526"
     ]
    },
    {
     "name": "stderr",
     "output_type": "stream",
     "text": [
      " 90%|████████▉ | 669/745 [8:54:33<23:10, 18.30s/it]"
     ]
    },
    {
     "name": "stdout",
     "output_type": "stream",
     "text": [
      "[TransNetV2] Processing video frames 3526/3526\n",
      "[TransNetV2] Extracting frames from ../Data/videos\\L30_V021.mp4\n",
      "[TransNetV2] Processing video frames 3100/3153"
     ]
    },
    {
     "name": "stderr",
     "output_type": "stream",
     "text": [
      " 90%|████████▉ | 670/745 [8:54:45<20:13, 16.18s/it]"
     ]
    },
    {
     "name": "stdout",
     "output_type": "stream",
     "text": [
      "[TransNetV2] Processing video frames 3153/3153\n",
      "[TransNetV2] Extracting frames from ../Data/videos\\L30_V022.mp4\n",
      "[TransNetV2] Processing video frames 2900/2914"
     ]
    },
    {
     "name": "stderr",
     "output_type": "stream",
     "text": [
      " 90%|█████████ | 671/745 [8:54:55<17:49, 14.45s/it]"
     ]
    },
    {
     "name": "stdout",
     "output_type": "stream",
     "text": [
      "[TransNetV2] Processing video frames 2914/2914\n",
      "[TransNetV2] Extracting frames from ../Data/videos\\L30_V023.mp4\n",
      "[TransNetV2] Processing video frames 5800/5882"
     ]
    },
    {
     "name": "stderr",
     "output_type": "stream",
     "text": [
      " 90%|█████████ | 672/745 [8:55:16<19:56, 16.38s/it]"
     ]
    },
    {
     "name": "stdout",
     "output_type": "stream",
     "text": [
      "[TransNetV2] Processing video frames 5882/5882\n",
      "[TransNetV2] Extracting frames from ../Data/videos\\L30_V024.mp4\n",
      "[TransNetV2] Processing video frames 3400/3407"
     ]
    },
    {
     "name": "stderr",
     "output_type": "stream",
     "text": [
      " 90%|█████████ | 673/745 [8:55:28<18:03, 15.05s/it]"
     ]
    },
    {
     "name": "stdout",
     "output_type": "stream",
     "text": [
      "[TransNetV2] Processing video frames 3407/3407\n",
      "[TransNetV2] Extracting frames from ../Data/videos\\L30_V025.mp4\n",
      "[TransNetV2] Processing video frames 6100/6189"
     ]
    },
    {
     "name": "stderr",
     "output_type": "stream",
     "text": [
      " 90%|█████████ | 674/745 [8:55:50<20:14, 17.11s/it]"
     ]
    },
    {
     "name": "stdout",
     "output_type": "stream",
     "text": [
      "[TransNetV2] Processing video frames 6189/6189\n",
      "[TransNetV2] Extracting frames from ../Data/videos\\L30_V026.mp4\n",
      "[TransNetV2] Processing video frames 4500/4539"
     ]
    },
    {
     "name": "stderr",
     "output_type": "stream",
     "text": [
      " 91%|█████████ | 675/745 [8:56:06<19:35, 16.79s/it]"
     ]
    },
    {
     "name": "stdout",
     "output_type": "stream",
     "text": [
      "[TransNetV2] Processing video frames 4539/4539\n",
      "[TransNetV2] Extracting frames from ../Data/videos\\L30_V027.mp4\n",
      "[TransNetV2] Processing video frames 8700/8783"
     ]
    },
    {
     "name": "stderr",
     "output_type": "stream",
     "text": [
      " 91%|█████████ | 676/745 [8:56:37<24:13, 21.06s/it]"
     ]
    },
    {
     "name": "stdout",
     "output_type": "stream",
     "text": [
      "[TransNetV2] Processing video frames 8783/8783\n",
      "[TransNetV2] Extracting frames from ../Data/videos\\L30_V028.mp4\n",
      "[TransNetV2] Processing video frames 6100/6123"
     ]
    },
    {
     "name": "stderr",
     "output_type": "stream",
     "text": [
      " 91%|█████████ | 677/745 [8:56:59<24:07, 21.28s/it]"
     ]
    },
    {
     "name": "stdout",
     "output_type": "stream",
     "text": [
      "[TransNetV2] Processing video frames 6123/6123\n",
      "[TransNetV2] Extracting frames from ../Data/videos\\L30_V029.mp4\n",
      "[TransNetV2] Processing video frames 7800/7813"
     ]
    },
    {
     "name": "stderr",
     "output_type": "stream",
     "text": [
      " 91%|█████████ | 678/745 [8:57:26<25:48, 23.12s/it]"
     ]
    },
    {
     "name": "stdout",
     "output_type": "stream",
     "text": [
      "[TransNetV2] Processing video frames 7813/7813\n",
      "[TransNetV2] Extracting frames from ../Data/videos\\L30_V030.mp4\n",
      "[TransNetV2] Processing video frames 8500/8592"
     ]
    },
    {
     "name": "stderr",
     "output_type": "stream",
     "text": [
      " 91%|█████████ | 679/745 [8:57:56<27:42, 25.20s/it]"
     ]
    },
    {
     "name": "stdout",
     "output_type": "stream",
     "text": [
      "[TransNetV2] Processing video frames 8592/8592\n",
      "[TransNetV2] Extracting frames from ../Data/videos\\L30_V031.mp4\n",
      "[TransNetV2] Processing video frames 3400/3499"
     ]
    },
    {
     "name": "stderr",
     "output_type": "stream",
     "text": [
      " 91%|█████████▏| 680/745 [8:58:09<23:10, 21.39s/it]"
     ]
    },
    {
     "name": "stdout",
     "output_type": "stream",
     "text": [
      "[TransNetV2] Processing video frames 3499/3499\n",
      "[TransNetV2] Extracting frames from ../Data/videos\\L30_V032.mp4\n",
      "[TransNetV2] Processing video frames 6200/6258"
     ]
    },
    {
     "name": "stderr",
     "output_type": "stream",
     "text": [
      " 91%|█████████▏| 681/745 [8:58:31<23:01, 21.59s/it]"
     ]
    },
    {
     "name": "stdout",
     "output_type": "stream",
     "text": [
      "[TransNetV2] Processing video frames 6258/6258\n",
      "[TransNetV2] Extracting frames from ../Data/videos\\L30_V033.mp4\n",
      "[TransNetV2] Processing video frames 8500/8579"
     ]
    },
    {
     "name": "stderr",
     "output_type": "stream",
     "text": [
      " 92%|█████████▏| 682/745 [8:59:01<25:28, 24.27s/it]"
     ]
    },
    {
     "name": "stdout",
     "output_type": "stream",
     "text": [
      "[TransNetV2] Processing video frames 8579/8579\n",
      "[TransNetV2] Extracting frames from ../Data/videos\\L30_V034.mp4\n",
      "[TransNetV2] Processing video frames 6600/6630"
     ]
    },
    {
     "name": "stderr",
     "output_type": "stream",
     "text": [
      " 92%|█████████▏| 683/745 [8:59:25<24:47, 23.99s/it]"
     ]
    },
    {
     "name": "stdout",
     "output_type": "stream",
     "text": [
      "[TransNetV2] Processing video frames 6630/6630\n",
      "[TransNetV2] Extracting frames from ../Data/videos\\L30_V035.mp4\n",
      "[TransNetV2] Processing video frames 2000/2006"
     ]
    },
    {
     "name": "stderr",
     "output_type": "stream",
     "text": [
      " 92%|█████████▏| 684/745 [8:59:32<19:19, 19.01s/it]"
     ]
    },
    {
     "name": "stdout",
     "output_type": "stream",
     "text": [
      "[TransNetV2] Processing video frames 2006/2006\n",
      "[TransNetV2] Extracting frames from ../Data/videos\\L30_V036.mp4\n",
      "[TransNetV2] Processing video frames 2000/2081"
     ]
    },
    {
     "name": "stderr",
     "output_type": "stream",
     "text": [
      " 92%|█████████▏| 685/745 [8:59:39<15:33, 15.55s/it]"
     ]
    },
    {
     "name": "stdout",
     "output_type": "stream",
     "text": [
      "[TransNetV2] Processing video frames 2081/2081\n",
      "[TransNetV2] Extracting frames from ../Data/videos\\L30_V037.mp4\n",
      "[TransNetV2] Processing video frames 5400/5463"
     ]
    },
    {
     "name": "stderr",
     "output_type": "stream",
     "text": [
      " 92%|█████████▏| 686/745 [8:59:59<16:22, 16.65s/it]"
     ]
    },
    {
     "name": "stdout",
     "output_type": "stream",
     "text": [
      "[TransNetV2] Processing video frames 5463/5463\n",
      "[TransNetV2] Extracting frames from ../Data/videos\\L30_V038.mp4\n",
      "[TransNetV2] Processing video frames 6300/6314"
     ]
    },
    {
     "name": "stderr",
     "output_type": "stream",
     "text": [
      " 92%|█████████▏| 687/745 [9:00:21<17:46, 18.40s/it]"
     ]
    },
    {
     "name": "stdout",
     "output_type": "stream",
     "text": [
      "[TransNetV2] Processing video frames 6314/6314\n",
      "[TransNetV2] Extracting frames from ../Data/videos\\L30_V039.mp4\n",
      "[TransNetV2] Processing video frames 6800/6819"
     ]
    },
    {
     "name": "stderr",
     "output_type": "stream",
     "text": [
      " 92%|█████████▏| 688/745 [9:00:45<19:04, 20.09s/it]"
     ]
    },
    {
     "name": "stdout",
     "output_type": "stream",
     "text": [
      "[TransNetV2] Processing video frames 6819/6819\n",
      "[TransNetV2] Extracting frames from ../Data/videos\\L30_V040.mp4\n",
      "[TransNetV2] Processing video frames 1600/1628"
     ]
    },
    {
     "name": "stderr",
     "output_type": "stream",
     "text": [
      " 92%|█████████▏| 689/745 [9:00:51<14:45, 15.81s/it]"
     ]
    },
    {
     "name": "stdout",
     "output_type": "stream",
     "text": [
      "[TransNetV2] Processing video frames 1628/1628\n",
      "[TransNetV2] Extracting frames from ../Data/videos\\L30_V041.mp4\n",
      "[TransNetV2] Processing video frames 2100/2103"
     ]
    },
    {
     "name": "stderr",
     "output_type": "stream",
     "text": [
      " 93%|█████████▎| 690/745 [9:00:58<12:11, 13.31s/it]"
     ]
    },
    {
     "name": "stdout",
     "output_type": "stream",
     "text": [
      "[TransNetV2] Processing video frames 2103/2103\n",
      "[TransNetV2] Extracting frames from ../Data/videos\\L30_V042.mp4\n",
      "[TransNetV2] Processing video frames 2700/2785"
     ]
    },
    {
     "name": "stderr",
     "output_type": "stream",
     "text": [
      " 93%|█████████▎| 691/745 [9:01:08<11:02, 12.27s/it]"
     ]
    },
    {
     "name": "stdout",
     "output_type": "stream",
     "text": [
      "[TransNetV2] Processing video frames 2785/2785\n",
      "[TransNetV2] Extracting frames from ../Data/videos\\L30_V043.mp4\n",
      "[TransNetV2] Processing video frames 4600/4617"
     ]
    },
    {
     "name": "stderr",
     "output_type": "stream",
     "text": [
      " 93%|█████████▎| 692/745 [9:01:25<11:56, 13.52s/it]"
     ]
    },
    {
     "name": "stdout",
     "output_type": "stream",
     "text": [
      "[TransNetV2] Processing video frames 4617/4617\n",
      "[TransNetV2] Extracting frames from ../Data/videos\\L30_V044.mp4\n",
      "[TransNetV2] Processing video frames 3300/3318"
     ]
    },
    {
     "name": "stderr",
     "output_type": "stream",
     "text": [
      " 93%|█████████▎| 693/745 [9:01:37<11:17, 13.03s/it]"
     ]
    },
    {
     "name": "stdout",
     "output_type": "stream",
     "text": [
      "[TransNetV2] Processing video frames 3318/3318\n",
      "[TransNetV2] Extracting frames from ../Data/videos\\L30_V045.mp4\n",
      "[TransNetV2] Processing video frames 8100/8198"
     ]
    },
    {
     "name": "stderr",
     "output_type": "stream",
     "text": [
      " 93%|█████████▎| 694/745 [9:02:05<15:02, 17.69s/it]"
     ]
    },
    {
     "name": "stdout",
     "output_type": "stream",
     "text": [
      "[TransNetV2] Processing video frames 8198/8198\n",
      "[TransNetV2] Extracting frames from ../Data/videos\\L30_V046.mp4\n",
      "[TransNetV2] Processing video frames 6900/6932"
     ]
    },
    {
     "name": "stderr",
     "output_type": "stream",
     "text": [
      " 93%|█████████▎| 695/745 [9:02:30<16:29, 19.78s/it]"
     ]
    },
    {
     "name": "stdout",
     "output_type": "stream",
     "text": [
      "[TransNetV2] Processing video frames 6932/6932\n",
      "[TransNetV2] Extracting frames from ../Data/videos\\L30_V047.mp4\n",
      "[TransNetV2] Processing video frames 7100/7189"
     ]
    },
    {
     "name": "stderr",
     "output_type": "stream",
     "text": [
      " 93%|█████████▎| 696/745 [9:02:56<17:42, 21.68s/it]"
     ]
    },
    {
     "name": "stdout",
     "output_type": "stream",
     "text": [
      "[TransNetV2] Processing video frames 7189/7189\n",
      "[TransNetV2] Extracting frames from ../Data/videos\\L30_V048.mp4\n",
      "[TransNetV2] Processing video frames 9990/9990\n"
     ]
    },
    {
     "name": "stderr",
     "output_type": "stream",
     "text": [
      " 94%|█████████▎| 697/745 [9:03:32<20:52, 26.08s/it]"
     ]
    },
    {
     "name": "stdout",
     "output_type": "stream",
     "text": [
      "[TransNetV2] Extracting frames from ../Data/videos\\L30_V049.mp4\n",
      "[TransNetV2] Processing video frames 4500/4532"
     ]
    },
    {
     "name": "stderr",
     "output_type": "stream",
     "text": [
      " 94%|█████████▎| 698/745 [9:03:49<18:09, 23.18s/it]"
     ]
    },
    {
     "name": "stdout",
     "output_type": "stream",
     "text": [
      "[TransNetV2] Processing video frames 4532/4532\n",
      "[TransNetV2] Extracting frames from ../Data/videos\\L30_V050.mp4\n",
      "[TransNetV2] Processing video frames 3500/3551"
     ]
    },
    {
     "name": "stderr",
     "output_type": "stream",
     "text": [
      " 94%|█████████▍| 699/745 [9:04:01<15:20, 20.02s/it]"
     ]
    },
    {
     "name": "stdout",
     "output_type": "stream",
     "text": [
      "[TransNetV2] Processing video frames 3551/3551\n",
      "[TransNetV2] Extracting frames from ../Data/videos\\L30_V051.mp4\n",
      "[TransNetV2] Processing video frames 4600/4669"
     ]
    },
    {
     "name": "stderr",
     "output_type": "stream",
     "text": [
      " 94%|█████████▍| 700/745 [9:04:18<14:12, 18.94s/it]"
     ]
    },
    {
     "name": "stdout",
     "output_type": "stream",
     "text": [
      "[TransNetV2] Processing video frames 4669/4669\n",
      "[TransNetV2] Extracting frames from ../Data/videos\\L30_V052.mp4\n",
      "[TransNetV2] Processing video frames 7300/7317"
     ]
    },
    {
     "name": "stderr",
     "output_type": "stream",
     "text": [
      " 94%|█████████▍| 701/745 [9:04:43<15:19, 20.89s/it]"
     ]
    },
    {
     "name": "stdout",
     "output_type": "stream",
     "text": [
      "[TransNetV2] Processing video frames 7317/7317\n",
      "[TransNetV2] Extracting frames from ../Data/videos\\L30_V053.mp4\n",
      "[TransNetV2] Processing video frames 7600/7608"
     ]
    },
    {
     "name": "stderr",
     "output_type": "stream",
     "text": [
      " 94%|█████████▍| 702/745 [9:05:10<16:15, 22.69s/it]"
     ]
    },
    {
     "name": "stdout",
     "output_type": "stream",
     "text": [
      "[TransNetV2] Processing video frames 7608/7608\n",
      "[TransNetV2] Extracting frames from ../Data/videos\\L30_V054.mp4\n",
      "[TransNetV2] Processing video frames 9100/9148"
     ]
    },
    {
     "name": "stderr",
     "output_type": "stream",
     "text": [
      " 94%|█████████▍| 703/745 [9:05:42<17:44, 25.33s/it]"
     ]
    },
    {
     "name": "stdout",
     "output_type": "stream",
     "text": [
      "[TransNetV2] Processing video frames 9148/9148\n",
      "[TransNetV2] Extracting frames from ../Data/videos\\L30_V055.mp4\n",
      "[TransNetV2] Processing video frames 5400/5405"
     ]
    },
    {
     "name": "stderr",
     "output_type": "stream",
     "text": [
      " 94%|█████████▍| 704/745 [9:06:01<16:04, 23.53s/it]"
     ]
    },
    {
     "name": "stdout",
     "output_type": "stream",
     "text": [
      "[TransNetV2] Processing video frames 5405/5405\n",
      "[TransNetV2] Extracting frames from ../Data/videos\\L30_V056.mp4\n",
      "[TransNetV2] Processing video frames 7500/7507"
     ]
    },
    {
     "name": "stderr",
     "output_type": "stream",
     "text": [
      " 95%|█████████▍| 705/745 [9:06:28<16:17, 24.44s/it]"
     ]
    },
    {
     "name": "stdout",
     "output_type": "stream",
     "text": [
      "[TransNetV2] Processing video frames 7507/7507\n",
      "[TransNetV2] Extracting frames from ../Data/videos\\L30_V057.mp4\n",
      "[TransNetV2] Processing video frames 4600/4665"
     ]
    },
    {
     "name": "stderr",
     "output_type": "stream",
     "text": [
      " 95%|█████████▍| 706/745 [9:06:44<14:15, 21.94s/it]"
     ]
    },
    {
     "name": "stdout",
     "output_type": "stream",
     "text": [
      "[TransNetV2] Processing video frames 4665/4665\n",
      "[TransNetV2] Extracting frames from ../Data/videos\\L30_V058.mp4\n",
      "[TransNetV2] Processing video frames 2900/2968"
     ]
    },
    {
     "name": "stderr",
     "output_type": "stream",
     "text": [
      " 95%|█████████▍| 707/745 [9:06:54<11:45, 18.57s/it]"
     ]
    },
    {
     "name": "stdout",
     "output_type": "stream",
     "text": [
      "[TransNetV2] Processing video frames 2968/2968\n",
      "[TransNetV2] Extracting frames from ../Data/videos\\L30_V059.mp4\n",
      "[TransNetV2] Processing video frames 5300/5393"
     ]
    },
    {
     "name": "stderr",
     "output_type": "stream",
     "text": [
      " 95%|█████████▌| 708/745 [9:07:13<11:31, 18.70s/it]"
     ]
    },
    {
     "name": "stdout",
     "output_type": "stream",
     "text": [
      "[TransNetV2] Processing video frames 5393/5393\n",
      "[TransNetV2] Extracting frames from ../Data/videos\\L30_V060.mp4\n",
      "[TransNetV2] Processing video frames 3600/3689"
     ]
    },
    {
     "name": "stderr",
     "output_type": "stream",
     "text": [
      " 95%|█████████▌| 709/745 [9:07:27<10:14, 17.06s/it]"
     ]
    },
    {
     "name": "stdout",
     "output_type": "stream",
     "text": [
      "[TransNetV2] Processing video frames 3689/3689\n",
      "[TransNetV2] Extracting frames from ../Data/videos\\L30_V061.mp4\n",
      "[TransNetV2] Processing video frames 8300/8312"
     ]
    },
    {
     "name": "stderr",
     "output_type": "stream",
     "text": [
      " 95%|█████████▌| 710/745 [9:07:56<12:02, 20.65s/it]"
     ]
    },
    {
     "name": "stdout",
     "output_type": "stream",
     "text": [
      "[TransNetV2] Processing video frames 8312/8312\n",
      "[TransNetV2] Extracting frames from ../Data/videos\\L30_V062.mp4\n",
      "[TransNetV2] Processing video frames 5500/5590"
     ]
    },
    {
     "name": "stderr",
     "output_type": "stream",
     "text": [
      " 95%|█████████▌| 711/745 [9:08:15<11:31, 20.33s/it]"
     ]
    },
    {
     "name": "stdout",
     "output_type": "stream",
     "text": [
      "[TransNetV2] Processing video frames 5590/5590\n",
      "[TransNetV2] Extracting frames from ../Data/videos\\L30_V063.mp4\n",
      "[TransNetV2] Processing video frames 6400/6462"
     ]
    },
    {
     "name": "stderr",
     "output_type": "stream",
     "text": [
      " 96%|█████████▌| 712/745 [9:08:38<11:38, 21.17s/it]"
     ]
    },
    {
     "name": "stdout",
     "output_type": "stream",
     "text": [
      "[TransNetV2] Processing video frames 6462/6462\n",
      "[TransNetV2] Extracting frames from ../Data/videos\\L30_V064.mp4\n",
      "[TransNetV2] Processing video frames 6800/6854"
     ]
    },
    {
     "name": "stderr",
     "output_type": "stream",
     "text": [
      " 96%|█████████▌| 713/745 [9:09:03<11:48, 22.15s/it]"
     ]
    },
    {
     "name": "stdout",
     "output_type": "stream",
     "text": [
      "[TransNetV2] Processing video frames 6854/6854\n",
      "[TransNetV2] Extracting frames from ../Data/videos\\L30_V065.mp4\n",
      "[TransNetV2] Processing video frames 2600/2691"
     ]
    },
    {
     "name": "stderr",
     "output_type": "stream",
     "text": [
      " 96%|█████████▌| 714/745 [9:09:12<09:30, 18.39s/it]"
     ]
    },
    {
     "name": "stdout",
     "output_type": "stream",
     "text": [
      "[TransNetV2] Processing video frames 2691/2691\n",
      "[TransNetV2] Extracting frames from ../Data/videos\\L30_V066.mp4\n",
      "[TransNetV2] Processing video frames 6900/7000"
     ]
    },
    {
     "name": "stderr",
     "output_type": "stream",
     "text": [
      " 96%|█████████▌| 715/745 [9:09:37<10:08, 20.30s/it]"
     ]
    },
    {
     "name": "stdout",
     "output_type": "stream",
     "text": [
      "[TransNetV2] Processing video frames 7000/7000\n",
      "[TransNetV2] Extracting frames from ../Data/videos\\L30_V067.mp4\n",
      "[TransNetV2] Processing video frames 2700/2765"
     ]
    },
    {
     "name": "stderr",
     "output_type": "stream",
     "text": [
      " 96%|█████████▌| 716/745 [9:09:47<08:16, 17.13s/it]"
     ]
    },
    {
     "name": "stdout",
     "output_type": "stream",
     "text": [
      "[TransNetV2] Processing video frames 2765/2765\n",
      "[TransNetV2] Extracting frames from ../Data/videos\\L30_V068.mp4\n",
      "[TransNetV2] Processing video frames 6100/6167"
     ]
    },
    {
     "name": "stderr",
     "output_type": "stream",
     "text": [
      " 96%|█████████▌| 717/745 [9:10:09<08:38, 18.51s/it]"
     ]
    },
    {
     "name": "stdout",
     "output_type": "stream",
     "text": [
      "[TransNetV2] Processing video frames 6167/6167\n",
      "[TransNetV2] Extracting frames from ../Data/videos\\L30_V069.mp4\n",
      "[TransNetV2] Processing video frames 5600/5622"
     ]
    },
    {
     "name": "stderr",
     "output_type": "stream",
     "text": [
      " 96%|█████████▋| 718/745 [9:10:29<08:32, 18.98s/it]"
     ]
    },
    {
     "name": "stdout",
     "output_type": "stream",
     "text": [
      "[TransNetV2] Processing video frames 5622/5622\n",
      "[TransNetV2] Extracting frames from ../Data/videos\\L30_V070.mp4\n",
      "[TransNetV2] Processing video frames 2200/2235"
     ]
    },
    {
     "name": "stderr",
     "output_type": "stream",
     "text": [
      " 97%|█████████▋| 719/745 [9:10:37<06:47, 15.67s/it]"
     ]
    },
    {
     "name": "stdout",
     "output_type": "stream",
     "text": [
      "[TransNetV2] Processing video frames 2235/2235\n",
      "[TransNetV2] Extracting frames from ../Data/videos\\L30_V071.mp4\n",
      "[TransNetV2] Processing video frames 1900/1942"
     ]
    },
    {
     "name": "stderr",
     "output_type": "stream",
     "text": [
      " 97%|█████████▋| 720/745 [9:10:44<05:26, 13.06s/it]"
     ]
    },
    {
     "name": "stdout",
     "output_type": "stream",
     "text": [
      "[TransNetV2] Processing video frames 1942/1942\n",
      "[TransNetV2] Extracting frames from ../Data/videos\\L30_V072.mp4\n",
      "[TransNetV2] Processing video frames 2100/2169"
     ]
    },
    {
     "name": "stderr",
     "output_type": "stream",
     "text": [
      " 97%|█████████▋| 721/745 [9:10:51<04:35, 11.49s/it]"
     ]
    },
    {
     "name": "stdout",
     "output_type": "stream",
     "text": [
      "[TransNetV2] Processing video frames 2169/2169\n",
      "[TransNetV2] Extracting frames from ../Data/videos\\L30_V073.mp4\n",
      "[TransNetV2] Processing video frames 5200/5245"
     ]
    },
    {
     "name": "stderr",
     "output_type": "stream",
     "text": [
      " 97%|█████████▋| 722/745 [9:11:10<05:13, 13.64s/it]"
     ]
    },
    {
     "name": "stdout",
     "output_type": "stream",
     "text": [
      "[TransNetV2] Processing video frames 5245/5245\n",
      "[TransNetV2] Extracting frames from ../Data/videos\\L30_V074.mp4\n",
      "[TransNetV2] Processing video frames 6400/6426"
     ]
    },
    {
     "name": "stderr",
     "output_type": "stream",
     "text": [
      " 97%|█████████▋| 723/745 [9:11:33<05:59, 16.32s/it]"
     ]
    },
    {
     "name": "stdout",
     "output_type": "stream",
     "text": [
      "[TransNetV2] Processing video frames 6426/6426\n",
      "[TransNetV2] Extracting frames from ../Data/videos\\L30_V075.mp4\n",
      "[TransNetV2] Processing video frames 6400/6459"
     ]
    },
    {
     "name": "stderr",
     "output_type": "stream",
     "text": [
      " 97%|█████████▋| 724/745 [9:11:55<06:22, 18.20s/it]"
     ]
    },
    {
     "name": "stdout",
     "output_type": "stream",
     "text": [
      "[TransNetV2] Processing video frames 6459/6459\n",
      "[TransNetV2] Extracting frames from ../Data/videos\\L30_V076.mp4\n",
      "[TransNetV2] Processing video frames 4200/4215"
     ]
    },
    {
     "name": "stderr",
     "output_type": "stream",
     "text": [
      " 97%|█████████▋| 725/745 [9:12:10<05:45, 17.29s/it]"
     ]
    },
    {
     "name": "stdout",
     "output_type": "stream",
     "text": [
      "[TransNetV2] Processing video frames 4215/4215\n",
      "[TransNetV2] Extracting frames from ../Data/videos\\L30_V077.mp4\n",
      "[TransNetV2] Processing video frames 4900/4964"
     ]
    },
    {
     "name": "stderr",
     "output_type": "stream",
     "text": [
      " 97%|█████████▋| 726/745 [9:12:28<05:30, 17.37s/it]"
     ]
    },
    {
     "name": "stdout",
     "output_type": "stream",
     "text": [
      "[TransNetV2] Processing video frames 4964/4964\n",
      "[TransNetV2] Extracting frames from ../Data/videos\\L30_V078.mp4\n",
      "[TransNetV2] Processing video frames 4900/4947"
     ]
    },
    {
     "name": "stderr",
     "output_type": "stream",
     "text": [
      " 98%|█████████▊| 727/745 [9:12:45<05:12, 17.37s/it]"
     ]
    },
    {
     "name": "stdout",
     "output_type": "stream",
     "text": [
      "[TransNetV2] Processing video frames 4947/4947\n",
      "[TransNetV2] Extracting frames from ../Data/videos\\L30_V079.mp4\n",
      "[TransNetV2] Processing video frames 4000/4004"
     ]
    },
    {
     "name": "stderr",
     "output_type": "stream",
     "text": [
      " 98%|█████████▊| 728/745 [9:13:00<04:40, 16.52s/it]"
     ]
    },
    {
     "name": "stdout",
     "output_type": "stream",
     "text": [
      "[TransNetV2] Processing video frames 4004/4004\n",
      "[TransNetV2] Extracting frames from ../Data/videos\\L30_V080.mp4\n",
      "[TransNetV2] Processing video frames 6900/6937"
     ]
    },
    {
     "name": "stderr",
     "output_type": "stream",
     "text": [
      " 98%|█████████▊| 729/745 [9:13:24<05:02, 18.93s/it]"
     ]
    },
    {
     "name": "stdout",
     "output_type": "stream",
     "text": [
      "[TransNetV2] Processing video frames 6937/6937\n",
      "[TransNetV2] Extracting frames from ../Data/videos\\L30_V081.mp4\n",
      "[TransNetV2] Processing video frames 4600/4605"
     ]
    },
    {
     "name": "stderr",
     "output_type": "stream",
     "text": [
      " 98%|█████████▊| 730/745 [9:13:41<04:32, 18.14s/it]"
     ]
    },
    {
     "name": "stdout",
     "output_type": "stream",
     "text": [
      "[TransNetV2] Processing video frames 4605/4605\n",
      "[TransNetV2] Extracting frames from ../Data/videos\\L30_V082.mp4\n",
      "[TransNetV2] Processing video frames 5500/5506"
     ]
    },
    {
     "name": "stderr",
     "output_type": "stream",
     "text": [
      " 98%|█████████▊| 731/745 [9:14:00<04:20, 18.58s/it]"
     ]
    },
    {
     "name": "stdout",
     "output_type": "stream",
     "text": [
      "[TransNetV2] Processing video frames 5506/5506\n",
      "[TransNetV2] Extracting frames from ../Data/videos\\L30_V083.mp4\n",
      "[TransNetV2] Processing video frames 7400/7434"
     ]
    },
    {
     "name": "stderr",
     "output_type": "stream",
     "text": [
      " 98%|█████████▊| 732/745 [9:14:27<04:31, 20.87s/it]"
     ]
    },
    {
     "name": "stdout",
     "output_type": "stream",
     "text": [
      "[TransNetV2] Processing video frames 7434/7434\n",
      "[TransNetV2] Extracting frames from ../Data/videos\\L30_V084.mp4\n",
      "[TransNetV2] Processing video frames 5100/5163"
     ]
    },
    {
     "name": "stderr",
     "output_type": "stream",
     "text": [
      " 98%|█████████▊| 733/745 [9:14:45<04:01, 20.14s/it]"
     ]
    },
    {
     "name": "stdout",
     "output_type": "stream",
     "text": [
      "[TransNetV2] Processing video frames 5163/5163\n",
      "[TransNetV2] Extracting frames from ../Data/videos\\L30_V085.mp4\n",
      "[TransNetV2] Processing video frames 4800/4873"
     ]
    },
    {
     "name": "stderr",
     "output_type": "stream",
     "text": [
      " 99%|█████████▊| 734/745 [9:15:02<03:31, 19.23s/it]"
     ]
    },
    {
     "name": "stdout",
     "output_type": "stream",
     "text": [
      "[TransNetV2] Processing video frames 4873/4873\n",
      "[TransNetV2] Extracting frames from ../Data/videos\\L30_V086.mp4\n",
      "[TransNetV2] Processing video frames 4700/4757"
     ]
    },
    {
     "name": "stderr",
     "output_type": "stream",
     "text": [
      " 99%|█████████▊| 735/745 [9:15:19<03:04, 18.43s/it]"
     ]
    },
    {
     "name": "stdout",
     "output_type": "stream",
     "text": [
      "[TransNetV2] Processing video frames 4757/4757\n",
      "[TransNetV2] Extracting frames from ../Data/videos\\L30_V087.mp4\n",
      "[TransNetV2] Processing video frames 5600/5644"
     ]
    },
    {
     "name": "stderr",
     "output_type": "stream",
     "text": [
      " 99%|█████████▉| 736/745 [9:15:39<02:50, 18.94s/it]"
     ]
    },
    {
     "name": "stdout",
     "output_type": "stream",
     "text": [
      "[TransNetV2] Processing video frames 5644/5644\n",
      "[TransNetV2] Extracting frames from ../Data/videos\\L30_V088.mp4\n",
      "[TransNetV2] Processing video frames 5200/5232"
     ]
    },
    {
     "name": "stderr",
     "output_type": "stream",
     "text": [
      " 99%|█████████▉| 737/745 [9:15:57<02:30, 18.78s/it]"
     ]
    },
    {
     "name": "stdout",
     "output_type": "stream",
     "text": [
      "[TransNetV2] Processing video frames 5232/5232\n",
      "[TransNetV2] Extracting frames from ../Data/videos\\L30_V089.mp4\n",
      "[TransNetV2] Processing video frames 5200/5281"
     ]
    },
    {
     "name": "stderr",
     "output_type": "stream",
     "text": [
      " 99%|█████████▉| 738/745 [9:16:16<02:11, 18.77s/it]"
     ]
    },
    {
     "name": "stdout",
     "output_type": "stream",
     "text": [
      "[TransNetV2] Processing video frames 5281/5281\n",
      "[TransNetV2] Extracting frames from ../Data/videos\\L30_V090.mp4\n",
      "[TransNetV2] Processing video frames 5600/5624"
     ]
    },
    {
     "name": "stderr",
     "output_type": "stream",
     "text": [
      " 99%|█████████▉| 739/745 [9:16:36<01:54, 19.11s/it]"
     ]
    },
    {
     "name": "stdout",
     "output_type": "stream",
     "text": [
      "[TransNetV2] Processing video frames 5624/5624\n",
      "[TransNetV2] Extracting frames from ../Data/videos\\L30_V091.mp4\n",
      "[TransNetV2] Processing video frames 7000/7030"
     ]
    },
    {
     "name": "stderr",
     "output_type": "stream",
     "text": [
      " 99%|█████████▉| 740/745 [9:17:00<01:43, 20.76s/it]"
     ]
    },
    {
     "name": "stdout",
     "output_type": "stream",
     "text": [
      "[TransNetV2] Processing video frames 7030/7030\n",
      "[TransNetV2] Extracting frames from ../Data/videos\\L30_V092.mp4\n",
      "[TransNetV2] Processing video frames 4300/4335"
     ]
    },
    {
     "name": "stderr",
     "output_type": "stream",
     "text": [
      " 99%|█████████▉| 741/745 [9:17:16<01:16, 19.15s/it]"
     ]
    },
    {
     "name": "stdout",
     "output_type": "stream",
     "text": [
      "[TransNetV2] Processing video frames 4335/4335\n",
      "[TransNetV2] Extracting frames from ../Data/videos\\L30_V093.mp4\n",
      "[TransNetV2] Processing video frames 6500/6546"
     ]
    },
    {
     "name": "stderr",
     "output_type": "stream",
     "text": [
      "100%|█████████▉| 742/745 [9:17:39<01:01, 20.35s/it]"
     ]
    },
    {
     "name": "stdout",
     "output_type": "stream",
     "text": [
      "[TransNetV2] Processing video frames 6546/6546\n",
      "[TransNetV2] Extracting frames from ../Data/videos\\L30_V094.mp4\n",
      "[TransNetV2] Processing video frames 5400/5477"
     ]
    },
    {
     "name": "stderr",
     "output_type": "stream",
     "text": [
      "100%|█████████▉| 743/745 [9:17:58<00:39, 19.98s/it]"
     ]
    },
    {
     "name": "stdout",
     "output_type": "stream",
     "text": [
      "[TransNetV2] Processing video frames 5477/5477\n",
      "[TransNetV2] Extracting frames from ../Data/videos\\L30_V095.mp4\n",
      "[TransNetV2] Processing video frames 7700/7739"
     ]
    },
    {
     "name": "stderr",
     "output_type": "stream",
     "text": [
      "100%|█████████▉| 744/745 [9:18:25<00:22, 22.05s/it]"
     ]
    },
    {
     "name": "stdout",
     "output_type": "stream",
     "text": [
      "[TransNetV2] Processing video frames 7739/7739\n",
      "[TransNetV2] Extracting frames from ../Data/videos\\L30_V096.mp4\n",
      "[TransNetV2] Processing video frames 2300/2336"
     ]
    },
    {
     "name": "stderr",
     "output_type": "stream",
     "text": [
      "100%|██████████| 745/745 [9:18:33<00:00, 44.98s/it]"
     ]
    },
    {
     "name": "stdout",
     "output_type": "stream",
     "text": [
      "[TransNetV2] Processing video frames 2336/2336\n"
     ]
    },
    {
     "name": "stderr",
     "output_type": "stream",
     "text": [
      "\n"
     ]
    }
   ],
   "source": [
    "for video_filename in tqdm(video_files_to_process):\n",
    "    if video_filename.endswith(\".mp4\"):\n",
    "        video_path = os.path.join(video_dir, video_filename)\n",
    "\n",
    "        _, single_frame_predictions, _ = model.predict_video(video_path)\n",
    "\n",
    "        scenes = model.predictions_to_scenes(single_frame_predictions)\n",
    "\n",
    "        scenes_filename = video_filename.replace(\".mp4\", \".json\")\n",
    "        scenes_path = os.path.join(scenes_dir, scenes_filename)\n",
    "\n",
    "        with open(scenes_path, 'w') as json_file:\n",
    "            json.dump(scenes.tolist(), json_file)\n",
    "    \n"
   ]
  }
 ],
 "metadata": {
  "kernelspec": {
   "display_name": ".venv",
   "language": "python",
   "name": "python3"
  },
  "language_info": {
   "codemirror_mode": {
    "name": "ipython",
    "version": 3
   },
   "file_extension": ".py",
   "mimetype": "text/x-python",
   "name": "python",
   "nbconvert_exporter": "python",
   "pygments_lexer": "ipython3",
   "version": "3.12.3"
  }
 },
 "nbformat": 4,
 "nbformat_minor": 2
}
